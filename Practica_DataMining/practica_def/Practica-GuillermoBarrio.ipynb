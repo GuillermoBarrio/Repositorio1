{
 "cells": [
  {
   "cell_type": "markdown",
   "metadata": {},
   "source": [
    "Esta es la práctica de Guillermo Barrio correspondiente al módulo de Data Mining.\n",
    "\n",
    "La práctica se compone de este documento exclusivamente. Se han dividido las preguntas y respuestas en celdas markdown con los encabezamientos Px y Rx, respectivamente."
   ]
  },
  {
   "cell_type": "markdown",
   "metadata": {},
   "source": [
    "P1 - Vasmos a cargar el dataset de AirBnB descargado de [aquí](https://public.opendatasoft.com/explore/dataset/airbnb-listings/export/?disjunctive.host_verifications&disjunctive.amenities&disjunctive.features&q=Madrid&dataChart=eyJxdWVyaWVzIjpbeyJjaGFydHMiOlt7InR5cGUiOiJjb2x1bW4iLCJmdW5jIjoiQ09VTlQiLCJ5QXhpcyI6Imhvc3RfbGlzdGluZ3NfY291bnQiLCJzY2llbnRpZmljRGlzcGxheSI6dHJ1ZSwiY29sb3IiOiJyYW5nZS1jdXN0b20ifV0sInhBeGlzIjoiY2l0eSIsIm1heHBvaW50cyI6IiIsInRpbWVzY2FsZSI6IiIsInNvcnQiOiIiLCJzZXJpZXNCcmVha2Rvd24iOiJyb29tX3R5cGUiLCJjb25maWciOnsiZGF0YXNldCI6ImFpcmJuYi1saXN0aW5ncyIsIm9wdGlvbnMiOnsiZGlzanVuY3RpdmUuaG9zdF92ZXJpZmljYXRpb25zIjp0cnVlLCJkaXNqdW5jdGl2ZS5hbWVuaXRpZXMiOnRydWUsImRpc2p1bmN0aXZlLmZlYXR1cmVzIjp0cnVlfX19XSwidGltZXNjYWxlIjoiIiwiZGlzcGxheUxlZ2VuZCI6dHJ1ZSwiYWxpZ25Nb250aCI6dHJ1ZX0%3D&location=16,41.38377,2.15774&basemap=jawg.streets)\n",
    "\n",
    "![](descargar.png)"
   ]
  },
  {
   "cell_type": "markdown",
   "metadata": {},
   "source": [
    "R1 - Cargamos el dataset sin mayores problemas"
   ]
  },
  {
   "cell_type": "code",
   "execution_count": 241,
   "metadata": {},
   "outputs": [],
   "source": [
    "airbnb<-read.csv('airbnb-listings.csv',sep = ';', stringsAsFactors = T)\n",
    "options(repr.plot.height=4,repr.plot.width=6,repr.plot.res = 300)"
   ]
  },
  {
   "cell_type": "markdown",
   "metadata": {},
   "source": [
    "P2 - Vamos a quedarnos con las columnas de mayor interés:\n",
    "\n",
    "'City','Room.Type','Neighbourhood','Accommodates','Bathrooms','Bedrooms','Beds','Price','Square.Feet','Guests.Included','Extra.People','Review.Scores.Rating','Latitude', 'Longitude'"
   ]
  },
  {
   "cell_type": "markdown",
   "metadata": {},
   "source": [
    "R2 - Seleccionamos las columnas metiendo sus nombres en una lista y comprobamos que están."
   ]
  },
  {
   "cell_type": "code",
   "execution_count": 242,
   "metadata": {},
   "outputs": [],
   "source": [
    "airbnb <- airbnb[ , c('City','Room.Type','Neighbourhood','Accommodates','Bathrooms','Bedrooms','Beds','Price','Square.Feet','Guests.Included','Extra.People','Review.Scores.Rating','Latitude', 'Longitude')]"
   ]
  },
  {
   "cell_type": "code",
   "execution_count": 243,
   "metadata": {},
   "outputs": [
    {
     "data": {
      "text/html": [
       "<table>\n",
       "<thead><tr><th scope=col>City</th><th scope=col>Room.Type</th><th scope=col>Neighbourhood</th><th scope=col>Accommodates</th><th scope=col>Bathrooms</th><th scope=col>Bedrooms</th><th scope=col>Beds</th><th scope=col>Price</th><th scope=col>Square.Feet</th><th scope=col>Guests.Included</th><th scope=col>Extra.People</th><th scope=col>Review.Scores.Rating</th><th scope=col>Latitude</th><th scope=col>Longitude</th></tr></thead>\n",
       "<tbody>\n",
       "\t<tr><td>Madrid         </td><td>Entire home/apt</td><td>               </td><td>2              </td><td>1.0            </td><td>0              </td><td>1              </td><td>50             </td><td>NA             </td><td>2              </td><td>15             </td><td>96             </td><td>40.40745       </td><td>-3.707995      </td></tr>\n",
       "\t<tr><td>Madrid         </td><td>Entire home/apt</td><td>               </td><td>4              </td><td>1.0            </td><td>1              </td><td>2              </td><td>50             </td><td>NA             </td><td>2              </td><td>25             </td><td>81             </td><td>40.40832       </td><td>-3.705006      </td></tr>\n",
       "\t<tr><td>Madrid         </td><td>Entire home/apt</td><td>               </td><td>4              </td><td>1.5            </td><td>1              </td><td>2              </td><td>77             </td><td>NA             </td><td>1              </td><td> 0             </td><td>89             </td><td>40.41372       </td><td>-3.706823      </td></tr>\n",
       "\t<tr><td>Madrid         </td><td>Entire home/apt</td><td>Embajadores    </td><td>2              </td><td>1.0            </td><td>1              </td><td>2              </td><td>50             </td><td>NA             </td><td>1              </td><td>20             </td><td>93             </td><td>40.41126       </td><td>-3.697305      </td></tr>\n",
       "\t<tr><td>Madrid         </td><td>Entire home/apt</td><td>Embajadores    </td><td>5              </td><td>1.0            </td><td>2              </td><td>4              </td><td>95             </td><td>NA             </td><td>4              </td><td> 0             </td><td>97             </td><td>40.41256       </td><td>-3.701155      </td></tr>\n",
       "\t<tr><td>Madrid         </td><td>Entire home/apt</td><td>La Latina      </td><td>4              </td><td>1.0            </td><td>1              </td><td>2              </td><td>69             </td><td>NA             </td><td>2              </td><td>18             </td><td>91             </td><td>40.40791       </td><td>-3.705095      </td></tr>\n",
       "</tbody>\n",
       "</table>\n"
      ],
      "text/latex": [
       "\\begin{tabular}{r|llllllllllllll}\n",
       " City & Room.Type & Neighbourhood & Accommodates & Bathrooms & Bedrooms & Beds & Price & Square.Feet & Guests.Included & Extra.People & Review.Scores.Rating & Latitude & Longitude\\\\\n",
       "\\hline\n",
       "\t Madrid          & Entire home/apt &                 & 2               & 1.0             & 0               & 1               & 50              & NA              & 2               & 15              & 96              & 40.40745        & -3.707995      \\\\\n",
       "\t Madrid          & Entire home/apt &                 & 4               & 1.0             & 1               & 2               & 50              & NA              & 2               & 25              & 81              & 40.40832        & -3.705006      \\\\\n",
       "\t Madrid          & Entire home/apt &                 & 4               & 1.5             & 1               & 2               & 77              & NA              & 1               &  0              & 89              & 40.41372        & -3.706823      \\\\\n",
       "\t Madrid          & Entire home/apt & Embajadores     & 2               & 1.0             & 1               & 2               & 50              & NA              & 1               & 20              & 93              & 40.41126        & -3.697305      \\\\\n",
       "\t Madrid          & Entire home/apt & Embajadores     & 5               & 1.0             & 2               & 4               & 95              & NA              & 4               &  0              & 97              & 40.41256        & -3.701155      \\\\\n",
       "\t Madrid          & Entire home/apt & La Latina       & 4               & 1.0             & 1               & 2               & 69              & NA              & 2               & 18              & 91              & 40.40791        & -3.705095      \\\\\n",
       "\\end{tabular}\n"
      ],
      "text/markdown": [
       "\n",
       "| City | Room.Type | Neighbourhood | Accommodates | Bathrooms | Bedrooms | Beds | Price | Square.Feet | Guests.Included | Extra.People | Review.Scores.Rating | Latitude | Longitude |\n",
       "|---|---|---|---|---|---|---|---|---|---|---|---|---|---|\n",
       "| Madrid          | Entire home/apt |                 | 2               | 1.0             | 0               | 1               | 50              | NA              | 2               | 15              | 96              | 40.40745        | -3.707995       |\n",
       "| Madrid          | Entire home/apt |                 | 4               | 1.0             | 1               | 2               | 50              | NA              | 2               | 25              | 81              | 40.40832        | -3.705006       |\n",
       "| Madrid          | Entire home/apt |                 | 4               | 1.5             | 1               | 2               | 77              | NA              | 1               |  0              | 89              | 40.41372        | -3.706823       |\n",
       "| Madrid          | Entire home/apt | Embajadores     | 2               | 1.0             | 1               | 2               | 50              | NA              | 1               | 20              | 93              | 40.41126        | -3.697305       |\n",
       "| Madrid          | Entire home/apt | Embajadores     | 5               | 1.0             | 2               | 4               | 95              | NA              | 4               |  0              | 97              | 40.41256        | -3.701155       |\n",
       "| Madrid          | Entire home/apt | La Latina       | 4               | 1.0             | 1               | 2               | 69              | NA              | 2               | 18              | 91              | 40.40791        | -3.705095       |\n",
       "\n"
      ],
      "text/plain": [
       "  City   Room.Type       Neighbourhood Accommodates Bathrooms Bedrooms Beds\n",
       "1 Madrid Entire home/apt               2            1.0       0        1   \n",
       "2 Madrid Entire home/apt               4            1.0       1        2   \n",
       "3 Madrid Entire home/apt               4            1.5       1        2   \n",
       "4 Madrid Entire home/apt Embajadores   2            1.0       1        2   \n",
       "5 Madrid Entire home/apt Embajadores   5            1.0       2        4   \n",
       "6 Madrid Entire home/apt La Latina     4            1.0       1        2   \n",
       "  Price Square.Feet Guests.Included Extra.People Review.Scores.Rating Latitude\n",
       "1 50    NA          2               15           96                   40.40745\n",
       "2 50    NA          2               25           81                   40.40832\n",
       "3 77    NA          1                0           89                   40.41372\n",
       "4 50    NA          1               20           93                   40.41126\n",
       "5 95    NA          4                0           97                   40.41256\n",
       "6 69    NA          2               18           91                   40.40791\n",
       "  Longitude\n",
       "1 -3.707995\n",
       "2 -3.705006\n",
       "3 -3.706823\n",
       "4 -3.697305\n",
       "5 -3.701155\n",
       "6 -3.705095"
      ]
     },
     "metadata": {},
     "output_type": "display_data"
    }
   ],
   "source": [
    "head(airbnb)"
   ]
  },
  {
   "cell_type": "markdown",
   "metadata": {},
   "source": [
    "P3 - Nos quedarmos solo con las entradas de Madrid para Room.Type==\"Entire home/apt\" y cuyo barrio (Neighbourhood) no está vacio ''\n",
    "Podemos eliminar las siguientes columnas que ya no son necesarias:\n",
    "\"Room.Type\",'City'\n",
    "\n",
    "Llama a nuevo dataframe df_madrid."
   ]
  },
  {
   "cell_type": "markdown",
   "metadata": {},
   "source": [
    "R3 - Efectuamos la selección de manera secuencial"
   ]
  },
  {
   "cell_type": "code",
   "execution_count": 244,
   "metadata": {},
   "outputs": [
    {
     "data": {
      "text/html": [
       "<ol class=list-inline>\n",
       "\t<li>14780</li>\n",
       "\t<li>14</li>\n",
       "</ol>\n"
      ],
      "text/latex": [
       "\\begin{enumerate*}\n",
       "\\item 14780\n",
       "\\item 14\n",
       "\\end{enumerate*}\n"
      ],
      "text/markdown": [
       "1. 14780\n",
       "2. 14\n",
       "\n",
       "\n"
      ],
      "text/plain": [
       "[1] 14780    14"
      ]
     },
     "metadata": {},
     "output_type": "display_data"
    }
   ],
   "source": [
    "dim(airbnb)"
   ]
  },
  {
   "cell_type": "markdown",
   "metadata": {},
   "source": [
    "Primero seleccionamos el room.Type dado y lo guardamos en el dataser airbnb1"
   ]
  },
  {
   "cell_type": "code",
   "execution_count": 245,
   "metadata": {},
   "outputs": [],
   "source": [
    "airbnb1 <- airbnb[airbnb$Room.Type == 'Entire home/apt', ]"
   ]
  },
  {
   "cell_type": "code",
   "execution_count": 246,
   "metadata": {},
   "outputs": [
    {
     "data": {
      "text/html": [
       "<ol class=list-inline>\n",
       "\t<li>8976</li>\n",
       "\t<li>14</li>\n",
       "</ol>\n"
      ],
      "text/latex": [
       "\\begin{enumerate*}\n",
       "\\item 8976\n",
       "\\item 14\n",
       "\\end{enumerate*}\n"
      ],
      "text/markdown": [
       "1. 8976\n",
       "2. 14\n",
       "\n",
       "\n"
      ],
      "text/plain": [
       "[1] 8976   14"
      ]
     },
     "metadata": {},
     "output_type": "display_data"
    }
   ],
   "source": [
    "dim(airbnb1)"
   ]
  },
  {
   "cell_type": "markdown",
   "metadata": {},
   "source": [
    "Luego seleccionamos la ciudad de Madrid; en cada paso vamos viendo las dimensiones del dataset resultante."
   ]
  },
  {
   "cell_type": "code",
   "execution_count": 247,
   "metadata": {},
   "outputs": [],
   "source": [
    "airbnb1 <- airbnb1[airbnb1$City == 'Madrid', ]"
   ]
  },
  {
   "cell_type": "code",
   "execution_count": 248,
   "metadata": {},
   "outputs": [
    {
     "data": {
      "text/html": [
       "\n",
       "<details>\n",
       "\t<summary style=display:list-item;cursor:pointer>\n",
       "\t\t<strong>Levels</strong>:\n",
       "\t</summary>\n",
       "\t<ol class=list-inline>\n",
       "\t\t<li>''</li>\n",
       "\t\t<li>'Ã\\230sterbro'</li>\n",
       "\t\t<li>'Acacias'</li>\n",
       "\t\t<li>'Acton'</li>\n",
       "\t\t<li>'Adams Morgan'</li>\n",
       "\t\t<li>'Adelfas'</li>\n",
       "\t\t<li>'Agios Nikolaos'</li>\n",
       "\t\t<li>'AlÃ©sia'</li>\n",
       "\t\t<li>'Albert Park'</li>\n",
       "\t\t<li>'Almagro'</li>\n",
       "\t\t<li>'Almenara'</li>\n",
       "\t\t<li>'Alt-Treptow'</li>\n",
       "\t\t<li>'Aluche'</li>\n",
       "\t\t<li>'Arapiles'</li>\n",
       "\t\t<li>'ArgÃ¼elles'</li>\n",
       "\t\t<li>'Arganzuela'</li>\n",
       "\t\t<li>'Astoria'</li>\n",
       "\t\t<li>'Atocha'</li>\n",
       "\t\t<li>'Aurelio'</li>\n",
       "\t\t<li>'Auteuil'</li>\n",
       "\t\t<li>'Balham'</li>\n",
       "\t\t<li>'Ballard'</li>\n",
       "\t\t<li>'Barajas'</li>\n",
       "\t\t<li>'Barney Circle'</li>\n",
       "\t\t<li>'Bastille'</li>\n",
       "\t\t<li>'Batignolles'</li>\n",
       "\t\t<li>'Bedford-Stuyvesant'</li>\n",
       "\t\t<li>'Beguinage-Dixmude'</li>\n",
       "\t\t<li>'Bellas Vistas'</li>\n",
       "\t\t<li>'Berkeley'</li>\n",
       "\t\t<li>'Bernal Heights'</li>\n",
       "\t\t<li>'Berruguete'</li>\n",
       "\t\t<li>'Bethnal Green'</li>\n",
       "\t\t<li>'Beverly Hills'</li>\n",
       "\t\t<li>'Bloomsbury'</li>\n",
       "\t\t<li>'Boerum Hill'</li>\n",
       "\t\t<li>'Bondi'</li>\n",
       "\t\t<li>'Bondi Beach'</li>\n",
       "\t\t<li>'Bondi Junction'</li>\n",
       "\t\t<li>'Borgo'</li>\n",
       "\t\t<li>'Bouldin Creek'</li>\n",
       "\t\t<li>'Bow'</li>\n",
       "\t\t<li>'Brentwood'</li>\n",
       "\t\t<li>'Brixton'</li>\n",
       "\t\t<li>'Broadview'</li>\n",
       "\t\t<li>'Bromley-by-Bow'</li>\n",
       "\t\t<li>'Brunswick'</li>\n",
       "\t\t<li>'Bushwick'</li>\n",
       "\t\t<li>'Buttes-Chaumont - Belleville'</li>\n",
       "\t\t<li>'Camden Town'</li>\n",
       "\t\t<li>'Camp d\\'en Grassot i GrÃ cia Nova'</li>\n",
       "\t\t<li>'Can Baro'</li>\n",
       "\t\t<li>'Cannaregio'</li>\n",
       "\t\t<li>'Capitol Hill'</li>\n",
       "\t\t<li>'Carabanchel'</li>\n",
       "\t\t<li>'Carroll Gardens'</li>\n",
       "\t\t<li>'Castellana'</li>\n",
       "\t\t<li>'Castilla'</li>\n",
       "\t\t<li>'Castillejos'</li>\n",
       "\t\t<li>'Cedarvale Humewood'</li>\n",
       "\t\t<li>'Central Business District'</li>\n",
       "\t\t<li>'Centro'</li>\n",
       "\t\t<li>'ChÃ¢telet - Les Halles - Beaubourg'</li>\n",
       "\t\t<li>'ChamberÃ­'</li>\n",
       "\t\t<li>'Champs-ElysÃ©es'</li>\n",
       "\t\t<li>'Charlottenburg'</li>\n",
       "\t\t<li>'Chausee De Haecht'</li>\n",
       "\t\t<li>'Chelsea'</li>\n",
       "\t\t<li>'Christianshavn'</li>\n",
       "\t\t<li>'City of London'</li>\n",
       "\t\t<li>'City Park West'</li>\n",
       "\t\t<li>'Ciudad Jardin'</li>\n",
       "\t\t<li>'Ciudad Lineal'</li>\n",
       "\t\t<li>'Civic Center'</li>\n",
       "\t\t<li>'Clinton Hill'</li>\n",
       "\t\t<li>'Colonna'</li>\n",
       "\t\t<li>'Commerce - Dupleix'</li>\n",
       "\t\t<li>'Cortes'</li>\n",
       "\t\t<li>'Crestwood'</li>\n",
       "\t\t<li>'Crown Heights'</li>\n",
       "\t\t<li>'Crystal Palace'</li>\n",
       "\t\t<li>'Cuatro Caminos'</li>\n",
       "\t\t<li>'DÃ¶bling'</li>\n",
       "\t\t<li>'Dalston'</li>\n",
       "\t\t<li>'Dansaert'</li>\n",
       "\t\t<li>'Darlinghurst'</li>\n",
       "\t\t<li>'De Pijp'</li>\n",
       "\t\t<li>'Delicias'</li>\n",
       "\t\t<li>'Ditmars / Steinway'</li>\n",
       "\t\t<li>'Docklands'</li>\n",
       "\t\t<li>'Downtown'</li>\n",
       "\t\t<li>'Downtown Toronto'</li>\n",
       "\t\t<li>'Dreta de l\\'Eixample'</li>\n",
       "\t\t<li>'Dupont Circle'</li>\n",
       "\t\t<li>'Earls Court'</li>\n",
       "\t\t<li>'East and West Riverside'</li>\n",
       "\t\t<li>'East Harlem'</li>\n",
       "\t\t<li>'East Village'</li>\n",
       "\t\t<li>'Eckington'</li>\n",
       "\t\t<li>'El Born'</li>\n",
       "\t\t<li>'El Camp de l\\'Arpa del Clot'</li>\n",
       "\t\t<li>'El Clot'</li>\n",
       "\t\t<li>'el Fort Pienc'</li>\n",
       "\t\t<li>'El GÃ²tic'</li>\n",
       "\t\t<li>'El Poble-sec'</li>\n",
       "\t\t<li>'El Putget i FarrÃ³'</li>\n",
       "\t\t<li>'El Raval'</li>\n",
       "\t\t<li>'El TrÃ©ntaiseis'</li>\n",
       "\t\t<li>'El Viso'</li>\n",
       "\t\t<li>'Embajadores'</li>\n",
       "\t\t<li>'Esquilino'</li>\n",
       "\t\t<li>'Estrella'</li>\n",
       "\t\t<li>'Etterbeek'</li>\n",
       "\t\t<li>'Excelsior'</li>\n",
       "\t\t<li>'Fairlawn'</li>\n",
       "\t\t<li>'Fairview'</li>\n",
       "\t\t<li>'Flatbush'</li>\n",
       "\t\t<li>'Flatiron District'</li>\n",
       "\t\t<li>'Forest'</li>\n",
       "\t\t<li>'Forest Hill'</li>\n",
       "\t\t<li>'Fort Greene'</li>\n",
       "\t\t<li>'Frederik Hendrikbuurt'</li>\n",
       "\t\t<li>'Frederiksberg'</li>\n",
       "\t\t<li>'Friedrichshain'</li>\n",
       "\t\t<li>'Fuencarral-el Pardo'</li>\n",
       "\t\t<li>'Fuencarral-El Pardo'</li>\n",
       "\t\t<li>'Fuente del Berro'</li>\n",
       "\t\t<li>'Garbatella'</li>\n",
       "\t\t<li>'Gare de Lyon'</li>\n",
       "\t\t<li>'Gare du Nord - Gare de I\\'Est'</li>\n",
       "\t\t<li>'Gaztambide'</li>\n",
       "\t\t<li>'GlÃ²ries - El Parc'</li>\n",
       "\t\t<li>'Glebe'</li>\n",
       "\t\t<li>'Golden Hill'</li>\n",
       "\t\t<li>'Goya'</li>\n",
       "\t\t<li>'GrÃ cia'</li>\n",
       "\t\t<li>'Grand Place'</li>\n",
       "\t\t<li>'Greenpoint'</li>\n",
       "\t\t<li>'Greenwich'</li>\n",
       "\t\t<li>'Greenwood'</li>\n",
       "\t\t<li>'Guindalera'</li>\n",
       "\t\t<li>'Hackney'</li>\n",
       "\t\t<li>'Hamilton Heights'</li>\n",
       "\t\t<li>'Hammersmith'</li>\n",
       "\t\t<li>'Hampstead'</li>\n",
       "\t\t<li>'Harlem'</li>\n",
       "\t\t<li>'Haut Saint-Gilles'</li>\n",
       "\t\t<li>'Hell\\'s Kitchen'</li>\n",
       "\t\t<li>'Highbridge'</li>\n",
       "\t\t<li>'Highland Park'</li>\n",
       "\t\t<li>'HispanoamÃ©rica'</li>\n",
       "\t\t<li>'Hollywood'</li>\n",
       "\t\t<li>'Hollywood Hills'</li>\n",
       "\t\t<li>'Hoofddorppleinbuurt'</li>\n",
       "\t\t<li>'Horta-GuinardÃ³'</li>\n",
       "\t\t<li>'Hortaleza'</li>\n",
       "\t\t<li>'Humboldt Park'</li>\n",
       "\t\t<li>'Ibiza'</li>\n",
       "\t\t<li>'II Arrondissement'</li>\n",
       "\t\t<li>'Imperial'</li>\n",
       "\t\t<li>'Indische Buurt'</li>\n",
       "\t\t<li>'Indre By'</li>\n",
       "\t\t<li>'Innere Stadt'</li>\n",
       "\t\t<li>'Invalides - Ecole Militaire'</li>\n",
       "\t\t<li>'Isle of Dogs'</li>\n",
       "\t\t<li>'Islington'</li>\n",
       "\t\t<li>'Jamaica Plain'</li>\n",
       "\t\t<li>'JerÃ³nimos'</li>\n",
       "\t\t<li>'Jordaan'</li>\n",
       "\t\t<li>'Justicia'</li>\n",
       "\t\t<li>'KÃ¸dbyen'</li>\n",
       "\t\t<li>'Karlshorst'</li>\n",
       "\t\t<li>'Kennington'</li>\n",
       "\t\t<li>'Kensington'</li>\n",
       "\t\t<li>'Kreuzberg'</li>\n",
       "\t\t<li>'L\\'Antiga Esquerra de l\\'Eixample'</li>\n",
       "\t\t<li>'La Barceloneta'</li>\n",
       "\t\t<li>'La Chapelle'</li>\n",
       "\t\t<li>'La Chopera'</li>\n",
       "\t\t<li>'La Latina'</li>\n",
       "\t\t<li>'La Nova Esquerra de l\\'Eixample'</li>\n",
       "\t\t<li>'La Sagrada FamÃ­lia'</li>\n",
       "\t\t<li>'La Salut'</li>\n",
       "\t\t<li>'La Vila OlÃ­mpica'</li>\n",
       "\t\t<li>'Lachine'</li>\n",
       "\t\t<li>'Lake Balboa'</li>\n",
       "\t\t<li>'Lakeview'</li>\n",
       "\t\t<li>'Landelijk Noord'</li>\n",
       "\t\t<li>'LandstraÃŸe'</li>\n",
       "\t\t<li>'LB of Brent'</li>\n",
       "\t\t<li>'LB of Camden'</li>\n",
       "\t\t<li>'LB of Croydon'</li>\n",
       "\t\t<li>'LB of Ealing'</li>\n",
       "\t\t<li>'LB of Hackney'</li>\n",
       "\t\t<li>'LB of Haringey'</li>\n",
       "\t\t<li>'LB of Hounslow'</li>\n",
       "\t\t<li>'LB of Islington'</li>\n",
       "\t\t<li>'LB of Redbridge'</li>\n",
       "\t\t<li>'LB of Richmond upon Thames'</li>\n",
       "\t\t<li>'LB of Sutton'</li>\n",
       "\t\t<li>'Le Marais'</li>\n",
       "\t\t<li>'Legazpi'</li>\n",
       "\t\t<li>'Leopoldstadt'</li>\n",
       "\t\t<li>'Les Corts'</li>\n",
       "\t\t<li>'Les Corts (Nabe)'</li>\n",
       "\t\t<li>'Lewisham'</li>\n",
       "\t\t<li>'Lido'</li>\n",
       "\t\t<li>'Lisson Grove'</li>\n",
       "\t\t<li>'Lista'</li>\n",
       "\t\t<li>'Little Italy'</li>\n",
       "\t\t<li>'Logan Square'</li>\n",
       "\t\t<li>'Long Beach'</li>\n",
       "\t\t<li>'Los Feliz'</li>\n",
       "\t\t<li>'Lower East Side'</li>\n",
       "\t\t<li>'Madeleine - VendÃ´me'</li>\n",
       "\t\t<li>'Magnolia'</li>\n",
       "\t\t<li>'Maida Vale'</li>\n",
       "\t\t<li>'MalasaÃ±a'</li>\n",
       "\t\t<li>'Malibu'</li>\n",
       "\t\t<li>'Margareten'</li>\n",
       "\t\t<li>'Mariahilf'</li>\n",
       "\t\t<li>'Marrickville'</li>\n",
       "\t\t<li>'Marylebone'</li>\n",
       "\t\t<li>'Mascot'</li>\n",
       "\t\t<li>'Matonge'</li>\n",
       "\t\t<li>'Mid-Wilshire'</li>\n",
       "\t\t<li>'Midtown'</li>\n",
       "\t\t<li>'Midtown East'</li>\n",
       "\t\t<li>'Mission District'</li>\n",
       "\t\t<li>'Mitte'</li>\n",
       "\t\t<li>'Moncloa'</li>\n",
       "\t\t<li>'Monteverde Vecchio'</li>\n",
       "\t\t<li>'Monti'</li>\n",
       "\t\t<li>'Montmartre'</li>\n",
       "\t\t<li>'Moratalaz'</li>\n",
       "\t\t<li>'Nation'</li>\n",
       "\t\t<li>'Neos Kosmos'</li>\n",
       "\t\t<li>'Neubau'</li>\n",
       "\t\t<li>'NeukÃ¶lln'</li>\n",
       "\t\t<li>'Newtown/Enmore'</li>\n",
       "\t\t<li>'Niagara'</li>\n",
       "\t\t<li>'Nieuwmarkt en Lastage'</li>\n",
       "\t\t<li>'Nob Hill'</li>\n",
       "\t\t<li>'Nolita'</li>\n",
       "\t\t<li>'North Beacon Hill'</li>\n",
       "\t\t<li>'North City Central/O\\'Connell Street'</li>\n",
       "\t\t<li>'North Sydney'</li>\n",
       "\t\t<li>'Northcote'</li>\n",
       "\t\t<li>'Notting Hill'</li>\n",
       "\t\t<li>'Nueva EspaÃ±a'</li>\n",
       "\t\t<li>'Nunhead'</li>\n",
       "\t\t<li>'Old Town'</li>\n",
       "\t\t<li>'Oosterparkbuurt'</li>\n",
       "\t\t<li>'Oud-West'</li>\n",
       "\t\t<li>'PÃ¨re Lachaise - MÃ©nilmontant'</li>\n",
       "\t\t<li>'Pacifico'</li>\n",
       "\t\t<li>'Paddington'</li>\n",
       "\t\t<li>'Palacio'</li>\n",
       "\t\t<li>'Palms'</li>\n",
       "\t\t<li>'Palos do Moguer'</li>\n",
       "\t\t<li>'PanthÃ©on'</li>\n",
       "\t\t<li>'Parione'</li>\n",
       "\t\t<li>'Pasadena'</li>\n",
       "\t\t<li>'Passy'</li>\n",
       "\t\t<li>'Patisia'</li>\n",
       "\t\t<li>'Pigalle - Saint-Georges'</li>\n",
       "\t\t<li>'Pimlico'</li>\n",
       "\t\t<li>'Place d\\'Italie - Quartier Chinois'</li>\n",
       "\t\t<li>'Ponte'</li>\n",
       "\t\t<li>'Porte de Clignancourt'</li>\n",
       "\t\t<li>'Porte de Versailles'</li>\n",
       "\t\t<li>'Portobello'</li>\n",
       "\t\t<li>'Portuense'</li>\n",
       "\t\t<li>'Potts Point'</li>\n",
       "\t\t<li>'Prenzlauer Berg'</li>\n",
       "\t\t<li>'Prospect Heights'</li>\n",
       "\t\t<li>'Prosperidad'</li>\n",
       "\t\t<li>'ProvenÃ§als del Poblenou'</li>\n",
       "\t\t<li>'Puente de Vallecas'</li>\n",
       "\t\t<li>'RÃ©publique'</li>\n",
       "\t\t<li>'Ravenna'</li>\n",
       "\t\t<li>'RB of Kensington and Chelsea'</li>\n",
       "\t\t<li>'Recoletos'</li>\n",
       "\t\t<li>'Regola'</li>\n",
       "\t\t<li>'Retiro'</li>\n",
       "\t\t<li>'Richmond'</li>\n",
       "\t\t<li>'Ridgewood'</li>\n",
       "\t\t<li>'Rios Rosas'</li>\n",
       "\t\t<li>'River North'</li>\n",
       "\t\t<li>'Riverbend'</li>\n",
       "\t\t<li>'Rivierenbuurt'</li>\n",
       "\t\t<li>'Rogers Park'</li>\n",
       "\t\t<li>'Rosebery'</li>\n",
       "\t\t<li>'Rosedale'</li>\n",
       "\t\t<li>'Saint-Germain-des-PrÃ©s - OdÃ©on'</li>\n",
       "\t\t<li>'Saint-Lazare'</li>\n",
       "\t\t<li>'Saint-Michel'</li>\n",
       "\t\t<li>'San Blas'</li>\n",
       "\t\t<li>'San Giovanni'</li>\n",
       "\t\t<li>'San Lorenzo'</li>\n",
       "\t\t<li>'Sandymount'</li>\n",
       "\t\t<li>'Sant\\'Eustachio'</li>\n",
       "\t\t<li>'Sant Antoni'</li>\n",
       "\t\t<li>'Sant Gervasi - Galvany'</li>\n",
       "\t\t<li>'Sant Gervasi - la Bonanova'</li>\n",
       "\t\t<li>'Sant MartÃ­ de ProvenÃ§als'</li>\n",
       "\t\t<li>'Sant Pere/Santa Caterina'</li>\n",
       "\t\t<li>'Santa Monica'</li>\n",
       "\t\t<li>'Sants-MontjuÃ¯c'</li>\n",
       "\t\t<li>'Sants - Badal'</li>\n",
       "\t\t<li>'Shepherd\\'s Bush'</li>\n",
       "\t\t<li>'Sheung Wan'</li>\n",
       "\t\t<li>'Shoreditch'</li>\n",
       "\t\t<li>'Silver Lake'</li>\n",
       "\t\t<li>'Smithfield'</li>\n",
       "\t\t<li>'Soho'</li>\n",
       "\t\t<li>'Sol'</li>\n",
       "\t\t<li>'South LA'</li>\n",
       "\t\t<li>'South Robertson'</li>\n",
       "\t\t<li>'South Yarra'</li>\n",
       "\t\t<li>'Southside'</li>\n",
       "\t\t<li>'Southwark'</li>\n",
       "\t\t<li>'Southwest Waterfront'</li>\n",
       "\t\t<li>'St Peters'</li>\n",
       "\t\t<li>'St. John\\'s Wood'</li>\n",
       "\t\t<li>'Stadionbuurt'</li>\n",
       "\t\t<li>'Stalingrad'</li>\n",
       "\t\t<li>'Stockwell'</li>\n",
       "\t\t<li>'Stoke Newington'</li>\n",
       "\t\t<li>'Stoneybatter/Arbour Hill'</li>\n",
       "\t\t<li>'Sunset Park'</li>\n",
       "\t\t<li>'Surry Hills'</li>\n",
       "\t\t<li>'Temple Bar'</li>\n",
       "\t\t<li>'Templeogue'</li>\n",
       "\t\t<li>'Ternes'</li>\n",
       "\t\t<li>'Testaccio'</li>\n",
       "\t\t<li>'TetuÃ¡n'</li>\n",
       "\t\t<li>'The Annex'</li>\n",
       "\t\t<li>'The Beaches'</li>\n",
       "\t\t<li>'The Castro'</li>\n",
       "\t\t<li>'The Liberties'</li>\n",
       "\t\t<li>'Times Square/Theatre District'</li>\n",
       "\t\t<li>'Tollcross'</li>\n",
       "\t\t<li>'Topanga'</li>\n",
       "\t\t<li>'Tour Eiffel - Champ de Mars'</li>\n",
       "\t\t<li>'Trafalgar'</li>\n",
       "\t\t<li>'Trastevere'</li>\n",
       "\t\t<li>'Trevi'</li>\n",
       "\t\t<li>'Trieste'</li>\n",
       "\t\t<li>'Trinity College'</li>\n",
       "\t\t<li>'Truxton Circle'</li>\n",
       "\t\t<li>'Tsim Sha Tsui'</li>\n",
       "\t\t<li>'Upper East Side'</li>\n",
       "\t\t<li>'Upper Tooting'</li>\n",
       "\t\t<li>'Upper West Side'</li>\n",
       "\t\t<li>'Usera'</li>\n",
       "\t\t<li>'Valby'</li>\n",
       "\t\t<li>'Valdeacederas'</li>\n",
       "\t\t<li>'Vallehermosa'</li>\n",
       "\t\t<li>'Van Nuys'</li>\n",
       "\t\t<li>'Vaugirard'</li>\n",
       "\t\t<li>'Venice'</li>\n",
       "\t\t<li>'Vesterbro'</li>\n",
       "\t\t<li>'VicÃ¡lvaro'</li>\n",
       "\t\t<li>'Vila de GrÃ cia'</li>\n",
       "\t\t<li>'Villa de Vallecas'</li>\n",
       "\t\t<li>'Villaverde'</li>\n",
       "\t\t<li>'WÃ¤hring'</li>\n",
       "\t\t<li>'Wallace Emerson'</li>\n",
       "\t\t<li>'Wallingford'</li>\n",
       "\t\t<li>'Walworth'</li>\n",
       "\t\t<li>'Wedding'</li>\n",
       "\t\t<li>'Weesperbuurt en Plantage'</li>\n",
       "\t\t<li>'WeiÃŸensee'</li>\n",
       "\t\t<li>'West Adams'</li>\n",
       "\t\t<li>'West Austin'</li>\n",
       "\t\t<li>'West Hollywood'</li>\n",
       "\t\t<li>'West Norwood'</li>\n",
       "\t\t<li>'West Village'</li>\n",
       "\t\t<li>'Westminster'</li>\n",
       "\t\t<li>'Westmount'</li>\n",
       "\t\t<li>'Westside'</li>\n",
       "\t\t<li>'Whitechapel/Brick Lane'</li>\n",
       "\t\t<li>'Wicker Park'</li>\n",
       "\t\t<li>'Wieden'</li>\n",
       "\t\t<li>'Williamsburg'</li>\n",
       "\t\t<li>'Wilmersdorf'</li>\n",
       "\t\t<li>'Wimbledon'</li>\n",
       "\t\t<li>'Woollahra'</li>\n",
       "\t\t<li>'XI Arrondissement'</li>\n",
       "\t\t<li>'Zilker'</li>\n",
       "\t</ol>\n",
       "</details>"
      ],
      "text/latex": [
       "\n",
       "\\emph{Levels}: \\begin{enumerate*}\n",
       "\\item ''\n",
       "\\item 'Ã\\textbackslash{}230sterbro'\n",
       "\\item 'Acacias'\n",
       "\\item 'Acton'\n",
       "\\item 'Adams Morgan'\n",
       "\\item 'Adelfas'\n",
       "\\item 'Agios Nikolaos'\n",
       "\\item 'AlÃ©sia'\n",
       "\\item 'Albert Park'\n",
       "\\item 'Almagro'\n",
       "\\item 'Almenara'\n",
       "\\item 'Alt-Treptow'\n",
       "\\item 'Aluche'\n",
       "\\item 'Arapiles'\n",
       "\\item 'ArgÃ¼elles'\n",
       "\\item 'Arganzuela'\n",
       "\\item 'Astoria'\n",
       "\\item 'Atocha'\n",
       "\\item 'Aurelio'\n",
       "\\item 'Auteuil'\n",
       "\\item 'Balham'\n",
       "\\item 'Ballard'\n",
       "\\item 'Barajas'\n",
       "\\item 'Barney Circle'\n",
       "\\item 'Bastille'\n",
       "\\item 'Batignolles'\n",
       "\\item 'Bedford-Stuyvesant'\n",
       "\\item 'Beguinage-Dixmude'\n",
       "\\item 'Bellas Vistas'\n",
       "\\item 'Berkeley'\n",
       "\\item 'Bernal Heights'\n",
       "\\item 'Berruguete'\n",
       "\\item 'Bethnal Green'\n",
       "\\item 'Beverly Hills'\n",
       "\\item 'Bloomsbury'\n",
       "\\item 'Boerum Hill'\n",
       "\\item 'Bondi'\n",
       "\\item 'Bondi Beach'\n",
       "\\item 'Bondi Junction'\n",
       "\\item 'Borgo'\n",
       "\\item 'Bouldin Creek'\n",
       "\\item 'Bow'\n",
       "\\item 'Brentwood'\n",
       "\\item 'Brixton'\n",
       "\\item 'Broadview'\n",
       "\\item 'Bromley-by-Bow'\n",
       "\\item 'Brunswick'\n",
       "\\item 'Bushwick'\n",
       "\\item 'Buttes-Chaumont - Belleville'\n",
       "\\item 'Camden Town'\n",
       "\\item 'Camp d\\textbackslash{}'en Grassot i GrÃ cia Nova'\n",
       "\\item 'Can Baro'\n",
       "\\item 'Cannaregio'\n",
       "\\item 'Capitol Hill'\n",
       "\\item 'Carabanchel'\n",
       "\\item 'Carroll Gardens'\n",
       "\\item 'Castellana'\n",
       "\\item 'Castilla'\n",
       "\\item 'Castillejos'\n",
       "\\item 'Cedarvale Humewood'\n",
       "\\item 'Central Business District'\n",
       "\\item 'Centro'\n",
       "\\item 'ChÃ¢telet - Les Halles - Beaubourg'\n",
       "\\item 'ChamberÃ­'\n",
       "\\item 'Champs-ElysÃ©es'\n",
       "\\item 'Charlottenburg'\n",
       "\\item 'Chausee De Haecht'\n",
       "\\item 'Chelsea'\n",
       "\\item 'Christianshavn'\n",
       "\\item 'City of London'\n",
       "\\item 'City Park West'\n",
       "\\item 'Ciudad Jardin'\n",
       "\\item 'Ciudad Lineal'\n",
       "\\item 'Civic Center'\n",
       "\\item 'Clinton Hill'\n",
       "\\item 'Colonna'\n",
       "\\item 'Commerce - Dupleix'\n",
       "\\item 'Cortes'\n",
       "\\item 'Crestwood'\n",
       "\\item 'Crown Heights'\n",
       "\\item 'Crystal Palace'\n",
       "\\item 'Cuatro Caminos'\n",
       "\\item 'DÃ¶bling'\n",
       "\\item 'Dalston'\n",
       "\\item 'Dansaert'\n",
       "\\item 'Darlinghurst'\n",
       "\\item 'De Pijp'\n",
       "\\item 'Delicias'\n",
       "\\item 'Ditmars / Steinway'\n",
       "\\item 'Docklands'\n",
       "\\item 'Downtown'\n",
       "\\item 'Downtown Toronto'\n",
       "\\item 'Dreta de l\\textbackslash{}'Eixample'\n",
       "\\item 'Dupont Circle'\n",
       "\\item 'Earls Court'\n",
       "\\item 'East and West Riverside'\n",
       "\\item 'East Harlem'\n",
       "\\item 'East Village'\n",
       "\\item 'Eckington'\n",
       "\\item 'El Born'\n",
       "\\item 'El Camp de l\\textbackslash{}'Arpa del Clot'\n",
       "\\item 'El Clot'\n",
       "\\item 'el Fort Pienc'\n",
       "\\item 'El GÃ²tic'\n",
       "\\item 'El Poble-sec'\n",
       "\\item 'El Putget i FarrÃ³'\n",
       "\\item 'El Raval'\n",
       "\\item 'El TrÃ©ntaiseis'\n",
       "\\item 'El Viso'\n",
       "\\item 'Embajadores'\n",
       "\\item 'Esquilino'\n",
       "\\item 'Estrella'\n",
       "\\item 'Etterbeek'\n",
       "\\item 'Excelsior'\n",
       "\\item 'Fairlawn'\n",
       "\\item 'Fairview'\n",
       "\\item 'Flatbush'\n",
       "\\item 'Flatiron District'\n",
       "\\item 'Forest'\n",
       "\\item 'Forest Hill'\n",
       "\\item 'Fort Greene'\n",
       "\\item 'Frederik Hendrikbuurt'\n",
       "\\item 'Frederiksberg'\n",
       "\\item 'Friedrichshain'\n",
       "\\item 'Fuencarral-el Pardo'\n",
       "\\item 'Fuencarral-El Pardo'\n",
       "\\item 'Fuente del Berro'\n",
       "\\item 'Garbatella'\n",
       "\\item 'Gare de Lyon'\n",
       "\\item 'Gare du Nord - Gare de I\\textbackslash{}'Est'\n",
       "\\item 'Gaztambide'\n",
       "\\item 'GlÃ²ries - El Parc'\n",
       "\\item 'Glebe'\n",
       "\\item 'Golden Hill'\n",
       "\\item 'Goya'\n",
       "\\item 'GrÃ cia'\n",
       "\\item 'Grand Place'\n",
       "\\item 'Greenpoint'\n",
       "\\item 'Greenwich'\n",
       "\\item 'Greenwood'\n",
       "\\item 'Guindalera'\n",
       "\\item 'Hackney'\n",
       "\\item 'Hamilton Heights'\n",
       "\\item 'Hammersmith'\n",
       "\\item 'Hampstead'\n",
       "\\item 'Harlem'\n",
       "\\item 'Haut Saint-Gilles'\n",
       "\\item 'Hell\\textbackslash{}'s Kitchen'\n",
       "\\item 'Highbridge'\n",
       "\\item 'Highland Park'\n",
       "\\item 'HispanoamÃ©rica'\n",
       "\\item 'Hollywood'\n",
       "\\item 'Hollywood Hills'\n",
       "\\item 'Hoofddorppleinbuurt'\n",
       "\\item 'Horta-GuinardÃ³'\n",
       "\\item 'Hortaleza'\n",
       "\\item 'Humboldt Park'\n",
       "\\item 'Ibiza'\n",
       "\\item 'II Arrondissement'\n",
       "\\item 'Imperial'\n",
       "\\item 'Indische Buurt'\n",
       "\\item 'Indre By'\n",
       "\\item 'Innere Stadt'\n",
       "\\item 'Invalides - Ecole Militaire'\n",
       "\\item 'Isle of Dogs'\n",
       "\\item 'Islington'\n",
       "\\item 'Jamaica Plain'\n",
       "\\item 'JerÃ³nimos'\n",
       "\\item 'Jordaan'\n",
       "\\item 'Justicia'\n",
       "\\item 'KÃ¸dbyen'\n",
       "\\item 'Karlshorst'\n",
       "\\item 'Kennington'\n",
       "\\item 'Kensington'\n",
       "\\item 'Kreuzberg'\n",
       "\\item 'L\\textbackslash{}'Antiga Esquerra de l\\textbackslash{}'Eixample'\n",
       "\\item 'La Barceloneta'\n",
       "\\item 'La Chapelle'\n",
       "\\item 'La Chopera'\n",
       "\\item 'La Latina'\n",
       "\\item 'La Nova Esquerra de l\\textbackslash{}'Eixample'\n",
       "\\item 'La Sagrada FamÃ­lia'\n",
       "\\item 'La Salut'\n",
       "\\item 'La Vila OlÃ­mpica'\n",
       "\\item 'Lachine'\n",
       "\\item 'Lake Balboa'\n",
       "\\item 'Lakeview'\n",
       "\\item 'Landelijk Noord'\n",
       "\\item 'LandstraÃŸe'\n",
       "\\item 'LB of Brent'\n",
       "\\item 'LB of Camden'\n",
       "\\item 'LB of Croydon'\n",
       "\\item 'LB of Ealing'\n",
       "\\item 'LB of Hackney'\n",
       "\\item 'LB of Haringey'\n",
       "\\item 'LB of Hounslow'\n",
       "\\item 'LB of Islington'\n",
       "\\item 'LB of Redbridge'\n",
       "\\item 'LB of Richmond upon Thames'\n",
       "\\item 'LB of Sutton'\n",
       "\\item 'Le Marais'\n",
       "\\item 'Legazpi'\n",
       "\\item 'Leopoldstadt'\n",
       "\\item 'Les Corts'\n",
       "\\item 'Les Corts (Nabe)'\n",
       "\\item 'Lewisham'\n",
       "\\item 'Lido'\n",
       "\\item 'Lisson Grove'\n",
       "\\item 'Lista'\n",
       "\\item 'Little Italy'\n",
       "\\item 'Logan Square'\n",
       "\\item 'Long Beach'\n",
       "\\item 'Los Feliz'\n",
       "\\item 'Lower East Side'\n",
       "\\item 'Madeleine - VendÃ´me'\n",
       "\\item 'Magnolia'\n",
       "\\item 'Maida Vale'\n",
       "\\item 'MalasaÃ±a'\n",
       "\\item 'Malibu'\n",
       "\\item 'Margareten'\n",
       "\\item 'Mariahilf'\n",
       "\\item 'Marrickville'\n",
       "\\item 'Marylebone'\n",
       "\\item 'Mascot'\n",
       "\\item 'Matonge'\n",
       "\\item 'Mid-Wilshire'\n",
       "\\item 'Midtown'\n",
       "\\item 'Midtown East'\n",
       "\\item 'Mission District'\n",
       "\\item 'Mitte'\n",
       "\\item 'Moncloa'\n",
       "\\item 'Monteverde Vecchio'\n",
       "\\item 'Monti'\n",
       "\\item 'Montmartre'\n",
       "\\item 'Moratalaz'\n",
       "\\item 'Nation'\n",
       "\\item 'Neos Kosmos'\n",
       "\\item 'Neubau'\n",
       "\\item 'NeukÃ¶lln'\n",
       "\\item 'Newtown/Enmore'\n",
       "\\item 'Niagara'\n",
       "\\item 'Nieuwmarkt en Lastage'\n",
       "\\item 'Nob Hill'\n",
       "\\item 'Nolita'\n",
       "\\item 'North Beacon Hill'\n",
       "\\item 'North City Central/O\\textbackslash{}'Connell Street'\n",
       "\\item 'North Sydney'\n",
       "\\item 'Northcote'\n",
       "\\item 'Notting Hill'\n",
       "\\item 'Nueva EspaÃ±a'\n",
       "\\item 'Nunhead'\n",
       "\\item 'Old Town'\n",
       "\\item 'Oosterparkbuurt'\n",
       "\\item 'Oud-West'\n",
       "\\item 'PÃ¨re Lachaise - MÃ©nilmontant'\n",
       "\\item 'Pacifico'\n",
       "\\item 'Paddington'\n",
       "\\item 'Palacio'\n",
       "\\item 'Palms'\n",
       "\\item 'Palos do Moguer'\n",
       "\\item 'PanthÃ©on'\n",
       "\\item 'Parione'\n",
       "\\item 'Pasadena'\n",
       "\\item 'Passy'\n",
       "\\item 'Patisia'\n",
       "\\item 'Pigalle - Saint-Georges'\n",
       "\\item 'Pimlico'\n",
       "\\item 'Place d\\textbackslash{}'Italie - Quartier Chinois'\n",
       "\\item 'Ponte'\n",
       "\\item 'Porte de Clignancourt'\n",
       "\\item 'Porte de Versailles'\n",
       "\\item 'Portobello'\n",
       "\\item 'Portuense'\n",
       "\\item 'Potts Point'\n",
       "\\item 'Prenzlauer Berg'\n",
       "\\item 'Prospect Heights'\n",
       "\\item 'Prosperidad'\n",
       "\\item 'ProvenÃ§als del Poblenou'\n",
       "\\item 'Puente de Vallecas'\n",
       "\\item 'RÃ©publique'\n",
       "\\item 'Ravenna'\n",
       "\\item 'RB of Kensington and Chelsea'\n",
       "\\item 'Recoletos'\n",
       "\\item 'Regola'\n",
       "\\item 'Retiro'\n",
       "\\item 'Richmond'\n",
       "\\item 'Ridgewood'\n",
       "\\item 'Rios Rosas'\n",
       "\\item 'River North'\n",
       "\\item 'Riverbend'\n",
       "\\item 'Rivierenbuurt'\n",
       "\\item 'Rogers Park'\n",
       "\\item 'Rosebery'\n",
       "\\item 'Rosedale'\n",
       "\\item 'Saint-Germain-des-PrÃ©s - OdÃ©on'\n",
       "\\item 'Saint-Lazare'\n",
       "\\item 'Saint-Michel'\n",
       "\\item 'San Blas'\n",
       "\\item 'San Giovanni'\n",
       "\\item 'San Lorenzo'\n",
       "\\item 'Sandymount'\n",
       "\\item 'Sant\\textbackslash{}'Eustachio'\n",
       "\\item 'Sant Antoni'\n",
       "\\item 'Sant Gervasi - Galvany'\n",
       "\\item 'Sant Gervasi - la Bonanova'\n",
       "\\item 'Sant MartÃ­ de ProvenÃ§als'\n",
       "\\item 'Sant Pere/Santa Caterina'\n",
       "\\item 'Santa Monica'\n",
       "\\item 'Sants-MontjuÃ¯c'\n",
       "\\item 'Sants - Badal'\n",
       "\\item 'Shepherd\\textbackslash{}'s Bush'\n",
       "\\item 'Sheung Wan'\n",
       "\\item 'Shoreditch'\n",
       "\\item 'Silver Lake'\n",
       "\\item 'Smithfield'\n",
       "\\item 'Soho'\n",
       "\\item 'Sol'\n",
       "\\item 'South LA'\n",
       "\\item 'South Robertson'\n",
       "\\item 'South Yarra'\n",
       "\\item 'Southside'\n",
       "\\item 'Southwark'\n",
       "\\item 'Southwest Waterfront'\n",
       "\\item 'St Peters'\n",
       "\\item 'St. John\\textbackslash{}'s Wood'\n",
       "\\item 'Stadionbuurt'\n",
       "\\item 'Stalingrad'\n",
       "\\item 'Stockwell'\n",
       "\\item 'Stoke Newington'\n",
       "\\item 'Stoneybatter/Arbour Hill'\n",
       "\\item 'Sunset Park'\n",
       "\\item 'Surry Hills'\n",
       "\\item 'Temple Bar'\n",
       "\\item 'Templeogue'\n",
       "\\item 'Ternes'\n",
       "\\item 'Testaccio'\n",
       "\\item 'TetuÃ¡n'\n",
       "\\item 'The Annex'\n",
       "\\item 'The Beaches'\n",
       "\\item 'The Castro'\n",
       "\\item 'The Liberties'\n",
       "\\item 'Times Square/Theatre District'\n",
       "\\item 'Tollcross'\n",
       "\\item 'Topanga'\n",
       "\\item 'Tour Eiffel - Champ de Mars'\n",
       "\\item 'Trafalgar'\n",
       "\\item 'Trastevere'\n",
       "\\item 'Trevi'\n",
       "\\item 'Trieste'\n",
       "\\item 'Trinity College'\n",
       "\\item 'Truxton Circle'\n",
       "\\item 'Tsim Sha Tsui'\n",
       "\\item 'Upper East Side'\n",
       "\\item 'Upper Tooting'\n",
       "\\item 'Upper West Side'\n",
       "\\item 'Usera'\n",
       "\\item 'Valby'\n",
       "\\item 'Valdeacederas'\n",
       "\\item 'Vallehermosa'\n",
       "\\item 'Van Nuys'\n",
       "\\item 'Vaugirard'\n",
       "\\item 'Venice'\n",
       "\\item 'Vesterbro'\n",
       "\\item 'VicÃ¡lvaro'\n",
       "\\item 'Vila de GrÃ cia'\n",
       "\\item 'Villa de Vallecas'\n",
       "\\item 'Villaverde'\n",
       "\\item 'WÃ¤hring'\n",
       "\\item 'Wallace Emerson'\n",
       "\\item 'Wallingford'\n",
       "\\item 'Walworth'\n",
       "\\item 'Wedding'\n",
       "\\item 'Weesperbuurt en Plantage'\n",
       "\\item 'WeiÃŸensee'\n",
       "\\item 'West Adams'\n",
       "\\item 'West Austin'\n",
       "\\item 'West Hollywood'\n",
       "\\item 'West Norwood'\n",
       "\\item 'West Village'\n",
       "\\item 'Westminster'\n",
       "\\item 'Westmount'\n",
       "\\item 'Westside'\n",
       "\\item 'Whitechapel/Brick Lane'\n",
       "\\item 'Wicker Park'\n",
       "\\item 'Wieden'\n",
       "\\item 'Williamsburg'\n",
       "\\item 'Wilmersdorf'\n",
       "\\item 'Wimbledon'\n",
       "\\item 'Woollahra'\n",
       "\\item 'XI Arrondissement'\n",
       "\\item 'Zilker'\n",
       "\\end{enumerate*}\n"
      ],
      "text/markdown": [
       "\n",
       "**Levels**: 1. ''\n",
       "2. 'Ã\\230sterbro'\n",
       "3. 'Acacias'\n",
       "4. 'Acton'\n",
       "5. 'Adams Morgan'\n",
       "6. 'Adelfas'\n",
       "7. 'Agios Nikolaos'\n",
       "8. 'AlÃ©sia'\n",
       "9. 'Albert Park'\n",
       "10. 'Almagro'\n",
       "11. 'Almenara'\n",
       "12. 'Alt-Treptow'\n",
       "13. 'Aluche'\n",
       "14. 'Arapiles'\n",
       "15. 'ArgÃ¼elles'\n",
       "16. 'Arganzuela'\n",
       "17. 'Astoria'\n",
       "18. 'Atocha'\n",
       "19. 'Aurelio'\n",
       "20. 'Auteuil'\n",
       "21. 'Balham'\n",
       "22. 'Ballard'\n",
       "23. 'Barajas'\n",
       "24. 'Barney Circle'\n",
       "25. 'Bastille'\n",
       "26. 'Batignolles'\n",
       "27. 'Bedford-Stuyvesant'\n",
       "28. 'Beguinage-Dixmude'\n",
       "29. 'Bellas Vistas'\n",
       "30. 'Berkeley'\n",
       "31. 'Bernal Heights'\n",
       "32. 'Berruguete'\n",
       "33. 'Bethnal Green'\n",
       "34. 'Beverly Hills'\n",
       "35. 'Bloomsbury'\n",
       "36. 'Boerum Hill'\n",
       "37. 'Bondi'\n",
       "38. 'Bondi Beach'\n",
       "39. 'Bondi Junction'\n",
       "40. 'Borgo'\n",
       "41. 'Bouldin Creek'\n",
       "42. 'Bow'\n",
       "43. 'Brentwood'\n",
       "44. 'Brixton'\n",
       "45. 'Broadview'\n",
       "46. 'Bromley-by-Bow'\n",
       "47. 'Brunswick'\n",
       "48. 'Bushwick'\n",
       "49. 'Buttes-Chaumont - Belleville'\n",
       "50. 'Camden Town'\n",
       "51. 'Camp d\\'en Grassot i GrÃ cia Nova'\n",
       "52. 'Can Baro'\n",
       "53. 'Cannaregio'\n",
       "54. 'Capitol Hill'\n",
       "55. 'Carabanchel'\n",
       "56. 'Carroll Gardens'\n",
       "57. 'Castellana'\n",
       "58. 'Castilla'\n",
       "59. 'Castillejos'\n",
       "60. 'Cedarvale Humewood'\n",
       "61. 'Central Business District'\n",
       "62. 'Centro'\n",
       "63. 'ChÃ¢telet - Les Halles - Beaubourg'\n",
       "64. 'ChamberÃ­'\n",
       "65. 'Champs-ElysÃ©es'\n",
       "66. 'Charlottenburg'\n",
       "67. 'Chausee De Haecht'\n",
       "68. 'Chelsea'\n",
       "69. 'Christianshavn'\n",
       "70. 'City of London'\n",
       "71. 'City Park West'\n",
       "72. 'Ciudad Jardin'\n",
       "73. 'Ciudad Lineal'\n",
       "74. 'Civic Center'\n",
       "75. 'Clinton Hill'\n",
       "76. 'Colonna'\n",
       "77. 'Commerce - Dupleix'\n",
       "78. 'Cortes'\n",
       "79. 'Crestwood'\n",
       "80. 'Crown Heights'\n",
       "81. 'Crystal Palace'\n",
       "82. 'Cuatro Caminos'\n",
       "83. 'DÃ¶bling'\n",
       "84. 'Dalston'\n",
       "85. 'Dansaert'\n",
       "86. 'Darlinghurst'\n",
       "87. 'De Pijp'\n",
       "88. 'Delicias'\n",
       "89. 'Ditmars / Steinway'\n",
       "90. 'Docklands'\n",
       "91. 'Downtown'\n",
       "92. 'Downtown Toronto'\n",
       "93. 'Dreta de l\\'Eixample'\n",
       "94. 'Dupont Circle'\n",
       "95. 'Earls Court'\n",
       "96. 'East and West Riverside'\n",
       "97. 'East Harlem'\n",
       "98. 'East Village'\n",
       "99. 'Eckington'\n",
       "100. 'El Born'\n",
       "101. 'El Camp de l\\'Arpa del Clot'\n",
       "102. 'El Clot'\n",
       "103. 'el Fort Pienc'\n",
       "104. 'El GÃ²tic'\n",
       "105. 'El Poble-sec'\n",
       "106. 'El Putget i FarrÃ³'\n",
       "107. 'El Raval'\n",
       "108. 'El TrÃ©ntaiseis'\n",
       "109. 'El Viso'\n",
       "110. 'Embajadores'\n",
       "111. 'Esquilino'\n",
       "112. 'Estrella'\n",
       "113. 'Etterbeek'\n",
       "114. 'Excelsior'\n",
       "115. 'Fairlawn'\n",
       "116. 'Fairview'\n",
       "117. 'Flatbush'\n",
       "118. 'Flatiron District'\n",
       "119. 'Forest'\n",
       "120. 'Forest Hill'\n",
       "121. 'Fort Greene'\n",
       "122. 'Frederik Hendrikbuurt'\n",
       "123. 'Frederiksberg'\n",
       "124. 'Friedrichshain'\n",
       "125. 'Fuencarral-el Pardo'\n",
       "126. 'Fuencarral-El Pardo'\n",
       "127. 'Fuente del Berro'\n",
       "128. 'Garbatella'\n",
       "129. 'Gare de Lyon'\n",
       "130. 'Gare du Nord - Gare de I\\'Est'\n",
       "131. 'Gaztambide'\n",
       "132. 'GlÃ²ries - El Parc'\n",
       "133. 'Glebe'\n",
       "134. 'Golden Hill'\n",
       "135. 'Goya'\n",
       "136. 'GrÃ cia'\n",
       "137. 'Grand Place'\n",
       "138. 'Greenpoint'\n",
       "139. 'Greenwich'\n",
       "140. 'Greenwood'\n",
       "141. 'Guindalera'\n",
       "142. 'Hackney'\n",
       "143. 'Hamilton Heights'\n",
       "144. 'Hammersmith'\n",
       "145. 'Hampstead'\n",
       "146. 'Harlem'\n",
       "147. 'Haut Saint-Gilles'\n",
       "148. 'Hell\\'s Kitchen'\n",
       "149. 'Highbridge'\n",
       "150. 'Highland Park'\n",
       "151. 'HispanoamÃ©rica'\n",
       "152. 'Hollywood'\n",
       "153. 'Hollywood Hills'\n",
       "154. 'Hoofddorppleinbuurt'\n",
       "155. 'Horta-GuinardÃ³'\n",
       "156. 'Hortaleza'\n",
       "157. 'Humboldt Park'\n",
       "158. 'Ibiza'\n",
       "159. 'II Arrondissement'\n",
       "160. 'Imperial'\n",
       "161. 'Indische Buurt'\n",
       "162. 'Indre By'\n",
       "163. 'Innere Stadt'\n",
       "164. 'Invalides - Ecole Militaire'\n",
       "165. 'Isle of Dogs'\n",
       "166. 'Islington'\n",
       "167. 'Jamaica Plain'\n",
       "168. 'JerÃ³nimos'\n",
       "169. 'Jordaan'\n",
       "170. 'Justicia'\n",
       "171. 'KÃ¸dbyen'\n",
       "172. 'Karlshorst'\n",
       "173. 'Kennington'\n",
       "174. 'Kensington'\n",
       "175. 'Kreuzberg'\n",
       "176. 'L\\'Antiga Esquerra de l\\'Eixample'\n",
       "177. 'La Barceloneta'\n",
       "178. 'La Chapelle'\n",
       "179. 'La Chopera'\n",
       "180. 'La Latina'\n",
       "181. 'La Nova Esquerra de l\\'Eixample'\n",
       "182. 'La Sagrada FamÃ­lia'\n",
       "183. 'La Salut'\n",
       "184. 'La Vila OlÃ­mpica'\n",
       "185. 'Lachine'\n",
       "186. 'Lake Balboa'\n",
       "187. 'Lakeview'\n",
       "188. 'Landelijk Noord'\n",
       "189. 'LandstraÃŸe'\n",
       "190. 'LB of Brent'\n",
       "191. 'LB of Camden'\n",
       "192. 'LB of Croydon'\n",
       "193. 'LB of Ealing'\n",
       "194. 'LB of Hackney'\n",
       "195. 'LB of Haringey'\n",
       "196. 'LB of Hounslow'\n",
       "197. 'LB of Islington'\n",
       "198. 'LB of Redbridge'\n",
       "199. 'LB of Richmond upon Thames'\n",
       "200. 'LB of Sutton'\n",
       "201. 'Le Marais'\n",
       "202. 'Legazpi'\n",
       "203. 'Leopoldstadt'\n",
       "204. 'Les Corts'\n",
       "205. 'Les Corts (Nabe)'\n",
       "206. 'Lewisham'\n",
       "207. 'Lido'\n",
       "208. 'Lisson Grove'\n",
       "209. 'Lista'\n",
       "210. 'Little Italy'\n",
       "211. 'Logan Square'\n",
       "212. 'Long Beach'\n",
       "213. 'Los Feliz'\n",
       "214. 'Lower East Side'\n",
       "215. 'Madeleine - VendÃ´me'\n",
       "216. 'Magnolia'\n",
       "217. 'Maida Vale'\n",
       "218. 'MalasaÃ±a'\n",
       "219. 'Malibu'\n",
       "220. 'Margareten'\n",
       "221. 'Mariahilf'\n",
       "222. 'Marrickville'\n",
       "223. 'Marylebone'\n",
       "224. 'Mascot'\n",
       "225. 'Matonge'\n",
       "226. 'Mid-Wilshire'\n",
       "227. 'Midtown'\n",
       "228. 'Midtown East'\n",
       "229. 'Mission District'\n",
       "230. 'Mitte'\n",
       "231. 'Moncloa'\n",
       "232. 'Monteverde Vecchio'\n",
       "233. 'Monti'\n",
       "234. 'Montmartre'\n",
       "235. 'Moratalaz'\n",
       "236. 'Nation'\n",
       "237. 'Neos Kosmos'\n",
       "238. 'Neubau'\n",
       "239. 'NeukÃ¶lln'\n",
       "240. 'Newtown/Enmore'\n",
       "241. 'Niagara'\n",
       "242. 'Nieuwmarkt en Lastage'\n",
       "243. 'Nob Hill'\n",
       "244. 'Nolita'\n",
       "245. 'North Beacon Hill'\n",
       "246. 'North City Central/O\\'Connell Street'\n",
       "247. 'North Sydney'\n",
       "248. 'Northcote'\n",
       "249. 'Notting Hill'\n",
       "250. 'Nueva EspaÃ±a'\n",
       "251. 'Nunhead'\n",
       "252. 'Old Town'\n",
       "253. 'Oosterparkbuurt'\n",
       "254. 'Oud-West'\n",
       "255. 'PÃ¨re Lachaise - MÃ©nilmontant'\n",
       "256. 'Pacifico'\n",
       "257. 'Paddington'\n",
       "258. 'Palacio'\n",
       "259. 'Palms'\n",
       "260. 'Palos do Moguer'\n",
       "261. 'PanthÃ©on'\n",
       "262. 'Parione'\n",
       "263. 'Pasadena'\n",
       "264. 'Passy'\n",
       "265. 'Patisia'\n",
       "266. 'Pigalle - Saint-Georges'\n",
       "267. 'Pimlico'\n",
       "268. 'Place d\\'Italie - Quartier Chinois'\n",
       "269. 'Ponte'\n",
       "270. 'Porte de Clignancourt'\n",
       "271. 'Porte de Versailles'\n",
       "272. 'Portobello'\n",
       "273. 'Portuense'\n",
       "274. 'Potts Point'\n",
       "275. 'Prenzlauer Berg'\n",
       "276. 'Prospect Heights'\n",
       "277. 'Prosperidad'\n",
       "278. 'ProvenÃ§als del Poblenou'\n",
       "279. 'Puente de Vallecas'\n",
       "280. 'RÃ©publique'\n",
       "281. 'Ravenna'\n",
       "282. 'RB of Kensington and Chelsea'\n",
       "283. 'Recoletos'\n",
       "284. 'Regola'\n",
       "285. 'Retiro'\n",
       "286. 'Richmond'\n",
       "287. 'Ridgewood'\n",
       "288. 'Rios Rosas'\n",
       "289. 'River North'\n",
       "290. 'Riverbend'\n",
       "291. 'Rivierenbuurt'\n",
       "292. 'Rogers Park'\n",
       "293. 'Rosebery'\n",
       "294. 'Rosedale'\n",
       "295. 'Saint-Germain-des-PrÃ©s - OdÃ©on'\n",
       "296. 'Saint-Lazare'\n",
       "297. 'Saint-Michel'\n",
       "298. 'San Blas'\n",
       "299. 'San Giovanni'\n",
       "300. 'San Lorenzo'\n",
       "301. 'Sandymount'\n",
       "302. 'Sant\\'Eustachio'\n",
       "303. 'Sant Antoni'\n",
       "304. 'Sant Gervasi - Galvany'\n",
       "305. 'Sant Gervasi - la Bonanova'\n",
       "306. 'Sant MartÃ­ de ProvenÃ§als'\n",
       "307. 'Sant Pere/Santa Caterina'\n",
       "308. 'Santa Monica'\n",
       "309. 'Sants-MontjuÃ¯c'\n",
       "310. 'Sants - Badal'\n",
       "311. 'Shepherd\\'s Bush'\n",
       "312. 'Sheung Wan'\n",
       "313. 'Shoreditch'\n",
       "314. 'Silver Lake'\n",
       "315. 'Smithfield'\n",
       "316. 'Soho'\n",
       "317. 'Sol'\n",
       "318. 'South LA'\n",
       "319. 'South Robertson'\n",
       "320. 'South Yarra'\n",
       "321. 'Southside'\n",
       "322. 'Southwark'\n",
       "323. 'Southwest Waterfront'\n",
       "324. 'St Peters'\n",
       "325. 'St. John\\'s Wood'\n",
       "326. 'Stadionbuurt'\n",
       "327. 'Stalingrad'\n",
       "328. 'Stockwell'\n",
       "329. 'Stoke Newington'\n",
       "330. 'Stoneybatter/Arbour Hill'\n",
       "331. 'Sunset Park'\n",
       "332. 'Surry Hills'\n",
       "333. 'Temple Bar'\n",
       "334. 'Templeogue'\n",
       "335. 'Ternes'\n",
       "336. 'Testaccio'\n",
       "337. 'TetuÃ¡n'\n",
       "338. 'The Annex'\n",
       "339. 'The Beaches'\n",
       "340. 'The Castro'\n",
       "341. 'The Liberties'\n",
       "342. 'Times Square/Theatre District'\n",
       "343. 'Tollcross'\n",
       "344. 'Topanga'\n",
       "345. 'Tour Eiffel - Champ de Mars'\n",
       "346. 'Trafalgar'\n",
       "347. 'Trastevere'\n",
       "348. 'Trevi'\n",
       "349. 'Trieste'\n",
       "350. 'Trinity College'\n",
       "351. 'Truxton Circle'\n",
       "352. 'Tsim Sha Tsui'\n",
       "353. 'Upper East Side'\n",
       "354. 'Upper Tooting'\n",
       "355. 'Upper West Side'\n",
       "356. 'Usera'\n",
       "357. 'Valby'\n",
       "358. 'Valdeacederas'\n",
       "359. 'Vallehermosa'\n",
       "360. 'Van Nuys'\n",
       "361. 'Vaugirard'\n",
       "362. 'Venice'\n",
       "363. 'Vesterbro'\n",
       "364. 'VicÃ¡lvaro'\n",
       "365. 'Vila de GrÃ cia'\n",
       "366. 'Villa de Vallecas'\n",
       "367. 'Villaverde'\n",
       "368. 'WÃ¤hring'\n",
       "369. 'Wallace Emerson'\n",
       "370. 'Wallingford'\n",
       "371. 'Walworth'\n",
       "372. 'Wedding'\n",
       "373. 'Weesperbuurt en Plantage'\n",
       "374. 'WeiÃŸensee'\n",
       "375. 'West Adams'\n",
       "376. 'West Austin'\n",
       "377. 'West Hollywood'\n",
       "378. 'West Norwood'\n",
       "379. 'West Village'\n",
       "380. 'Westminster'\n",
       "381. 'Westmount'\n",
       "382. 'Westside'\n",
       "383. 'Whitechapel/Brick Lane'\n",
       "384. 'Wicker Park'\n",
       "385. 'Wieden'\n",
       "386. 'Williamsburg'\n",
       "387. 'Wilmersdorf'\n",
       "388. 'Wimbledon'\n",
       "389. 'Woollahra'\n",
       "390. 'XI Arrondissement'\n",
       "391. 'Zilker'\n",
       "\n",
       "\n"
      ],
      "text/plain": [
       "[1] \n",
       "391 Levels:  Ã\\230sterbro Acacias Acton Adams Morgan Adelfas ... Zilker"
      ]
     },
     "metadata": {},
     "output_type": "display_data"
    }
   ],
   "source": [
    "airbnb1$Neighbourhood[1]"
   ]
  },
  {
   "cell_type": "code",
   "execution_count": 249,
   "metadata": {},
   "outputs": [
    {
     "data": {
      "text/html": [
       "<ol class=list-inline>\n",
       "\t<li>7903</li>\n",
       "\t<li>14</li>\n",
       "</ol>\n"
      ],
      "text/latex": [
       "\\begin{enumerate*}\n",
       "\\item 7903\n",
       "\\item 14\n",
       "\\end{enumerate*}\n"
      ],
      "text/markdown": [
       "1. 7903\n",
       "2. 14\n",
       "\n",
       "\n"
      ],
      "text/plain": [
       "[1] 7903   14"
      ]
     },
     "metadata": {},
     "output_type": "display_data"
    }
   ],
   "source": [
    "dim(airbnb1)"
   ]
  },
  {
   "cell_type": "code",
   "execution_count": 250,
   "metadata": {},
   "outputs": [
    {
     "data": {
      "text/html": [
       "<table>\n",
       "<thead><tr><th></th><th scope=col>City</th><th scope=col>Room.Type</th><th scope=col>Neighbourhood</th><th scope=col>Accommodates</th><th scope=col>Bathrooms</th><th scope=col>Bedrooms</th><th scope=col>Beds</th><th scope=col>Price</th><th scope=col>Square.Feet</th><th scope=col>Guests.Included</th><th scope=col>Extra.People</th><th scope=col>Review.Scores.Rating</th><th scope=col>Latitude</th><th scope=col>Longitude</th></tr></thead>\n",
       "<tbody>\n",
       "\t<tr><th scope=row>1</th><td>Madrid         </td><td>Entire home/apt</td><td>               </td><td> 2             </td><td>1.0            </td><td>0              </td><td> 1             </td><td> 50            </td><td>NA             </td><td>2              </td><td>15             </td><td> 96            </td><td>40.40745       </td><td>-3.707995      </td></tr>\n",
       "\t<tr><th scope=row>2</th><td>Madrid         </td><td>Entire home/apt</td><td>               </td><td> 4             </td><td>1.0            </td><td>1              </td><td> 2             </td><td> 50            </td><td>NA             </td><td>2              </td><td>25             </td><td> 81            </td><td>40.40832       </td><td>-3.705006      </td></tr>\n",
       "\t<tr><th scope=row>3</th><td>Madrid         </td><td>Entire home/apt</td><td>               </td><td> 4             </td><td>1.5            </td><td>1              </td><td> 2             </td><td> 77            </td><td>NA             </td><td>1              </td><td> 0             </td><td> 89            </td><td>40.41372       </td><td>-3.706823      </td></tr>\n",
       "\t<tr><th scope=row>4</th><td>Madrid         </td><td>Entire home/apt</td><td>Embajadores    </td><td> 2             </td><td>1.0            </td><td>1              </td><td> 2             </td><td> 50            </td><td>NA             </td><td>1              </td><td>20             </td><td> 93            </td><td>40.41126       </td><td>-3.697305      </td></tr>\n",
       "\t<tr><th scope=row>5</th><td>Madrid         </td><td>Entire home/apt</td><td>Embajadores    </td><td> 5             </td><td>1.0            </td><td>2              </td><td> 4             </td><td> 95            </td><td>NA             </td><td>4              </td><td> 0             </td><td> 97            </td><td>40.41256       </td><td>-3.701155      </td></tr>\n",
       "\t<tr><th scope=row>6</th><td>Madrid         </td><td>Entire home/apt</td><td>La Latina      </td><td> 4             </td><td>1.0            </td><td>1              </td><td> 2             </td><td> 69            </td><td>NA             </td><td>2              </td><td>18             </td><td> 91            </td><td>40.40791       </td><td>-3.705095      </td></tr>\n",
       "\t<tr><th scope=row>7</th><td>Madrid         </td><td>Entire home/apt</td><td>               </td><td> 2             </td><td>1.0            </td><td>1              </td><td> 1             </td><td> 70            </td><td>NA             </td><td>1              </td><td> 0             </td><td>100            </td><td>40.40898       </td><td>-3.698252      </td></tr>\n",
       "\t<tr><th scope=row>9</th><td>Madrid         </td><td>Entire home/apt</td><td>Embajadores    </td><td> 4             </td><td>1.0            </td><td>1              </td><td> 2             </td><td> 57            </td><td>NA             </td><td>2              </td><td> 8             </td><td> 98            </td><td>40.41162       </td><td>-3.703281      </td></tr>\n",
       "\t<tr><th scope=row>10</th><td>Madrid         </td><td>Entire home/apt</td><td>La Latina      </td><td> 2             </td><td>1.0            </td><td>1              </td><td> 1             </td><td> 59            </td><td>NA             </td><td>1              </td><td> 0             </td><td> 95            </td><td>40.40734       </td><td>-3.707019      </td></tr>\n",
       "\t<tr><th scope=row>11</th><td>Madrid         </td><td>Entire home/apt</td><td>               </td><td> 8             </td><td>1.5            </td><td>4              </td><td> 5             </td><td>160            </td><td>NA             </td><td>4              </td><td>15             </td><td> 98            </td><td>40.41056       </td><td>-3.706429      </td></tr>\n",
       "\t<tr><th scope=row>13</th><td>Madrid         </td><td>Entire home/apt</td><td>               </td><td> 2             </td><td>1.0            </td><td>1              </td><td> 2             </td><td> 70            </td><td>NA             </td><td>1              </td><td> 0             </td><td> NA            </td><td>40.41286       </td><td>-3.703050      </td></tr>\n",
       "\t<tr><th scope=row>14</th><td>Madrid         </td><td>Entire home/apt</td><td>               </td><td> 7             </td><td>2.0            </td><td>3              </td><td> 5             </td><td>150            </td><td>NA             </td><td>4              </td><td>25             </td><td> 97            </td><td>40.41359       </td><td>-3.703170      </td></tr>\n",
       "\t<tr><th scope=row>15</th><td>Madrid         </td><td>Entire home/apt</td><td>La Latina      </td><td>14             </td><td>2.0            </td><td>3              </td><td>14             </td><td>120            </td><td>NA             </td><td>2              </td><td>18             </td><td> 92            </td><td>40.40908       </td><td>-3.704744      </td></tr>\n",
       "\t<tr><th scope=row>16</th><td>Madrid         </td><td>Entire home/apt</td><td>               </td><td> 2             </td><td>1.0            </td><td>1              </td><td> 2             </td><td> 45            </td><td>NA             </td><td>1              </td><td> 8             </td><td> 95            </td><td>40.40553       </td><td>-3.702378      </td></tr>\n",
       "\t<tr><th scope=row>21</th><td>Madrid         </td><td>Entire home/apt</td><td>La Latina      </td><td> 2             </td><td>1.0            </td><td>1              </td><td> 1             </td><td> 89            </td><td>NA             </td><td>1              </td><td>10             </td><td> 98            </td><td>40.41007       </td><td>-3.710624      </td></tr>\n",
       "\t<tr><th scope=row>22</th><td>Madrid         </td><td>Entire home/apt</td><td>Palacio        </td><td> 5             </td><td>3.0            </td><td>3              </td><td> 3             </td><td>192            </td><td>NA             </td><td>2              </td><td>12             </td><td> 80            </td><td>40.42017       </td><td>-3.712629      </td></tr>\n",
       "\t<tr><th scope=row>23</th><td>Madrid         </td><td>Entire home/apt</td><td>La Latina      </td><td> 4             </td><td>1.0            </td><td>1              </td><td> 1             </td><td>100            </td><td>NA             </td><td>2              </td><td>12             </td><td> NA            </td><td>40.40990       </td><td>-3.710948      </td></tr>\n",
       "\t<tr><th scope=row>24</th><td>Madrid         </td><td>Entire home/apt</td><td>               </td><td> 4             </td><td>1.0            </td><td>2              </td><td> 3             </td><td> 70            </td><td>NA             </td><td>2              </td><td>15             </td><td> 88            </td><td>40.41179       </td><td>-3.709708      </td></tr>\n",
       "\t<tr><th scope=row>26</th><td>Madrid         </td><td>Entire home/apt</td><td>Palacio        </td><td> 5             </td><td>2.0            </td><td>2              </td><td> 2             </td><td>100            </td><td>NA             </td><td>2              </td><td>15             </td><td> 95            </td><td>40.42156       </td><td>-3.709848      </td></tr>\n",
       "\t<tr><th scope=row>28</th><td>Madrid         </td><td>Entire home/apt</td><td>La Latina      </td><td> 4             </td><td>2.0            </td><td>2              </td><td> 3             </td><td>160            </td><td>NA             </td><td>1              </td><td> 0             </td><td> 93            </td><td>40.41173       </td><td>-3.712662      </td></tr>\n",
       "\t<tr><th scope=row>29</th><td>Madrid         </td><td>Entire home/apt</td><td>Palacio        </td><td> 4             </td><td>1.0            </td><td>1              </td><td> 2             </td><td> 80            </td><td>NA             </td><td>2              </td><td> 0             </td><td> 88            </td><td>40.42099       </td><td>-3.710402      </td></tr>\n",
       "\t<tr><th scope=row>30</th><td>Madrid         </td><td>Entire home/apt</td><td>Palacio        </td><td> 3             </td><td>1.0            </td><td>1              </td><td> 1             </td><td> 68            </td><td>NA             </td><td>2              </td><td> 5             </td><td> 83            </td><td>40.41203       </td><td>-3.715779      </td></tr>\n",
       "\t<tr><th scope=row>31</th><td>Madrid         </td><td>Entire home/apt</td><td>Palacio        </td><td> 6             </td><td>1.0            </td><td>2              </td><td> 2             </td><td> 80            </td><td>NA             </td><td>4              </td><td>25             </td><td> 95            </td><td>40.41512       </td><td>-3.710294      </td></tr>\n",
       "\t<tr><th scope=row>32</th><td>Madrid         </td><td>Entire home/apt</td><td>               </td><td> 2             </td><td>1.0            </td><td>1              </td><td> 1             </td><td> 60            </td><td>NA             </td><td>1              </td><td> 0             </td><td> NA            </td><td>40.41127       </td><td>-3.711598      </td></tr>\n",
       "\t<tr><th scope=row>35</th><td>Madrid         </td><td>Entire home/apt</td><td>Embajadores    </td><td> 3             </td><td>1.0            </td><td>1              </td><td> 1             </td><td> 50            </td><td>NA             </td><td>2              </td><td>20             </td><td> 89            </td><td>40.41205       </td><td>-3.701022      </td></tr>\n",
       "\t<tr><th scope=row>37</th><td>Madrid         </td><td>Entire home/apt</td><td>               </td><td> 2             </td><td>1.0            </td><td>1              </td><td> 1             </td><td> 62            </td><td>NA             </td><td>1              </td><td> 0             </td><td> NA            </td><td>40.40960       </td><td>-3.695018      </td></tr>\n",
       "\t<tr><th scope=row>38</th><td>Madrid         </td><td>Entire home/apt</td><td>Embajadores    </td><td> 3             </td><td>1.0            </td><td>2              </td><td> 2             </td><td> 50            </td><td>NA             </td><td>1              </td><td>10             </td><td> 93            </td><td>40.40581       </td><td>-3.700252      </td></tr>\n",
       "\t<tr><th scope=row>40</th><td>Madrid         </td><td>Entire home/apt</td><td>               </td><td> 4             </td><td>1.0            </td><td>1              </td><td> 2             </td><td> 47            </td><td>NA             </td><td>2              </td><td>10             </td><td> 95            </td><td>40.40765       </td><td>-3.699041      </td></tr>\n",
       "\t<tr><th scope=row>42</th><td>Madrid         </td><td>Entire home/apt</td><td>La Latina      </td><td> 3             </td><td>1.0            </td><td>1              </td><td> 2             </td><td> 75            </td><td>NA             </td><td>2              </td><td>12             </td><td>100            </td><td>40.41087       </td><td>-3.706967      </td></tr>\n",
       "\t<tr><th scope=row>44</th><td>Madrid         </td><td>Entire home/apt</td><td>Embajadores    </td><td> 5             </td><td>1.0            </td><td>1              </td><td> 3             </td><td> 75            </td><td>NA             </td><td>2              </td><td>15             </td><td> 95            </td><td>40.41180       </td><td>-3.703943      </td></tr>\n",
       "\t<tr><th scope=row>...</th><td>...</td><td>...</td><td>...</td><td>...</td><td>...</td><td>...</td><td>...</td><td>...</td><td>...</td><td>...</td><td>...</td><td>...</td><td>...</td><td>...</td></tr>\n",
       "\t<tr><th scope=row>14738</th><td>Madrid         </td><td>Entire home/apt</td><td>               </td><td> 3             </td><td>1              </td><td>1              </td><td>2              </td><td> 50            </td><td>NA             </td><td>2              </td><td> 6             </td><td> 86            </td><td>40.40977       </td><td>-3.697760      </td></tr>\n",
       "\t<tr><th scope=row>14740</th><td>Madrid         </td><td>Entire home/apt</td><td>La Latina      </td><td> 4             </td><td>1              </td><td>2              </td><td>3              </td><td> 95            </td><td>NA             </td><td>4              </td><td>20             </td><td>100            </td><td>40.41036       </td><td>-3.705118      </td></tr>\n",
       "\t<tr><th scope=row>14743</th><td>Madrid         </td><td>Entire home/apt</td><td>Cortes         </td><td> 2             </td><td>1              </td><td>0              </td><td>2              </td><td> 89            </td><td>NA             </td><td>1              </td><td> 0             </td><td> NA            </td><td>40.41118       </td><td>-3.693730      </td></tr>\n",
       "\t<tr><th scope=row>14745</th><td>Madrid         </td><td>Entire home/apt</td><td>Cortes         </td><td> 4             </td><td>1              </td><td>1              </td><td>2              </td><td> 49            </td><td>NA             </td><td>2              </td><td>20             </td><td> 88            </td><td>40.41228       </td><td>-3.696911      </td></tr>\n",
       "\t<tr><th scope=row>14746</th><td>Madrid         </td><td>Entire home/apt</td><td>Cortes         </td><td> 4             </td><td>1              </td><td>1              </td><td>2              </td><td> 65            </td><td>NA             </td><td>2              </td><td>10             </td><td> 91            </td><td>40.41232       </td><td>-3.695173      </td></tr>\n",
       "\t<tr><th scope=row>14747</th><td>Madrid         </td><td>Entire home/apt</td><td>Cortes         </td><td> 5             </td><td>2              </td><td>2              </td><td>3              </td><td>145            </td><td>NA             </td><td>1              </td><td> 0             </td><td>100            </td><td>40.41373       </td><td>-3.697207      </td></tr>\n",
       "\t<tr><th scope=row>14748</th><td>Madrid         </td><td>Entire home/apt</td><td>Cortes         </td><td> 4             </td><td>1              </td><td>2              </td><td>3              </td><td> 58            </td><td>NA             </td><td>2              </td><td>13             </td><td> 87            </td><td>40.41336       </td><td>-3.694922      </td></tr>\n",
       "\t<tr><th scope=row>14749</th><td>Madrid         </td><td>Entire home/apt</td><td>               </td><td> 4             </td><td>1              </td><td>1              </td><td>2              </td><td> 69            </td><td>NA             </td><td>2              </td><td>15             </td><td> 95            </td><td>40.41648       </td><td>-3.699882      </td></tr>\n",
       "\t<tr><th scope=row>14751</th><td>Madrid         </td><td>Entire home/apt</td><td>               </td><td> 4             </td><td>1              </td><td>1              </td><td>2              </td><td> 40            </td><td>NA             </td><td>2              </td><td>10             </td><td> 87            </td><td>40.42503       </td><td>-3.699875      </td></tr>\n",
       "\t<tr><th scope=row>14752</th><td>Madrid         </td><td>Entire home/apt</td><td>Justicia       </td><td> 2             </td><td>1              </td><td>1              </td><td>1              </td><td> 79            </td><td>NA             </td><td>2              </td><td>29             </td><td> 94            </td><td>40.42679       </td><td>-3.697220      </td></tr>\n",
       "\t<tr><th scope=row>14753</th><td>Madrid         </td><td>Entire home/apt</td><td>Justicia       </td><td> 4             </td><td>1              </td><td>2              </td><td>2              </td><td> 69            </td><td>NA             </td><td>2              </td><td>15             </td><td> 93            </td><td>40.42176       </td><td>-3.699134      </td></tr>\n",
       "\t<tr><th scope=row>14754</th><td>Madrid         </td><td>Entire home/apt</td><td>Justicia       </td><td> 4             </td><td>1              </td><td>2              </td><td>2              </td><td> 50            </td><td>NA             </td><td>1              </td><td>25             </td><td> 83            </td><td>40.42385       </td><td>-3.698944      </td></tr>\n",
       "\t<tr><th scope=row>14755</th><td>Madrid         </td><td>Entire home/apt</td><td>Justicia       </td><td>12             </td><td>3              </td><td>4              </td><td>8              </td><td>250            </td><td>NA             </td><td>6              </td><td>35             </td><td> 97            </td><td>40.42510       </td><td>-3.699414      </td></tr>\n",
       "\t<tr><th scope=row>14757</th><td>Madrid         </td><td>Entire home/apt</td><td>Justicia       </td><td> 4             </td><td>1              </td><td>0              </td><td>2              </td><td> 65            </td><td>NA             </td><td>1              </td><td>15             </td><td> 97            </td><td>40.42680       </td><td>-3.696384      </td></tr>\n",
       "\t<tr><th scope=row>14759</th><td>Madrid         </td><td>Entire home/apt</td><td>Justicia       </td><td> 2             </td><td>1              </td><td>0              </td><td>1              </td><td> 74            </td><td>NA             </td><td>1              </td><td> 0             </td><td> 93            </td><td>40.42741       </td><td>-3.699927      </td></tr>\n",
       "\t<tr><th scope=row>14760</th><td>Madrid         </td><td>Entire home/apt</td><td>Justicia       </td><td> 2             </td><td>1              </td><td>1              </td><td>1              </td><td> 50            </td><td>NA             </td><td>1              </td><td> 0             </td><td> 95            </td><td>40.42449       </td><td>-3.698675      </td></tr>\n",
       "\t<tr><th scope=row>14762</th><td>Madrid         </td><td>Entire home/apt</td><td>Cortes         </td><td> 4             </td><td>1              </td><td>1              </td><td>2              </td><td> 65            </td><td>NA             </td><td>2              </td><td>10             </td><td>100            </td><td>40.41141       </td><td>-3.696039      </td></tr>\n",
       "\t<tr><th scope=row>14763</th><td>Madrid         </td><td>Entire home/apt</td><td>Cortes         </td><td> 4             </td><td>1              </td><td>1              </td><td>1              </td><td> 80            </td><td>NA             </td><td>1              </td><td> 0             </td><td> 90            </td><td>40.41269       </td><td>-3.695939      </td></tr>\n",
       "\t<tr><th scope=row>14764</th><td>Madrid         </td><td>Entire home/apt</td><td>               </td><td> 2             </td><td>2              </td><td>1              </td><td>1              </td><td> 55            </td><td>NA             </td><td>1              </td><td> 0             </td><td> 97            </td><td>40.41580       </td><td>-3.695896      </td></tr>\n",
       "\t<tr><th scope=row>14766</th><td>Madrid         </td><td>Entire home/apt</td><td>               </td><td> 4             </td><td>1              </td><td>1              </td><td>1              </td><td> 55            </td><td>NA             </td><td>2              </td><td>15             </td><td> 86            </td><td>40.41559       </td><td>-3.701471      </td></tr>\n",
       "\t<tr><th scope=row>14767</th><td>Madrid         </td><td>Entire home/apt</td><td>Cortes         </td><td> 4             </td><td>1              </td><td>0              </td><td>2              </td><td> 65            </td><td>NA             </td><td>2              </td><td>15             </td><td> 98            </td><td>40.41875       </td><td>-3.698898      </td></tr>\n",
       "\t<tr><th scope=row>14768</th><td>Madrid         </td><td>Entire home/apt</td><td>Cortes         </td><td> 9             </td><td>2              </td><td>2              </td><td>6              </td><td> 80            </td><td>NA             </td><td>2              </td><td>10             </td><td> 98            </td><td>40.41632       </td><td>-3.700375      </td></tr>\n",
       "\t<tr><th scope=row>14769</th><td>Madrid         </td><td>Entire home/apt</td><td>Cortes         </td><td> 3             </td><td>1              </td><td>1              </td><td>3              </td><td>200            </td><td>NA             </td><td>1              </td><td> 0             </td><td> NA            </td><td>40.41428       </td><td>-3.702910      </td></tr>\n",
       "\t<tr><th scope=row>14770</th><td>Madrid         </td><td>Entire home/apt</td><td>Embajadores    </td><td> 4             </td><td>1              </td><td>1              </td><td>2              </td><td>150            </td><td>NA             </td><td>1              </td><td> 0             </td><td> 87            </td><td>40.41143       </td><td>-3.697099      </td></tr>\n",
       "\t<tr><th scope=row>14772</th><td>Madrid         </td><td>Entire home/apt</td><td>Cortes         </td><td> 4             </td><td>2              </td><td>2              </td><td>2              </td><td>127            </td><td>NA             </td><td>4              </td><td>35             </td><td> 93            </td><td>40.41352       </td><td>-3.696828      </td></tr>\n",
       "\t<tr><th scope=row>14773</th><td>Madrid         </td><td>Entire home/apt</td><td>Centro         </td><td> 4             </td><td>1              </td><td>1              </td><td>1              </td><td> 70            </td><td>NA             </td><td>1              </td><td> 0             </td><td> NA            </td><td>40.41267       </td><td>-3.699217      </td></tr>\n",
       "\t<tr><th scope=row>14774</th><td>Madrid         </td><td>Entire home/apt</td><td>               </td><td> 4             </td><td>1              </td><td>1              </td><td>1              </td><td> 80            </td><td>NA             </td><td>2              </td><td> 5             </td><td> 98            </td><td>40.41187       </td><td>-3.697796      </td></tr>\n",
       "\t<tr><th scope=row>14776</th><td>Madrid         </td><td>Entire home/apt</td><td>Cortes         </td><td> 4             </td><td>1              </td><td>1              </td><td>3              </td><td> 80            </td><td>NA             </td><td>2              </td><td> 9             </td><td> 95            </td><td>40.41293       </td><td>-3.695167      </td></tr>\n",
       "\t<tr><th scope=row>14778</th><td>Madrid         </td><td>Entire home/apt</td><td>               </td><td> 4             </td><td>1              </td><td>1              </td><td>2              </td><td> 70            </td><td>NA             </td><td>2              </td><td>10             </td><td> 94            </td><td>40.41412       </td><td>-3.697248      </td></tr>\n",
       "\t<tr><th scope=row>14779</th><td>Madrid         </td><td>Entire home/apt</td><td>               </td><td> 6             </td><td>1              </td><td>2              </td><td>4              </td><td> 89            </td><td>NA             </td><td>2              </td><td>10             </td><td> 96            </td><td>40.41411       </td><td>-3.701141      </td></tr>\n",
       "</tbody>\n",
       "</table>\n"
      ],
      "text/latex": [
       "\\begin{tabular}{r|llllllllllllll}\n",
       "  & City & Room.Type & Neighbourhood & Accommodates & Bathrooms & Bedrooms & Beds & Price & Square.Feet & Guests.Included & Extra.People & Review.Scores.Rating & Latitude & Longitude\\\\\n",
       "\\hline\n",
       "\t1 & Madrid          & Entire home/apt &                 &  2              & 1.0             & 0               &  1              &  50             & NA              & 2               & 15              &  96             & 40.40745        & -3.707995      \\\\\n",
       "\t2 & Madrid          & Entire home/apt &                 &  4              & 1.0             & 1               &  2              &  50             & NA              & 2               & 25              &  81             & 40.40832        & -3.705006      \\\\\n",
       "\t3 & Madrid          & Entire home/apt &                 &  4              & 1.5             & 1               &  2              &  77             & NA              & 1               &  0              &  89             & 40.41372        & -3.706823      \\\\\n",
       "\t4 & Madrid          & Entire home/apt & Embajadores     &  2              & 1.0             & 1               &  2              &  50             & NA              & 1               & 20              &  93             & 40.41126        & -3.697305      \\\\\n",
       "\t5 & Madrid          & Entire home/apt & Embajadores     &  5              & 1.0             & 2               &  4              &  95             & NA              & 4               &  0              &  97             & 40.41256        & -3.701155      \\\\\n",
       "\t6 & Madrid          & Entire home/apt & La Latina       &  4              & 1.0             & 1               &  2              &  69             & NA              & 2               & 18              &  91             & 40.40791        & -3.705095      \\\\\n",
       "\t7 & Madrid          & Entire home/apt &                 &  2              & 1.0             & 1               &  1              &  70             & NA              & 1               &  0              & 100             & 40.40898        & -3.698252      \\\\\n",
       "\t9 & Madrid          & Entire home/apt & Embajadores     &  4              & 1.0             & 1               &  2              &  57             & NA              & 2               &  8              &  98             & 40.41162        & -3.703281      \\\\\n",
       "\t10 & Madrid          & Entire home/apt & La Latina       &  2              & 1.0             & 1               &  1              &  59             & NA              & 1               &  0              &  95             & 40.40734        & -3.707019      \\\\\n",
       "\t11 & Madrid          & Entire home/apt &                 &  8              & 1.5             & 4               &  5              & 160             & NA              & 4               & 15              &  98             & 40.41056        & -3.706429      \\\\\n",
       "\t13 & Madrid          & Entire home/apt &                 &  2              & 1.0             & 1               &  2              &  70             & NA              & 1               &  0              &  NA             & 40.41286        & -3.703050      \\\\\n",
       "\t14 & Madrid          & Entire home/apt &                 &  7              & 2.0             & 3               &  5              & 150             & NA              & 4               & 25              &  97             & 40.41359        & -3.703170      \\\\\n",
       "\t15 & Madrid          & Entire home/apt & La Latina       & 14              & 2.0             & 3               & 14              & 120             & NA              & 2               & 18              &  92             & 40.40908        & -3.704744      \\\\\n",
       "\t16 & Madrid          & Entire home/apt &                 &  2              & 1.0             & 1               &  2              &  45             & NA              & 1               &  8              &  95             & 40.40553        & -3.702378      \\\\\n",
       "\t21 & Madrid          & Entire home/apt & La Latina       &  2              & 1.0             & 1               &  1              &  89             & NA              & 1               & 10              &  98             & 40.41007        & -3.710624      \\\\\n",
       "\t22 & Madrid          & Entire home/apt & Palacio         &  5              & 3.0             & 3               &  3              & 192             & NA              & 2               & 12              &  80             & 40.42017        & -3.712629      \\\\\n",
       "\t23 & Madrid          & Entire home/apt & La Latina       &  4              & 1.0             & 1               &  1              & 100             & NA              & 2               & 12              &  NA             & 40.40990        & -3.710948      \\\\\n",
       "\t24 & Madrid          & Entire home/apt &                 &  4              & 1.0             & 2               &  3              &  70             & NA              & 2               & 15              &  88             & 40.41179        & -3.709708      \\\\\n",
       "\t26 & Madrid          & Entire home/apt & Palacio         &  5              & 2.0             & 2               &  2              & 100             & NA              & 2               & 15              &  95             & 40.42156        & -3.709848      \\\\\n",
       "\t28 & Madrid          & Entire home/apt & La Latina       &  4              & 2.0             & 2               &  3              & 160             & NA              & 1               &  0              &  93             & 40.41173        & -3.712662      \\\\\n",
       "\t29 & Madrid          & Entire home/apt & Palacio         &  4              & 1.0             & 1               &  2              &  80             & NA              & 2               &  0              &  88             & 40.42099        & -3.710402      \\\\\n",
       "\t30 & Madrid          & Entire home/apt & Palacio         &  3              & 1.0             & 1               &  1              &  68             & NA              & 2               &  5              &  83             & 40.41203        & -3.715779      \\\\\n",
       "\t31 & Madrid          & Entire home/apt & Palacio         &  6              & 1.0             & 2               &  2              &  80             & NA              & 4               & 25              &  95             & 40.41512        & -3.710294      \\\\\n",
       "\t32 & Madrid          & Entire home/apt &                 &  2              & 1.0             & 1               &  1              &  60             & NA              & 1               &  0              &  NA             & 40.41127        & -3.711598      \\\\\n",
       "\t35 & Madrid          & Entire home/apt & Embajadores     &  3              & 1.0             & 1               &  1              &  50             & NA              & 2               & 20              &  89             & 40.41205        & -3.701022      \\\\\n",
       "\t37 & Madrid          & Entire home/apt &                 &  2              & 1.0             & 1               &  1              &  62             & NA              & 1               &  0              &  NA             & 40.40960        & -3.695018      \\\\\n",
       "\t38 & Madrid          & Entire home/apt & Embajadores     &  3              & 1.0             & 2               &  2              &  50             & NA              & 1               & 10              &  93             & 40.40581        & -3.700252      \\\\\n",
       "\t40 & Madrid          & Entire home/apt &                 &  4              & 1.0             & 1               &  2              &  47             & NA              & 2               & 10              &  95             & 40.40765        & -3.699041      \\\\\n",
       "\t42 & Madrid          & Entire home/apt & La Latina       &  3              & 1.0             & 1               &  2              &  75             & NA              & 2               & 12              & 100             & 40.41087        & -3.706967      \\\\\n",
       "\t44 & Madrid          & Entire home/apt & Embajadores     &  5              & 1.0             & 1               &  3              &  75             & NA              & 2               & 15              &  95             & 40.41180        & -3.703943      \\\\\n",
       "\t... & ... & ... & ... & ... & ... & ... & ... & ... & ... & ... & ... & ... & ... & ...\\\\\n",
       "\t14738 & Madrid          & Entire home/apt &                 &  3              & 1               & 1               & 2               &  50             & NA              & 2               &  6              &  86             & 40.40977        & -3.697760      \\\\\n",
       "\t14740 & Madrid          & Entire home/apt & La Latina       &  4              & 1               & 2               & 3               &  95             & NA              & 4               & 20              & 100             & 40.41036        & -3.705118      \\\\\n",
       "\t14743 & Madrid          & Entire home/apt & Cortes          &  2              & 1               & 0               & 2               &  89             & NA              & 1               &  0              &  NA             & 40.41118        & -3.693730      \\\\\n",
       "\t14745 & Madrid          & Entire home/apt & Cortes          &  4              & 1               & 1               & 2               &  49             & NA              & 2               & 20              &  88             & 40.41228        & -3.696911      \\\\\n",
       "\t14746 & Madrid          & Entire home/apt & Cortes          &  4              & 1               & 1               & 2               &  65             & NA              & 2               & 10              &  91             & 40.41232        & -3.695173      \\\\\n",
       "\t14747 & Madrid          & Entire home/apt & Cortes          &  5              & 2               & 2               & 3               & 145             & NA              & 1               &  0              & 100             & 40.41373        & -3.697207      \\\\\n",
       "\t14748 & Madrid          & Entire home/apt & Cortes          &  4              & 1               & 2               & 3               &  58             & NA              & 2               & 13              &  87             & 40.41336        & -3.694922      \\\\\n",
       "\t14749 & Madrid          & Entire home/apt &                 &  4              & 1               & 1               & 2               &  69             & NA              & 2               & 15              &  95             & 40.41648        & -3.699882      \\\\\n",
       "\t14751 & Madrid          & Entire home/apt &                 &  4              & 1               & 1               & 2               &  40             & NA              & 2               & 10              &  87             & 40.42503        & -3.699875      \\\\\n",
       "\t14752 & Madrid          & Entire home/apt & Justicia        &  2              & 1               & 1               & 1               &  79             & NA              & 2               & 29              &  94             & 40.42679        & -3.697220      \\\\\n",
       "\t14753 & Madrid          & Entire home/apt & Justicia        &  4              & 1               & 2               & 2               &  69             & NA              & 2               & 15              &  93             & 40.42176        & -3.699134      \\\\\n",
       "\t14754 & Madrid          & Entire home/apt & Justicia        &  4              & 1               & 2               & 2               &  50             & NA              & 1               & 25              &  83             & 40.42385        & -3.698944      \\\\\n",
       "\t14755 & Madrid          & Entire home/apt & Justicia        & 12              & 3               & 4               & 8               & 250             & NA              & 6               & 35              &  97             & 40.42510        & -3.699414      \\\\\n",
       "\t14757 & Madrid          & Entire home/apt & Justicia        &  4              & 1               & 0               & 2               &  65             & NA              & 1               & 15              &  97             & 40.42680        & -3.696384      \\\\\n",
       "\t14759 & Madrid          & Entire home/apt & Justicia        &  2              & 1               & 0               & 1               &  74             & NA              & 1               &  0              &  93             & 40.42741        & -3.699927      \\\\\n",
       "\t14760 & Madrid          & Entire home/apt & Justicia        &  2              & 1               & 1               & 1               &  50             & NA              & 1               &  0              &  95             & 40.42449        & -3.698675      \\\\\n",
       "\t14762 & Madrid          & Entire home/apt & Cortes          &  4              & 1               & 1               & 2               &  65             & NA              & 2               & 10              & 100             & 40.41141        & -3.696039      \\\\\n",
       "\t14763 & Madrid          & Entire home/apt & Cortes          &  4              & 1               & 1               & 1               &  80             & NA              & 1               &  0              &  90             & 40.41269        & -3.695939      \\\\\n",
       "\t14764 & Madrid          & Entire home/apt &                 &  2              & 2               & 1               & 1               &  55             & NA              & 1               &  0              &  97             & 40.41580        & -3.695896      \\\\\n",
       "\t14766 & Madrid          & Entire home/apt &                 &  4              & 1               & 1               & 1               &  55             & NA              & 2               & 15              &  86             & 40.41559        & -3.701471      \\\\\n",
       "\t14767 & Madrid          & Entire home/apt & Cortes          &  4              & 1               & 0               & 2               &  65             & NA              & 2               & 15              &  98             & 40.41875        & -3.698898      \\\\\n",
       "\t14768 & Madrid          & Entire home/apt & Cortes          &  9              & 2               & 2               & 6               &  80             & NA              & 2               & 10              &  98             & 40.41632        & -3.700375      \\\\\n",
       "\t14769 & Madrid          & Entire home/apt & Cortes          &  3              & 1               & 1               & 3               & 200             & NA              & 1               &  0              &  NA             & 40.41428        & -3.702910      \\\\\n",
       "\t14770 & Madrid          & Entire home/apt & Embajadores     &  4              & 1               & 1               & 2               & 150             & NA              & 1               &  0              &  87             & 40.41143        & -3.697099      \\\\\n",
       "\t14772 & Madrid          & Entire home/apt & Cortes          &  4              & 2               & 2               & 2               & 127             & NA              & 4               & 35              &  93             & 40.41352        & -3.696828      \\\\\n",
       "\t14773 & Madrid          & Entire home/apt & Centro          &  4              & 1               & 1               & 1               &  70             & NA              & 1               &  0              &  NA             & 40.41267        & -3.699217      \\\\\n",
       "\t14774 & Madrid          & Entire home/apt &                 &  4              & 1               & 1               & 1               &  80             & NA              & 2               &  5              &  98             & 40.41187        & -3.697796      \\\\\n",
       "\t14776 & Madrid          & Entire home/apt & Cortes          &  4              & 1               & 1               & 3               &  80             & NA              & 2               &  9              &  95             & 40.41293        & -3.695167      \\\\\n",
       "\t14778 & Madrid          & Entire home/apt &                 &  4              & 1               & 1               & 2               &  70             & NA              & 2               & 10              &  94             & 40.41412        & -3.697248      \\\\\n",
       "\t14779 & Madrid          & Entire home/apt &                 &  6              & 1               & 2               & 4               &  89             & NA              & 2               & 10              &  96             & 40.41411        & -3.701141      \\\\\n",
       "\\end{tabular}\n"
      ],
      "text/markdown": [
       "\n",
       "| <!--/--> | City | Room.Type | Neighbourhood | Accommodates | Bathrooms | Bedrooms | Beds | Price | Square.Feet | Guests.Included | Extra.People | Review.Scores.Rating | Latitude | Longitude |\n",
       "|---|---|---|---|---|---|---|---|---|---|---|---|---|---|---|\n",
       "| 1 | Madrid          | Entire home/apt |                 |  2              | 1.0             | 0               |  1              |  50             | NA              | 2               | 15              |  96             | 40.40745        | -3.707995       |\n",
       "| 2 | Madrid          | Entire home/apt |                 |  4              | 1.0             | 1               |  2              |  50             | NA              | 2               | 25              |  81             | 40.40832        | -3.705006       |\n",
       "| 3 | Madrid          | Entire home/apt |                 |  4              | 1.5             | 1               |  2              |  77             | NA              | 1               |  0              |  89             | 40.41372        | -3.706823       |\n",
       "| 4 | Madrid          | Entire home/apt | Embajadores     |  2              | 1.0             | 1               |  2              |  50             | NA              | 1               | 20              |  93             | 40.41126        | -3.697305       |\n",
       "| 5 | Madrid          | Entire home/apt | Embajadores     |  5              | 1.0             | 2               |  4              |  95             | NA              | 4               |  0              |  97             | 40.41256        | -3.701155       |\n",
       "| 6 | Madrid          | Entire home/apt | La Latina       |  4              | 1.0             | 1               |  2              |  69             | NA              | 2               | 18              |  91             | 40.40791        | -3.705095       |\n",
       "| 7 | Madrid          | Entire home/apt |                 |  2              | 1.0             | 1               |  1              |  70             | NA              | 1               |  0              | 100             | 40.40898        | -3.698252       |\n",
       "| 9 | Madrid          | Entire home/apt | Embajadores     |  4              | 1.0             | 1               |  2              |  57             | NA              | 2               |  8              |  98             | 40.41162        | -3.703281       |\n",
       "| 10 | Madrid          | Entire home/apt | La Latina       |  2              | 1.0             | 1               |  1              |  59             | NA              | 1               |  0              |  95             | 40.40734        | -3.707019       |\n",
       "| 11 | Madrid          | Entire home/apt |                 |  8              | 1.5             | 4               |  5              | 160             | NA              | 4               | 15              |  98             | 40.41056        | -3.706429       |\n",
       "| 13 | Madrid          | Entire home/apt |                 |  2              | 1.0             | 1               |  2              |  70             | NA              | 1               |  0              |  NA             | 40.41286        | -3.703050       |\n",
       "| 14 | Madrid          | Entire home/apt |                 |  7              | 2.0             | 3               |  5              | 150             | NA              | 4               | 25              |  97             | 40.41359        | -3.703170       |\n",
       "| 15 | Madrid          | Entire home/apt | La Latina       | 14              | 2.0             | 3               | 14              | 120             | NA              | 2               | 18              |  92             | 40.40908        | -3.704744       |\n",
       "| 16 | Madrid          | Entire home/apt |                 |  2              | 1.0             | 1               |  2              |  45             | NA              | 1               |  8              |  95             | 40.40553        | -3.702378       |\n",
       "| 21 | Madrid          | Entire home/apt | La Latina       |  2              | 1.0             | 1               |  1              |  89             | NA              | 1               | 10              |  98             | 40.41007        | -3.710624       |\n",
       "| 22 | Madrid          | Entire home/apt | Palacio         |  5              | 3.0             | 3               |  3              | 192             | NA              | 2               | 12              |  80             | 40.42017        | -3.712629       |\n",
       "| 23 | Madrid          | Entire home/apt | La Latina       |  4              | 1.0             | 1               |  1              | 100             | NA              | 2               | 12              |  NA             | 40.40990        | -3.710948       |\n",
       "| 24 | Madrid          | Entire home/apt |                 |  4              | 1.0             | 2               |  3              |  70             | NA              | 2               | 15              |  88             | 40.41179        | -3.709708       |\n",
       "| 26 | Madrid          | Entire home/apt | Palacio         |  5              | 2.0             | 2               |  2              | 100             | NA              | 2               | 15              |  95             | 40.42156        | -3.709848       |\n",
       "| 28 | Madrid          | Entire home/apt | La Latina       |  4              | 2.0             | 2               |  3              | 160             | NA              | 1               |  0              |  93             | 40.41173        | -3.712662       |\n",
       "| 29 | Madrid          | Entire home/apt | Palacio         |  4              | 1.0             | 1               |  2              |  80             | NA              | 2               |  0              |  88             | 40.42099        | -3.710402       |\n",
       "| 30 | Madrid          | Entire home/apt | Palacio         |  3              | 1.0             | 1               |  1              |  68             | NA              | 2               |  5              |  83             | 40.41203        | -3.715779       |\n",
       "| 31 | Madrid          | Entire home/apt | Palacio         |  6              | 1.0             | 2               |  2              |  80             | NA              | 4               | 25              |  95             | 40.41512        | -3.710294       |\n",
       "| 32 | Madrid          | Entire home/apt |                 |  2              | 1.0             | 1               |  1              |  60             | NA              | 1               |  0              |  NA             | 40.41127        | -3.711598       |\n",
       "| 35 | Madrid          | Entire home/apt | Embajadores     |  3              | 1.0             | 1               |  1              |  50             | NA              | 2               | 20              |  89             | 40.41205        | -3.701022       |\n",
       "| 37 | Madrid          | Entire home/apt |                 |  2              | 1.0             | 1               |  1              |  62             | NA              | 1               |  0              |  NA             | 40.40960        | -3.695018       |\n",
       "| 38 | Madrid          | Entire home/apt | Embajadores     |  3              | 1.0             | 2               |  2              |  50             | NA              | 1               | 10              |  93             | 40.40581        | -3.700252       |\n",
       "| 40 | Madrid          | Entire home/apt |                 |  4              | 1.0             | 1               |  2              |  47             | NA              | 2               | 10              |  95             | 40.40765        | -3.699041       |\n",
       "| 42 | Madrid          | Entire home/apt | La Latina       |  3              | 1.0             | 1               |  2              |  75             | NA              | 2               | 12              | 100             | 40.41087        | -3.706967       |\n",
       "| 44 | Madrid          | Entire home/apt | Embajadores     |  5              | 1.0             | 1               |  3              |  75             | NA              | 2               | 15              |  95             | 40.41180        | -3.703943       |\n",
       "| ... | ... | ... | ... | ... | ... | ... | ... | ... | ... | ... | ... | ... | ... | ... |\n",
       "| 14738 | Madrid          | Entire home/apt |                 |  3              | 1               | 1               | 2               |  50             | NA              | 2               |  6              |  86             | 40.40977        | -3.697760       |\n",
       "| 14740 | Madrid          | Entire home/apt | La Latina       |  4              | 1               | 2               | 3               |  95             | NA              | 4               | 20              | 100             | 40.41036        | -3.705118       |\n",
       "| 14743 | Madrid          | Entire home/apt | Cortes          |  2              | 1               | 0               | 2               |  89             | NA              | 1               |  0              |  NA             | 40.41118        | -3.693730       |\n",
       "| 14745 | Madrid          | Entire home/apt | Cortes          |  4              | 1               | 1               | 2               |  49             | NA              | 2               | 20              |  88             | 40.41228        | -3.696911       |\n",
       "| 14746 | Madrid          | Entire home/apt | Cortes          |  4              | 1               | 1               | 2               |  65             | NA              | 2               | 10              |  91             | 40.41232        | -3.695173       |\n",
       "| 14747 | Madrid          | Entire home/apt | Cortes          |  5              | 2               | 2               | 3               | 145             | NA              | 1               |  0              | 100             | 40.41373        | -3.697207       |\n",
       "| 14748 | Madrid          | Entire home/apt | Cortes          |  4              | 1               | 2               | 3               |  58             | NA              | 2               | 13              |  87             | 40.41336        | -3.694922       |\n",
       "| 14749 | Madrid          | Entire home/apt |                 |  4              | 1               | 1               | 2               |  69             | NA              | 2               | 15              |  95             | 40.41648        | -3.699882       |\n",
       "| 14751 | Madrid          | Entire home/apt |                 |  4              | 1               | 1               | 2               |  40             | NA              | 2               | 10              |  87             | 40.42503        | -3.699875       |\n",
       "| 14752 | Madrid          | Entire home/apt | Justicia        |  2              | 1               | 1               | 1               |  79             | NA              | 2               | 29              |  94             | 40.42679        | -3.697220       |\n",
       "| 14753 | Madrid          | Entire home/apt | Justicia        |  4              | 1               | 2               | 2               |  69             | NA              | 2               | 15              |  93             | 40.42176        | -3.699134       |\n",
       "| 14754 | Madrid          | Entire home/apt | Justicia        |  4              | 1               | 2               | 2               |  50             | NA              | 1               | 25              |  83             | 40.42385        | -3.698944       |\n",
       "| 14755 | Madrid          | Entire home/apt | Justicia        | 12              | 3               | 4               | 8               | 250             | NA              | 6               | 35              |  97             | 40.42510        | -3.699414       |\n",
       "| 14757 | Madrid          | Entire home/apt | Justicia        |  4              | 1               | 0               | 2               |  65             | NA              | 1               | 15              |  97             | 40.42680        | -3.696384       |\n",
       "| 14759 | Madrid          | Entire home/apt | Justicia        |  2              | 1               | 0               | 1               |  74             | NA              | 1               |  0              |  93             | 40.42741        | -3.699927       |\n",
       "| 14760 | Madrid          | Entire home/apt | Justicia        |  2              | 1               | 1               | 1               |  50             | NA              | 1               |  0              |  95             | 40.42449        | -3.698675       |\n",
       "| 14762 | Madrid          | Entire home/apt | Cortes          |  4              | 1               | 1               | 2               |  65             | NA              | 2               | 10              | 100             | 40.41141        | -3.696039       |\n",
       "| 14763 | Madrid          | Entire home/apt | Cortes          |  4              | 1               | 1               | 1               |  80             | NA              | 1               |  0              |  90             | 40.41269        | -3.695939       |\n",
       "| 14764 | Madrid          | Entire home/apt |                 |  2              | 2               | 1               | 1               |  55             | NA              | 1               |  0              |  97             | 40.41580        | -3.695896       |\n",
       "| 14766 | Madrid          | Entire home/apt |                 |  4              | 1               | 1               | 1               |  55             | NA              | 2               | 15              |  86             | 40.41559        | -3.701471       |\n",
       "| 14767 | Madrid          | Entire home/apt | Cortes          |  4              | 1               | 0               | 2               |  65             | NA              | 2               | 15              |  98             | 40.41875        | -3.698898       |\n",
       "| 14768 | Madrid          | Entire home/apt | Cortes          |  9              | 2               | 2               | 6               |  80             | NA              | 2               | 10              |  98             | 40.41632        | -3.700375       |\n",
       "| 14769 | Madrid          | Entire home/apt | Cortes          |  3              | 1               | 1               | 3               | 200             | NA              | 1               |  0              |  NA             | 40.41428        | -3.702910       |\n",
       "| 14770 | Madrid          | Entire home/apt | Embajadores     |  4              | 1               | 1               | 2               | 150             | NA              | 1               |  0              |  87             | 40.41143        | -3.697099       |\n",
       "| 14772 | Madrid          | Entire home/apt | Cortes          |  4              | 2               | 2               | 2               | 127             | NA              | 4               | 35              |  93             | 40.41352        | -3.696828       |\n",
       "| 14773 | Madrid          | Entire home/apt | Centro          |  4              | 1               | 1               | 1               |  70             | NA              | 1               |  0              |  NA             | 40.41267        | -3.699217       |\n",
       "| 14774 | Madrid          | Entire home/apt |                 |  4              | 1               | 1               | 1               |  80             | NA              | 2               |  5              |  98             | 40.41187        | -3.697796       |\n",
       "| 14776 | Madrid          | Entire home/apt | Cortes          |  4              | 1               | 1               | 3               |  80             | NA              | 2               |  9              |  95             | 40.41293        | -3.695167       |\n",
       "| 14778 | Madrid          | Entire home/apt |                 |  4              | 1               | 1               | 2               |  70             | NA              | 2               | 10              |  94             | 40.41412        | -3.697248       |\n",
       "| 14779 | Madrid          | Entire home/apt |                 |  6              | 1               | 2               | 4               |  89             | NA              | 2               | 10              |  96             | 40.41411        | -3.701141       |\n",
       "\n"
      ],
      "text/plain": [
       "      City   Room.Type       Neighbourhood Accommodates Bathrooms Bedrooms Beds\n",
       "1     Madrid Entire home/apt                2           1.0       0         1  \n",
       "2     Madrid Entire home/apt                4           1.0       1         2  \n",
       "3     Madrid Entire home/apt                4           1.5       1         2  \n",
       "4     Madrid Entire home/apt Embajadores    2           1.0       1         2  \n",
       "5     Madrid Entire home/apt Embajadores    5           1.0       2         4  \n",
       "6     Madrid Entire home/apt La Latina      4           1.0       1         2  \n",
       "7     Madrid Entire home/apt                2           1.0       1         1  \n",
       "9     Madrid Entire home/apt Embajadores    4           1.0       1         2  \n",
       "10    Madrid Entire home/apt La Latina      2           1.0       1         1  \n",
       "11    Madrid Entire home/apt                8           1.5       4         5  \n",
       "13    Madrid Entire home/apt                2           1.0       1         2  \n",
       "14    Madrid Entire home/apt                7           2.0       3         5  \n",
       "15    Madrid Entire home/apt La Latina     14           2.0       3        14  \n",
       "16    Madrid Entire home/apt                2           1.0       1         2  \n",
       "21    Madrid Entire home/apt La Latina      2           1.0       1         1  \n",
       "22    Madrid Entire home/apt Palacio        5           3.0       3         3  \n",
       "23    Madrid Entire home/apt La Latina      4           1.0       1         1  \n",
       "24    Madrid Entire home/apt                4           1.0       2         3  \n",
       "26    Madrid Entire home/apt Palacio        5           2.0       2         2  \n",
       "28    Madrid Entire home/apt La Latina      4           2.0       2         3  \n",
       "29    Madrid Entire home/apt Palacio        4           1.0       1         2  \n",
       "30    Madrid Entire home/apt Palacio        3           1.0       1         1  \n",
       "31    Madrid Entire home/apt Palacio        6           1.0       2         2  \n",
       "32    Madrid Entire home/apt                2           1.0       1         1  \n",
       "35    Madrid Entire home/apt Embajadores    3           1.0       1         1  \n",
       "37    Madrid Entire home/apt                2           1.0       1         1  \n",
       "38    Madrid Entire home/apt Embajadores    3           1.0       2         2  \n",
       "40    Madrid Entire home/apt                4           1.0       1         2  \n",
       "42    Madrid Entire home/apt La Latina      3           1.0       1         2  \n",
       "44    Madrid Entire home/apt Embajadores    5           1.0       1         3  \n",
       "...   ...    ...             ...           ...          ...       ...      ... \n",
       "14738 Madrid Entire home/apt                3           1         1        2   \n",
       "14740 Madrid Entire home/apt La Latina      4           1         2        3   \n",
       "14743 Madrid Entire home/apt Cortes         2           1         0        2   \n",
       "14745 Madrid Entire home/apt Cortes         4           1         1        2   \n",
       "14746 Madrid Entire home/apt Cortes         4           1         1        2   \n",
       "14747 Madrid Entire home/apt Cortes         5           2         2        3   \n",
       "14748 Madrid Entire home/apt Cortes         4           1         2        3   \n",
       "14749 Madrid Entire home/apt                4           1         1        2   \n",
       "14751 Madrid Entire home/apt                4           1         1        2   \n",
       "14752 Madrid Entire home/apt Justicia       2           1         1        1   \n",
       "14753 Madrid Entire home/apt Justicia       4           1         2        2   \n",
       "14754 Madrid Entire home/apt Justicia       4           1         2        2   \n",
       "14755 Madrid Entire home/apt Justicia      12           3         4        8   \n",
       "14757 Madrid Entire home/apt Justicia       4           1         0        2   \n",
       "14759 Madrid Entire home/apt Justicia       2           1         0        1   \n",
       "14760 Madrid Entire home/apt Justicia       2           1         1        1   \n",
       "14762 Madrid Entire home/apt Cortes         4           1         1        2   \n",
       "14763 Madrid Entire home/apt Cortes         4           1         1        1   \n",
       "14764 Madrid Entire home/apt                2           2         1        1   \n",
       "14766 Madrid Entire home/apt                4           1         1        1   \n",
       "14767 Madrid Entire home/apt Cortes         4           1         0        2   \n",
       "14768 Madrid Entire home/apt Cortes         9           2         2        6   \n",
       "14769 Madrid Entire home/apt Cortes         3           1         1        3   \n",
       "14770 Madrid Entire home/apt Embajadores    4           1         1        2   \n",
       "14772 Madrid Entire home/apt Cortes         4           2         2        2   \n",
       "14773 Madrid Entire home/apt Centro         4           1         1        1   \n",
       "14774 Madrid Entire home/apt                4           1         1        1   \n",
       "14776 Madrid Entire home/apt Cortes         4           1         1        3   \n",
       "14778 Madrid Entire home/apt                4           1         1        2   \n",
       "14779 Madrid Entire home/apt                6           1         2        4   \n",
       "      Price Square.Feet Guests.Included Extra.People Review.Scores.Rating\n",
       "1      50   NA          2               15            96                 \n",
       "2      50   NA          2               25            81                 \n",
       "3      77   NA          1                0            89                 \n",
       "4      50   NA          1               20            93                 \n",
       "5      95   NA          4                0            97                 \n",
       "6      69   NA          2               18            91                 \n",
       "7      70   NA          1                0           100                 \n",
       "9      57   NA          2                8            98                 \n",
       "10     59   NA          1                0            95                 \n",
       "11    160   NA          4               15            98                 \n",
       "13     70   NA          1                0            NA                 \n",
       "14    150   NA          4               25            97                 \n",
       "15    120   NA          2               18            92                 \n",
       "16     45   NA          1                8            95                 \n",
       "21     89   NA          1               10            98                 \n",
       "22    192   NA          2               12            80                 \n",
       "23    100   NA          2               12            NA                 \n",
       "24     70   NA          2               15            88                 \n",
       "26    100   NA          2               15            95                 \n",
       "28    160   NA          1                0            93                 \n",
       "29     80   NA          2                0            88                 \n",
       "30     68   NA          2                5            83                 \n",
       "31     80   NA          4               25            95                 \n",
       "32     60   NA          1                0            NA                 \n",
       "35     50   NA          2               20            89                 \n",
       "37     62   NA          1                0            NA                 \n",
       "38     50   NA          1               10            93                 \n",
       "40     47   NA          2               10            95                 \n",
       "42     75   NA          2               12           100                 \n",
       "44     75   NA          2               15            95                 \n",
       "...   ...   ...         ...             ...          ...                 \n",
       "14738  50   NA          2                6            86                 \n",
       "14740  95   NA          4               20           100                 \n",
       "14743  89   NA          1                0            NA                 \n",
       "14745  49   NA          2               20            88                 \n",
       "14746  65   NA          2               10            91                 \n",
       "14747 145   NA          1                0           100                 \n",
       "14748  58   NA          2               13            87                 \n",
       "14749  69   NA          2               15            95                 \n",
       "14751  40   NA          2               10            87                 \n",
       "14752  79   NA          2               29            94                 \n",
       "14753  69   NA          2               15            93                 \n",
       "14754  50   NA          1               25            83                 \n",
       "14755 250   NA          6               35            97                 \n",
       "14757  65   NA          1               15            97                 \n",
       "14759  74   NA          1                0            93                 \n",
       "14760  50   NA          1                0            95                 \n",
       "14762  65   NA          2               10           100                 \n",
       "14763  80   NA          1                0            90                 \n",
       "14764  55   NA          1                0            97                 \n",
       "14766  55   NA          2               15            86                 \n",
       "14767  65   NA          2               15            98                 \n",
       "14768  80   NA          2               10            98                 \n",
       "14769 200   NA          1                0            NA                 \n",
       "14770 150   NA          1                0            87                 \n",
       "14772 127   NA          4               35            93                 \n",
       "14773  70   NA          1                0            NA                 \n",
       "14774  80   NA          2                5            98                 \n",
       "14776  80   NA          2                9            95                 \n",
       "14778  70   NA          2               10            94                 \n",
       "14779  89   NA          2               10            96                 \n",
       "      Latitude Longitude\n",
       "1     40.40745 -3.707995\n",
       "2     40.40832 -3.705006\n",
       "3     40.41372 -3.706823\n",
       "4     40.41126 -3.697305\n",
       "5     40.41256 -3.701155\n",
       "6     40.40791 -3.705095\n",
       "7     40.40898 -3.698252\n",
       "9     40.41162 -3.703281\n",
       "10    40.40734 -3.707019\n",
       "11    40.41056 -3.706429\n",
       "13    40.41286 -3.703050\n",
       "14    40.41359 -3.703170\n",
       "15    40.40908 -3.704744\n",
       "16    40.40553 -3.702378\n",
       "21    40.41007 -3.710624\n",
       "22    40.42017 -3.712629\n",
       "23    40.40990 -3.710948\n",
       "24    40.41179 -3.709708\n",
       "26    40.42156 -3.709848\n",
       "28    40.41173 -3.712662\n",
       "29    40.42099 -3.710402\n",
       "30    40.41203 -3.715779\n",
       "31    40.41512 -3.710294\n",
       "32    40.41127 -3.711598\n",
       "35    40.41205 -3.701022\n",
       "37    40.40960 -3.695018\n",
       "38    40.40581 -3.700252\n",
       "40    40.40765 -3.699041\n",
       "42    40.41087 -3.706967\n",
       "44    40.41180 -3.703943\n",
       "...   ...      ...      \n",
       "14738 40.40977 -3.697760\n",
       "14740 40.41036 -3.705118\n",
       "14743 40.41118 -3.693730\n",
       "14745 40.41228 -3.696911\n",
       "14746 40.41232 -3.695173\n",
       "14747 40.41373 -3.697207\n",
       "14748 40.41336 -3.694922\n",
       "14749 40.41648 -3.699882\n",
       "14751 40.42503 -3.699875\n",
       "14752 40.42679 -3.697220\n",
       "14753 40.42176 -3.699134\n",
       "14754 40.42385 -3.698944\n",
       "14755 40.42510 -3.699414\n",
       "14757 40.42680 -3.696384\n",
       "14759 40.42741 -3.699927\n",
       "14760 40.42449 -3.698675\n",
       "14762 40.41141 -3.696039\n",
       "14763 40.41269 -3.695939\n",
       "14764 40.41580 -3.695896\n",
       "14766 40.41559 -3.701471\n",
       "14767 40.41875 -3.698898\n",
       "14768 40.41632 -3.700375\n",
       "14769 40.41428 -3.702910\n",
       "14770 40.41143 -3.697099\n",
       "14772 40.41352 -3.696828\n",
       "14773 40.41267 -3.699217\n",
       "14774 40.41187 -3.697796\n",
       "14776 40.41293 -3.695167\n",
       "14778 40.41412 -3.697248\n",
       "14779 40.41411 -3.701141"
      ]
     },
     "metadata": {},
     "output_type": "display_data"
    }
   ],
   "source": [
    "airbnb1"
   ]
  },
  {
   "cell_type": "code",
   "execution_count": null,
   "metadata": {},
   "outputs": [],
   "source": []
  },
  {
   "cell_type": "markdown",
   "metadata": {},
   "source": [
    "Vamos viendo los barrios que hay, y sacamos del dataset aquellos donde éste no figura, almacenando el resultado en el dataser airbnb2."
   ]
  },
  {
   "cell_type": "code",
   "execution_count": 251,
   "metadata": {},
   "outputs": [
    {
     "data": {
      "text/html": [
       "<ol class=list-inline>\n",
       "\t<li></li>\n",
       "\t<li>Embajadores</li>\n",
       "\t<li>La Latina</li>\n",
       "\t<li>Palacio</li>\n",
       "\t<li>MalasaÃ±a</li>\n",
       "\t<li>Sol</li>\n",
       "\t<li>Acacias</li>\n",
       "\t<li>Palos do Moguer</li>\n",
       "\t<li>Pacifico</li>\n",
       "\t<li>El TrÃ©ntaiseis</li>\n",
       "\t<li>Ibiza</li>\n",
       "\t<li>JerÃ³nimos</li>\n",
       "\t<li>Cortes</li>\n",
       "\t<li>Justicia</li>\n",
       "\t<li>Recoletos</li>\n",
       "\t<li>Goya</li>\n",
       "\t<li>Fuente del Berro</li>\n",
       "\t<li>Guindalera</li>\n",
       "\t<li>Lista</li>\n",
       "\t<li>HispanoamÃ©rica</li>\n",
       "\t<li>Nueva EspaÃ±a</li>\n",
       "\t<li>Castilla</li>\n",
       "\t<li>Cuatro Caminos</li>\n",
       "\t<li>Castillejos</li>\n",
       "\t<li>Valdeacederas</li>\n",
       "\t<li>Gaztambide</li>\n",
       "\t<li>Hortaleza</li>\n",
       "\t<li>Arapiles</li>\n",
       "\t<li>Trafalgar</li>\n",
       "\t<li>Almagro</li>\n",
       "\t<li>Rios Rosas</li>\n",
       "\t<li>Fuencarral-el Pardo</li>\n",
       "\t<li>ArgÃ¼elles</li>\n",
       "\t<li>Villaverde</li>\n",
       "\t<li>Aluche</li>\n",
       "\t<li>TetuÃ¡n</li>\n",
       "\t<li>Usera</li>\n",
       "\t<li>Puente de Vallecas</li>\n",
       "\t<li>Imperial</li>\n",
       "\t<li>La Chopera</li>\n",
       "\t<li>Delicias</li>\n",
       "\t<li>Adelfas</li>\n",
       "\t<li>Estrella</li>\n",
       "\t<li>Centro</li>\n",
       "\t<li>Prosperidad</li>\n",
       "\t<li>Almenara</li>\n",
       "\t<li>Berruguete</li>\n",
       "\t<li>Ciudad Jardin</li>\n",
       "\t<li>Moncloa</li>\n",
       "\t<li>Carabanchel</li>\n",
       "\t<li>Ciudad Lineal</li>\n",
       "\t<li>Villa de Vallecas</li>\n",
       "\t<li>Barajas</li>\n",
       "\t<li>Legazpi</li>\n",
       "\t<li>Retiro</li>\n",
       "\t<li>Castellana</li>\n",
       "\t<li>El Viso</li>\n",
       "\t<li>Bellas Vistas</li>\n",
       "\t<li>Moratalaz</li>\n",
       "\t<li>San Blas</li>\n",
       "\t<li>Vallehermosa</li>\n",
       "\t<li>ChamberÃ­</li>\n",
       "\t<li>Arganzuela</li>\n",
       "\t<li>VicÃ¡lvaro</li>\n",
       "\t<li>Atocha</li>\n",
       "\t<li>Fuencarral-El Pardo</li>\n",
       "</ol>\n",
       "\n",
       "<details>\n",
       "\t<summary style=display:list-item;cursor:pointer>\n",
       "\t\t<strong>Levels</strong>:\n",
       "\t</summary>\n",
       "\t<ol class=list-inline>\n",
       "\t\t<li>''</li>\n",
       "\t\t<li>'Ã\\230sterbro'</li>\n",
       "\t\t<li>'Acacias'</li>\n",
       "\t\t<li>'Acton'</li>\n",
       "\t\t<li>'Adams Morgan'</li>\n",
       "\t\t<li>'Adelfas'</li>\n",
       "\t\t<li>'Agios Nikolaos'</li>\n",
       "\t\t<li>'AlÃ©sia'</li>\n",
       "\t\t<li>'Albert Park'</li>\n",
       "\t\t<li>'Almagro'</li>\n",
       "\t\t<li>'Almenara'</li>\n",
       "\t\t<li>'Alt-Treptow'</li>\n",
       "\t\t<li>'Aluche'</li>\n",
       "\t\t<li>'Arapiles'</li>\n",
       "\t\t<li>'ArgÃ¼elles'</li>\n",
       "\t\t<li>'Arganzuela'</li>\n",
       "\t\t<li>'Astoria'</li>\n",
       "\t\t<li>'Atocha'</li>\n",
       "\t\t<li>'Aurelio'</li>\n",
       "\t\t<li>'Auteuil'</li>\n",
       "\t\t<li>'Balham'</li>\n",
       "\t\t<li>'Ballard'</li>\n",
       "\t\t<li>'Barajas'</li>\n",
       "\t\t<li>'Barney Circle'</li>\n",
       "\t\t<li>'Bastille'</li>\n",
       "\t\t<li>'Batignolles'</li>\n",
       "\t\t<li>'Bedford-Stuyvesant'</li>\n",
       "\t\t<li>'Beguinage-Dixmude'</li>\n",
       "\t\t<li>'Bellas Vistas'</li>\n",
       "\t\t<li>'Berkeley'</li>\n",
       "\t\t<li>'Bernal Heights'</li>\n",
       "\t\t<li>'Berruguete'</li>\n",
       "\t\t<li>'Bethnal Green'</li>\n",
       "\t\t<li>'Beverly Hills'</li>\n",
       "\t\t<li>'Bloomsbury'</li>\n",
       "\t\t<li>'Boerum Hill'</li>\n",
       "\t\t<li>'Bondi'</li>\n",
       "\t\t<li>'Bondi Beach'</li>\n",
       "\t\t<li>'Bondi Junction'</li>\n",
       "\t\t<li>'Borgo'</li>\n",
       "\t\t<li>'Bouldin Creek'</li>\n",
       "\t\t<li>'Bow'</li>\n",
       "\t\t<li>'Brentwood'</li>\n",
       "\t\t<li>'Brixton'</li>\n",
       "\t\t<li>'Broadview'</li>\n",
       "\t\t<li>'Bromley-by-Bow'</li>\n",
       "\t\t<li>'Brunswick'</li>\n",
       "\t\t<li>'Bushwick'</li>\n",
       "\t\t<li>'Buttes-Chaumont - Belleville'</li>\n",
       "\t\t<li>'Camden Town'</li>\n",
       "\t\t<li>'Camp d\\'en Grassot i GrÃ cia Nova'</li>\n",
       "\t\t<li>'Can Baro'</li>\n",
       "\t\t<li>'Cannaregio'</li>\n",
       "\t\t<li>'Capitol Hill'</li>\n",
       "\t\t<li>'Carabanchel'</li>\n",
       "\t\t<li>'Carroll Gardens'</li>\n",
       "\t\t<li>'Castellana'</li>\n",
       "\t\t<li>'Castilla'</li>\n",
       "\t\t<li>'Castillejos'</li>\n",
       "\t\t<li>'Cedarvale Humewood'</li>\n",
       "\t\t<li>'Central Business District'</li>\n",
       "\t\t<li>'Centro'</li>\n",
       "\t\t<li>'ChÃ¢telet - Les Halles - Beaubourg'</li>\n",
       "\t\t<li>'ChamberÃ­'</li>\n",
       "\t\t<li>'Champs-ElysÃ©es'</li>\n",
       "\t\t<li>'Charlottenburg'</li>\n",
       "\t\t<li>'Chausee De Haecht'</li>\n",
       "\t\t<li>'Chelsea'</li>\n",
       "\t\t<li>'Christianshavn'</li>\n",
       "\t\t<li>'City of London'</li>\n",
       "\t\t<li>'City Park West'</li>\n",
       "\t\t<li>'Ciudad Jardin'</li>\n",
       "\t\t<li>'Ciudad Lineal'</li>\n",
       "\t\t<li>'Civic Center'</li>\n",
       "\t\t<li>'Clinton Hill'</li>\n",
       "\t\t<li>'Colonna'</li>\n",
       "\t\t<li>'Commerce - Dupleix'</li>\n",
       "\t\t<li>'Cortes'</li>\n",
       "\t\t<li>'Crestwood'</li>\n",
       "\t\t<li>'Crown Heights'</li>\n",
       "\t\t<li>'Crystal Palace'</li>\n",
       "\t\t<li>'Cuatro Caminos'</li>\n",
       "\t\t<li>'DÃ¶bling'</li>\n",
       "\t\t<li>'Dalston'</li>\n",
       "\t\t<li>'Dansaert'</li>\n",
       "\t\t<li>'Darlinghurst'</li>\n",
       "\t\t<li>'De Pijp'</li>\n",
       "\t\t<li>'Delicias'</li>\n",
       "\t\t<li>'Ditmars / Steinway'</li>\n",
       "\t\t<li>'Docklands'</li>\n",
       "\t\t<li>'Downtown'</li>\n",
       "\t\t<li>'Downtown Toronto'</li>\n",
       "\t\t<li>'Dreta de l\\'Eixample'</li>\n",
       "\t\t<li>'Dupont Circle'</li>\n",
       "\t\t<li>'Earls Court'</li>\n",
       "\t\t<li>'East and West Riverside'</li>\n",
       "\t\t<li>'East Harlem'</li>\n",
       "\t\t<li>'East Village'</li>\n",
       "\t\t<li>'Eckington'</li>\n",
       "\t\t<li>'El Born'</li>\n",
       "\t\t<li>'El Camp de l\\'Arpa del Clot'</li>\n",
       "\t\t<li>'El Clot'</li>\n",
       "\t\t<li>'el Fort Pienc'</li>\n",
       "\t\t<li>'El GÃ²tic'</li>\n",
       "\t\t<li>'El Poble-sec'</li>\n",
       "\t\t<li>'El Putget i FarrÃ³'</li>\n",
       "\t\t<li>'El Raval'</li>\n",
       "\t\t<li>'El TrÃ©ntaiseis'</li>\n",
       "\t\t<li>'El Viso'</li>\n",
       "\t\t<li>'Embajadores'</li>\n",
       "\t\t<li>'Esquilino'</li>\n",
       "\t\t<li>'Estrella'</li>\n",
       "\t\t<li>'Etterbeek'</li>\n",
       "\t\t<li>'Excelsior'</li>\n",
       "\t\t<li>'Fairlawn'</li>\n",
       "\t\t<li>'Fairview'</li>\n",
       "\t\t<li>'Flatbush'</li>\n",
       "\t\t<li>'Flatiron District'</li>\n",
       "\t\t<li>'Forest'</li>\n",
       "\t\t<li>'Forest Hill'</li>\n",
       "\t\t<li>'Fort Greene'</li>\n",
       "\t\t<li>'Frederik Hendrikbuurt'</li>\n",
       "\t\t<li>'Frederiksberg'</li>\n",
       "\t\t<li>'Friedrichshain'</li>\n",
       "\t\t<li>'Fuencarral-el Pardo'</li>\n",
       "\t\t<li>'Fuencarral-El Pardo'</li>\n",
       "\t\t<li>'Fuente del Berro'</li>\n",
       "\t\t<li>'Garbatella'</li>\n",
       "\t\t<li>'Gare de Lyon'</li>\n",
       "\t\t<li>'Gare du Nord - Gare de I\\'Est'</li>\n",
       "\t\t<li>'Gaztambide'</li>\n",
       "\t\t<li>'GlÃ²ries - El Parc'</li>\n",
       "\t\t<li>'Glebe'</li>\n",
       "\t\t<li>'Golden Hill'</li>\n",
       "\t\t<li>'Goya'</li>\n",
       "\t\t<li>'GrÃ cia'</li>\n",
       "\t\t<li>'Grand Place'</li>\n",
       "\t\t<li>'Greenpoint'</li>\n",
       "\t\t<li>'Greenwich'</li>\n",
       "\t\t<li>'Greenwood'</li>\n",
       "\t\t<li>'Guindalera'</li>\n",
       "\t\t<li>'Hackney'</li>\n",
       "\t\t<li>'Hamilton Heights'</li>\n",
       "\t\t<li>'Hammersmith'</li>\n",
       "\t\t<li>'Hampstead'</li>\n",
       "\t\t<li>'Harlem'</li>\n",
       "\t\t<li>'Haut Saint-Gilles'</li>\n",
       "\t\t<li>'Hell\\'s Kitchen'</li>\n",
       "\t\t<li>'Highbridge'</li>\n",
       "\t\t<li>'Highland Park'</li>\n",
       "\t\t<li>'HispanoamÃ©rica'</li>\n",
       "\t\t<li>'Hollywood'</li>\n",
       "\t\t<li>'Hollywood Hills'</li>\n",
       "\t\t<li>'Hoofddorppleinbuurt'</li>\n",
       "\t\t<li>'Horta-GuinardÃ³'</li>\n",
       "\t\t<li>'Hortaleza'</li>\n",
       "\t\t<li>'Humboldt Park'</li>\n",
       "\t\t<li>'Ibiza'</li>\n",
       "\t\t<li>'II Arrondissement'</li>\n",
       "\t\t<li>'Imperial'</li>\n",
       "\t\t<li>'Indische Buurt'</li>\n",
       "\t\t<li>'Indre By'</li>\n",
       "\t\t<li>'Innere Stadt'</li>\n",
       "\t\t<li>'Invalides - Ecole Militaire'</li>\n",
       "\t\t<li>'Isle of Dogs'</li>\n",
       "\t\t<li>'Islington'</li>\n",
       "\t\t<li>'Jamaica Plain'</li>\n",
       "\t\t<li>'JerÃ³nimos'</li>\n",
       "\t\t<li>'Jordaan'</li>\n",
       "\t\t<li>'Justicia'</li>\n",
       "\t\t<li>'KÃ¸dbyen'</li>\n",
       "\t\t<li>'Karlshorst'</li>\n",
       "\t\t<li>'Kennington'</li>\n",
       "\t\t<li>'Kensington'</li>\n",
       "\t\t<li>'Kreuzberg'</li>\n",
       "\t\t<li>'L\\'Antiga Esquerra de l\\'Eixample'</li>\n",
       "\t\t<li>'La Barceloneta'</li>\n",
       "\t\t<li>'La Chapelle'</li>\n",
       "\t\t<li>'La Chopera'</li>\n",
       "\t\t<li>'La Latina'</li>\n",
       "\t\t<li>'La Nova Esquerra de l\\'Eixample'</li>\n",
       "\t\t<li>'La Sagrada FamÃ­lia'</li>\n",
       "\t\t<li>'La Salut'</li>\n",
       "\t\t<li>'La Vila OlÃ­mpica'</li>\n",
       "\t\t<li>'Lachine'</li>\n",
       "\t\t<li>'Lake Balboa'</li>\n",
       "\t\t<li>'Lakeview'</li>\n",
       "\t\t<li>'Landelijk Noord'</li>\n",
       "\t\t<li>'LandstraÃŸe'</li>\n",
       "\t\t<li>'LB of Brent'</li>\n",
       "\t\t<li>'LB of Camden'</li>\n",
       "\t\t<li>'LB of Croydon'</li>\n",
       "\t\t<li>'LB of Ealing'</li>\n",
       "\t\t<li>'LB of Hackney'</li>\n",
       "\t\t<li>'LB of Haringey'</li>\n",
       "\t\t<li>'LB of Hounslow'</li>\n",
       "\t\t<li>'LB of Islington'</li>\n",
       "\t\t<li>'LB of Redbridge'</li>\n",
       "\t\t<li>'LB of Richmond upon Thames'</li>\n",
       "\t\t<li>'LB of Sutton'</li>\n",
       "\t\t<li>'Le Marais'</li>\n",
       "\t\t<li>'Legazpi'</li>\n",
       "\t\t<li>'Leopoldstadt'</li>\n",
       "\t\t<li>'Les Corts'</li>\n",
       "\t\t<li>'Les Corts (Nabe)'</li>\n",
       "\t\t<li>'Lewisham'</li>\n",
       "\t\t<li>'Lido'</li>\n",
       "\t\t<li>'Lisson Grove'</li>\n",
       "\t\t<li>'Lista'</li>\n",
       "\t\t<li>'Little Italy'</li>\n",
       "\t\t<li>'Logan Square'</li>\n",
       "\t\t<li>'Long Beach'</li>\n",
       "\t\t<li>'Los Feliz'</li>\n",
       "\t\t<li>'Lower East Side'</li>\n",
       "\t\t<li>'Madeleine - VendÃ´me'</li>\n",
       "\t\t<li>'Magnolia'</li>\n",
       "\t\t<li>'Maida Vale'</li>\n",
       "\t\t<li>'MalasaÃ±a'</li>\n",
       "\t\t<li>'Malibu'</li>\n",
       "\t\t<li>'Margareten'</li>\n",
       "\t\t<li>'Mariahilf'</li>\n",
       "\t\t<li>'Marrickville'</li>\n",
       "\t\t<li>'Marylebone'</li>\n",
       "\t\t<li>'Mascot'</li>\n",
       "\t\t<li>'Matonge'</li>\n",
       "\t\t<li>'Mid-Wilshire'</li>\n",
       "\t\t<li>'Midtown'</li>\n",
       "\t\t<li>'Midtown East'</li>\n",
       "\t\t<li>'Mission District'</li>\n",
       "\t\t<li>'Mitte'</li>\n",
       "\t\t<li>'Moncloa'</li>\n",
       "\t\t<li>'Monteverde Vecchio'</li>\n",
       "\t\t<li>'Monti'</li>\n",
       "\t\t<li>'Montmartre'</li>\n",
       "\t\t<li>'Moratalaz'</li>\n",
       "\t\t<li>'Nation'</li>\n",
       "\t\t<li>'Neos Kosmos'</li>\n",
       "\t\t<li>'Neubau'</li>\n",
       "\t\t<li>'NeukÃ¶lln'</li>\n",
       "\t\t<li>'Newtown/Enmore'</li>\n",
       "\t\t<li>'Niagara'</li>\n",
       "\t\t<li>'Nieuwmarkt en Lastage'</li>\n",
       "\t\t<li>'Nob Hill'</li>\n",
       "\t\t<li>'Nolita'</li>\n",
       "\t\t<li>'North Beacon Hill'</li>\n",
       "\t\t<li>'North City Central/O\\'Connell Street'</li>\n",
       "\t\t<li>'North Sydney'</li>\n",
       "\t\t<li>'Northcote'</li>\n",
       "\t\t<li>'Notting Hill'</li>\n",
       "\t\t<li>'Nueva EspaÃ±a'</li>\n",
       "\t\t<li>'Nunhead'</li>\n",
       "\t\t<li>'Old Town'</li>\n",
       "\t\t<li>'Oosterparkbuurt'</li>\n",
       "\t\t<li>'Oud-West'</li>\n",
       "\t\t<li>'PÃ¨re Lachaise - MÃ©nilmontant'</li>\n",
       "\t\t<li>'Pacifico'</li>\n",
       "\t\t<li>'Paddington'</li>\n",
       "\t\t<li>'Palacio'</li>\n",
       "\t\t<li>'Palms'</li>\n",
       "\t\t<li>'Palos do Moguer'</li>\n",
       "\t\t<li>'PanthÃ©on'</li>\n",
       "\t\t<li>'Parione'</li>\n",
       "\t\t<li>'Pasadena'</li>\n",
       "\t\t<li>'Passy'</li>\n",
       "\t\t<li>'Patisia'</li>\n",
       "\t\t<li>'Pigalle - Saint-Georges'</li>\n",
       "\t\t<li>'Pimlico'</li>\n",
       "\t\t<li>'Place d\\'Italie - Quartier Chinois'</li>\n",
       "\t\t<li>'Ponte'</li>\n",
       "\t\t<li>'Porte de Clignancourt'</li>\n",
       "\t\t<li>'Porte de Versailles'</li>\n",
       "\t\t<li>'Portobello'</li>\n",
       "\t\t<li>'Portuense'</li>\n",
       "\t\t<li>'Potts Point'</li>\n",
       "\t\t<li>'Prenzlauer Berg'</li>\n",
       "\t\t<li>'Prospect Heights'</li>\n",
       "\t\t<li>'Prosperidad'</li>\n",
       "\t\t<li>'ProvenÃ§als del Poblenou'</li>\n",
       "\t\t<li>'Puente de Vallecas'</li>\n",
       "\t\t<li>'RÃ©publique'</li>\n",
       "\t\t<li>'Ravenna'</li>\n",
       "\t\t<li>'RB of Kensington and Chelsea'</li>\n",
       "\t\t<li>'Recoletos'</li>\n",
       "\t\t<li>'Regola'</li>\n",
       "\t\t<li>'Retiro'</li>\n",
       "\t\t<li>'Richmond'</li>\n",
       "\t\t<li>'Ridgewood'</li>\n",
       "\t\t<li>'Rios Rosas'</li>\n",
       "\t\t<li>'River North'</li>\n",
       "\t\t<li>'Riverbend'</li>\n",
       "\t\t<li>'Rivierenbuurt'</li>\n",
       "\t\t<li>'Rogers Park'</li>\n",
       "\t\t<li>'Rosebery'</li>\n",
       "\t\t<li>'Rosedale'</li>\n",
       "\t\t<li>'Saint-Germain-des-PrÃ©s - OdÃ©on'</li>\n",
       "\t\t<li>'Saint-Lazare'</li>\n",
       "\t\t<li>'Saint-Michel'</li>\n",
       "\t\t<li>'San Blas'</li>\n",
       "\t\t<li>'San Giovanni'</li>\n",
       "\t\t<li>'San Lorenzo'</li>\n",
       "\t\t<li>'Sandymount'</li>\n",
       "\t\t<li>'Sant\\'Eustachio'</li>\n",
       "\t\t<li>'Sant Antoni'</li>\n",
       "\t\t<li>'Sant Gervasi - Galvany'</li>\n",
       "\t\t<li>'Sant Gervasi - la Bonanova'</li>\n",
       "\t\t<li>'Sant MartÃ­ de ProvenÃ§als'</li>\n",
       "\t\t<li>'Sant Pere/Santa Caterina'</li>\n",
       "\t\t<li>'Santa Monica'</li>\n",
       "\t\t<li>'Sants-MontjuÃ¯c'</li>\n",
       "\t\t<li>'Sants - Badal'</li>\n",
       "\t\t<li>'Shepherd\\'s Bush'</li>\n",
       "\t\t<li>'Sheung Wan'</li>\n",
       "\t\t<li>'Shoreditch'</li>\n",
       "\t\t<li>'Silver Lake'</li>\n",
       "\t\t<li>'Smithfield'</li>\n",
       "\t\t<li>'Soho'</li>\n",
       "\t\t<li>'Sol'</li>\n",
       "\t\t<li>'South LA'</li>\n",
       "\t\t<li>'South Robertson'</li>\n",
       "\t\t<li>'South Yarra'</li>\n",
       "\t\t<li>'Southside'</li>\n",
       "\t\t<li>'Southwark'</li>\n",
       "\t\t<li>'Southwest Waterfront'</li>\n",
       "\t\t<li>'St Peters'</li>\n",
       "\t\t<li>'St. John\\'s Wood'</li>\n",
       "\t\t<li>'Stadionbuurt'</li>\n",
       "\t\t<li>'Stalingrad'</li>\n",
       "\t\t<li>'Stockwell'</li>\n",
       "\t\t<li>'Stoke Newington'</li>\n",
       "\t\t<li>'Stoneybatter/Arbour Hill'</li>\n",
       "\t\t<li>'Sunset Park'</li>\n",
       "\t\t<li>'Surry Hills'</li>\n",
       "\t\t<li>'Temple Bar'</li>\n",
       "\t\t<li>'Templeogue'</li>\n",
       "\t\t<li>'Ternes'</li>\n",
       "\t\t<li>'Testaccio'</li>\n",
       "\t\t<li>'TetuÃ¡n'</li>\n",
       "\t\t<li>'The Annex'</li>\n",
       "\t\t<li>'The Beaches'</li>\n",
       "\t\t<li>'The Castro'</li>\n",
       "\t\t<li>'The Liberties'</li>\n",
       "\t\t<li>'Times Square/Theatre District'</li>\n",
       "\t\t<li>'Tollcross'</li>\n",
       "\t\t<li>'Topanga'</li>\n",
       "\t\t<li>'Tour Eiffel - Champ de Mars'</li>\n",
       "\t\t<li>'Trafalgar'</li>\n",
       "\t\t<li>'Trastevere'</li>\n",
       "\t\t<li>'Trevi'</li>\n",
       "\t\t<li>'Trieste'</li>\n",
       "\t\t<li>'Trinity College'</li>\n",
       "\t\t<li>'Truxton Circle'</li>\n",
       "\t\t<li>'Tsim Sha Tsui'</li>\n",
       "\t\t<li>'Upper East Side'</li>\n",
       "\t\t<li>'Upper Tooting'</li>\n",
       "\t\t<li>'Upper West Side'</li>\n",
       "\t\t<li>'Usera'</li>\n",
       "\t\t<li>'Valby'</li>\n",
       "\t\t<li>'Valdeacederas'</li>\n",
       "\t\t<li>'Vallehermosa'</li>\n",
       "\t\t<li>'Van Nuys'</li>\n",
       "\t\t<li>'Vaugirard'</li>\n",
       "\t\t<li>'Venice'</li>\n",
       "\t\t<li>'Vesterbro'</li>\n",
       "\t\t<li>'VicÃ¡lvaro'</li>\n",
       "\t\t<li>'Vila de GrÃ cia'</li>\n",
       "\t\t<li>'Villa de Vallecas'</li>\n",
       "\t\t<li>'Villaverde'</li>\n",
       "\t\t<li>'WÃ¤hring'</li>\n",
       "\t\t<li>'Wallace Emerson'</li>\n",
       "\t\t<li>'Wallingford'</li>\n",
       "\t\t<li>'Walworth'</li>\n",
       "\t\t<li>'Wedding'</li>\n",
       "\t\t<li>'Weesperbuurt en Plantage'</li>\n",
       "\t\t<li>'WeiÃŸensee'</li>\n",
       "\t\t<li>'West Adams'</li>\n",
       "\t\t<li>'West Austin'</li>\n",
       "\t\t<li>'West Hollywood'</li>\n",
       "\t\t<li>'West Norwood'</li>\n",
       "\t\t<li>'West Village'</li>\n",
       "\t\t<li>'Westminster'</li>\n",
       "\t\t<li>'Westmount'</li>\n",
       "\t\t<li>'Westside'</li>\n",
       "\t\t<li>'Whitechapel/Brick Lane'</li>\n",
       "\t\t<li>'Wicker Park'</li>\n",
       "\t\t<li>'Wieden'</li>\n",
       "\t\t<li>'Williamsburg'</li>\n",
       "\t\t<li>'Wilmersdorf'</li>\n",
       "\t\t<li>'Wimbledon'</li>\n",
       "\t\t<li>'Woollahra'</li>\n",
       "\t\t<li>'XI Arrondissement'</li>\n",
       "\t\t<li>'Zilker'</li>\n",
       "\t</ol>\n",
       "</details>"
      ],
      "text/latex": [
       "\\begin{enumerate*}\n",
       "\\item \n",
       "\\item Embajadores\n",
       "\\item La Latina\n",
       "\\item Palacio\n",
       "\\item MalasaÃ±a\n",
       "\\item Sol\n",
       "\\item Acacias\n",
       "\\item Palos do Moguer\n",
       "\\item Pacifico\n",
       "\\item El TrÃ©ntaiseis\n",
       "\\item Ibiza\n",
       "\\item JerÃ³nimos\n",
       "\\item Cortes\n",
       "\\item Justicia\n",
       "\\item Recoletos\n",
       "\\item Goya\n",
       "\\item Fuente del Berro\n",
       "\\item Guindalera\n",
       "\\item Lista\n",
       "\\item HispanoamÃ©rica\n",
       "\\item Nueva EspaÃ±a\n",
       "\\item Castilla\n",
       "\\item Cuatro Caminos\n",
       "\\item Castillejos\n",
       "\\item Valdeacederas\n",
       "\\item Gaztambide\n",
       "\\item Hortaleza\n",
       "\\item Arapiles\n",
       "\\item Trafalgar\n",
       "\\item Almagro\n",
       "\\item Rios Rosas\n",
       "\\item Fuencarral-el Pardo\n",
       "\\item ArgÃ¼elles\n",
       "\\item Villaverde\n",
       "\\item Aluche\n",
       "\\item TetuÃ¡n\n",
       "\\item Usera\n",
       "\\item Puente de Vallecas\n",
       "\\item Imperial\n",
       "\\item La Chopera\n",
       "\\item Delicias\n",
       "\\item Adelfas\n",
       "\\item Estrella\n",
       "\\item Centro\n",
       "\\item Prosperidad\n",
       "\\item Almenara\n",
       "\\item Berruguete\n",
       "\\item Ciudad Jardin\n",
       "\\item Moncloa\n",
       "\\item Carabanchel\n",
       "\\item Ciudad Lineal\n",
       "\\item Villa de Vallecas\n",
       "\\item Barajas\n",
       "\\item Legazpi\n",
       "\\item Retiro\n",
       "\\item Castellana\n",
       "\\item El Viso\n",
       "\\item Bellas Vistas\n",
       "\\item Moratalaz\n",
       "\\item San Blas\n",
       "\\item Vallehermosa\n",
       "\\item ChamberÃ­\n",
       "\\item Arganzuela\n",
       "\\item VicÃ¡lvaro\n",
       "\\item Atocha\n",
       "\\item Fuencarral-El Pardo\n",
       "\\end{enumerate*}\n",
       "\n",
       "\\emph{Levels}: \\begin{enumerate*}\n",
       "\\item ''\n",
       "\\item 'Ã\\textbackslash{}230sterbro'\n",
       "\\item 'Acacias'\n",
       "\\item 'Acton'\n",
       "\\item 'Adams Morgan'\n",
       "\\item 'Adelfas'\n",
       "\\item 'Agios Nikolaos'\n",
       "\\item 'AlÃ©sia'\n",
       "\\item 'Albert Park'\n",
       "\\item 'Almagro'\n",
       "\\item 'Almenara'\n",
       "\\item 'Alt-Treptow'\n",
       "\\item 'Aluche'\n",
       "\\item 'Arapiles'\n",
       "\\item 'ArgÃ¼elles'\n",
       "\\item 'Arganzuela'\n",
       "\\item 'Astoria'\n",
       "\\item 'Atocha'\n",
       "\\item 'Aurelio'\n",
       "\\item 'Auteuil'\n",
       "\\item 'Balham'\n",
       "\\item 'Ballard'\n",
       "\\item 'Barajas'\n",
       "\\item 'Barney Circle'\n",
       "\\item 'Bastille'\n",
       "\\item 'Batignolles'\n",
       "\\item 'Bedford-Stuyvesant'\n",
       "\\item 'Beguinage-Dixmude'\n",
       "\\item 'Bellas Vistas'\n",
       "\\item 'Berkeley'\n",
       "\\item 'Bernal Heights'\n",
       "\\item 'Berruguete'\n",
       "\\item 'Bethnal Green'\n",
       "\\item 'Beverly Hills'\n",
       "\\item 'Bloomsbury'\n",
       "\\item 'Boerum Hill'\n",
       "\\item 'Bondi'\n",
       "\\item 'Bondi Beach'\n",
       "\\item 'Bondi Junction'\n",
       "\\item 'Borgo'\n",
       "\\item 'Bouldin Creek'\n",
       "\\item 'Bow'\n",
       "\\item 'Brentwood'\n",
       "\\item 'Brixton'\n",
       "\\item 'Broadview'\n",
       "\\item 'Bromley-by-Bow'\n",
       "\\item 'Brunswick'\n",
       "\\item 'Bushwick'\n",
       "\\item 'Buttes-Chaumont - Belleville'\n",
       "\\item 'Camden Town'\n",
       "\\item 'Camp d\\textbackslash{}'en Grassot i GrÃ cia Nova'\n",
       "\\item 'Can Baro'\n",
       "\\item 'Cannaregio'\n",
       "\\item 'Capitol Hill'\n",
       "\\item 'Carabanchel'\n",
       "\\item 'Carroll Gardens'\n",
       "\\item 'Castellana'\n",
       "\\item 'Castilla'\n",
       "\\item 'Castillejos'\n",
       "\\item 'Cedarvale Humewood'\n",
       "\\item 'Central Business District'\n",
       "\\item 'Centro'\n",
       "\\item 'ChÃ¢telet - Les Halles - Beaubourg'\n",
       "\\item 'ChamberÃ­'\n",
       "\\item 'Champs-ElysÃ©es'\n",
       "\\item 'Charlottenburg'\n",
       "\\item 'Chausee De Haecht'\n",
       "\\item 'Chelsea'\n",
       "\\item 'Christianshavn'\n",
       "\\item 'City of London'\n",
       "\\item 'City Park West'\n",
       "\\item 'Ciudad Jardin'\n",
       "\\item 'Ciudad Lineal'\n",
       "\\item 'Civic Center'\n",
       "\\item 'Clinton Hill'\n",
       "\\item 'Colonna'\n",
       "\\item 'Commerce - Dupleix'\n",
       "\\item 'Cortes'\n",
       "\\item 'Crestwood'\n",
       "\\item 'Crown Heights'\n",
       "\\item 'Crystal Palace'\n",
       "\\item 'Cuatro Caminos'\n",
       "\\item 'DÃ¶bling'\n",
       "\\item 'Dalston'\n",
       "\\item 'Dansaert'\n",
       "\\item 'Darlinghurst'\n",
       "\\item 'De Pijp'\n",
       "\\item 'Delicias'\n",
       "\\item 'Ditmars / Steinway'\n",
       "\\item 'Docklands'\n",
       "\\item 'Downtown'\n",
       "\\item 'Downtown Toronto'\n",
       "\\item 'Dreta de l\\textbackslash{}'Eixample'\n",
       "\\item 'Dupont Circle'\n",
       "\\item 'Earls Court'\n",
       "\\item 'East and West Riverside'\n",
       "\\item 'East Harlem'\n",
       "\\item 'East Village'\n",
       "\\item 'Eckington'\n",
       "\\item 'El Born'\n",
       "\\item 'El Camp de l\\textbackslash{}'Arpa del Clot'\n",
       "\\item 'El Clot'\n",
       "\\item 'el Fort Pienc'\n",
       "\\item 'El GÃ²tic'\n",
       "\\item 'El Poble-sec'\n",
       "\\item 'El Putget i FarrÃ³'\n",
       "\\item 'El Raval'\n",
       "\\item 'El TrÃ©ntaiseis'\n",
       "\\item 'El Viso'\n",
       "\\item 'Embajadores'\n",
       "\\item 'Esquilino'\n",
       "\\item 'Estrella'\n",
       "\\item 'Etterbeek'\n",
       "\\item 'Excelsior'\n",
       "\\item 'Fairlawn'\n",
       "\\item 'Fairview'\n",
       "\\item 'Flatbush'\n",
       "\\item 'Flatiron District'\n",
       "\\item 'Forest'\n",
       "\\item 'Forest Hill'\n",
       "\\item 'Fort Greene'\n",
       "\\item 'Frederik Hendrikbuurt'\n",
       "\\item 'Frederiksberg'\n",
       "\\item 'Friedrichshain'\n",
       "\\item 'Fuencarral-el Pardo'\n",
       "\\item 'Fuencarral-El Pardo'\n",
       "\\item 'Fuente del Berro'\n",
       "\\item 'Garbatella'\n",
       "\\item 'Gare de Lyon'\n",
       "\\item 'Gare du Nord - Gare de I\\textbackslash{}'Est'\n",
       "\\item 'Gaztambide'\n",
       "\\item 'GlÃ²ries - El Parc'\n",
       "\\item 'Glebe'\n",
       "\\item 'Golden Hill'\n",
       "\\item 'Goya'\n",
       "\\item 'GrÃ cia'\n",
       "\\item 'Grand Place'\n",
       "\\item 'Greenpoint'\n",
       "\\item 'Greenwich'\n",
       "\\item 'Greenwood'\n",
       "\\item 'Guindalera'\n",
       "\\item 'Hackney'\n",
       "\\item 'Hamilton Heights'\n",
       "\\item 'Hammersmith'\n",
       "\\item 'Hampstead'\n",
       "\\item 'Harlem'\n",
       "\\item 'Haut Saint-Gilles'\n",
       "\\item 'Hell\\textbackslash{}'s Kitchen'\n",
       "\\item 'Highbridge'\n",
       "\\item 'Highland Park'\n",
       "\\item 'HispanoamÃ©rica'\n",
       "\\item 'Hollywood'\n",
       "\\item 'Hollywood Hills'\n",
       "\\item 'Hoofddorppleinbuurt'\n",
       "\\item 'Horta-GuinardÃ³'\n",
       "\\item 'Hortaleza'\n",
       "\\item 'Humboldt Park'\n",
       "\\item 'Ibiza'\n",
       "\\item 'II Arrondissement'\n",
       "\\item 'Imperial'\n",
       "\\item 'Indische Buurt'\n",
       "\\item 'Indre By'\n",
       "\\item 'Innere Stadt'\n",
       "\\item 'Invalides - Ecole Militaire'\n",
       "\\item 'Isle of Dogs'\n",
       "\\item 'Islington'\n",
       "\\item 'Jamaica Plain'\n",
       "\\item 'JerÃ³nimos'\n",
       "\\item 'Jordaan'\n",
       "\\item 'Justicia'\n",
       "\\item 'KÃ¸dbyen'\n",
       "\\item 'Karlshorst'\n",
       "\\item 'Kennington'\n",
       "\\item 'Kensington'\n",
       "\\item 'Kreuzberg'\n",
       "\\item 'L\\textbackslash{}'Antiga Esquerra de l\\textbackslash{}'Eixample'\n",
       "\\item 'La Barceloneta'\n",
       "\\item 'La Chapelle'\n",
       "\\item 'La Chopera'\n",
       "\\item 'La Latina'\n",
       "\\item 'La Nova Esquerra de l\\textbackslash{}'Eixample'\n",
       "\\item 'La Sagrada FamÃ­lia'\n",
       "\\item 'La Salut'\n",
       "\\item 'La Vila OlÃ­mpica'\n",
       "\\item 'Lachine'\n",
       "\\item 'Lake Balboa'\n",
       "\\item 'Lakeview'\n",
       "\\item 'Landelijk Noord'\n",
       "\\item 'LandstraÃŸe'\n",
       "\\item 'LB of Brent'\n",
       "\\item 'LB of Camden'\n",
       "\\item 'LB of Croydon'\n",
       "\\item 'LB of Ealing'\n",
       "\\item 'LB of Hackney'\n",
       "\\item 'LB of Haringey'\n",
       "\\item 'LB of Hounslow'\n",
       "\\item 'LB of Islington'\n",
       "\\item 'LB of Redbridge'\n",
       "\\item 'LB of Richmond upon Thames'\n",
       "\\item 'LB of Sutton'\n",
       "\\item 'Le Marais'\n",
       "\\item 'Legazpi'\n",
       "\\item 'Leopoldstadt'\n",
       "\\item 'Les Corts'\n",
       "\\item 'Les Corts (Nabe)'\n",
       "\\item 'Lewisham'\n",
       "\\item 'Lido'\n",
       "\\item 'Lisson Grove'\n",
       "\\item 'Lista'\n",
       "\\item 'Little Italy'\n",
       "\\item 'Logan Square'\n",
       "\\item 'Long Beach'\n",
       "\\item 'Los Feliz'\n",
       "\\item 'Lower East Side'\n",
       "\\item 'Madeleine - VendÃ´me'\n",
       "\\item 'Magnolia'\n",
       "\\item 'Maida Vale'\n",
       "\\item 'MalasaÃ±a'\n",
       "\\item 'Malibu'\n",
       "\\item 'Margareten'\n",
       "\\item 'Mariahilf'\n",
       "\\item 'Marrickville'\n",
       "\\item 'Marylebone'\n",
       "\\item 'Mascot'\n",
       "\\item 'Matonge'\n",
       "\\item 'Mid-Wilshire'\n",
       "\\item 'Midtown'\n",
       "\\item 'Midtown East'\n",
       "\\item 'Mission District'\n",
       "\\item 'Mitte'\n",
       "\\item 'Moncloa'\n",
       "\\item 'Monteverde Vecchio'\n",
       "\\item 'Monti'\n",
       "\\item 'Montmartre'\n",
       "\\item 'Moratalaz'\n",
       "\\item 'Nation'\n",
       "\\item 'Neos Kosmos'\n",
       "\\item 'Neubau'\n",
       "\\item 'NeukÃ¶lln'\n",
       "\\item 'Newtown/Enmore'\n",
       "\\item 'Niagara'\n",
       "\\item 'Nieuwmarkt en Lastage'\n",
       "\\item 'Nob Hill'\n",
       "\\item 'Nolita'\n",
       "\\item 'North Beacon Hill'\n",
       "\\item 'North City Central/O\\textbackslash{}'Connell Street'\n",
       "\\item 'North Sydney'\n",
       "\\item 'Northcote'\n",
       "\\item 'Notting Hill'\n",
       "\\item 'Nueva EspaÃ±a'\n",
       "\\item 'Nunhead'\n",
       "\\item 'Old Town'\n",
       "\\item 'Oosterparkbuurt'\n",
       "\\item 'Oud-West'\n",
       "\\item 'PÃ¨re Lachaise - MÃ©nilmontant'\n",
       "\\item 'Pacifico'\n",
       "\\item 'Paddington'\n",
       "\\item 'Palacio'\n",
       "\\item 'Palms'\n",
       "\\item 'Palos do Moguer'\n",
       "\\item 'PanthÃ©on'\n",
       "\\item 'Parione'\n",
       "\\item 'Pasadena'\n",
       "\\item 'Passy'\n",
       "\\item 'Patisia'\n",
       "\\item 'Pigalle - Saint-Georges'\n",
       "\\item 'Pimlico'\n",
       "\\item 'Place d\\textbackslash{}'Italie - Quartier Chinois'\n",
       "\\item 'Ponte'\n",
       "\\item 'Porte de Clignancourt'\n",
       "\\item 'Porte de Versailles'\n",
       "\\item 'Portobello'\n",
       "\\item 'Portuense'\n",
       "\\item 'Potts Point'\n",
       "\\item 'Prenzlauer Berg'\n",
       "\\item 'Prospect Heights'\n",
       "\\item 'Prosperidad'\n",
       "\\item 'ProvenÃ§als del Poblenou'\n",
       "\\item 'Puente de Vallecas'\n",
       "\\item 'RÃ©publique'\n",
       "\\item 'Ravenna'\n",
       "\\item 'RB of Kensington and Chelsea'\n",
       "\\item 'Recoletos'\n",
       "\\item 'Regola'\n",
       "\\item 'Retiro'\n",
       "\\item 'Richmond'\n",
       "\\item 'Ridgewood'\n",
       "\\item 'Rios Rosas'\n",
       "\\item 'River North'\n",
       "\\item 'Riverbend'\n",
       "\\item 'Rivierenbuurt'\n",
       "\\item 'Rogers Park'\n",
       "\\item 'Rosebery'\n",
       "\\item 'Rosedale'\n",
       "\\item 'Saint-Germain-des-PrÃ©s - OdÃ©on'\n",
       "\\item 'Saint-Lazare'\n",
       "\\item 'Saint-Michel'\n",
       "\\item 'San Blas'\n",
       "\\item 'San Giovanni'\n",
       "\\item 'San Lorenzo'\n",
       "\\item 'Sandymount'\n",
       "\\item 'Sant\\textbackslash{}'Eustachio'\n",
       "\\item 'Sant Antoni'\n",
       "\\item 'Sant Gervasi - Galvany'\n",
       "\\item 'Sant Gervasi - la Bonanova'\n",
       "\\item 'Sant MartÃ­ de ProvenÃ§als'\n",
       "\\item 'Sant Pere/Santa Caterina'\n",
       "\\item 'Santa Monica'\n",
       "\\item 'Sants-MontjuÃ¯c'\n",
       "\\item 'Sants - Badal'\n",
       "\\item 'Shepherd\\textbackslash{}'s Bush'\n",
       "\\item 'Sheung Wan'\n",
       "\\item 'Shoreditch'\n",
       "\\item 'Silver Lake'\n",
       "\\item 'Smithfield'\n",
       "\\item 'Soho'\n",
       "\\item 'Sol'\n",
       "\\item 'South LA'\n",
       "\\item 'South Robertson'\n",
       "\\item 'South Yarra'\n",
       "\\item 'Southside'\n",
       "\\item 'Southwark'\n",
       "\\item 'Southwest Waterfront'\n",
       "\\item 'St Peters'\n",
       "\\item 'St. John\\textbackslash{}'s Wood'\n",
       "\\item 'Stadionbuurt'\n",
       "\\item 'Stalingrad'\n",
       "\\item 'Stockwell'\n",
       "\\item 'Stoke Newington'\n",
       "\\item 'Stoneybatter/Arbour Hill'\n",
       "\\item 'Sunset Park'\n",
       "\\item 'Surry Hills'\n",
       "\\item 'Temple Bar'\n",
       "\\item 'Templeogue'\n",
       "\\item 'Ternes'\n",
       "\\item 'Testaccio'\n",
       "\\item 'TetuÃ¡n'\n",
       "\\item 'The Annex'\n",
       "\\item 'The Beaches'\n",
       "\\item 'The Castro'\n",
       "\\item 'The Liberties'\n",
       "\\item 'Times Square/Theatre District'\n",
       "\\item 'Tollcross'\n",
       "\\item 'Topanga'\n",
       "\\item 'Tour Eiffel - Champ de Mars'\n",
       "\\item 'Trafalgar'\n",
       "\\item 'Trastevere'\n",
       "\\item 'Trevi'\n",
       "\\item 'Trieste'\n",
       "\\item 'Trinity College'\n",
       "\\item 'Truxton Circle'\n",
       "\\item 'Tsim Sha Tsui'\n",
       "\\item 'Upper East Side'\n",
       "\\item 'Upper Tooting'\n",
       "\\item 'Upper West Side'\n",
       "\\item 'Usera'\n",
       "\\item 'Valby'\n",
       "\\item 'Valdeacederas'\n",
       "\\item 'Vallehermosa'\n",
       "\\item 'Van Nuys'\n",
       "\\item 'Vaugirard'\n",
       "\\item 'Venice'\n",
       "\\item 'Vesterbro'\n",
       "\\item 'VicÃ¡lvaro'\n",
       "\\item 'Vila de GrÃ cia'\n",
       "\\item 'Villa de Vallecas'\n",
       "\\item 'Villaverde'\n",
       "\\item 'WÃ¤hring'\n",
       "\\item 'Wallace Emerson'\n",
       "\\item 'Wallingford'\n",
       "\\item 'Walworth'\n",
       "\\item 'Wedding'\n",
       "\\item 'Weesperbuurt en Plantage'\n",
       "\\item 'WeiÃŸensee'\n",
       "\\item 'West Adams'\n",
       "\\item 'West Austin'\n",
       "\\item 'West Hollywood'\n",
       "\\item 'West Norwood'\n",
       "\\item 'West Village'\n",
       "\\item 'Westminster'\n",
       "\\item 'Westmount'\n",
       "\\item 'Westside'\n",
       "\\item 'Whitechapel/Brick Lane'\n",
       "\\item 'Wicker Park'\n",
       "\\item 'Wieden'\n",
       "\\item 'Williamsburg'\n",
       "\\item 'Wilmersdorf'\n",
       "\\item 'Wimbledon'\n",
       "\\item 'Woollahra'\n",
       "\\item 'XI Arrondissement'\n",
       "\\item 'Zilker'\n",
       "\\end{enumerate*}\n"
      ],
      "text/markdown": [
       "1. \n",
       "2. Embajadores\n",
       "3. La Latina\n",
       "4. Palacio\n",
       "5. MalasaÃ±a\n",
       "6. Sol\n",
       "7. Acacias\n",
       "8. Palos do Moguer\n",
       "9. Pacifico\n",
       "10. El TrÃ©ntaiseis\n",
       "11. Ibiza\n",
       "12. JerÃ³nimos\n",
       "13. Cortes\n",
       "14. Justicia\n",
       "15. Recoletos\n",
       "16. Goya\n",
       "17. Fuente del Berro\n",
       "18. Guindalera\n",
       "19. Lista\n",
       "20. HispanoamÃ©rica\n",
       "21. Nueva EspaÃ±a\n",
       "22. Castilla\n",
       "23. Cuatro Caminos\n",
       "24. Castillejos\n",
       "25. Valdeacederas\n",
       "26. Gaztambide\n",
       "27. Hortaleza\n",
       "28. Arapiles\n",
       "29. Trafalgar\n",
       "30. Almagro\n",
       "31. Rios Rosas\n",
       "32. Fuencarral-el Pardo\n",
       "33. ArgÃ¼elles\n",
       "34. Villaverde\n",
       "35. Aluche\n",
       "36. TetuÃ¡n\n",
       "37. Usera\n",
       "38. Puente de Vallecas\n",
       "39. Imperial\n",
       "40. La Chopera\n",
       "41. Delicias\n",
       "42. Adelfas\n",
       "43. Estrella\n",
       "44. Centro\n",
       "45. Prosperidad\n",
       "46. Almenara\n",
       "47. Berruguete\n",
       "48. Ciudad Jardin\n",
       "49. Moncloa\n",
       "50. Carabanchel\n",
       "51. Ciudad Lineal\n",
       "52. Villa de Vallecas\n",
       "53. Barajas\n",
       "54. Legazpi\n",
       "55. Retiro\n",
       "56. Castellana\n",
       "57. El Viso\n",
       "58. Bellas Vistas\n",
       "59. Moratalaz\n",
       "60. San Blas\n",
       "61. Vallehermosa\n",
       "62. ChamberÃ­\n",
       "63. Arganzuela\n",
       "64. VicÃ¡lvaro\n",
       "65. Atocha\n",
       "66. Fuencarral-El Pardo\n",
       "\n",
       "\n",
       "\n",
       "**Levels**: 1. ''\n",
       "2. 'Ã\\230sterbro'\n",
       "3. 'Acacias'\n",
       "4. 'Acton'\n",
       "5. 'Adams Morgan'\n",
       "6. 'Adelfas'\n",
       "7. 'Agios Nikolaos'\n",
       "8. 'AlÃ©sia'\n",
       "9. 'Albert Park'\n",
       "10. 'Almagro'\n",
       "11. 'Almenara'\n",
       "12. 'Alt-Treptow'\n",
       "13. 'Aluche'\n",
       "14. 'Arapiles'\n",
       "15. 'ArgÃ¼elles'\n",
       "16. 'Arganzuela'\n",
       "17. 'Astoria'\n",
       "18. 'Atocha'\n",
       "19. 'Aurelio'\n",
       "20. 'Auteuil'\n",
       "21. 'Balham'\n",
       "22. 'Ballard'\n",
       "23. 'Barajas'\n",
       "24. 'Barney Circle'\n",
       "25. 'Bastille'\n",
       "26. 'Batignolles'\n",
       "27. 'Bedford-Stuyvesant'\n",
       "28. 'Beguinage-Dixmude'\n",
       "29. 'Bellas Vistas'\n",
       "30. 'Berkeley'\n",
       "31. 'Bernal Heights'\n",
       "32. 'Berruguete'\n",
       "33. 'Bethnal Green'\n",
       "34. 'Beverly Hills'\n",
       "35. 'Bloomsbury'\n",
       "36. 'Boerum Hill'\n",
       "37. 'Bondi'\n",
       "38. 'Bondi Beach'\n",
       "39. 'Bondi Junction'\n",
       "40. 'Borgo'\n",
       "41. 'Bouldin Creek'\n",
       "42. 'Bow'\n",
       "43. 'Brentwood'\n",
       "44. 'Brixton'\n",
       "45. 'Broadview'\n",
       "46. 'Bromley-by-Bow'\n",
       "47. 'Brunswick'\n",
       "48. 'Bushwick'\n",
       "49. 'Buttes-Chaumont - Belleville'\n",
       "50. 'Camden Town'\n",
       "51. 'Camp d\\'en Grassot i GrÃ cia Nova'\n",
       "52. 'Can Baro'\n",
       "53. 'Cannaregio'\n",
       "54. 'Capitol Hill'\n",
       "55. 'Carabanchel'\n",
       "56. 'Carroll Gardens'\n",
       "57. 'Castellana'\n",
       "58. 'Castilla'\n",
       "59. 'Castillejos'\n",
       "60. 'Cedarvale Humewood'\n",
       "61. 'Central Business District'\n",
       "62. 'Centro'\n",
       "63. 'ChÃ¢telet - Les Halles - Beaubourg'\n",
       "64. 'ChamberÃ­'\n",
       "65. 'Champs-ElysÃ©es'\n",
       "66. 'Charlottenburg'\n",
       "67. 'Chausee De Haecht'\n",
       "68. 'Chelsea'\n",
       "69. 'Christianshavn'\n",
       "70. 'City of London'\n",
       "71. 'City Park West'\n",
       "72. 'Ciudad Jardin'\n",
       "73. 'Ciudad Lineal'\n",
       "74. 'Civic Center'\n",
       "75. 'Clinton Hill'\n",
       "76. 'Colonna'\n",
       "77. 'Commerce - Dupleix'\n",
       "78. 'Cortes'\n",
       "79. 'Crestwood'\n",
       "80. 'Crown Heights'\n",
       "81. 'Crystal Palace'\n",
       "82. 'Cuatro Caminos'\n",
       "83. 'DÃ¶bling'\n",
       "84. 'Dalston'\n",
       "85. 'Dansaert'\n",
       "86. 'Darlinghurst'\n",
       "87. 'De Pijp'\n",
       "88. 'Delicias'\n",
       "89. 'Ditmars / Steinway'\n",
       "90. 'Docklands'\n",
       "91. 'Downtown'\n",
       "92. 'Downtown Toronto'\n",
       "93. 'Dreta de l\\'Eixample'\n",
       "94. 'Dupont Circle'\n",
       "95. 'Earls Court'\n",
       "96. 'East and West Riverside'\n",
       "97. 'East Harlem'\n",
       "98. 'East Village'\n",
       "99. 'Eckington'\n",
       "100. 'El Born'\n",
       "101. 'El Camp de l\\'Arpa del Clot'\n",
       "102. 'El Clot'\n",
       "103. 'el Fort Pienc'\n",
       "104. 'El GÃ²tic'\n",
       "105. 'El Poble-sec'\n",
       "106. 'El Putget i FarrÃ³'\n",
       "107. 'El Raval'\n",
       "108. 'El TrÃ©ntaiseis'\n",
       "109. 'El Viso'\n",
       "110. 'Embajadores'\n",
       "111. 'Esquilino'\n",
       "112. 'Estrella'\n",
       "113. 'Etterbeek'\n",
       "114. 'Excelsior'\n",
       "115. 'Fairlawn'\n",
       "116. 'Fairview'\n",
       "117. 'Flatbush'\n",
       "118. 'Flatiron District'\n",
       "119. 'Forest'\n",
       "120. 'Forest Hill'\n",
       "121. 'Fort Greene'\n",
       "122. 'Frederik Hendrikbuurt'\n",
       "123. 'Frederiksberg'\n",
       "124. 'Friedrichshain'\n",
       "125. 'Fuencarral-el Pardo'\n",
       "126. 'Fuencarral-El Pardo'\n",
       "127. 'Fuente del Berro'\n",
       "128. 'Garbatella'\n",
       "129. 'Gare de Lyon'\n",
       "130. 'Gare du Nord - Gare de I\\'Est'\n",
       "131. 'Gaztambide'\n",
       "132. 'GlÃ²ries - El Parc'\n",
       "133. 'Glebe'\n",
       "134. 'Golden Hill'\n",
       "135. 'Goya'\n",
       "136. 'GrÃ cia'\n",
       "137. 'Grand Place'\n",
       "138. 'Greenpoint'\n",
       "139. 'Greenwich'\n",
       "140. 'Greenwood'\n",
       "141. 'Guindalera'\n",
       "142. 'Hackney'\n",
       "143. 'Hamilton Heights'\n",
       "144. 'Hammersmith'\n",
       "145. 'Hampstead'\n",
       "146. 'Harlem'\n",
       "147. 'Haut Saint-Gilles'\n",
       "148. 'Hell\\'s Kitchen'\n",
       "149. 'Highbridge'\n",
       "150. 'Highland Park'\n",
       "151. 'HispanoamÃ©rica'\n",
       "152. 'Hollywood'\n",
       "153. 'Hollywood Hills'\n",
       "154. 'Hoofddorppleinbuurt'\n",
       "155. 'Horta-GuinardÃ³'\n",
       "156. 'Hortaleza'\n",
       "157. 'Humboldt Park'\n",
       "158. 'Ibiza'\n",
       "159. 'II Arrondissement'\n",
       "160. 'Imperial'\n",
       "161. 'Indische Buurt'\n",
       "162. 'Indre By'\n",
       "163. 'Innere Stadt'\n",
       "164. 'Invalides - Ecole Militaire'\n",
       "165. 'Isle of Dogs'\n",
       "166. 'Islington'\n",
       "167. 'Jamaica Plain'\n",
       "168. 'JerÃ³nimos'\n",
       "169. 'Jordaan'\n",
       "170. 'Justicia'\n",
       "171. 'KÃ¸dbyen'\n",
       "172. 'Karlshorst'\n",
       "173. 'Kennington'\n",
       "174. 'Kensington'\n",
       "175. 'Kreuzberg'\n",
       "176. 'L\\'Antiga Esquerra de l\\'Eixample'\n",
       "177. 'La Barceloneta'\n",
       "178. 'La Chapelle'\n",
       "179. 'La Chopera'\n",
       "180. 'La Latina'\n",
       "181. 'La Nova Esquerra de l\\'Eixample'\n",
       "182. 'La Sagrada FamÃ­lia'\n",
       "183. 'La Salut'\n",
       "184. 'La Vila OlÃ­mpica'\n",
       "185. 'Lachine'\n",
       "186. 'Lake Balboa'\n",
       "187. 'Lakeview'\n",
       "188. 'Landelijk Noord'\n",
       "189. 'LandstraÃŸe'\n",
       "190. 'LB of Brent'\n",
       "191. 'LB of Camden'\n",
       "192. 'LB of Croydon'\n",
       "193. 'LB of Ealing'\n",
       "194. 'LB of Hackney'\n",
       "195. 'LB of Haringey'\n",
       "196. 'LB of Hounslow'\n",
       "197. 'LB of Islington'\n",
       "198. 'LB of Redbridge'\n",
       "199. 'LB of Richmond upon Thames'\n",
       "200. 'LB of Sutton'\n",
       "201. 'Le Marais'\n",
       "202. 'Legazpi'\n",
       "203. 'Leopoldstadt'\n",
       "204. 'Les Corts'\n",
       "205. 'Les Corts (Nabe)'\n",
       "206. 'Lewisham'\n",
       "207. 'Lido'\n",
       "208. 'Lisson Grove'\n",
       "209. 'Lista'\n",
       "210. 'Little Italy'\n",
       "211. 'Logan Square'\n",
       "212. 'Long Beach'\n",
       "213. 'Los Feliz'\n",
       "214. 'Lower East Side'\n",
       "215. 'Madeleine - VendÃ´me'\n",
       "216. 'Magnolia'\n",
       "217. 'Maida Vale'\n",
       "218. 'MalasaÃ±a'\n",
       "219. 'Malibu'\n",
       "220. 'Margareten'\n",
       "221. 'Mariahilf'\n",
       "222. 'Marrickville'\n",
       "223. 'Marylebone'\n",
       "224. 'Mascot'\n",
       "225. 'Matonge'\n",
       "226. 'Mid-Wilshire'\n",
       "227. 'Midtown'\n",
       "228. 'Midtown East'\n",
       "229. 'Mission District'\n",
       "230. 'Mitte'\n",
       "231. 'Moncloa'\n",
       "232. 'Monteverde Vecchio'\n",
       "233. 'Monti'\n",
       "234. 'Montmartre'\n",
       "235. 'Moratalaz'\n",
       "236. 'Nation'\n",
       "237. 'Neos Kosmos'\n",
       "238. 'Neubau'\n",
       "239. 'NeukÃ¶lln'\n",
       "240. 'Newtown/Enmore'\n",
       "241. 'Niagara'\n",
       "242. 'Nieuwmarkt en Lastage'\n",
       "243. 'Nob Hill'\n",
       "244. 'Nolita'\n",
       "245. 'North Beacon Hill'\n",
       "246. 'North City Central/O\\'Connell Street'\n",
       "247. 'North Sydney'\n",
       "248. 'Northcote'\n",
       "249. 'Notting Hill'\n",
       "250. 'Nueva EspaÃ±a'\n",
       "251. 'Nunhead'\n",
       "252. 'Old Town'\n",
       "253. 'Oosterparkbuurt'\n",
       "254. 'Oud-West'\n",
       "255. 'PÃ¨re Lachaise - MÃ©nilmontant'\n",
       "256. 'Pacifico'\n",
       "257. 'Paddington'\n",
       "258. 'Palacio'\n",
       "259. 'Palms'\n",
       "260. 'Palos do Moguer'\n",
       "261. 'PanthÃ©on'\n",
       "262. 'Parione'\n",
       "263. 'Pasadena'\n",
       "264. 'Passy'\n",
       "265. 'Patisia'\n",
       "266. 'Pigalle - Saint-Georges'\n",
       "267. 'Pimlico'\n",
       "268. 'Place d\\'Italie - Quartier Chinois'\n",
       "269. 'Ponte'\n",
       "270. 'Porte de Clignancourt'\n",
       "271. 'Porte de Versailles'\n",
       "272. 'Portobello'\n",
       "273. 'Portuense'\n",
       "274. 'Potts Point'\n",
       "275. 'Prenzlauer Berg'\n",
       "276. 'Prospect Heights'\n",
       "277. 'Prosperidad'\n",
       "278. 'ProvenÃ§als del Poblenou'\n",
       "279. 'Puente de Vallecas'\n",
       "280. 'RÃ©publique'\n",
       "281. 'Ravenna'\n",
       "282. 'RB of Kensington and Chelsea'\n",
       "283. 'Recoletos'\n",
       "284. 'Regola'\n",
       "285. 'Retiro'\n",
       "286. 'Richmond'\n",
       "287. 'Ridgewood'\n",
       "288. 'Rios Rosas'\n",
       "289. 'River North'\n",
       "290. 'Riverbend'\n",
       "291. 'Rivierenbuurt'\n",
       "292. 'Rogers Park'\n",
       "293. 'Rosebery'\n",
       "294. 'Rosedale'\n",
       "295. 'Saint-Germain-des-PrÃ©s - OdÃ©on'\n",
       "296. 'Saint-Lazare'\n",
       "297. 'Saint-Michel'\n",
       "298. 'San Blas'\n",
       "299. 'San Giovanni'\n",
       "300. 'San Lorenzo'\n",
       "301. 'Sandymount'\n",
       "302. 'Sant\\'Eustachio'\n",
       "303. 'Sant Antoni'\n",
       "304. 'Sant Gervasi - Galvany'\n",
       "305. 'Sant Gervasi - la Bonanova'\n",
       "306. 'Sant MartÃ­ de ProvenÃ§als'\n",
       "307. 'Sant Pere/Santa Caterina'\n",
       "308. 'Santa Monica'\n",
       "309. 'Sants-MontjuÃ¯c'\n",
       "310. 'Sants - Badal'\n",
       "311. 'Shepherd\\'s Bush'\n",
       "312. 'Sheung Wan'\n",
       "313. 'Shoreditch'\n",
       "314. 'Silver Lake'\n",
       "315. 'Smithfield'\n",
       "316. 'Soho'\n",
       "317. 'Sol'\n",
       "318. 'South LA'\n",
       "319. 'South Robertson'\n",
       "320. 'South Yarra'\n",
       "321. 'Southside'\n",
       "322. 'Southwark'\n",
       "323. 'Southwest Waterfront'\n",
       "324. 'St Peters'\n",
       "325. 'St. John\\'s Wood'\n",
       "326. 'Stadionbuurt'\n",
       "327. 'Stalingrad'\n",
       "328. 'Stockwell'\n",
       "329. 'Stoke Newington'\n",
       "330. 'Stoneybatter/Arbour Hill'\n",
       "331. 'Sunset Park'\n",
       "332. 'Surry Hills'\n",
       "333. 'Temple Bar'\n",
       "334. 'Templeogue'\n",
       "335. 'Ternes'\n",
       "336. 'Testaccio'\n",
       "337. 'TetuÃ¡n'\n",
       "338. 'The Annex'\n",
       "339. 'The Beaches'\n",
       "340. 'The Castro'\n",
       "341. 'The Liberties'\n",
       "342. 'Times Square/Theatre District'\n",
       "343. 'Tollcross'\n",
       "344. 'Topanga'\n",
       "345. 'Tour Eiffel - Champ de Mars'\n",
       "346. 'Trafalgar'\n",
       "347. 'Trastevere'\n",
       "348. 'Trevi'\n",
       "349. 'Trieste'\n",
       "350. 'Trinity College'\n",
       "351. 'Truxton Circle'\n",
       "352. 'Tsim Sha Tsui'\n",
       "353. 'Upper East Side'\n",
       "354. 'Upper Tooting'\n",
       "355. 'Upper West Side'\n",
       "356. 'Usera'\n",
       "357. 'Valby'\n",
       "358. 'Valdeacederas'\n",
       "359. 'Vallehermosa'\n",
       "360. 'Van Nuys'\n",
       "361. 'Vaugirard'\n",
       "362. 'Venice'\n",
       "363. 'Vesterbro'\n",
       "364. 'VicÃ¡lvaro'\n",
       "365. 'Vila de GrÃ cia'\n",
       "366. 'Villa de Vallecas'\n",
       "367. 'Villaverde'\n",
       "368. 'WÃ¤hring'\n",
       "369. 'Wallace Emerson'\n",
       "370. 'Wallingford'\n",
       "371. 'Walworth'\n",
       "372. 'Wedding'\n",
       "373. 'Weesperbuurt en Plantage'\n",
       "374. 'WeiÃŸensee'\n",
       "375. 'West Adams'\n",
       "376. 'West Austin'\n",
       "377. 'West Hollywood'\n",
       "378. 'West Norwood'\n",
       "379. 'West Village'\n",
       "380. 'Westminster'\n",
       "381. 'Westmount'\n",
       "382. 'Westside'\n",
       "383. 'Whitechapel/Brick Lane'\n",
       "384. 'Wicker Park'\n",
       "385. 'Wieden'\n",
       "386. 'Williamsburg'\n",
       "387. 'Wilmersdorf'\n",
       "388. 'Wimbledon'\n",
       "389. 'Woollahra'\n",
       "390. 'XI Arrondissement'\n",
       "391. 'Zilker'\n",
       "\n",
       "\n"
      ],
      "text/plain": [
       " [1]                     Embajadores         La Latina          \n",
       " [4] Palacio             MalasaÃ±a           Sol                \n",
       " [7] Acacias             Palos do Moguer     Pacifico           \n",
       "[10] El TrÃ©ntaiseis     Ibiza               JerÃ³nimos         \n",
       "[13] Cortes              Justicia            Recoletos          \n",
       "[16] Goya                Fuente del Berro    Guindalera         \n",
       "[19] Lista               HispanoamÃ©rica     Nueva EspaÃ±a      \n",
       "[22] Castilla            Cuatro Caminos      Castillejos        \n",
       "[25] Valdeacederas       Gaztambide          Hortaleza          \n",
       "[28] Arapiles            Trafalgar           Almagro            \n",
       "[31] Rios Rosas          Fuencarral-el Pardo ArgÃ¼elles         \n",
       "[34] Villaverde          Aluche              TetuÃ¡n            \n",
       "[37] Usera               Puente de Vallecas  Imperial           \n",
       "[40] La Chopera          Delicias            Adelfas            \n",
       "[43] Estrella            Centro              Prosperidad        \n",
       "[46] Almenara            Berruguete          Ciudad Jardin      \n",
       "[49] Moncloa             Carabanchel         Ciudad Lineal      \n",
       "[52] Villa de Vallecas   Barajas             Legazpi            \n",
       "[55] Retiro              Castellana          El Viso            \n",
       "[58] Bellas Vistas       Moratalaz           San Blas           \n",
       "[61] Vallehermosa        ChamberÃ­           Arganzuela         \n",
       "[64] VicÃ¡lvaro          Atocha              Fuencarral-El Pardo\n",
       "391 Levels:  Ã\\230sterbro Acacias Acton Adams Morgan Adelfas ... Zilker"
      ]
     },
     "metadata": {},
     "output_type": "display_data"
    }
   ],
   "source": [
    "unique(airbnb1$Neighbourhood)"
   ]
  },
  {
   "cell_type": "code",
   "execution_count": 252,
   "metadata": {},
   "outputs": [],
   "source": [
    "airbnb2 <- airbnb1[airbnb1$Neighbourhood != '', ]"
   ]
  },
  {
   "cell_type": "code",
   "execution_count": 253,
   "metadata": {},
   "outputs": [
    {
     "data": {
      "text/html": [
       "<ol class=list-inline>\n",
       "\t<li>5601</li>\n",
       "\t<li>14</li>\n",
       "</ol>\n"
      ],
      "text/latex": [
       "\\begin{enumerate*}\n",
       "\\item 5601\n",
       "\\item 14\n",
       "\\end{enumerate*}\n"
      ],
      "text/markdown": [
       "1. 5601\n",
       "2. 14\n",
       "\n",
       "\n"
      ],
      "text/plain": [
       "[1] 5601   14"
      ]
     },
     "metadata": {},
     "output_type": "display_data"
    }
   ],
   "source": [
    "dim(airbnb2)"
   ]
  },
  {
   "cell_type": "code",
   "execution_count": 254,
   "metadata": {},
   "outputs": [
    {
     "data": {
      "text/html": [
       "<table>\n",
       "<thead><tr><th></th><th scope=col>City</th><th scope=col>Room.Type</th><th scope=col>Neighbourhood</th><th scope=col>Accommodates</th><th scope=col>Bathrooms</th><th scope=col>Bedrooms</th><th scope=col>Beds</th><th scope=col>Price</th><th scope=col>Square.Feet</th><th scope=col>Guests.Included</th><th scope=col>Extra.People</th><th scope=col>Review.Scores.Rating</th><th scope=col>Latitude</th><th scope=col>Longitude</th></tr></thead>\n",
       "<tbody>\n",
       "\t<tr><th scope=row>4</th><td>Madrid         </td><td>Entire home/apt</td><td>Embajadores    </td><td> 2             </td><td>1              </td><td>1              </td><td> 2             </td><td> 50            </td><td>NA             </td><td>1              </td><td>20             </td><td>93             </td><td>40.41126       </td><td>-3.697305      </td></tr>\n",
       "\t<tr><th scope=row>5</th><td>Madrid         </td><td>Entire home/apt</td><td>Embajadores    </td><td> 5             </td><td>1              </td><td>2              </td><td> 4             </td><td> 95            </td><td>NA             </td><td>4              </td><td> 0             </td><td>97             </td><td>40.41256       </td><td>-3.701155      </td></tr>\n",
       "\t<tr><th scope=row>6</th><td>Madrid         </td><td>Entire home/apt</td><td>La Latina      </td><td> 4             </td><td>1              </td><td>1              </td><td> 2             </td><td> 69            </td><td>NA             </td><td>2              </td><td>18             </td><td>91             </td><td>40.40791       </td><td>-3.705095      </td></tr>\n",
       "\t<tr><th scope=row>9</th><td>Madrid         </td><td>Entire home/apt</td><td>Embajadores    </td><td> 4             </td><td>1              </td><td>1              </td><td> 2             </td><td> 57            </td><td>NA             </td><td>2              </td><td> 8             </td><td>98             </td><td>40.41162       </td><td>-3.703281      </td></tr>\n",
       "\t<tr><th scope=row>10</th><td>Madrid         </td><td>Entire home/apt</td><td>La Latina      </td><td> 2             </td><td>1              </td><td>1              </td><td> 1             </td><td> 59            </td><td>NA             </td><td>1              </td><td> 0             </td><td>95             </td><td>40.40734       </td><td>-3.707019      </td></tr>\n",
       "\t<tr><th scope=row>15</th><td>Madrid         </td><td>Entire home/apt</td><td>La Latina      </td><td>14             </td><td>2              </td><td>3              </td><td>14             </td><td>120            </td><td>NA             </td><td>2              </td><td>18             </td><td>92             </td><td>40.40908       </td><td>-3.704744      </td></tr>\n",
       "</tbody>\n",
       "</table>\n"
      ],
      "text/latex": [
       "\\begin{tabular}{r|llllllllllllll}\n",
       "  & City & Room.Type & Neighbourhood & Accommodates & Bathrooms & Bedrooms & Beds & Price & Square.Feet & Guests.Included & Extra.People & Review.Scores.Rating & Latitude & Longitude\\\\\n",
       "\\hline\n",
       "\t4 & Madrid          & Entire home/apt & Embajadores     &  2              & 1               & 1               &  2              &  50             & NA              & 1               & 20              & 93              & 40.41126        & -3.697305      \\\\\n",
       "\t5 & Madrid          & Entire home/apt & Embajadores     &  5              & 1               & 2               &  4              &  95             & NA              & 4               &  0              & 97              & 40.41256        & -3.701155      \\\\\n",
       "\t6 & Madrid          & Entire home/apt & La Latina       &  4              & 1               & 1               &  2              &  69             & NA              & 2               & 18              & 91              & 40.40791        & -3.705095      \\\\\n",
       "\t9 & Madrid          & Entire home/apt & Embajadores     &  4              & 1               & 1               &  2              &  57             & NA              & 2               &  8              & 98              & 40.41162        & -3.703281      \\\\\n",
       "\t10 & Madrid          & Entire home/apt & La Latina       &  2              & 1               & 1               &  1              &  59             & NA              & 1               &  0              & 95              & 40.40734        & -3.707019      \\\\\n",
       "\t15 & Madrid          & Entire home/apt & La Latina       & 14              & 2               & 3               & 14              & 120             & NA              & 2               & 18              & 92              & 40.40908        & -3.704744      \\\\\n",
       "\\end{tabular}\n"
      ],
      "text/markdown": [
       "\n",
       "| <!--/--> | City | Room.Type | Neighbourhood | Accommodates | Bathrooms | Bedrooms | Beds | Price | Square.Feet | Guests.Included | Extra.People | Review.Scores.Rating | Latitude | Longitude |\n",
       "|---|---|---|---|---|---|---|---|---|---|---|---|---|---|---|\n",
       "| 4 | Madrid          | Entire home/apt | Embajadores     |  2              | 1               | 1               |  2              |  50             | NA              | 1               | 20              | 93              | 40.41126        | -3.697305       |\n",
       "| 5 | Madrid          | Entire home/apt | Embajadores     |  5              | 1               | 2               |  4              |  95             | NA              | 4               |  0              | 97              | 40.41256        | -3.701155       |\n",
       "| 6 | Madrid          | Entire home/apt | La Latina       |  4              | 1               | 1               |  2              |  69             | NA              | 2               | 18              | 91              | 40.40791        | -3.705095       |\n",
       "| 9 | Madrid          | Entire home/apt | Embajadores     |  4              | 1               | 1               |  2              |  57             | NA              | 2               |  8              | 98              | 40.41162        | -3.703281       |\n",
       "| 10 | Madrid          | Entire home/apt | La Latina       |  2              | 1               | 1               |  1              |  59             | NA              | 1               |  0              | 95              | 40.40734        | -3.707019       |\n",
       "| 15 | Madrid          | Entire home/apt | La Latina       | 14              | 2               | 3               | 14              | 120             | NA              | 2               | 18              | 92              | 40.40908        | -3.704744       |\n",
       "\n"
      ],
      "text/plain": [
       "   City   Room.Type       Neighbourhood Accommodates Bathrooms Bedrooms Beds\n",
       "4  Madrid Entire home/apt Embajadores    2           1         1         2  \n",
       "5  Madrid Entire home/apt Embajadores    5           1         2         4  \n",
       "6  Madrid Entire home/apt La Latina      4           1         1         2  \n",
       "9  Madrid Entire home/apt Embajadores    4           1         1         2  \n",
       "10 Madrid Entire home/apt La Latina      2           1         1         1  \n",
       "15 Madrid Entire home/apt La Latina     14           2         3        14  \n",
       "   Price Square.Feet Guests.Included Extra.People Review.Scores.Rating Latitude\n",
       "4   50   NA          1               20           93                   40.41126\n",
       "5   95   NA          4                0           97                   40.41256\n",
       "6   69   NA          2               18           91                   40.40791\n",
       "9   57   NA          2                8           98                   40.41162\n",
       "10  59   NA          1                0           95                   40.40734\n",
       "15 120   NA          2               18           92                   40.40908\n",
       "   Longitude\n",
       "4  -3.697305\n",
       "5  -3.701155\n",
       "6  -3.705095\n",
       "9  -3.703281\n",
       "10 -3.707019\n",
       "15 -3.704744"
      ]
     },
     "metadata": {},
     "output_type": "display_data"
    }
   ],
   "source": [
    "head(airbnb2)"
   ]
  },
  {
   "cell_type": "markdown",
   "metadata": {},
   "source": [
    "Finalmente eliminamos las columas que ya no nos interesan."
   ]
  },
  {
   "cell_type": "code",
   "execution_count": 255,
   "metadata": {},
   "outputs": [],
   "source": [
    "df_madrid <- subset(airbnb2, select = -c(Room.Type, City))"
   ]
  },
  {
   "cell_type": "code",
   "execution_count": 256,
   "metadata": {},
   "outputs": [
    {
     "data": {
      "text/html": [
       "<table>\n",
       "<thead><tr><th></th><th scope=col>Neighbourhood</th><th scope=col>Accommodates</th><th scope=col>Bathrooms</th><th scope=col>Bedrooms</th><th scope=col>Beds</th><th scope=col>Price</th><th scope=col>Square.Feet</th><th scope=col>Guests.Included</th><th scope=col>Extra.People</th><th scope=col>Review.Scores.Rating</th><th scope=col>Latitude</th><th scope=col>Longitude</th></tr></thead>\n",
       "<tbody>\n",
       "\t<tr><th scope=row>4</th><td>Embajadores</td><td> 2         </td><td>1          </td><td>1          </td><td> 2         </td><td> 50        </td><td>NA         </td><td>1          </td><td>20         </td><td>93         </td><td>40.41126   </td><td>-3.697305  </td></tr>\n",
       "\t<tr><th scope=row>5</th><td>Embajadores</td><td> 5         </td><td>1          </td><td>2          </td><td> 4         </td><td> 95        </td><td>NA         </td><td>4          </td><td> 0         </td><td>97         </td><td>40.41256   </td><td>-3.701155  </td></tr>\n",
       "\t<tr><th scope=row>6</th><td>La Latina  </td><td> 4         </td><td>1          </td><td>1          </td><td> 2         </td><td> 69        </td><td>NA         </td><td>2          </td><td>18         </td><td>91         </td><td>40.40791   </td><td>-3.705095  </td></tr>\n",
       "\t<tr><th scope=row>9</th><td>Embajadores</td><td> 4         </td><td>1          </td><td>1          </td><td> 2         </td><td> 57        </td><td>NA         </td><td>2          </td><td> 8         </td><td>98         </td><td>40.41162   </td><td>-3.703281  </td></tr>\n",
       "\t<tr><th scope=row>10</th><td>La Latina  </td><td> 2         </td><td>1          </td><td>1          </td><td> 1         </td><td> 59        </td><td>NA         </td><td>1          </td><td> 0         </td><td>95         </td><td>40.40734   </td><td>-3.707019  </td></tr>\n",
       "\t<tr><th scope=row>15</th><td>La Latina  </td><td>14         </td><td>2          </td><td>3          </td><td>14         </td><td>120        </td><td>NA         </td><td>2          </td><td>18         </td><td>92         </td><td>40.40908   </td><td>-3.704744  </td></tr>\n",
       "</tbody>\n",
       "</table>\n"
      ],
      "text/latex": [
       "\\begin{tabular}{r|llllllllllll}\n",
       "  & Neighbourhood & Accommodates & Bathrooms & Bedrooms & Beds & Price & Square.Feet & Guests.Included & Extra.People & Review.Scores.Rating & Latitude & Longitude\\\\\n",
       "\\hline\n",
       "\t4 & Embajadores &  2          & 1           & 1           &  2          &  50         & NA          & 1           & 20          & 93          & 40.41126    & -3.697305  \\\\\n",
       "\t5 & Embajadores &  5          & 1           & 2           &  4          &  95         & NA          & 4           &  0          & 97          & 40.41256    & -3.701155  \\\\\n",
       "\t6 & La Latina   &  4          & 1           & 1           &  2          &  69         & NA          & 2           & 18          & 91          & 40.40791    & -3.705095  \\\\\n",
       "\t9 & Embajadores &  4          & 1           & 1           &  2          &  57         & NA          & 2           &  8          & 98          & 40.41162    & -3.703281  \\\\\n",
       "\t10 & La Latina   &  2          & 1           & 1           &  1          &  59         & NA          & 1           &  0          & 95          & 40.40734    & -3.707019  \\\\\n",
       "\t15 & La Latina   & 14          & 2           & 3           & 14          & 120         & NA          & 2           & 18          & 92          & 40.40908    & -3.704744  \\\\\n",
       "\\end{tabular}\n"
      ],
      "text/markdown": [
       "\n",
       "| <!--/--> | Neighbourhood | Accommodates | Bathrooms | Bedrooms | Beds | Price | Square.Feet | Guests.Included | Extra.People | Review.Scores.Rating | Latitude | Longitude |\n",
       "|---|---|---|---|---|---|---|---|---|---|---|---|---|\n",
       "| 4 | Embajadores |  2          | 1           | 1           |  2          |  50         | NA          | 1           | 20          | 93          | 40.41126    | -3.697305   |\n",
       "| 5 | Embajadores |  5          | 1           | 2           |  4          |  95         | NA          | 4           |  0          | 97          | 40.41256    | -3.701155   |\n",
       "| 6 | La Latina   |  4          | 1           | 1           |  2          |  69         | NA          | 2           | 18          | 91          | 40.40791    | -3.705095   |\n",
       "| 9 | Embajadores |  4          | 1           | 1           |  2          |  57         | NA          | 2           |  8          | 98          | 40.41162    | -3.703281   |\n",
       "| 10 | La Latina   |  2          | 1           | 1           |  1          |  59         | NA          | 1           |  0          | 95          | 40.40734    | -3.707019   |\n",
       "| 15 | La Latina   | 14          | 2           | 3           | 14          | 120         | NA          | 2           | 18          | 92          | 40.40908    | -3.704744   |\n",
       "\n"
      ],
      "text/plain": [
       "   Neighbourhood Accommodates Bathrooms Bedrooms Beds Price Square.Feet\n",
       "4  Embajadores    2           1         1         2    50   NA         \n",
       "5  Embajadores    5           1         2         4    95   NA         \n",
       "6  La Latina      4           1         1         2    69   NA         \n",
       "9  Embajadores    4           1         1         2    57   NA         \n",
       "10 La Latina      2           1         1         1    59   NA         \n",
       "15 La Latina     14           2         3        14   120   NA         \n",
       "   Guests.Included Extra.People Review.Scores.Rating Latitude Longitude\n",
       "4  1               20           93                   40.41126 -3.697305\n",
       "5  4                0           97                   40.41256 -3.701155\n",
       "6  2               18           91                   40.40791 -3.705095\n",
       "9  2                8           98                   40.41162 -3.703281\n",
       "10 1                0           95                   40.40734 -3.707019\n",
       "15 2               18           92                   40.40908 -3.704744"
      ]
     },
     "metadata": {},
     "output_type": "display_data"
    }
   ],
   "source": [
    "head(df_madrid)"
   ]
  },
  {
   "cell_type": "code",
   "execution_count": null,
   "metadata": {},
   "outputs": [],
   "source": []
  },
  {
   "cell_type": "code",
   "execution_count": null,
   "metadata": {},
   "outputs": [],
   "source": []
  },
  {
   "cell_type": "markdown",
   "metadata": {},
   "source": [
    "P4 - Crea una nueva columna llamada Square.Meters a partir de Square.Feet. Recuerda que un pie cuadrado son 0.092903 metros cuadrados."
   ]
  },
  {
   "cell_type": "markdown",
   "metadata": {},
   "source": [
    "R4 - Creamos la columna, redondeando el resultado."
   ]
  },
  {
   "cell_type": "code",
   "execution_count": 257,
   "metadata": {},
   "outputs": [],
   "source": [
    "df_madrid$Square.Meters <- round(df_madrid$Square.Feet * 0.092903, 2)"
   ]
  },
  {
   "cell_type": "code",
   "execution_count": 258,
   "metadata": {},
   "outputs": [
    {
     "data": {
      "text/html": [
       "<table>\n",
       "<thead><tr><th></th><th scope=col>Neighbourhood</th><th scope=col>Accommodates</th><th scope=col>Bathrooms</th><th scope=col>Bedrooms</th><th scope=col>Beds</th><th scope=col>Price</th><th scope=col>Square.Feet</th><th scope=col>Guests.Included</th><th scope=col>Extra.People</th><th scope=col>Review.Scores.Rating</th><th scope=col>Latitude</th><th scope=col>Longitude</th><th scope=col>Square.Meters</th></tr></thead>\n",
       "<tbody>\n",
       "\t<tr><th scope=row>4</th><td>Embajadores</td><td> 2         </td><td>1          </td><td>1          </td><td> 2         </td><td> 50        </td><td>NA         </td><td>1          </td><td>20         </td><td>93         </td><td>40.41126   </td><td>-3.697305  </td><td>NA         </td></tr>\n",
       "\t<tr><th scope=row>5</th><td>Embajadores</td><td> 5         </td><td>1          </td><td>2          </td><td> 4         </td><td> 95        </td><td>NA         </td><td>4          </td><td> 0         </td><td>97         </td><td>40.41256   </td><td>-3.701155  </td><td>NA         </td></tr>\n",
       "\t<tr><th scope=row>6</th><td>La Latina  </td><td> 4         </td><td>1          </td><td>1          </td><td> 2         </td><td> 69        </td><td>NA         </td><td>2          </td><td>18         </td><td>91         </td><td>40.40791   </td><td>-3.705095  </td><td>NA         </td></tr>\n",
       "\t<tr><th scope=row>9</th><td>Embajadores</td><td> 4         </td><td>1          </td><td>1          </td><td> 2         </td><td> 57        </td><td>NA         </td><td>2          </td><td> 8         </td><td>98         </td><td>40.41162   </td><td>-3.703281  </td><td>NA         </td></tr>\n",
       "\t<tr><th scope=row>10</th><td>La Latina  </td><td> 2         </td><td>1          </td><td>1          </td><td> 1         </td><td> 59        </td><td>NA         </td><td>1          </td><td> 0         </td><td>95         </td><td>40.40734   </td><td>-3.707019  </td><td>NA         </td></tr>\n",
       "\t<tr><th scope=row>15</th><td>La Latina  </td><td>14         </td><td>2          </td><td>3          </td><td>14         </td><td>120        </td><td>NA         </td><td>2          </td><td>18         </td><td>92         </td><td>40.40908   </td><td>-3.704744  </td><td>NA         </td></tr>\n",
       "</tbody>\n",
       "</table>\n"
      ],
      "text/latex": [
       "\\begin{tabular}{r|lllllllllllll}\n",
       "  & Neighbourhood & Accommodates & Bathrooms & Bedrooms & Beds & Price & Square.Feet & Guests.Included & Extra.People & Review.Scores.Rating & Latitude & Longitude & Square.Meters\\\\\n",
       "\\hline\n",
       "\t4 & Embajadores &  2          & 1           & 1           &  2          &  50         & NA          & 1           & 20          & 93          & 40.41126    & -3.697305   & NA         \\\\\n",
       "\t5 & Embajadores &  5          & 1           & 2           &  4          &  95         & NA          & 4           &  0          & 97          & 40.41256    & -3.701155   & NA         \\\\\n",
       "\t6 & La Latina   &  4          & 1           & 1           &  2          &  69         & NA          & 2           & 18          & 91          & 40.40791    & -3.705095   & NA         \\\\\n",
       "\t9 & Embajadores &  4          & 1           & 1           &  2          &  57         & NA          & 2           &  8          & 98          & 40.41162    & -3.703281   & NA         \\\\\n",
       "\t10 & La Latina   &  2          & 1           & 1           &  1          &  59         & NA          & 1           &  0          & 95          & 40.40734    & -3.707019   & NA         \\\\\n",
       "\t15 & La Latina   & 14          & 2           & 3           & 14          & 120         & NA          & 2           & 18          & 92          & 40.40908    & -3.704744   & NA         \\\\\n",
       "\\end{tabular}\n"
      ],
      "text/markdown": [
       "\n",
       "| <!--/--> | Neighbourhood | Accommodates | Bathrooms | Bedrooms | Beds | Price | Square.Feet | Guests.Included | Extra.People | Review.Scores.Rating | Latitude | Longitude | Square.Meters |\n",
       "|---|---|---|---|---|---|---|---|---|---|---|---|---|---|\n",
       "| 4 | Embajadores |  2          | 1           | 1           |  2          |  50         | NA          | 1           | 20          | 93          | 40.41126    | -3.697305   | NA          |\n",
       "| 5 | Embajadores |  5          | 1           | 2           |  4          |  95         | NA          | 4           |  0          | 97          | 40.41256    | -3.701155   | NA          |\n",
       "| 6 | La Latina   |  4          | 1           | 1           |  2          |  69         | NA          | 2           | 18          | 91          | 40.40791    | -3.705095   | NA          |\n",
       "| 9 | Embajadores |  4          | 1           | 1           |  2          |  57         | NA          | 2           |  8          | 98          | 40.41162    | -3.703281   | NA          |\n",
       "| 10 | La Latina   |  2          | 1           | 1           |  1          |  59         | NA          | 1           |  0          | 95          | 40.40734    | -3.707019   | NA          |\n",
       "| 15 | La Latina   | 14          | 2           | 3           | 14          | 120         | NA          | 2           | 18          | 92          | 40.40908    | -3.704744   | NA          |\n",
       "\n"
      ],
      "text/plain": [
       "   Neighbourhood Accommodates Bathrooms Bedrooms Beds Price Square.Feet\n",
       "4  Embajadores    2           1         1         2    50   NA         \n",
       "5  Embajadores    5           1         2         4    95   NA         \n",
       "6  La Latina      4           1         1         2    69   NA         \n",
       "9  Embajadores    4           1         1         2    57   NA         \n",
       "10 La Latina      2           1         1         1    59   NA         \n",
       "15 La Latina     14           2         3        14   120   NA         \n",
       "   Guests.Included Extra.People Review.Scores.Rating Latitude Longitude\n",
       "4  1               20           93                   40.41126 -3.697305\n",
       "5  4                0           97                   40.41256 -3.701155\n",
       "6  2               18           91                   40.40791 -3.705095\n",
       "9  2                8           98                   40.41162 -3.703281\n",
       "10 1                0           95                   40.40734 -3.707019\n",
       "15 2               18           92                   40.40908 -3.704744\n",
       "   Square.Meters\n",
       "4  NA           \n",
       "5  NA           \n",
       "6  NA           \n",
       "9  NA           \n",
       "10 NA           \n",
       "15 NA           "
      ]
     },
     "metadata": {},
     "output_type": "display_data"
    }
   ],
   "source": [
    "head(df_madrid)"
   ]
  },
  {
   "cell_type": "code",
   "execution_count": null,
   "metadata": {},
   "outputs": [],
   "source": []
  },
  {
   "cell_type": "markdown",
   "metadata": {},
   "source": [
    "P5 - ¿Que porcentaje de los apartamentos no muestran los metros cuadrados? Es decir, ¿cuantos tienen NA en Square.Meters?"
   ]
  },
  {
   "cell_type": "markdown",
   "metadata": {},
   "source": [
    "R5 - Aplicamos una función lambda, sapply, y sumamos aquellos resultados que dan 1, obteniendo el total de NAs, más de 5.000.\n",
    "El porcentaje es la división entre este número y el número de filas, casi el 94%."
   ]
  },
  {
   "cell_type": "code",
   "execution_count": 267,
   "metadata": {},
   "outputs": [],
   "source": [
    "na_SM = sum(sapply(df_madrid$Square.Meters, function(x) sum(is.na(x))))"
   ]
  },
  {
   "cell_type": "code",
   "execution_count": 268,
   "metadata": {},
   "outputs": [
    {
     "data": {
      "text/html": [
       "5254"
      ],
      "text/latex": [
       "5254"
      ],
      "text/markdown": [
       "5254"
      ],
      "text/plain": [
       "[1] 5254"
      ]
     },
     "metadata": {},
     "output_type": "display_data"
    }
   ],
   "source": [
    "na_SM"
   ]
  },
  {
   "cell_type": "code",
   "execution_count": 269,
   "metadata": {},
   "outputs": [],
   "source": [
    "porcentaje_na_SM <- na_SM / nrow(df_madrid) * 100"
   ]
  },
  {
   "cell_type": "code",
   "execution_count": 270,
   "metadata": {},
   "outputs": [
    {
     "data": {
      "text/html": [
       "93.8046777361185"
      ],
      "text/latex": [
       "93.8046777361185"
      ],
      "text/markdown": [
       "93.8046777361185"
      ],
      "text/plain": [
       "[1] 93.80468"
      ]
     },
     "metadata": {},
     "output_type": "display_data"
    }
   ],
   "source": [
    "porcentaje_na_SM"
   ]
  },
  {
   "cell_type": "code",
   "execution_count": null,
   "metadata": {},
   "outputs": [],
   "source": []
  },
  {
   "cell_type": "markdown",
   "metadata": {},
   "source": [
    "P6 - De todos los apartamentos que tienen un valor de metros cuadrados diferente de NA \n",
    "¿Que porcentaje de los apartamentos tienen 0 metros cuadrados?"
   ]
  },
  {
   "cell_type": "markdown",
   "metadata": {},
   "source": [
    "R6 - Procedemos de la misma manera en realidad, solo que omitimos esta vez las filas con NA. "
   ]
  },
  {
   "cell_type": "code",
   "execution_count": 275,
   "metadata": {},
   "outputs": [],
   "source": [
    "cero_m2 = sum(na.omit(sapply(df_madrid$Square.Meters, function(x) sum(x == 0))))"
   ]
  },
  {
   "cell_type": "code",
   "execution_count": 276,
   "metadata": {},
   "outputs": [
    {
     "data": {
      "text/html": [
       "128"
      ],
      "text/latex": [
       "128"
      ],
      "text/markdown": [
       "128"
      ],
      "text/plain": [
       "[1] 128"
      ]
     },
     "metadata": {},
     "output_type": "display_data"
    }
   ],
   "source": [
    "cero_m2"
   ]
  },
  {
   "cell_type": "code",
   "execution_count": 277,
   "metadata": {},
   "outputs": [],
   "source": [
    "porcentaje_cero_m2 <- cero_m2 / ( dim(df_madrid)[1] - na_SM ) * 100"
   ]
  },
  {
   "cell_type": "code",
   "execution_count": 278,
   "metadata": {},
   "outputs": [
    {
     "data": {
      "text/html": [
       "36.8876080691643"
      ],
      "text/latex": [
       "36.8876080691643"
      ],
      "text/markdown": [
       "36.8876080691643"
      ],
      "text/plain": [
       "[1] 36.88761"
      ]
     },
     "metadata": {},
     "output_type": "display_data"
    }
   ],
   "source": [
    "porcentaje_cero_m2"
   ]
  },
  {
   "cell_type": "code",
   "execution_count": null,
   "metadata": {},
   "outputs": [],
   "source": []
  },
  {
   "cell_type": "code",
   "execution_count": null,
   "metadata": {},
   "outputs": [],
   "source": []
  },
  {
   "cell_type": "markdown",
   "metadata": {},
   "source": [
    "P7 - Reemplazar todos los 0m^2 por NA "
   ]
  },
  {
   "cell_type": "markdown",
   "metadata": {},
   "source": [
    "R7 - Para ello utilizamos la función replace(), que lo hace cómodamente."
   ]
  },
  {
   "cell_type": "code",
   "execution_count": 279,
   "metadata": {},
   "outputs": [],
   "source": [
    "df_madrid$Square.Meters <- replace(df_madrid$Square.Meters, df_madrid$Square.Meters == 0, NA)"
   ]
  },
  {
   "cell_type": "code",
   "execution_count": 280,
   "metadata": {},
   "outputs": [
    {
     "data": {
      "text/html": [
       "<table>\n",
       "<thead><tr><th></th><th scope=col>Neighbourhood</th><th scope=col>Accommodates</th><th scope=col>Bathrooms</th><th scope=col>Bedrooms</th><th scope=col>Beds</th><th scope=col>Price</th><th scope=col>Square.Feet</th><th scope=col>Guests.Included</th><th scope=col>Extra.People</th><th scope=col>Review.Scores.Rating</th><th scope=col>Latitude</th><th scope=col>Longitude</th><th scope=col>Square.Meters</th></tr></thead>\n",
       "<tbody>\n",
       "\t<tr><th scope=row>4</th><td>Embajadores</td><td> 2         </td><td>1          </td><td>1          </td><td> 2         </td><td> 50        </td><td>NA         </td><td>1          </td><td>20         </td><td>93         </td><td>40.41126   </td><td>-3.697305  </td><td>NA         </td></tr>\n",
       "\t<tr><th scope=row>5</th><td>Embajadores</td><td> 5         </td><td>1          </td><td>2          </td><td> 4         </td><td> 95        </td><td>NA         </td><td>4          </td><td> 0         </td><td>97         </td><td>40.41256   </td><td>-3.701155  </td><td>NA         </td></tr>\n",
       "\t<tr><th scope=row>6</th><td>La Latina  </td><td> 4         </td><td>1          </td><td>1          </td><td> 2         </td><td> 69        </td><td>NA         </td><td>2          </td><td>18         </td><td>91         </td><td>40.40791   </td><td>-3.705095  </td><td>NA         </td></tr>\n",
       "\t<tr><th scope=row>9</th><td>Embajadores</td><td> 4         </td><td>1          </td><td>1          </td><td> 2         </td><td> 57        </td><td>NA         </td><td>2          </td><td> 8         </td><td>98         </td><td>40.41162   </td><td>-3.703281  </td><td>NA         </td></tr>\n",
       "\t<tr><th scope=row>10</th><td>La Latina  </td><td> 2         </td><td>1          </td><td>1          </td><td> 1         </td><td> 59        </td><td>NA         </td><td>1          </td><td> 0         </td><td>95         </td><td>40.40734   </td><td>-3.707019  </td><td>NA         </td></tr>\n",
       "\t<tr><th scope=row>15</th><td>La Latina  </td><td>14         </td><td>2          </td><td>3          </td><td>14         </td><td>120        </td><td>NA         </td><td>2          </td><td>18         </td><td>92         </td><td>40.40908   </td><td>-3.704744  </td><td>NA         </td></tr>\n",
       "</tbody>\n",
       "</table>\n"
      ],
      "text/latex": [
       "\\begin{tabular}{r|lllllllllllll}\n",
       "  & Neighbourhood & Accommodates & Bathrooms & Bedrooms & Beds & Price & Square.Feet & Guests.Included & Extra.People & Review.Scores.Rating & Latitude & Longitude & Square.Meters\\\\\n",
       "\\hline\n",
       "\t4 & Embajadores &  2          & 1           & 1           &  2          &  50         & NA          & 1           & 20          & 93          & 40.41126    & -3.697305   & NA         \\\\\n",
       "\t5 & Embajadores &  5          & 1           & 2           &  4          &  95         & NA          & 4           &  0          & 97          & 40.41256    & -3.701155   & NA         \\\\\n",
       "\t6 & La Latina   &  4          & 1           & 1           &  2          &  69         & NA          & 2           & 18          & 91          & 40.40791    & -3.705095   & NA         \\\\\n",
       "\t9 & Embajadores &  4          & 1           & 1           &  2          &  57         & NA          & 2           &  8          & 98          & 40.41162    & -3.703281   & NA         \\\\\n",
       "\t10 & La Latina   &  2          & 1           & 1           &  1          &  59         & NA          & 1           &  0          & 95          & 40.40734    & -3.707019   & NA         \\\\\n",
       "\t15 & La Latina   & 14          & 2           & 3           & 14          & 120         & NA          & 2           & 18          & 92          & 40.40908    & -3.704744   & NA         \\\\\n",
       "\\end{tabular}\n"
      ],
      "text/markdown": [
       "\n",
       "| <!--/--> | Neighbourhood | Accommodates | Bathrooms | Bedrooms | Beds | Price | Square.Feet | Guests.Included | Extra.People | Review.Scores.Rating | Latitude | Longitude | Square.Meters |\n",
       "|---|---|---|---|---|---|---|---|---|---|---|---|---|---|\n",
       "| 4 | Embajadores |  2          | 1           | 1           |  2          |  50         | NA          | 1           | 20          | 93          | 40.41126    | -3.697305   | NA          |\n",
       "| 5 | Embajadores |  5          | 1           | 2           |  4          |  95         | NA          | 4           |  0          | 97          | 40.41256    | -3.701155   | NA          |\n",
       "| 6 | La Latina   |  4          | 1           | 1           |  2          |  69         | NA          | 2           | 18          | 91          | 40.40791    | -3.705095   | NA          |\n",
       "| 9 | Embajadores |  4          | 1           | 1           |  2          |  57         | NA          | 2           |  8          | 98          | 40.41162    | -3.703281   | NA          |\n",
       "| 10 | La Latina   |  2          | 1           | 1           |  1          |  59         | NA          | 1           |  0          | 95          | 40.40734    | -3.707019   | NA          |\n",
       "| 15 | La Latina   | 14          | 2           | 3           | 14          | 120         | NA          | 2           | 18          | 92          | 40.40908    | -3.704744   | NA          |\n",
       "\n"
      ],
      "text/plain": [
       "   Neighbourhood Accommodates Bathrooms Bedrooms Beds Price Square.Feet\n",
       "4  Embajadores    2           1         1         2    50   NA         \n",
       "5  Embajadores    5           1         2         4    95   NA         \n",
       "6  La Latina      4           1         1         2    69   NA         \n",
       "9  Embajadores    4           1         1         2    57   NA         \n",
       "10 La Latina      2           1         1         1    59   NA         \n",
       "15 La Latina     14           2         3        14   120   NA         \n",
       "   Guests.Included Extra.People Review.Scores.Rating Latitude Longitude\n",
       "4  1               20           93                   40.41126 -3.697305\n",
       "5  4                0           97                   40.41256 -3.701155\n",
       "6  2               18           91                   40.40791 -3.705095\n",
       "9  2                8           98                   40.41162 -3.703281\n",
       "10 1                0           95                   40.40734 -3.707019\n",
       "15 2               18           92                   40.40908 -3.704744\n",
       "   Square.Meters\n",
       "4  NA           \n",
       "5  NA           \n",
       "6  NA           \n",
       "9  NA           \n",
       "10 NA           \n",
       "15 NA           "
      ]
     },
     "metadata": {},
     "output_type": "display_data"
    }
   ],
   "source": [
    "head(df_madrid)"
   ]
  },
  {
   "cell_type": "markdown",
   "metadata": {},
   "source": [
    "Comprobamos que ya no quedan ceros."
   ]
  },
  {
   "cell_type": "code",
   "execution_count": 281,
   "metadata": {},
   "outputs": [],
   "source": [
    "cero_m2 = sum(na.omit(sapply(df_madrid$Square.Meters, function(x) sum(x == 0))))"
   ]
  },
  {
   "cell_type": "code",
   "execution_count": 282,
   "metadata": {},
   "outputs": [
    {
     "data": {
      "text/html": [
       "0"
      ],
      "text/latex": [
       "0"
      ],
      "text/markdown": [
       "0"
      ],
      "text/plain": [
       "[1] 0"
      ]
     },
     "metadata": {},
     "output_type": "display_data"
    }
   ],
   "source": [
    "cero_m2"
   ]
  },
  {
   "cell_type": "code",
   "execution_count": null,
   "metadata": {},
   "outputs": [],
   "source": []
  },
  {
   "cell_type": "markdown",
   "metadata": {},
   "source": [
    "P8 - Son muchos, vamos a intentar crear un modelo que nos prediga cuantos son los metros cuadrados en función del resto de variables para tratar de rellenar esos NA. Pero antes de eso deberíamos pintar el histograma de los metros cuadrados y ver si tenemos que filtrar algún elemento más, además crearemos una variable sintética nueva basada en la similitud entre barrios."
   ]
  },
  {
   "cell_type": "markdown",
   "metadata": {},
   "source": []
  },
  {
   "cell_type": "markdown",
   "metadata": {},
   "source": [
    "R8 - Para ver el aspecto de los metros cuadrados conviene dibujar un histograma."
   ]
  },
  {
   "cell_type": "code",
   "execution_count": 283,
   "metadata": {},
   "outputs": [],
   "source": [
    "library(ggplot2)"
   ]
  },
  {
   "cell_type": "code",
   "execution_count": 284,
   "metadata": {},
   "outputs": [
    {
     "name": "stderr",
     "output_type": "stream",
     "text": [
      "Warning message:\n",
      "\"Removed 5382 rows containing non-finite values (stat_bin).\""
     ]
    },
    {
     "data": {
      "image/png": "[encoded data removed]",
      "text/plain": [
       "plot without title"
      ]
     },
     "metadata": {},
     "output_type": "display_data"
    }
   ],
   "source": [
    "ggplot(data = df_madrid,\n",
    "      aes(Square.Meters)) + \n",
    "        geom_histogram( bins = 10,\n",
    "                       col = 'white',\n",
    "                       fill = 'blue',\n",
    "                       alpha = 0.3\n",
    "        )"
   ]
  },
  {
   "cell_type": "markdown",
   "metadata": {},
   "source": [
    "Vemos que existen algunos pisos con unos 450 m2 o más, casi ninguno entre 250-450. Pienso que se debe de tratar de un error, así que es mejor asignar un NA a aquellos de más de, pongamos, 300 m2."
   ]
  },
  {
   "cell_type": "code",
   "execution_count": null,
   "metadata": {},
   "outputs": [],
   "source": []
  },
  {
   "cell_type": "code",
   "execution_count": 285,
   "metadata": {},
   "outputs": [],
   "source": [
    "df_madrid$Square.Meters <- replace(df_madrid$Square.Meters, df_madrid$Square.Meters > 300, NA)"
   ]
  },
  {
   "cell_type": "code",
   "execution_count": 286,
   "metadata": {},
   "outputs": [
    {
     "name": "stderr",
     "output_type": "stream",
     "text": [
      "Warning message:\n",
      "\"Removed 5383 rows containing non-finite values (stat_bin).\""
     ]
    },
    {
     "data": {
      "image/png": "[encoded data removed]",
      "text/plain": [
       "plot without title"
      ]
     },
     "metadata": {},
     "output_type": "display_data"
    }
   ],
   "source": [
    "ggplot(data = df_madrid,\n",
    "      aes(Square.Meters)) + \n",
    "        geom_histogram( bins = 10,\n",
    "                       col = 'white',\n",
    "                       fill = 'blue',\n",
    "                       alpha = 0.3\n",
    "        )"
   ]
  },
  {
   "cell_type": "code",
   "execution_count": null,
   "metadata": {},
   "outputs": [],
   "source": []
  },
  {
   "cell_type": "code",
   "execution_count": null,
   "metadata": {},
   "outputs": [],
   "source": []
  },
  {
   "cell_type": "markdown",
   "metadata": {},
   "source": [
    "P9 - Asigna el valor NA a la columna Square.Meters de los apartamentos que tengan menos de 20 m^2"
   ]
  },
  {
   "cell_type": "markdown",
   "metadata": {},
   "source": [
    "R9 - Lo hacemos de nuevo con la función replace()"
   ]
  },
  {
   "cell_type": "code",
   "execution_count": 287,
   "metadata": {},
   "outputs": [],
   "source": [
    "df_madrid$Square.Meters <- replace(df_madrid$Square.Meters, df_madrid$Square.Meters < 20, NA)"
   ]
  },
  {
   "cell_type": "markdown",
   "metadata": {},
   "source": [
    "P10 - Existen varios Barrios que todas sus entradas son NA, vamos a eliminar del dataset todos los pisos que pertenecen a estos barrios."
   ]
  },
  {
   "cell_type": "markdown",
   "metadata": {},
   "source": [
    "R10 - Esto es algo más complicado. Lo que hacemos es iterar entre los barrios, comprobando si e número de NAs es igual al número de filas para cada barrio. En ese caso procedemos a eliminar esas filas, y por lo tanto también el barrio."
   ]
  },
  {
   "cell_type": "code",
   "execution_count": 290,
   "metadata": {},
   "outputs": [],
   "source": [
    "for (barrio in unique(df_madrid$Neighbourhood)) {\n",
    "    df_aux <- df_madrid[df_madrid$Neighbourhood == barrio, ]\n",
    "    \n",
    "    if (nrow(df_aux) == sum(sapply(df_aux$Square.Meters, function(x) sum(is.na(x))))) {\n",
    "        \n",
    "        df_madrid <- df_madrid[!(df_madrid$Neighbourhood == barrio), ]\n",
    "        \n",
    "    }\n",
    "    \n",
    "}"
   ]
  },
  {
   "cell_type": "code",
   "execution_count": 291,
   "metadata": {},
   "outputs": [
    {
     "data": {
      "text/html": [
       "<ol class=list-inline>\n",
       "\t<li>4901</li>\n",
       "\t<li>13</li>\n",
       "</ol>\n"
      ],
      "text/latex": [
       "\\begin{enumerate*}\n",
       "\\item 4901\n",
       "\\item 13\n",
       "\\end{enumerate*}\n"
      ],
      "text/markdown": [
       "1. 4901\n",
       "2. 13\n",
       "\n",
       "\n"
      ],
      "text/plain": [
       "[1] 4901   13"
      ]
     },
     "metadata": {},
     "output_type": "display_data"
    }
   ],
   "source": [
    "dim(df_madrid)"
   ]
  },
  {
   "cell_type": "markdown",
   "metadata": {},
   "source": [
    "Vemos que nos quedan 38 barrios."
   ]
  },
  {
   "cell_type": "code",
   "execution_count": 292,
   "metadata": {},
   "outputs": [],
   "source": [
    "r = list(unique(df_madrid$Neighbourhood))"
   ]
  },
  {
   "cell_type": "code",
   "execution_count": 293,
   "metadata": {},
   "outputs": [
    {
     "data": {
      "text/html": [
       "38"
      ],
      "text/latex": [
       "38"
      ],
      "text/markdown": [
       "38"
      ],
      "text/plain": [
       "[1] 38"
      ]
     },
     "metadata": {},
     "output_type": "display_data"
    }
   ],
   "source": [
    "length(unlist(r))"
   ]
  },
  {
   "cell_type": "code",
   "execution_count": null,
   "metadata": {},
   "outputs": [],
   "source": []
  },
  {
   "cell_type": "code",
   "execution_count": null,
   "metadata": {},
   "outputs": [],
   "source": []
  },
  {
   "cell_type": "markdown",
   "metadata": {},
   "source": [
    "El barrio parece ser un indicador importante para los metros cuadrados de un apartamento.\n",
    "\n",
    "Vamos a agrupar los barrios por metros cuadrados. Podemos usar una matriz de similaridad de Tukey tal y como hicimos en el curso de estadística:"
   ]
  },
  {
   "cell_type": "code",
   "execution_count": 294,
   "metadata": {},
   "outputs": [
    {
     "data": {
      "image/png": "[encoded data removed]",
      "text/plain": [
       "plot without title"
      ]
     },
     "metadata": {},
     "output_type": "display_data"
    }
   ],
   "source": [
    "tky<-TukeyHSD(aov( formula=Square.Meters~Neighbourhood, data=df_madrid ))\n",
    "tky.result<-data.frame(tky$Neighbourhood)\n",
    "cn <-sort(unique(df_madrid$Neighbourhood))\n",
    "resm <- matrix(NA, length(cn),length(cn))\n",
    "rownames(resm) <- cn\n",
    "colnames(resm) <- cn\n",
    "resm[lower.tri(resm) ] <- round(tky.result$p.adj,4)\n",
    "resm[upper.tri(resm) ] <- t(resm)[upper.tri(resm)] \n",
    "diag(resm) <- 1\n",
    "library(ggplot2)\n",
    "library(reshape2)\n",
    "dfResm <- melt(resm)\n",
    "ggplot(dfResm, aes(x=Var1, y=Var2, fill=value))+\n",
    "  geom_tile(colour = \"black\")+\n",
    "  scale_fill_gradient(low = \"white\",high = \"steelblue\")+\n",
    "  ylab(\"Class\")+xlab(\"Class\")+theme_bw()+\n",
    "  theme(axis.text.x = element_text(angle = 90, hjust = 1),legend.position=\"none\")"
   ]
  },
  {
   "cell_type": "markdown",
   "metadata": {},
   "source": [
    "P11 - Usando como variable de distancia: 1-resm\n",
    "Dibuja un dendrograma de los diferentes barrios.\n"
   ]
  },
  {
   "cell_type": "markdown",
   "metadata": {},
   "source": [
    "R11 - Vamos a ello, pero primero conviene analizar el gráfico anterior. Se ve que hay un barrio muy distinto al resto, y que solo parece tener cierto parecido con Moratalaz y Lista. El resto, al menos aparentemente, se parecen bastante entre sí."
   ]
  },
  {
   "cell_type": "code",
   "execution_count": 295,
   "metadata": {},
   "outputs": [],
   "source": [
    "library(caret)"
   ]
  },
  {
   "cell_type": "code",
   "execution_count": 296,
   "metadata": {},
   "outputs": [],
   "source": [
    "library(dendextend)"
   ]
  },
  {
   "cell_type": "markdown",
   "metadata": {},
   "source": [
    "Definimos la matriz de distancias con as.dist().Echamos un vistazo, y encontramos muchos ceros; desde mi inexperiencia eso puede no ser demasiado bueno."
   ]
  },
  {
   "cell_type": "code",
   "execution_count": 297,
   "metadata": {},
   "outputs": [],
   "source": [
    "dfResm.dist <- as.dist(1-resm)"
   ]
  },
  {
   "cell_type": "code",
   "execution_count": 298,
   "metadata": {},
   "outputs": [
    {
     "data": {
      "text/plain": [
       "                 Acacias Adelfas Almagro Almenara Arapiles ArgÃ¼elles Barajas\n",
       "Adelfas           0.0000                                                     \n",
       "Almagro           0.0000  0.0000                                             \n",
       "Almenara          0.0000  0.0000  0.0000                                     \n",
       "Arapiles          0.0000  0.0000  0.0000   0.0000                            \n",
       "ArgÃ¼elles        0.0000  0.0000  0.0000   0.0000   0.0000                   \n",
       "Barajas           0.0000  0.0000  0.0000   0.0000   0.0003     0.0000        \n",
       "Carabanchel       0.0000  0.0000  0.0000   0.0000   0.0000     0.0000  0.0000\n",
       "Castellana        0.0211  0.0000  0.0052   0.0668   0.0000     0.0000  0.0628\n",
       "Castilla          0.0000  0.0000  0.0000   0.0000   0.0000     0.0000  0.0000\n",
       "Centro            0.0000  0.0000  0.0000   0.0000   0.0078     0.0006  0.0000\n",
       "ChamberÃ­         0.0000  0.0000  0.0000   0.0000   0.0000     0.0000  0.0000\n",
       "Ciudad Jardin     0.0000  0.0000  0.0000   0.0000   0.0000     0.0000  0.0000\n",
       "Ciudad Lineal     0.0000  0.0000  0.0000   0.0000   0.0000     0.0000  0.0000\n",
       "Cortes            0.0000  0.0000  0.0000   0.0000   0.0365     0.0043  0.0000\n",
       "Cuatro Caminos    0.0000  0.0000  0.0000   0.0000   0.0000     0.0000  0.0000\n",
       "El TrÃ©ntaiseis   0.4236  0.0457  0.2854   0.5234   0.0024     0.0754  0.5274\n",
       "El Viso           0.0000  0.0000  0.0000   0.0000   0.0001     0.0000  0.0000\n",
       "Embajadores       0.0000  0.0000  0.0000   0.0000   0.0132     0.0007  0.0000\n",
       "Fuente del Berro  0.2870  0.0193  0.1879   0.3763   0.0004     0.0295  0.4135\n",
       "Goya              0.0000  0.0000  0.0000   0.0000   0.0000     0.0000  0.0000\n",
       "JerÃ³nimos        0.0000  0.0000  0.0000   0.0000   0.0000     0.0000  0.0000\n",
       "Justicia          0.0000  0.0000  0.0000   0.0000   0.0001     0.0000  0.0000\n",
       "La Latina         0.0000  0.0000  0.0000   0.0000   0.0012     0.0000  0.0000\n",
       "Lista             0.0102  0.0000  0.0044   0.0271   0.0000     0.0000  0.0506\n",
       "MalasaÃ±a         0.0000  0.0000  0.0000   0.0000   0.0003     0.0000  0.0000\n",
       "Moratalaz         0.0008  0.0000  0.0012   0.0015   0.0000     0.0000  0.0163\n",
       "Pacifico          0.0000  0.0000  0.0000   0.0000   0.0000     0.0000  0.0007\n",
       "Palacio           0.0000  0.0000  0.0000   0.0000   0.0000     0.0000  0.0000\n",
       "Palos do Moguer   0.0000  0.0000  0.0000   0.0000   0.0000     0.0000  0.0000\n",
       "Recoletos         0.0000  0.0000  0.0000   0.0000   0.0481     0.0076  0.0000\n",
       "Retiro            0.0000  0.0000  0.0000   0.0000   0.0000     0.0000  0.0000\n",
       "Rios Rosas        0.9454  0.5646  0.8452   0.9695   0.3459     0.7553  0.9351\n",
       "San Blas          0.0000  0.0000  0.0000   0.0003   0.0000     0.0000  0.0034\n",
       "Sol               0.0000  0.0000  0.0000   0.0000   0.0000     0.0000  0.0000\n",
       "Trafalgar         0.0000  0.0000  0.0000   0.0000   0.0000     0.0000  0.0000\n",
       "Usera             0.0000  0.0000  0.0000   0.0000   0.0000     0.0000  0.0000\n",
       "VicÃ¡lvaro        0.0000  0.0000  0.0000   0.0000   0.0000     0.0000  0.0000\n",
       "                 Carabanchel Castellana Castilla Centro ChamberÃ­ Ciudad Jardin\n",
       "Adelfas                                                                        \n",
       "Almagro                                                                        \n",
       "Almenara                                                                       \n",
       "Arapiles                                                                       \n",
       "ArgÃ¼elles                                                                     \n",
       "Barajas                                                                        \n",
       "Carabanchel                                                                    \n",
       "Castellana            0.0003                                                   \n",
       "Castilla              0.0000     0.0000                                        \n",
       "Centro                0.0000     0.2394   0.0003                               \n",
       "ChamberÃ­             0.0000     0.0003   0.0000 0.0000                        \n",
       "Ciudad Jardin         0.0000     0.0003   0.0000 0.0000    0.0000              \n",
       "Ciudad Lineal         0.0000     0.0000   0.0000 0.0001    0.0000        0.0000\n",
       "Cortes                0.0001     0.8463   0.0017 0.0000    0.0000        0.0000\n",
       "Cuatro Caminos        0.0000     0.0000   0.0000 0.0001    0.0000        0.0000\n",
       "El TrÃ©ntaiseis       0.1769     0.0000   0.0976 0.7265    0.1344        0.1344\n",
       "El Viso               0.0000     0.0392   0.0000 0.0000    0.0000        0.0000\n",
       "Embajadores           0.0000     0.8212   0.0002 0.0000    0.0000        0.0000\n",
       "Fuente del Berro      0.0896     0.0000   0.0412 0.6328    0.0731        0.0731\n",
       "Goya                  0.0000     0.0000   0.0000 0.0000    0.0000        0.0000\n",
       "JerÃ³nimos            0.0000     0.0000   0.0000 0.0000    0.0000        0.0000\n",
       "Justicia              0.0000     0.3473   0.0000 0.0000    0.0000        0.0000\n",
       "La Latina             0.0000     0.6302   0.0000 0.0000    0.0000        0.0000\n",
       "Lista                 0.0001     0.0000   0.0000 0.1983    0.0002        0.0002\n",
       "MalasaÃ±a             0.0000     0.5357   0.0000 0.0000    0.0000        0.0000\n",
       "Moratalaz             0.0000     0.0000   0.0000 0.0817    0.0001        0.0001\n",
       "Pacifico              0.0000     0.0000   0.0000 0.0131    0.0000        0.0000\n",
       "Palacio               0.0000     0.1560   0.0000 0.0000    0.0000        0.0000\n",
       "Palos do Moguer       0.0000     0.0247   0.0000 0.0000    0.0000        0.0000\n",
       "Recoletos             0.0006     0.6379   0.0041 0.0000    0.0000        0.0000\n",
       "Retiro                0.0000     0.0000   0.0000 0.0000    0.0000        0.0000\n",
       "Rios Rosas            0.8551     0.1018   0.7860 0.9740    0.7264        0.7264\n",
       "San Blas              0.0000     0.0000   0.0000 0.0417    0.0000        0.0000\n",
       "Sol                   0.0000     0.0155   0.0000 0.0012    0.0000        0.0000\n",
       "Trafalgar             0.0000     0.0131   0.0000 0.0000    0.0000        0.0000\n",
       "Usera                 0.0000     0.0052   0.0000 0.0000    0.0000        0.0000\n",
       "VicÃ¡lvaro            0.0000     0.0003   0.0000 0.0000    0.0000        0.0000\n",
       "                 Ciudad Lineal Cortes Cuatro Caminos El TrÃ©ntaiseis El Viso\n",
       "Adelfas                                                                     \n",
       "Almagro                                                                     \n",
       "Almenara                                                                    \n",
       "Arapiles                                                                    \n",
       "ArgÃ¼elles                                                                  \n",
       "Barajas                                                                     \n",
       "Carabanchel                                                                 \n",
       "Castellana                                                                  \n",
       "Castilla                                                                    \n",
       "Centro                                                                      \n",
       "ChamberÃ­                                                                   \n",
       "Ciudad Jardin                                                               \n",
       "Ciudad Lineal                                                               \n",
       "Cortes                  0.0001                                              \n",
       "Cuatro Caminos          0.0000 0.0001                                       \n",
       "El TrÃ©ntaiseis         0.0471 0.9183         0.0436                        \n",
       "El Viso                 0.0000 0.0000         0.0000          0.4700        \n",
       "Embajadores             0.0000 0.0000         0.0000          0.8935  0.0000\n",
       "Fuente del Berro        0.0172 0.8602         0.0156          0.0000  0.3559\n",
       "Goya                    0.0000 0.0000         0.0000          0.0914  0.0000\n",
       "JerÃ³nimos              0.0000 0.0000         0.0000          0.0818  0.0000\n",
       "Justicia                0.0000 0.0000         0.0000          0.7267  0.0000\n",
       "La Latina               0.0000 0.0000         0.0000          0.8199  0.0000\n",
       "Lista                   0.0000 0.6334         0.0000          0.0000  0.0316\n",
       "MalasaÃ±a               0.0000 0.0000         0.0000          0.7784  0.0000\n",
       "Moratalaz               0.0000 0.1478         0.0000          0.0000  0.0097\n",
       "Pacifico                0.0000 0.0647         0.0000          0.0012  0.0002\n",
       "Palacio                 0.0000 0.0000         0.0000          0.6247  0.0000\n",
       "Palos do Moguer         0.0000 0.0000         0.0000          0.4388  0.0000\n",
       "Recoletos               0.0010 0.0000         0.0012          0.8934  0.0000\n",
       "Retiro                  0.0000 0.0000         0.0000          0.0226  0.0000\n",
       "Rios Rosas              0.6613 0.9985         0.6516          0.0000  0.9194\n",
       "San Blas                0.0000 0.3578         0.0000          0.0020  0.0015\n",
       "Sol                     0.0000 0.4194         0.0000          0.3659  0.0000\n",
       "Trafalgar               0.0000 0.0000         0.0000          0.3841  0.0000\n",
       "Usera                   0.0000 0.0000         0.0000          0.2854  0.0000\n",
       "VicÃ¡lvaro              0.0000 0.0000         0.0000          0.1344  0.0000\n",
       "                 Embajadores Fuente del Berro   Goya JerÃ³nimos Justicia\n",
       "Adelfas                                                                 \n",
       "Almagro                                                                 \n",
       "Almenara                                                                \n",
       "Arapiles                                                                \n",
       "ArgÃ¼elles                                                              \n",
       "Barajas                                                                 \n",
       "Carabanchel                                                             \n",
       "Castellana                                                              \n",
       "Castilla                                                                \n",
       "Centro                                                                  \n",
       "ChamberÃ­                                                               \n",
       "Ciudad Jardin                                                           \n",
       "Ciudad Lineal                                                           \n",
       "Cortes                                                                  \n",
       "Cuatro Caminos                                                          \n",
       "El TrÃ©ntaiseis                                                         \n",
       "El Viso                                                                 \n",
       "Embajadores                                                             \n",
       "Fuente del Berro      0.8202                                            \n",
       "Goya                  0.0000           0.0401                           \n",
       "JerÃ³nimos            0.0000           0.0395 0.0000                    \n",
       "Justicia              0.0000           0.5986 0.0000     0.0000         \n",
       "La Latina             0.0000           0.7148 0.0000     0.0000   0.0000\n",
       "Lista                 0.5554           0.0000 0.0000     0.0000   0.1646\n",
       "MalasaÃ±a             0.0000           0.6585 0.0000     0.0000   0.0000\n",
       "Moratalaz             0.0877           0.0000 0.0000     0.0000   0.0131\n",
       "Pacifico              0.0280           0.0002 0.0000     0.0000   0.0005\n",
       "Palacio               0.0000           0.4839 0.0000     0.0000   0.0000\n",
       "Palos do Moguer       0.0000           0.3088 0.0000     0.0000   0.0000\n",
       "Recoletos             0.0000           0.8340 0.0001     0.0000   0.0000\n",
       "Retiro                0.0000           0.0082 0.0000     0.0000   0.0000\n",
       "Rios Rosas            0.9981           0.0000 0.7464     0.6497   0.9903\n",
       "San Blas              0.2699           0.0003 0.0000     0.0000   0.0159\n",
       "Sol                   0.5705           0.2195 0.0000     0.0000   0.0001\n",
       "Trafalgar             0.0000           0.2513 0.0000     0.0000   0.0000\n",
       "Usera                 0.0000           0.1879 0.0000     0.0000   0.0000\n",
       "VicÃ¡lvaro            0.0000           0.0731 0.0000     0.0000   0.0000\n",
       "                 La Latina  Lista MalasaÃ±a Moratalaz Pacifico Palacio\n",
       "Adelfas                                                               \n",
       "Almagro                                                               \n",
       "Almenara                                                              \n",
       "Arapiles                                                              \n",
       "ArgÃ¼elles                                                            \n",
       "Barajas                                                               \n",
       "Carabanchel                                                           \n",
       "Castellana                                                            \n",
       "Castilla                                                              \n",
       "Centro                                                                \n",
       "ChamberÃ­                                                             \n",
       "Ciudad Jardin                                                         \n",
       "Ciudad Lineal                                                         \n",
       "Cortes                                                                \n",
       "Cuatro Caminos                                                        \n",
       "El TrÃ©ntaiseis                                                       \n",
       "El Viso                                                               \n",
       "Embajadores                                                           \n",
       "Fuente del Berro                                                      \n",
       "Goya                                                                  \n",
       "JerÃ³nimos                                                            \n",
       "Justicia                                                              \n",
       "La Latina                                                             \n",
       "Lista               0.3388                                            \n",
       "MalasaÃ±a           0.0000 0.2525                                     \n",
       "Moratalaz           0.0314 0.0000    0.0173                           \n",
       "Pacifico            0.0036 0.0000    0.0011    0.0000                 \n",
       "Palacio             0.0000 0.0710    0.0000    0.0053   0.0001        \n",
       "Palos do Moguer     0.0000 0.0148    0.0000    0.0019   0.0000  0.0000\n",
       "Recoletos           0.0000 0.5128    0.0000    0.1975   0.0735  0.0000\n",
       "Retiro              0.0000 0.0000    0.0000    0.0000   0.0000  0.0000\n",
       "Rios Rosas          0.9957 0.0321    0.9942    0.0012   0.2935  0.9807\n",
       "San Blas            0.0847 0.0000    0.0422    0.0000   0.0000  0.0025\n",
       "Sol                 0.0925 0.0030    0.0308    0.0000   0.0000  0.0000\n",
       "Trafalgar           0.0000 0.0062    0.0000    0.0005   0.0000  0.0000\n",
       "Usera               0.0000 0.0044    0.0000    0.0012   0.0000  0.0000\n",
       "VicÃ¡lvaro          0.0000 0.0002    0.0000    0.0001   0.0000  0.0000\n",
       "                 Palos do Moguer Recoletos Retiro Rios Rosas San Blas    Sol\n",
       "Adelfas                                                                     \n",
       "Almagro                                                                     \n",
       "Almenara                                                                    \n",
       "Arapiles                                                                    \n",
       "ArgÃ¼elles                                                                  \n",
       "Barajas                                                                     \n",
       "Carabanchel                                                                 \n",
       "Castellana                                                                  \n",
       "Castilla                                                                    \n",
       "Centro                                                                      \n",
       "ChamberÃ­                                                                   \n",
       "Ciudad Jardin                                                               \n",
       "Ciudad Lineal                                                               \n",
       "Cortes                                                                      \n",
       "Cuatro Caminos                                                              \n",
       "El TrÃ©ntaiseis                                                             \n",
       "El Viso                                                                     \n",
       "Embajadores                                                                 \n",
       "Fuente del Berro                                                            \n",
       "Goya                                                                        \n",
       "JerÃ³nimos                                                                  \n",
       "Justicia                                                                    \n",
       "La Latina                                                                   \n",
       "Lista                                                                       \n",
       "MalasaÃ±a                                                                   \n",
       "Moratalaz                                                                   \n",
       "Pacifico                                                                    \n",
       "Palacio                                                                     \n",
       "Palos do Moguer                                                             \n",
       "Recoletos                 0.0000                                            \n",
       "Retiro                    0.0000    0.0000                                  \n",
       "Rios Rosas                0.9384    0.9959 0.4717                           \n",
       "San Blas                  0.0002    0.2271 0.0000     0.3768                \n",
       "Sol                       0.0000    0.0439 0.0000     0.9554   0.0000       \n",
       "Trafalgar                 0.0000    0.0000 0.0000     0.9364   0.0000 0.0000\n",
       "Usera                     0.0000    0.0000 0.0000     0.8452   0.0000 0.0000\n",
       "VicÃ¡lvaro                0.0000    0.0000 0.0000     0.7264   0.0000 0.0000\n",
       "                 Trafalgar  Usera\n",
       "Adelfas                          \n",
       "Almagro                          \n",
       "Almenara                         \n",
       "Arapiles                         \n",
       "ArgÃ¼elles                       \n",
       "Barajas                          \n",
       "Carabanchel                      \n",
       "Castellana                       \n",
       "Castilla                         \n",
       "Centro                           \n",
       "ChamberÃ­                        \n",
       "Ciudad Jardin                    \n",
       "Ciudad Lineal                    \n",
       "Cortes                           \n",
       "Cuatro Caminos                   \n",
       "El TrÃ©ntaiseis                  \n",
       "El Viso                          \n",
       "Embajadores                      \n",
       "Fuente del Berro                 \n",
       "Goya                             \n",
       "JerÃ³nimos                       \n",
       "Justicia                         \n",
       "La Latina                        \n",
       "Lista                            \n",
       "MalasaÃ±a                        \n",
       "Moratalaz                        \n",
       "Pacifico                         \n",
       "Palacio                          \n",
       "Palos do Moguer                  \n",
       "Recoletos                        \n",
       "Retiro                           \n",
       "Rios Rosas                       \n",
       "San Blas                         \n",
       "Sol                              \n",
       "Trafalgar                        \n",
       "Usera               0.0000       \n",
       "VicÃ¡lvaro          0.0000 0.0000"
      ]
     },
     "metadata": {},
     "output_type": "display_data"
    }
   ],
   "source": [
    "dfResm.dist"
   ]
  },
  {
   "cell_type": "markdown",
   "metadata": {},
   "source": [
    "Completamos el proceso de hacer el dendrograma de forma habitual y lo dibujamos."
   ]
  },
  {
   "cell_type": "code",
   "execution_count": 299,
   "metadata": {},
   "outputs": [],
   "source": [
    "dfResm.tree <- hclust(dfResm.dist, method = 'complete')"
   ]
  },
  {
   "cell_type": "code",
   "execution_count": 300,
   "metadata": {},
   "outputs": [],
   "source": [
    "dfResm.dend <- as.dendrogram(dfResm.tree)"
   ]
  },
  {
   "cell_type": "markdown",
   "metadata": {},
   "source": [
    "Lo cierto es que obtenemos un dendrograma bastante limpio, con tres clusteres bien diferenciados, y un cuarto que aparece solo muy al final. "
   ]
  },
  {
   "cell_type": "code",
   "execution_count": 317,
   "metadata": {
    "scrolled": true
   },
   "outputs": [
    {
     "data": {
      "image/png": "[encoded data removed]",
      "text/plain": [
       "plot without title"
      ]
     },
     "metadata": {},
     "output_type": "display_data"
    }
   ],
   "source": [
    "plot(dfResm.dend)"
   ]
  },
  {
   "cell_type": "markdown",
   "metadata": {},
   "source": [
    "P12 - ¿Que punto de corte sería el aconsejable?, ¿cuantos clusters aparecen?"
   ]
  },
  {
   "cell_type": "markdown",
   "metadata": {},
   "source": [
    "R12 - Pienso que lo aconsejable es tomar los 3 clusteres principales..."
   ]
  },
  {
   "cell_type": "code",
   "execution_count": 302,
   "metadata": {},
   "outputs": [
    {
     "data": {
      "image/png": "[encoded data removed]",
      "text/plain": [
       "plot without title"
      ]
     },
     "metadata": {},
     "output_type": "display_data"
    }
   ],
   "source": [
    "plot(color_branches(dfResm.dend, k = 3), leaflab = 'none')"
   ]
  },
  {
   "cell_type": "code",
   "execution_count": null,
   "metadata": {},
   "outputs": [],
   "source": []
  },
  {
   "cell_type": "code",
   "execution_count": null,
   "metadata": {},
   "outputs": [],
   "source": []
  },
  {
   "cell_type": "code",
   "execution_count": null,
   "metadata": {},
   "outputs": [],
   "source": []
  },
  {
   "cell_type": "code",
   "execution_count": null,
   "metadata": {},
   "outputs": [],
   "source": []
  },
  {
   "cell_type": "code",
   "execution_count": null,
   "metadata": {},
   "outputs": [],
   "source": []
  },
  {
   "cell_type": "markdown",
   "metadata": {},
   "source": [
    "P13 - Vamos a crear una nueva columna en el dataframe df_madrid con un nuevo identificador marcado por los clusters obtenidos. Esta columna la llamaremos neighb_id"
   ]
  },
  {
   "cell_type": "markdown",
   "metadata": {},
   "source": [
    "R13 - Primero hacemos el corte con k=3 mediante cutree()"
   ]
  },
  {
   "cell_type": "code",
   "execution_count": 303,
   "metadata": {},
   "outputs": [],
   "source": [
    "cl <- cutree(dfResm.tree, k = 3)"
   ]
  },
  {
   "cell_type": "code",
   "execution_count": 304,
   "metadata": {},
   "outputs": [
    {
     "data": {
      "text/html": [
       "<dl class=dl-horizontal>\n",
       "\t<dt>Acacias</dt>\n",
       "\t\t<dd>1</dd>\n",
       "\t<dt>Adelfas</dt>\n",
       "\t\t<dd>1</dd>\n",
       "\t<dt>Almagro</dt>\n",
       "\t\t<dd>1</dd>\n",
       "\t<dt>Almenara</dt>\n",
       "\t\t<dd>1</dd>\n",
       "\t<dt>Arapiles</dt>\n",
       "\t\t<dd>1</dd>\n",
       "\t<dt>ArgÃ¼elles</dt>\n",
       "\t\t<dd>1</dd>\n",
       "\t<dt>Barajas</dt>\n",
       "\t\t<dd>2</dd>\n",
       "\t<dt>Carabanchel</dt>\n",
       "\t\t<dd>1</dd>\n",
       "\t<dt>Castellana</dt>\n",
       "\t\t<dd>3</dd>\n",
       "\t<dt>Castilla</dt>\n",
       "\t\t<dd>1</dd>\n",
       "\t<dt>Centro</dt>\n",
       "\t\t<dd>2</dd>\n",
       "\t<dt>ChamberÃ­</dt>\n",
       "\t\t<dd>1</dd>\n",
       "\t<dt>Ciudad Jardin</dt>\n",
       "\t\t<dd>1</dd>\n",
       "\t<dt>Ciudad Lineal</dt>\n",
       "\t\t<dd>1</dd>\n",
       "\t<dt>Cortes</dt>\n",
       "\t\t<dd>2</dd>\n",
       "\t<dt>Cuatro Caminos</dt>\n",
       "\t\t<dd>1</dd>\n",
       "\t<dt>El TrÃ©ntaiseis</dt>\n",
       "\t\t<dd>3</dd>\n",
       "\t<dt>El Viso</dt>\n",
       "\t\t<dd>2</dd>\n",
       "\t<dt>Embajadores</dt>\n",
       "\t\t<dd>2</dd>\n",
       "\t<dt>Fuente del Berro</dt>\n",
       "\t\t<dd>3</dd>\n",
       "\t<dt>Goya</dt>\n",
       "\t\t<dd>1</dd>\n",
       "\t<dt>JerÃ³nimos</dt>\n",
       "\t\t<dd>1</dd>\n",
       "\t<dt>Justicia</dt>\n",
       "\t\t<dd>2</dd>\n",
       "\t<dt>La Latina</dt>\n",
       "\t\t<dd>2</dd>\n",
       "\t<dt>Lista</dt>\n",
       "\t\t<dd>3</dd>\n",
       "\t<dt>MalasaÃ±a</dt>\n",
       "\t\t<dd>2</dd>\n",
       "\t<dt>Moratalaz</dt>\n",
       "\t\t<dd>3</dd>\n",
       "\t<dt>Pacifico</dt>\n",
       "\t\t<dd>1</dd>\n",
       "\t<dt>Palacio</dt>\n",
       "\t\t<dd>2</dd>\n",
       "\t<dt>Palos do Moguer</dt>\n",
       "\t\t<dd>1</dd>\n",
       "\t<dt>Recoletos</dt>\n",
       "\t\t<dd>2</dd>\n",
       "\t<dt>Retiro</dt>\n",
       "\t\t<dd>1</dd>\n",
       "\t<dt>Rios Rosas</dt>\n",
       "\t\t<dd>3</dd>\n",
       "\t<dt>San Blas</dt>\n",
       "\t\t<dd>1</dd>\n",
       "\t<dt>Sol</dt>\n",
       "\t\t<dd>1</dd>\n",
       "\t<dt>Trafalgar</dt>\n",
       "\t\t<dd>1</dd>\n",
       "\t<dt>Usera</dt>\n",
       "\t\t<dd>1</dd>\n",
       "\t<dt>VicÃ¡lvaro</dt>\n",
       "\t\t<dd>1</dd>\n",
       "</dl>\n"
      ],
      "text/latex": [
       "\\begin{description*}\n",
       "\\item[Acacias] 1\n",
       "\\item[Adelfas] 1\n",
       "\\item[Almagro] 1\n",
       "\\item[Almenara] 1\n",
       "\\item[Arapiles] 1\n",
       "\\item[ArgÃ¼elles] 1\n",
       "\\item[Barajas] 2\n",
       "\\item[Carabanchel] 1\n",
       "\\item[Castellana] 3\n",
       "\\item[Castilla] 1\n",
       "\\item[Centro] 2\n",
       "\\item[ChamberÃ­] 1\n",
       "\\item[Ciudad Jardin] 1\n",
       "\\item[Ciudad Lineal] 1\n",
       "\\item[Cortes] 2\n",
       "\\item[Cuatro Caminos] 1\n",
       "\\item[El TrÃ©ntaiseis] 3\n",
       "\\item[El Viso] 2\n",
       "\\item[Embajadores] 2\n",
       "\\item[Fuente del Berro] 3\n",
       "\\item[Goya] 1\n",
       "\\item[JerÃ³nimos] 1\n",
       "\\item[Justicia] 2\n",
       "\\item[La Latina] 2\n",
       "\\item[Lista] 3\n",
       "\\item[MalasaÃ±a] 2\n",
       "\\item[Moratalaz] 3\n",
       "\\item[Pacifico] 1\n",
       "\\item[Palacio] 2\n",
       "\\item[Palos do Moguer] 1\n",
       "\\item[Recoletos] 2\n",
       "\\item[Retiro] 1\n",
       "\\item[Rios Rosas] 3\n",
       "\\item[San Blas] 1\n",
       "\\item[Sol] 1\n",
       "\\item[Trafalgar] 1\n",
       "\\item[Usera] 1\n",
       "\\item[VicÃ¡lvaro] 1\n",
       "\\end{description*}\n"
      ],
      "text/markdown": [
       "Acacias\n",
       ":   1Adelfas\n",
       ":   1Almagro\n",
       ":   1Almenara\n",
       ":   1Arapiles\n",
       ":   1ArgÃ¼elles\n",
       ":   1Barajas\n",
       ":   2Carabanchel\n",
       ":   1Castellana\n",
       ":   3Castilla\n",
       ":   1Centro\n",
       ":   2ChamberÃ­\n",
       ":   1Ciudad Jardin\n",
       ":   1Ciudad Lineal\n",
       ":   1Cortes\n",
       ":   2Cuatro Caminos\n",
       ":   1El TrÃ©ntaiseis\n",
       ":   3El Viso\n",
       ":   2Embajadores\n",
       ":   2Fuente del Berro\n",
       ":   3Goya\n",
       ":   1JerÃ³nimos\n",
       ":   1Justicia\n",
       ":   2La Latina\n",
       ":   2Lista\n",
       ":   3MalasaÃ±a\n",
       ":   2Moratalaz\n",
       ":   3Pacifico\n",
       ":   1Palacio\n",
       ":   2Palos do Moguer\n",
       ":   1Recoletos\n",
       ":   2Retiro\n",
       ":   1Rios Rosas\n",
       ":   3San Blas\n",
       ":   1Sol\n",
       ":   1Trafalgar\n",
       ":   1Usera\n",
       ":   1VicÃ¡lvaro\n",
       ":   1\n",
       "\n"
      ],
      "text/plain": [
       "         Acacias          Adelfas          Almagro         Almenara \n",
       "               1                1                1                1 \n",
       "        Arapiles       ArgÃ¼elles          Barajas      Carabanchel \n",
       "               1                1                2                1 \n",
       "      Castellana         Castilla           Centro        ChamberÃ­ \n",
       "               3                1                2                1 \n",
       "   Ciudad Jardin    Ciudad Lineal           Cortes   Cuatro Caminos \n",
       "               1                1                2                1 \n",
       " El TrÃ©ntaiseis          El Viso      Embajadores Fuente del Berro \n",
       "               3                2                2                3 \n",
       "            Goya       JerÃ³nimos         Justicia        La Latina \n",
       "               1                1                2                2 \n",
       "           Lista        MalasaÃ±a        Moratalaz         Pacifico \n",
       "               3                2                3                1 \n",
       "         Palacio  Palos do Moguer        Recoletos           Retiro \n",
       "               2                1                2                1 \n",
       "      Rios Rosas         San Blas              Sol        Trafalgar \n",
       "               3                1                1                1 \n",
       "           Usera       VicÃ¡lvaro \n",
       "               1                1 "
      ]
     },
     "metadata": {},
     "output_type": "display_data"
    }
   ],
   "source": [
    "cl"
   ]
  },
  {
   "cell_type": "markdown",
   "metadata": {},
   "source": [
    "En las celdas siguientes trasformamos el objeto cutree en un dataframe, al que vamos cambiando el nombre de las columnas para, a continuación, hacer un merge con df_madrid. He de reconocer que he tenido en cuenta lo publicado en slack, aunque he simplificado alguna cosa."
   ]
  },
  {
   "cell_type": "code",
   "execution_count": 305,
   "metadata": {},
   "outputs": [],
   "source": [
    "df_clusters <- as.data.frame(cl)"
   ]
  },
  {
   "cell_type": "code",
   "execution_count": 306,
   "metadata": {},
   "outputs": [],
   "source": []
  },
  {
   "cell_type": "code",
   "execution_count": 307,
   "metadata": {},
   "outputs": [
    {
     "data": {
      "text/html": [
       "<table>\n",
       "<thead><tr><th></th><th scope=col>cl</th></tr></thead>\n",
       "<tbody>\n",
       "\t<tr><th scope=row>Acacias</th><td>1</td></tr>\n",
       "\t<tr><th scope=row>Adelfas</th><td>1</td></tr>\n",
       "\t<tr><th scope=row>Almagro</th><td>1</td></tr>\n",
       "\t<tr><th scope=row>Almenara</th><td>1</td></tr>\n",
       "\t<tr><th scope=row>Arapiles</th><td>1</td></tr>\n",
       "\t<tr><th scope=row>ArgÃ¼elles</th><td>1</td></tr>\n",
       "\t<tr><th scope=row>Barajas</th><td>2</td></tr>\n",
       "\t<tr><th scope=row>Carabanchel</th><td>1</td></tr>\n",
       "\t<tr><th scope=row>Castellana</th><td>3</td></tr>\n",
       "\t<tr><th scope=row>Castilla</th><td>1</td></tr>\n",
       "\t<tr><th scope=row>Centro</th><td>2</td></tr>\n",
       "\t<tr><th scope=row>ChamberÃ­</th><td>1</td></tr>\n",
       "\t<tr><th scope=row>Ciudad Jardin</th><td>1</td></tr>\n",
       "\t<tr><th scope=row>Ciudad Lineal</th><td>1</td></tr>\n",
       "\t<tr><th scope=row>Cortes</th><td>2</td></tr>\n",
       "\t<tr><th scope=row>Cuatro Caminos</th><td>1</td></tr>\n",
       "\t<tr><th scope=row>El TrÃ©ntaiseis</th><td>3</td></tr>\n",
       "\t<tr><th scope=row>El Viso</th><td>2</td></tr>\n",
       "\t<tr><th scope=row>Embajadores</th><td>2</td></tr>\n",
       "\t<tr><th scope=row>Fuente del Berro</th><td>3</td></tr>\n",
       "\t<tr><th scope=row>Goya</th><td>1</td></tr>\n",
       "\t<tr><th scope=row>JerÃ³nimos</th><td>1</td></tr>\n",
       "\t<tr><th scope=row>Justicia</th><td>2</td></tr>\n",
       "\t<tr><th scope=row>La Latina</th><td>2</td></tr>\n",
       "\t<tr><th scope=row>Lista</th><td>3</td></tr>\n",
       "\t<tr><th scope=row>MalasaÃ±a</th><td>2</td></tr>\n",
       "\t<tr><th scope=row>Moratalaz</th><td>3</td></tr>\n",
       "\t<tr><th scope=row>Pacifico</th><td>1</td></tr>\n",
       "\t<tr><th scope=row>Palacio</th><td>2</td></tr>\n",
       "\t<tr><th scope=row>Palos do Moguer</th><td>1</td></tr>\n",
       "\t<tr><th scope=row>Recoletos</th><td>2</td></tr>\n",
       "\t<tr><th scope=row>Retiro</th><td>1</td></tr>\n",
       "\t<tr><th scope=row>Rios Rosas</th><td>3</td></tr>\n",
       "\t<tr><th scope=row>San Blas</th><td>1</td></tr>\n",
       "\t<tr><th scope=row>Sol</th><td>1</td></tr>\n",
       "\t<tr><th scope=row>Trafalgar</th><td>1</td></tr>\n",
       "\t<tr><th scope=row>Usera</th><td>1</td></tr>\n",
       "\t<tr><th scope=row>VicÃ¡lvaro</th><td>1</td></tr>\n",
       "</tbody>\n",
       "</table>\n"
      ],
      "text/latex": [
       "\\begin{tabular}{r|l}\n",
       "  & cl\\\\\n",
       "\\hline\n",
       "\tAcacias & 1\\\\\n",
       "\tAdelfas & 1\\\\\n",
       "\tAlmagro & 1\\\\\n",
       "\tAlmenara & 1\\\\\n",
       "\tArapiles & 1\\\\\n",
       "\tArgÃ¼elles & 1\\\\\n",
       "\tBarajas & 2\\\\\n",
       "\tCarabanchel & 1\\\\\n",
       "\tCastellana & 3\\\\\n",
       "\tCastilla & 1\\\\\n",
       "\tCentro & 2\\\\\n",
       "\tChamberÃ­ & 1\\\\\n",
       "\tCiudad Jardin & 1\\\\\n",
       "\tCiudad Lineal & 1\\\\\n",
       "\tCortes & 2\\\\\n",
       "\tCuatro Caminos & 1\\\\\n",
       "\tEl TrÃ©ntaiseis & 3\\\\\n",
       "\tEl Viso & 2\\\\\n",
       "\tEmbajadores & 2\\\\\n",
       "\tFuente del Berro & 3\\\\\n",
       "\tGoya & 1\\\\\n",
       "\tJerÃ³nimos & 1\\\\\n",
       "\tJusticia & 2\\\\\n",
       "\tLa Latina & 2\\\\\n",
       "\tLista & 3\\\\\n",
       "\tMalasaÃ±a & 2\\\\\n",
       "\tMoratalaz & 3\\\\\n",
       "\tPacifico & 1\\\\\n",
       "\tPalacio & 2\\\\\n",
       "\tPalos do Moguer & 1\\\\\n",
       "\tRecoletos & 2\\\\\n",
       "\tRetiro & 1\\\\\n",
       "\tRios Rosas & 3\\\\\n",
       "\tSan Blas & 1\\\\\n",
       "\tSol & 1\\\\\n",
       "\tTrafalgar & 1\\\\\n",
       "\tUsera & 1\\\\\n",
       "\tVicÃ¡lvaro & 1\\\\\n",
       "\\end{tabular}\n"
      ],
      "text/markdown": [
       "\n",
       "| <!--/--> | cl |\n",
       "|---|---|\n",
       "| Acacias | 1 |\n",
       "| Adelfas | 1 |\n",
       "| Almagro | 1 |\n",
       "| Almenara | 1 |\n",
       "| Arapiles | 1 |\n",
       "| ArgÃ¼elles | 1 |\n",
       "| Barajas | 2 |\n",
       "| Carabanchel | 1 |\n",
       "| Castellana | 3 |\n",
       "| Castilla | 1 |\n",
       "| Centro | 2 |\n",
       "| ChamberÃ­ | 1 |\n",
       "| Ciudad Jardin | 1 |\n",
       "| Ciudad Lineal | 1 |\n",
       "| Cortes | 2 |\n",
       "| Cuatro Caminos | 1 |\n",
       "| El TrÃ©ntaiseis | 3 |\n",
       "| El Viso | 2 |\n",
       "| Embajadores | 2 |\n",
       "| Fuente del Berro | 3 |\n",
       "| Goya | 1 |\n",
       "| JerÃ³nimos | 1 |\n",
       "| Justicia | 2 |\n",
       "| La Latina | 2 |\n",
       "| Lista | 3 |\n",
       "| MalasaÃ±a | 2 |\n",
       "| Moratalaz | 3 |\n",
       "| Pacifico | 1 |\n",
       "| Palacio | 2 |\n",
       "| Palos do Moguer | 1 |\n",
       "| Recoletos | 2 |\n",
       "| Retiro | 1 |\n",
       "| Rios Rosas | 3 |\n",
       "| San Blas | 1 |\n",
       "| Sol | 1 |\n",
       "| Trafalgar | 1 |\n",
       "| Usera | 1 |\n",
       "| VicÃ¡lvaro | 1 |\n",
       "\n"
      ],
      "text/plain": [
       "                 cl\n",
       "Acacias          1 \n",
       "Adelfas          1 \n",
       "Almagro          1 \n",
       "Almenara         1 \n",
       "Arapiles         1 \n",
       "ArgÃ¼elles       1 \n",
       "Barajas          2 \n",
       "Carabanchel      1 \n",
       "Castellana       3 \n",
       "Castilla         1 \n",
       "Centro           2 \n",
       "ChamberÃ­        1 \n",
       "Ciudad Jardin    1 \n",
       "Ciudad Lineal    1 \n",
       "Cortes           2 \n",
       "Cuatro Caminos   1 \n",
       "El TrÃ©ntaiseis  3 \n",
       "El Viso          2 \n",
       "Embajadores      2 \n",
       "Fuente del Berro 3 \n",
       "Goya             1 \n",
       "JerÃ³nimos       1 \n",
       "Justicia         2 \n",
       "La Latina        2 \n",
       "Lista            3 \n",
       "MalasaÃ±a        2 \n",
       "Moratalaz        3 \n",
       "Pacifico         1 \n",
       "Palacio          2 \n",
       "Palos do Moguer  1 \n",
       "Recoletos        2 \n",
       "Retiro           1 \n",
       "Rios Rosas       3 \n",
       "San Blas         1 \n",
       "Sol              1 \n",
       "Trafalgar        1 \n",
       "Usera            1 \n",
       "VicÃ¡lvaro       1 "
      ]
     },
     "metadata": {},
     "output_type": "display_data"
    }
   ],
   "source": [
    "df_clusters"
   ]
  },
  {
   "cell_type": "code",
   "execution_count": 308,
   "metadata": {},
   "outputs": [],
   "source": [
    "df_clusters <- cbind(Neighbourhood = rownames(df_clusters), df_clusters)"
   ]
  },
  {
   "cell_type": "code",
   "execution_count": 309,
   "metadata": {},
   "outputs": [
    {
     "data": {
      "text/html": [
       "<table>\n",
       "<thead><tr><th></th><th scope=col>Neighbourhood</th><th scope=col>cl</th></tr></thead>\n",
       "<tbody>\n",
       "\t<tr><th scope=row>Acacias</th><td>Acacias         </td><td>1               </td></tr>\n",
       "\t<tr><th scope=row>Adelfas</th><td>Adelfas         </td><td>1               </td></tr>\n",
       "\t<tr><th scope=row>Almagro</th><td>Almagro         </td><td>1               </td></tr>\n",
       "\t<tr><th scope=row>Almenara</th><td>Almenara        </td><td>1               </td></tr>\n",
       "\t<tr><th scope=row>Arapiles</th><td>Arapiles        </td><td>1               </td></tr>\n",
       "\t<tr><th scope=row>ArgÃ¼elles</th><td>ArgÃ¼elles      </td><td>1               </td></tr>\n",
       "\t<tr><th scope=row>Barajas</th><td>Barajas         </td><td>2               </td></tr>\n",
       "\t<tr><th scope=row>Carabanchel</th><td>Carabanchel     </td><td>1               </td></tr>\n",
       "\t<tr><th scope=row>Castellana</th><td>Castellana      </td><td>3               </td></tr>\n",
       "\t<tr><th scope=row>Castilla</th><td>Castilla        </td><td>1               </td></tr>\n",
       "\t<tr><th scope=row>Centro</th><td>Centro          </td><td>2               </td></tr>\n",
       "\t<tr><th scope=row>ChamberÃ­</th><td>ChamberÃ­       </td><td>1               </td></tr>\n",
       "\t<tr><th scope=row>Ciudad Jardin</th><td>Ciudad Jardin   </td><td>1               </td></tr>\n",
       "\t<tr><th scope=row>Ciudad Lineal</th><td>Ciudad Lineal   </td><td>1               </td></tr>\n",
       "\t<tr><th scope=row>Cortes</th><td>Cortes          </td><td>2               </td></tr>\n",
       "\t<tr><th scope=row>Cuatro Caminos</th><td>Cuatro Caminos  </td><td>1               </td></tr>\n",
       "\t<tr><th scope=row>El TrÃ©ntaiseis</th><td>El TrÃ©ntaiseis </td><td>3               </td></tr>\n",
       "\t<tr><th scope=row>El Viso</th><td>El Viso         </td><td>2               </td></tr>\n",
       "\t<tr><th scope=row>Embajadores</th><td>Embajadores     </td><td>2               </td></tr>\n",
       "\t<tr><th scope=row>Fuente del Berro</th><td>Fuente del Berro</td><td>3               </td></tr>\n",
       "\t<tr><th scope=row>Goya</th><td>Goya            </td><td>1               </td></tr>\n",
       "\t<tr><th scope=row>JerÃ³nimos</th><td>JerÃ³nimos      </td><td>1               </td></tr>\n",
       "\t<tr><th scope=row>Justicia</th><td>Justicia        </td><td>2               </td></tr>\n",
       "\t<tr><th scope=row>La Latina</th><td>La Latina       </td><td>2               </td></tr>\n",
       "\t<tr><th scope=row>Lista</th><td>Lista           </td><td>3               </td></tr>\n",
       "\t<tr><th scope=row>MalasaÃ±a</th><td>MalasaÃ±a       </td><td>2               </td></tr>\n",
       "\t<tr><th scope=row>Moratalaz</th><td>Moratalaz       </td><td>3               </td></tr>\n",
       "\t<tr><th scope=row>Pacifico</th><td>Pacifico        </td><td>1               </td></tr>\n",
       "\t<tr><th scope=row>Palacio</th><td>Palacio         </td><td>2               </td></tr>\n",
       "\t<tr><th scope=row>Palos do Moguer</th><td>Palos do Moguer </td><td>1               </td></tr>\n",
       "\t<tr><th scope=row>Recoletos</th><td>Recoletos       </td><td>2               </td></tr>\n",
       "\t<tr><th scope=row>Retiro</th><td>Retiro          </td><td>1               </td></tr>\n",
       "\t<tr><th scope=row>Rios Rosas</th><td>Rios Rosas      </td><td>3               </td></tr>\n",
       "\t<tr><th scope=row>San Blas</th><td>San Blas        </td><td>1               </td></tr>\n",
       "\t<tr><th scope=row>Sol</th><td>Sol             </td><td>1               </td></tr>\n",
       "\t<tr><th scope=row>Trafalgar</th><td>Trafalgar       </td><td>1               </td></tr>\n",
       "\t<tr><th scope=row>Usera</th><td>Usera           </td><td>1               </td></tr>\n",
       "\t<tr><th scope=row>VicÃ¡lvaro</th><td>VicÃ¡lvaro      </td><td>1               </td></tr>\n",
       "</tbody>\n",
       "</table>\n"
      ],
      "text/latex": [
       "\\begin{tabular}{r|ll}\n",
       "  & Neighbourhood & cl\\\\\n",
       "\\hline\n",
       "\tAcacias & Acacias          & 1               \\\\\n",
       "\tAdelfas & Adelfas          & 1               \\\\\n",
       "\tAlmagro & Almagro          & 1               \\\\\n",
       "\tAlmenara & Almenara         & 1               \\\\\n",
       "\tArapiles & Arapiles         & 1               \\\\\n",
       "\tArgÃ¼elles & ArgÃ¼elles       & 1               \\\\\n",
       "\tBarajas & Barajas          & 2               \\\\\n",
       "\tCarabanchel & Carabanchel      & 1               \\\\\n",
       "\tCastellana & Castellana       & 3               \\\\\n",
       "\tCastilla & Castilla         & 1               \\\\\n",
       "\tCentro & Centro           & 2               \\\\\n",
       "\tChamberÃ­ & ChamberÃ­        & 1               \\\\\n",
       "\tCiudad Jardin & Ciudad Jardin    & 1               \\\\\n",
       "\tCiudad Lineal & Ciudad Lineal    & 1               \\\\\n",
       "\tCortes & Cortes           & 2               \\\\\n",
       "\tCuatro Caminos & Cuatro Caminos   & 1               \\\\\n",
       "\tEl TrÃ©ntaiseis & El TrÃ©ntaiseis  & 3               \\\\\n",
       "\tEl Viso & El Viso          & 2               \\\\\n",
       "\tEmbajadores & Embajadores      & 2               \\\\\n",
       "\tFuente del Berro & Fuente del Berro & 3               \\\\\n",
       "\tGoya & Goya             & 1               \\\\\n",
       "\tJerÃ³nimos & JerÃ³nimos       & 1               \\\\\n",
       "\tJusticia & Justicia         & 2               \\\\\n",
       "\tLa Latina & La Latina        & 2               \\\\\n",
       "\tLista & Lista            & 3               \\\\\n",
       "\tMalasaÃ±a & MalasaÃ±a        & 2               \\\\\n",
       "\tMoratalaz & Moratalaz        & 3               \\\\\n",
       "\tPacifico & Pacifico         & 1               \\\\\n",
       "\tPalacio & Palacio          & 2               \\\\\n",
       "\tPalos do Moguer & Palos do Moguer  & 1               \\\\\n",
       "\tRecoletos & Recoletos        & 2               \\\\\n",
       "\tRetiro & Retiro           & 1               \\\\\n",
       "\tRios Rosas & Rios Rosas       & 3               \\\\\n",
       "\tSan Blas & San Blas         & 1               \\\\\n",
       "\tSol & Sol              & 1               \\\\\n",
       "\tTrafalgar & Trafalgar        & 1               \\\\\n",
       "\tUsera & Usera            & 1               \\\\\n",
       "\tVicÃ¡lvaro & VicÃ¡lvaro       & 1               \\\\\n",
       "\\end{tabular}\n"
      ],
      "text/markdown": [
       "\n",
       "| <!--/--> | Neighbourhood | cl |\n",
       "|---|---|---|\n",
       "| Acacias | Acacias          | 1                |\n",
       "| Adelfas | Adelfas          | 1                |\n",
       "| Almagro | Almagro          | 1                |\n",
       "| Almenara | Almenara         | 1                |\n",
       "| Arapiles | Arapiles         | 1                |\n",
       "| ArgÃ¼elles | ArgÃ¼elles       | 1                |\n",
       "| Barajas | Barajas          | 2                |\n",
       "| Carabanchel | Carabanchel      | 1                |\n",
       "| Castellana | Castellana       | 3                |\n",
       "| Castilla | Castilla         | 1                |\n",
       "| Centro | Centro           | 2                |\n",
       "| ChamberÃ­ | ChamberÃ­        | 1                |\n",
       "| Ciudad Jardin | Ciudad Jardin    | 1                |\n",
       "| Ciudad Lineal | Ciudad Lineal    | 1                |\n",
       "| Cortes | Cortes           | 2                |\n",
       "| Cuatro Caminos | Cuatro Caminos   | 1                |\n",
       "| El TrÃ©ntaiseis | El TrÃ©ntaiseis  | 3                |\n",
       "| El Viso | El Viso          | 2                |\n",
       "| Embajadores | Embajadores      | 2                |\n",
       "| Fuente del Berro | Fuente del Berro | 3                |\n",
       "| Goya | Goya             | 1                |\n",
       "| JerÃ³nimos | JerÃ³nimos       | 1                |\n",
       "| Justicia | Justicia         | 2                |\n",
       "| La Latina | La Latina        | 2                |\n",
       "| Lista | Lista            | 3                |\n",
       "| MalasaÃ±a | MalasaÃ±a        | 2                |\n",
       "| Moratalaz | Moratalaz        | 3                |\n",
       "| Pacifico | Pacifico         | 1                |\n",
       "| Palacio | Palacio          | 2                |\n",
       "| Palos do Moguer | Palos do Moguer  | 1                |\n",
       "| Recoletos | Recoletos        | 2                |\n",
       "| Retiro | Retiro           | 1                |\n",
       "| Rios Rosas | Rios Rosas       | 3                |\n",
       "| San Blas | San Blas         | 1                |\n",
       "| Sol | Sol              | 1                |\n",
       "| Trafalgar | Trafalgar        | 1                |\n",
       "| Usera | Usera            | 1                |\n",
       "| VicÃ¡lvaro | VicÃ¡lvaro       | 1                |\n",
       "\n"
      ],
      "text/plain": [
       "                 Neighbourhood    cl\n",
       "Acacias          Acacias          1 \n",
       "Adelfas          Adelfas          1 \n",
       "Almagro          Almagro          1 \n",
       "Almenara         Almenara         1 \n",
       "Arapiles         Arapiles         1 \n",
       "ArgÃ¼elles       ArgÃ¼elles       1 \n",
       "Barajas          Barajas          2 \n",
       "Carabanchel      Carabanchel      1 \n",
       "Castellana       Castellana       3 \n",
       "Castilla         Castilla         1 \n",
       "Centro           Centro           2 \n",
       "ChamberÃ­        ChamberÃ­        1 \n",
       "Ciudad Jardin    Ciudad Jardin    1 \n",
       "Ciudad Lineal    Ciudad Lineal    1 \n",
       "Cortes           Cortes           2 \n",
       "Cuatro Caminos   Cuatro Caminos   1 \n",
       "El TrÃ©ntaiseis  El TrÃ©ntaiseis  3 \n",
       "El Viso          El Viso          2 \n",
       "Embajadores      Embajadores      2 \n",
       "Fuente del Berro Fuente del Berro 3 \n",
       "Goya             Goya             1 \n",
       "JerÃ³nimos       JerÃ³nimos       1 \n",
       "Justicia         Justicia         2 \n",
       "La Latina        La Latina        2 \n",
       "Lista            Lista            3 \n",
       "MalasaÃ±a        MalasaÃ±a        2 \n",
       "Moratalaz        Moratalaz        3 \n",
       "Pacifico         Pacifico         1 \n",
       "Palacio          Palacio          2 \n",
       "Palos do Moguer  Palos do Moguer  1 \n",
       "Recoletos        Recoletos        2 \n",
       "Retiro           Retiro           1 \n",
       "Rios Rosas       Rios Rosas       3 \n",
       "San Blas         San Blas         1 \n",
       "Sol              Sol              1 \n",
       "Trafalgar        Trafalgar        1 \n",
       "Usera            Usera            1 \n",
       "VicÃ¡lvaro       VicÃ¡lvaro       1 "
      ]
     },
     "metadata": {},
     "output_type": "display_data"
    }
   ],
   "source": [
    "df_clusters"
   ]
  },
  {
   "cell_type": "code",
   "execution_count": 310,
   "metadata": {},
   "outputs": [],
   "source": [
    "rownames(df_clusters) <- NULL\n",
    "colnames(df_clusters)[2] <- 'neighb_id'"
   ]
  },
  {
   "cell_type": "code",
   "execution_count": 311,
   "metadata": {},
   "outputs": [
    {
     "data": {
      "text/html": [
       "<table>\n",
       "<thead><tr><th scope=col>Neighbourhood</th><th scope=col>neighb_id</th></tr></thead>\n",
       "<tbody>\n",
       "\t<tr><td>Acacias         </td><td>1               </td></tr>\n",
       "\t<tr><td>Adelfas         </td><td>1               </td></tr>\n",
       "\t<tr><td>Almagro         </td><td>1               </td></tr>\n",
       "\t<tr><td>Almenara        </td><td>1               </td></tr>\n",
       "\t<tr><td>Arapiles        </td><td>1               </td></tr>\n",
       "\t<tr><td>ArgÃ¼elles      </td><td>1               </td></tr>\n",
       "\t<tr><td>Barajas         </td><td>2               </td></tr>\n",
       "\t<tr><td>Carabanchel     </td><td>1               </td></tr>\n",
       "\t<tr><td>Castellana      </td><td>3               </td></tr>\n",
       "\t<tr><td>Castilla        </td><td>1               </td></tr>\n",
       "\t<tr><td>Centro          </td><td>2               </td></tr>\n",
       "\t<tr><td>ChamberÃ­       </td><td>1               </td></tr>\n",
       "\t<tr><td>Ciudad Jardin   </td><td>1               </td></tr>\n",
       "\t<tr><td>Ciudad Lineal   </td><td>1               </td></tr>\n",
       "\t<tr><td>Cortes          </td><td>2               </td></tr>\n",
       "\t<tr><td>Cuatro Caminos  </td><td>1               </td></tr>\n",
       "\t<tr><td>El TrÃ©ntaiseis </td><td>3               </td></tr>\n",
       "\t<tr><td>El Viso         </td><td>2               </td></tr>\n",
       "\t<tr><td>Embajadores     </td><td>2               </td></tr>\n",
       "\t<tr><td>Fuente del Berro</td><td>3               </td></tr>\n",
       "\t<tr><td>Goya            </td><td>1               </td></tr>\n",
       "\t<tr><td>JerÃ³nimos      </td><td>1               </td></tr>\n",
       "\t<tr><td>Justicia        </td><td>2               </td></tr>\n",
       "\t<tr><td>La Latina       </td><td>2               </td></tr>\n",
       "\t<tr><td>Lista           </td><td>3               </td></tr>\n",
       "\t<tr><td>MalasaÃ±a       </td><td>2               </td></tr>\n",
       "\t<tr><td>Moratalaz       </td><td>3               </td></tr>\n",
       "\t<tr><td>Pacifico        </td><td>1               </td></tr>\n",
       "\t<tr><td>Palacio         </td><td>2               </td></tr>\n",
       "\t<tr><td>Palos do Moguer </td><td>1               </td></tr>\n",
       "\t<tr><td>Recoletos       </td><td>2               </td></tr>\n",
       "\t<tr><td>Retiro          </td><td>1               </td></tr>\n",
       "\t<tr><td>Rios Rosas      </td><td>3               </td></tr>\n",
       "\t<tr><td>San Blas        </td><td>1               </td></tr>\n",
       "\t<tr><td>Sol             </td><td>1               </td></tr>\n",
       "\t<tr><td>Trafalgar       </td><td>1               </td></tr>\n",
       "\t<tr><td>Usera           </td><td>1               </td></tr>\n",
       "\t<tr><td>VicÃ¡lvaro      </td><td>1               </td></tr>\n",
       "</tbody>\n",
       "</table>\n"
      ],
      "text/latex": [
       "\\begin{tabular}{r|ll}\n",
       " Neighbourhood & neighb\\_id\\\\\n",
       "\\hline\n",
       "\t Acacias          & 1               \\\\\n",
       "\t Adelfas          & 1               \\\\\n",
       "\t Almagro          & 1               \\\\\n",
       "\t Almenara         & 1               \\\\\n",
       "\t Arapiles         & 1               \\\\\n",
       "\t ArgÃ¼elles       & 1               \\\\\n",
       "\t Barajas          & 2               \\\\\n",
       "\t Carabanchel      & 1               \\\\\n",
       "\t Castellana       & 3               \\\\\n",
       "\t Castilla         & 1               \\\\\n",
       "\t Centro           & 2               \\\\\n",
       "\t ChamberÃ­        & 1               \\\\\n",
       "\t Ciudad Jardin    & 1               \\\\\n",
       "\t Ciudad Lineal    & 1               \\\\\n",
       "\t Cortes           & 2               \\\\\n",
       "\t Cuatro Caminos   & 1               \\\\\n",
       "\t El TrÃ©ntaiseis  & 3               \\\\\n",
       "\t El Viso          & 2               \\\\\n",
       "\t Embajadores      & 2               \\\\\n",
       "\t Fuente del Berro & 3               \\\\\n",
       "\t Goya             & 1               \\\\\n",
       "\t JerÃ³nimos       & 1               \\\\\n",
       "\t Justicia         & 2               \\\\\n",
       "\t La Latina        & 2               \\\\\n",
       "\t Lista            & 3               \\\\\n",
       "\t MalasaÃ±a        & 2               \\\\\n",
       "\t Moratalaz        & 3               \\\\\n",
       "\t Pacifico         & 1               \\\\\n",
       "\t Palacio          & 2               \\\\\n",
       "\t Palos do Moguer  & 1               \\\\\n",
       "\t Recoletos        & 2               \\\\\n",
       "\t Retiro           & 1               \\\\\n",
       "\t Rios Rosas       & 3               \\\\\n",
       "\t San Blas         & 1               \\\\\n",
       "\t Sol              & 1               \\\\\n",
       "\t Trafalgar        & 1               \\\\\n",
       "\t Usera            & 1               \\\\\n",
       "\t VicÃ¡lvaro       & 1               \\\\\n",
       "\\end{tabular}\n"
      ],
      "text/markdown": [
       "\n",
       "| Neighbourhood | neighb_id |\n",
       "|---|---|\n",
       "| Acacias          | 1                |\n",
       "| Adelfas          | 1                |\n",
       "| Almagro          | 1                |\n",
       "| Almenara         | 1                |\n",
       "| Arapiles         | 1                |\n",
       "| ArgÃ¼elles       | 1                |\n",
       "| Barajas          | 2                |\n",
       "| Carabanchel      | 1                |\n",
       "| Castellana       | 3                |\n",
       "| Castilla         | 1                |\n",
       "| Centro           | 2                |\n",
       "| ChamberÃ­        | 1                |\n",
       "| Ciudad Jardin    | 1                |\n",
       "| Ciudad Lineal    | 1                |\n",
       "| Cortes           | 2                |\n",
       "| Cuatro Caminos   | 1                |\n",
       "| El TrÃ©ntaiseis  | 3                |\n",
       "| El Viso          | 2                |\n",
       "| Embajadores      | 2                |\n",
       "| Fuente del Berro | 3                |\n",
       "| Goya             | 1                |\n",
       "| JerÃ³nimos       | 1                |\n",
       "| Justicia         | 2                |\n",
       "| La Latina        | 2                |\n",
       "| Lista            | 3                |\n",
       "| MalasaÃ±a        | 2                |\n",
       "| Moratalaz        | 3                |\n",
       "| Pacifico         | 1                |\n",
       "| Palacio          | 2                |\n",
       "| Palos do Moguer  | 1                |\n",
       "| Recoletos        | 2                |\n",
       "| Retiro           | 1                |\n",
       "| Rios Rosas       | 3                |\n",
       "| San Blas         | 1                |\n",
       "| Sol              | 1                |\n",
       "| Trafalgar        | 1                |\n",
       "| Usera            | 1                |\n",
       "| VicÃ¡lvaro       | 1                |\n",
       "\n"
      ],
      "text/plain": [
       "   Neighbourhood    neighb_id\n",
       "1  Acacias          1        \n",
       "2  Adelfas          1        \n",
       "3  Almagro          1        \n",
       "4  Almenara         1        \n",
       "5  Arapiles         1        \n",
       "6  ArgÃ¼elles       1        \n",
       "7  Barajas          2        \n",
       "8  Carabanchel      1        \n",
       "9  Castellana       3        \n",
       "10 Castilla         1        \n",
       "11 Centro           2        \n",
       "12 ChamberÃ­        1        \n",
       "13 Ciudad Jardin    1        \n",
       "14 Ciudad Lineal    1        \n",
       "15 Cortes           2        \n",
       "16 Cuatro Caminos   1        \n",
       "17 El TrÃ©ntaiseis  3        \n",
       "18 El Viso          2        \n",
       "19 Embajadores      2        \n",
       "20 Fuente del Berro 3        \n",
       "21 Goya             1        \n",
       "22 JerÃ³nimos       1        \n",
       "23 Justicia         2        \n",
       "24 La Latina        2        \n",
       "25 Lista            3        \n",
       "26 MalasaÃ±a        2        \n",
       "27 Moratalaz        3        \n",
       "28 Pacifico         1        \n",
       "29 Palacio          2        \n",
       "30 Palos do Moguer  1        \n",
       "31 Recoletos        2        \n",
       "32 Retiro           1        \n",
       "33 Rios Rosas       3        \n",
       "34 San Blas         1        \n",
       "35 Sol              1        \n",
       "36 Trafalgar        1        \n",
       "37 Usera            1        \n",
       "38 VicÃ¡lvaro       1        "
      ]
     },
     "metadata": {},
     "output_type": "display_data"
    }
   ],
   "source": [
    "df_clusters"
   ]
  },
  {
   "cell_type": "code",
   "execution_count": 312,
   "metadata": {},
   "outputs": [],
   "source": [
    "df_madrid <- merge(df_madrid, df_clusters, by = 'Neighbourhood')"
   ]
  },
  {
   "cell_type": "code",
   "execution_count": 313,
   "metadata": {},
   "outputs": [
    {
     "data": {
      "text/html": [
       "<table>\n",
       "<thead><tr><th scope=col>Neighbourhood</th><th scope=col>Accommodates</th><th scope=col>Bathrooms</th><th scope=col>Bedrooms</th><th scope=col>Beds</th><th scope=col>Price</th><th scope=col>Square.Feet</th><th scope=col>Guests.Included</th><th scope=col>Extra.People</th><th scope=col>Review.Scores.Rating</th><th scope=col>Latitude</th><th scope=col>Longitude</th><th scope=col>Square.Meters</th><th scope=col>neighb_id</th></tr></thead>\n",
       "<tbody>\n",
       "\t<tr><td>Acacias  </td><td>4        </td><td>1        </td><td>1        </td><td>2        </td><td>60       </td><td>753      </td><td>2        </td><td>12       </td><td>85       </td><td>40.40073 </td><td>-3.706203</td><td>69.96    </td><td>1        </td></tr>\n",
       "\t<tr><td>Acacias  </td><td>2        </td><td>1        </td><td>1        </td><td>1        </td><td>60       </td><td> NA      </td><td>1        </td><td> 0       </td><td>80       </td><td>40.40030 </td><td>-3.701024</td><td>   NA    </td><td>1        </td></tr>\n",
       "\t<tr><td>Acacias  </td><td>2        </td><td>1        </td><td>2        </td><td>1        </td><td>75       </td><td> NA      </td><td>1        </td><td> 0       </td><td>NA       </td><td>40.40270 </td><td>-3.703143</td><td>   NA    </td><td>1        </td></tr>\n",
       "\t<tr><td>Acacias  </td><td>2        </td><td>1        </td><td>1        </td><td>1        </td><td>68       </td><td> NA      </td><td>1        </td><td> 0       </td><td>94       </td><td>40.40452 </td><td>-3.707737</td><td>   NA    </td><td>1        </td></tr>\n",
       "\t<tr><td>Acacias  </td><td>2        </td><td>1        </td><td>1        </td><td>1        </td><td>35       </td><td> NA      </td><td>1        </td><td> 0       </td><td>96       </td><td>40.40057 </td><td>-3.702002</td><td>   NA    </td><td>1        </td></tr>\n",
       "\t<tr><td>Acacias  </td><td>2        </td><td>1        </td><td>0        </td><td>1        </td><td>22       </td><td> NA      </td><td>1        </td><td> 5       </td><td>97       </td><td>40.40504 </td><td>-3.705093</td><td>   NA    </td><td>1        </td></tr>\n",
       "</tbody>\n",
       "</table>\n"
      ],
      "text/latex": [
       "\\begin{tabular}{r|llllllllllllll}\n",
       " Neighbourhood & Accommodates & Bathrooms & Bedrooms & Beds & Price & Square.Feet & Guests.Included & Extra.People & Review.Scores.Rating & Latitude & Longitude & Square.Meters & neighb\\_id\\\\\n",
       "\\hline\n",
       "\t Acacias   & 4         & 1         & 1         & 2         & 60        & 753       & 2         & 12        & 85        & 40.40073  & -3.706203 & 69.96     & 1        \\\\\n",
       "\t Acacias   & 2         & 1         & 1         & 1         & 60        &  NA       & 1         &  0        & 80        & 40.40030  & -3.701024 &    NA     & 1        \\\\\n",
       "\t Acacias   & 2         & 1         & 2         & 1         & 75        &  NA       & 1         &  0        & NA        & 40.40270  & -3.703143 &    NA     & 1        \\\\\n",
       "\t Acacias   & 2         & 1         & 1         & 1         & 68        &  NA       & 1         &  0        & 94        & 40.40452  & -3.707737 &    NA     & 1        \\\\\n",
       "\t Acacias   & 2         & 1         & 1         & 1         & 35        &  NA       & 1         &  0        & 96        & 40.40057  & -3.702002 &    NA     & 1        \\\\\n",
       "\t Acacias   & 2         & 1         & 0         & 1         & 22        &  NA       & 1         &  5        & 97        & 40.40504  & -3.705093 &    NA     & 1        \\\\\n",
       "\\end{tabular}\n"
      ],
      "text/markdown": [
       "\n",
       "| Neighbourhood | Accommodates | Bathrooms | Bedrooms | Beds | Price | Square.Feet | Guests.Included | Extra.People | Review.Scores.Rating | Latitude | Longitude | Square.Meters | neighb_id |\n",
       "|---|---|---|---|---|---|---|---|---|---|---|---|---|---|\n",
       "| Acacias   | 4         | 1         | 1         | 2         | 60        | 753       | 2         | 12        | 85        | 40.40073  | -3.706203 | 69.96     | 1         |\n",
       "| Acacias   | 2         | 1         | 1         | 1         | 60        |  NA       | 1         |  0        | 80        | 40.40030  | -3.701024 |    NA     | 1         |\n",
       "| Acacias   | 2         | 1         | 2         | 1         | 75        |  NA       | 1         |  0        | NA        | 40.40270  | -3.703143 |    NA     | 1         |\n",
       "| Acacias   | 2         | 1         | 1         | 1         | 68        |  NA       | 1         |  0        | 94        | 40.40452  | -3.707737 |    NA     | 1         |\n",
       "| Acacias   | 2         | 1         | 1         | 1         | 35        |  NA       | 1         |  0        | 96        | 40.40057  | -3.702002 |    NA     | 1         |\n",
       "| Acacias   | 2         | 1         | 0         | 1         | 22        |  NA       | 1         |  5        | 97        | 40.40504  | -3.705093 |    NA     | 1         |\n",
       "\n"
      ],
      "text/plain": [
       "  Neighbourhood Accommodates Bathrooms Bedrooms Beds Price Square.Feet\n",
       "1 Acacias       4            1         1        2    60    753        \n",
       "2 Acacias       2            1         1        1    60     NA        \n",
       "3 Acacias       2            1         2        1    75     NA        \n",
       "4 Acacias       2            1         1        1    68     NA        \n",
       "5 Acacias       2            1         1        1    35     NA        \n",
       "6 Acacias       2            1         0        1    22     NA        \n",
       "  Guests.Included Extra.People Review.Scores.Rating Latitude Longitude\n",
       "1 2               12           85                   40.40073 -3.706203\n",
       "2 1                0           80                   40.40030 -3.701024\n",
       "3 1                0           NA                   40.40270 -3.703143\n",
       "4 1                0           94                   40.40452 -3.707737\n",
       "5 1                0           96                   40.40057 -3.702002\n",
       "6 1                5           97                   40.40504 -3.705093\n",
       "  Square.Meters neighb_id\n",
       "1 69.96         1        \n",
       "2    NA         1        \n",
       "3    NA         1        \n",
       "4    NA         1        \n",
       "5    NA         1        \n",
       "6    NA         1        "
      ]
     },
     "metadata": {},
     "output_type": "display_data"
    }
   ],
   "source": [
    "head(df_madrid)"
   ]
  },
  {
   "cell_type": "code",
   "execution_count": 314,
   "metadata": {},
   "outputs": [
    {
     "data": {
      "text/plain": [
       "     Neighbourhood   Accommodates      Bathrooms        Bedrooms    \n",
       " MalasaÃ±a  : 679   Min.   : 1.000   Min.   :0.000   Min.   : 0.00  \n",
       " Embajadores: 585   1st Qu.: 3.000   1st Qu.:1.000   1st Qu.: 1.00  \n",
       " La Latina  : 571   Median : 4.000   Median :1.000   Median : 1.00  \n",
       " Sol        : 536   Mean   : 4.091   Mean   :1.244   Mean   : 1.42  \n",
       " Cortes     : 441   3rd Qu.: 5.000   3rd Qu.:1.000   3rd Qu.: 2.00  \n",
       " Justicia   : 384   Max.   :16.000   Max.   :6.000   Max.   :10.00  \n",
       " (Other)    :1705                    NA's   :14      NA's   :7      \n",
       "      Beds            Price         Square.Feet     Guests.Included \n",
       " Min.   : 1.000   Min.   : 18.00   Min.   :   0.0   Min.   : 1.000  \n",
       " 1st Qu.: 1.000   1st Qu.: 59.00   1st Qu.:   0.0   1st Qu.: 1.000  \n",
       " Median : 2.000   Median : 75.00   Median : 323.0   Median : 2.000  \n",
       " Mean   : 2.366   Mean   : 90.39   Mean   : 406.7   Mean   : 1.954  \n",
       " 3rd Qu.: 3.000   3rd Qu.:100.00   3rd Qu.: 646.0   3rd Qu.: 2.000  \n",
       " Max.   :16.000   Max.   :800.00   Max.   :5167.0   Max.   :15.000  \n",
       " NA's   :8        NA's   :5        NA's   :4567                     \n",
       "  Extra.People     Review.Scores.Rating    Latitude       Longitude     \n",
       " Min.   :  0.000   Min.   : 20.00       Min.   :40.36   Min.   :-3.761  \n",
       " 1st Qu.:  0.000   1st Qu.: 88.00       1st Qu.:40.41   1st Qu.:-3.707  \n",
       " Median : 10.000   Median : 93.00       Median :40.42   Median :-3.702  \n",
       " Mean   :  9.019   Mean   : 91.41       Mean   :40.42   Mean   :-3.700  \n",
       " 3rd Qu.: 15.000   3rd Qu.: 97.00       3rd Qu.:40.42   3rd Qu.:-3.697  \n",
       " Max.   :276.000   Max.   :100.00       Max.   :40.48   Max.   :-3.576  \n",
       "                   NA's   :692                                          \n",
       " Square.Meters      neighb_id    \n",
       " Min.   : 22.02   Min.   :1.000  \n",
       " 1st Qu.: 44.97   1st Qu.:1.000  \n",
       " Median : 60.02   Median :2.000  \n",
       " Mean   : 68.54   Mean   :1.709  \n",
       " 3rd Qu.: 79.99   3rd Qu.:2.000  \n",
       " Max.   :200.02   Max.   :3.000  \n",
       " NA's   :4728                    "
      ]
     },
     "metadata": {},
     "output_type": "display_data"
    }
   ],
   "source": [
    "summary(df_madrid)"
   ]
  },
  {
   "cell_type": "markdown",
   "metadata": {},
   "source": [
    "Comprobamos que debemos transformar la columna del cluster en factor. Del tercer cluster hay pocos elementos, y la primera tentación sería librarse de esas filas, o elegir solo dos clusters, pero es que, al ser tan diferente pienso que eliminariamos demasiada información."
   ]
  },
  {
   "cell_type": "code",
   "execution_count": 315,
   "metadata": {},
   "outputs": [],
   "source": [
    "df_madrid$neighb_id <- as.factor(df_madrid$neighb_id)"
   ]
  },
  {
   "cell_type": "code",
   "execution_count": 316,
   "metadata": {},
   "outputs": [
    {
     "data": {
      "text/plain": [
       "     Neighbourhood   Accommodates      Bathrooms        Bedrooms    \n",
       " MalasaÃ±a  : 679   Min.   : 1.000   Min.   :0.000   Min.   : 0.00  \n",
       " Embajadores: 585   1st Qu.: 3.000   1st Qu.:1.000   1st Qu.: 1.00  \n",
       " La Latina  : 571   Median : 4.000   Median :1.000   Median : 1.00  \n",
       " Sol        : 536   Mean   : 4.091   Mean   :1.244   Mean   : 1.42  \n",
       " Cortes     : 441   3rd Qu.: 5.000   3rd Qu.:1.000   3rd Qu.: 2.00  \n",
       " Justicia   : 384   Max.   :16.000   Max.   :6.000   Max.   :10.00  \n",
       " (Other)    :1705                    NA's   :14      NA's   :7      \n",
       "      Beds            Price         Square.Feet     Guests.Included \n",
       " Min.   : 1.000   Min.   : 18.00   Min.   :   0.0   Min.   : 1.000  \n",
       " 1st Qu.: 1.000   1st Qu.: 59.00   1st Qu.:   0.0   1st Qu.: 1.000  \n",
       " Median : 2.000   Median : 75.00   Median : 323.0   Median : 2.000  \n",
       " Mean   : 2.366   Mean   : 90.39   Mean   : 406.7   Mean   : 1.954  \n",
       " 3rd Qu.: 3.000   3rd Qu.:100.00   3rd Qu.: 646.0   3rd Qu.: 2.000  \n",
       " Max.   :16.000   Max.   :800.00   Max.   :5167.0   Max.   :15.000  \n",
       " NA's   :8        NA's   :5        NA's   :4567                     \n",
       "  Extra.People     Review.Scores.Rating    Latitude       Longitude     \n",
       " Min.   :  0.000   Min.   : 20.00       Min.   :40.36   Min.   :-3.761  \n",
       " 1st Qu.:  0.000   1st Qu.: 88.00       1st Qu.:40.41   1st Qu.:-3.707  \n",
       " Median : 10.000   Median : 93.00       Median :40.42   Median :-3.702  \n",
       " Mean   :  9.019   Mean   : 91.41       Mean   :40.42   Mean   :-3.700  \n",
       " 3rd Qu.: 15.000   3rd Qu.: 97.00       3rd Qu.:40.42   3rd Qu.:-3.697  \n",
       " Max.   :276.000   Max.   :100.00       Max.   :40.48   Max.   :-3.576  \n",
       "                   NA's   :692                                          \n",
       " Square.Meters    neighb_id\n",
       " Min.   : 22.02   1:1618   \n",
       " 1st Qu.: 44.97   2:3090   \n",
       " Median : 60.02   3: 193   \n",
       " Mean   : 68.54            \n",
       " 3rd Qu.: 79.99            \n",
       " Max.   :200.02            \n",
       " NA's   :4728              "
      ]
     },
     "metadata": {},
     "output_type": "display_data"
    }
   ],
   "source": [
    "summary(df_madrid)"
   ]
  },
  {
   "cell_type": "code",
   "execution_count": null,
   "metadata": {},
   "outputs": [],
   "source": []
  },
  {
   "cell_type": "markdown",
   "metadata": {},
   "source": [
    "P14 - Vamos a crear dos grupos, uno test y otro train.\n",
    "\n",
    "Tratamos de predecir los metros cuadrados en función del resto de columnas del dataframe."
   ]
  },
  {
   "cell_type": "markdown",
   "metadata": {},
   "source": [
    "R14 - Procedemos de forma habitual para hacer la separación de train y test."
   ]
  },
  {
   "cell_type": "code",
   "execution_count": 318,
   "metadata": {},
   "outputs": [],
   "source": [
    "idx <- sample(1:nrow(df_madrid), nrow(df_madrid) * 0.7 )"
   ]
  },
  {
   "cell_type": "code",
   "execution_count": 319,
   "metadata": {},
   "outputs": [],
   "source": [
    "df_madrid.train <- df_madrid[idx, ]"
   ]
  },
  {
   "cell_type": "code",
   "execution_count": 320,
   "metadata": {},
   "outputs": [],
   "source": [
    "df_madrid.test <- df_madrid[-idx, ]"
   ]
  },
  {
   "cell_type": "code",
   "execution_count": 321,
   "metadata": {},
   "outputs": [
    {
     "data": {
      "text/html": [
       "<ol class=list-inline>\n",
       "\t<li>3430</li>\n",
       "\t<li>14</li>\n",
       "</ol>\n"
      ],
      "text/latex": [
       "\\begin{enumerate*}\n",
       "\\item 3430\n",
       "\\item 14\n",
       "\\end{enumerate*}\n"
      ],
      "text/markdown": [
       "1. 3430\n",
       "2. 14\n",
       "\n",
       "\n"
      ],
      "text/plain": [
       "[1] 3430   14"
      ]
     },
     "metadata": {},
     "output_type": "display_data"
    }
   ],
   "source": [
    "dim(df_madrid.train)"
   ]
  },
  {
   "cell_type": "code",
   "execution_count": 322,
   "metadata": {},
   "outputs": [
    {
     "data": {
      "text/html": [
       "<ol class=list-inline>\n",
       "\t<li>1471</li>\n",
       "\t<li>14</li>\n",
       "</ol>\n"
      ],
      "text/latex": [
       "\\begin{enumerate*}\n",
       "\\item 1471\n",
       "\\item 14\n",
       "\\end{enumerate*}\n"
      ],
      "text/markdown": [
       "1. 1471\n",
       "2. 14\n",
       "\n",
       "\n"
      ],
      "text/plain": [
       "[1] 1471   14"
      ]
     },
     "metadata": {},
     "output_type": "display_data"
    }
   ],
   "source": [
    "dim(df_madrid.test)"
   ]
  },
  {
   "cell_type": "code",
   "execution_count": null,
   "metadata": {},
   "outputs": [],
   "source": []
  },
  {
   "cell_type": "markdown",
   "metadata": {},
   "source": [
    "Procedemos a hacer un modelo con casi todas las variables. Hemos suprimido la de square.Feet al ser de facto la misma que estamos estimando. Hemos mantenido las filas con NA, aunque en realidad no debería importar en demasía pues donde más hay es precisamente en la columna que estamos intentando estimar."
   ]
  },
  {
   "cell_type": "code",
   "execution_count": 325,
   "metadata": {},
   "outputs": [],
   "source": [
    "model_Squaremeters <- lm(formula = Square.Meters ~ Accommodates + Bedrooms + Price + Guests.Included\n",
    "                         + Extra.People + neighb_id + Latitude + Longitude,\n",
    "                        data = df_madrid.train)"
   ]
  },
  {
   "cell_type": "code",
   "execution_count": 326,
   "metadata": {},
   "outputs": [
    {
     "data": {
      "text/plain": [
       "\n",
       "Call:\n",
       "lm(formula = Square.Meters ~ Accommodates + Bedrooms + Price + \n",
       "    Guests.Included + Extra.People + neighb_id + Latitude + Longitude, \n",
       "    data = df_madrid.train)\n",
       "\n",
       "Residuals:\n",
       "    Min      1Q  Median      3Q     Max \n",
       "-41.545 -13.008  -1.529   9.328  74.801 \n",
       "\n",
       "Coefficients:\n",
       "                  Estimate Std. Error t value Pr(>|t|)    \n",
       "(Intercept)     -6.698e+03  5.418e+03  -1.236  0.21909    \n",
       "Accommodates     1.358e+00  1.685e+00   0.806  0.42229    \n",
       "Bedrooms         1.875e+01  3.190e+00   5.877 4.79e-08 ***\n",
       "Price            6.322e-02  2.774e-02   2.279  0.02467 *  \n",
       "Guests.Included -8.917e-01  1.878e+00  -0.475  0.63591    \n",
       "Extra.People     6.153e-01  2.294e-01   2.683  0.00846 ** \n",
       "neighb_id2      -1.757e+01  3.866e+00  -4.543 1.46e-05 ***\n",
       "neighb_id3       2.674e+01  1.285e+01   2.081  0.03984 *  \n",
       "Latitude         1.547e+02  1.288e+02   1.200  0.23263    \n",
       "Longitude       -1.292e+02  1.105e+02  -1.170  0.24475    \n",
       "---\n",
       "Signif. codes:  0 '***' 0.001 '**' 0.01 '*' 0.05 '.' 0.1 ' ' 1\n",
       "\n",
       "Residual standard error: 19.53 on 107 degrees of freedom\n",
       "  (3313 observations deleted due to missingness)\n",
       "Multiple R-squared:  0.6837,\tAdjusted R-squared:  0.6571 \n",
       "F-statistic:  25.7 on 9 and 107 DF,  p-value: < 2.2e-16\n"
      ]
     },
     "metadata": {},
     "output_type": "display_data"
    }
   ],
   "source": [
    "summary(model_Squaremeters)"
   ]
  },
  {
   "cell_type": "markdown",
   "metadata": {},
   "source": [
    "No parece que hayamos obtenido un gran éxito. Debemos eliminar la columna de Accomodates incluso si se menciona en otra de las preguntas. La longitud y latitud también por fortuna; sería una gran molestia en producción tener que rellenar estos datos. Nos quedamos con bedrooms, price y el cluster."
   ]
  },
  {
   "cell_type": "code",
   "execution_count": null,
   "metadata": {},
   "outputs": [],
   "source": []
  },
  {
   "cell_type": "code",
   "execution_count": null,
   "metadata": {},
   "outputs": [],
   "source": [
    "model_Squaremeters <- lm(formula = Square.Meters ~ Bedrooms + Price + neighb_id ,\n",
    "                        data = df_madrid.train)"
   ]
  },
  {
   "cell_type": "code",
   "execution_count": 330,
   "metadata": {},
   "outputs": [
    {
     "data": {
      "text/plain": [
       "\n",
       "Call:\n",
       "lm(formula = Square.Meters ~ Bedrooms + Price + neighb_id, data = df_madrid.train)\n",
       "\n",
       "Residuals:\n",
       "    Min      1Q  Median      3Q     Max \n",
       "-37.898 -12.123  -3.009   9.371  84.490 \n",
       "\n",
       "Coefficients:\n",
       "             Estimate Std. Error t value Pr(>|t|)    \n",
       "(Intercept)  36.70776    4.59149   7.995 1.29e-12 ***\n",
       "Bedrooms     21.59521    2.42647   8.900 1.13e-14 ***\n",
       "Price         0.07054    0.02718   2.595   0.0107 *  \n",
       "neighb_id2  -16.62424    3.85128  -4.317 3.44e-05 ***\n",
       "neighb_id3   20.08547   12.37375   1.623   0.1074    \n",
       "---\n",
       "Signif. codes:  0 '***' 0.001 '**' 0.01 '*' 0.05 '.' 0.1 ' ' 1\n",
       "\n",
       "Residual standard error: 20.22 on 112 degrees of freedom\n",
       "  (3313 observations deleted due to missingness)\n",
       "Multiple R-squared:  0.6453,\tAdjusted R-squared:  0.6326 \n",
       "F-statistic: 50.94 on 4 and 112 DF,  p-value: < 2.2e-16\n"
      ]
     },
     "metadata": {},
     "output_type": "display_data"
    }
   ],
   "source": [
    "summary(model_Squaremeters)"
   ]
  },
  {
   "cell_type": "markdown",
   "metadata": {},
   "source": [
    "Ahora obtenemos mejores datos. El R2 no es una maravilla, pero tampoco bastante malo. El único inconveniente es que el p-valor del tercer cluster es algo alto. Quizás podríamos tomar solo dos custers, pero de nuevo, no sé si podemos renunciar a esa información tan a a ligera. Yo, por compromiso preferiría dejarlo."
   ]
  },
  {
   "cell_type": "code",
   "execution_count": null,
   "metadata": {},
   "outputs": [],
   "source": []
  },
  {
   "cell_type": "code",
   "execution_count": null,
   "metadata": {},
   "outputs": [],
   "source": []
  },
  {
   "cell_type": "code",
   "execution_count": 331,
   "metadata": {},
   "outputs": [
    {
     "data": {
      "text/html": [
       "<ol class=list-inline>\n",
       "\t<li>114</li>\n",
       "\t<li>14</li>\n",
       "</ol>\n"
      ],
      "text/latex": [
       "\\begin{enumerate*}\n",
       "\\item 114\n",
       "\\item 14\n",
       "\\end{enumerate*}\n"
      ],
      "text/markdown": [
       "1. 114\n",
       "2. 14\n",
       "\n",
       "\n"
      ],
      "text/plain": [
       "[1] 114  14"
      ]
     },
     "metadata": {},
     "output_type": "display_data"
    }
   ],
   "source": [
    "dim(na.omit(df_madrid.train))"
   ]
  },
  {
   "cell_type": "code",
   "execution_count": 332,
   "metadata": {},
   "outputs": [
    {
     "data": {
      "text/html": [
       "<ol class=list-inline>\n",
       "\t<li>50</li>\n",
       "\t<li>14</li>\n",
       "</ol>\n"
      ],
      "text/latex": [
       "\\begin{enumerate*}\n",
       "\\item 50\n",
       "\\item 14\n",
       "\\end{enumerate*}\n"
      ],
      "text/markdown": [
       "1. 50\n",
       "2. 14\n",
       "\n",
       "\n"
      ],
      "text/plain": [
       "[1] 50 14"
      ]
     },
     "metadata": {},
     "output_type": "display_data"
    }
   ],
   "source": [
    "dim(na.omit(df_madrid.test))"
   ]
  },
  {
   "cell_type": "code",
   "execution_count": null,
   "metadata": {},
   "outputs": [],
   "source": []
  },
  {
   "cell_type": "markdown",
   "metadata": {},
   "source": [
    "Vamos con testing. Aquí, casi por limpieza, sí que quitamos los NA, a fin de cuentas se centrarían en la variable que queremos estimar. Calculamos nuestra estimación con predict, y la almacenamos en una columna del dataframe test."
   ]
  },
  {
   "cell_type": "code",
   "execution_count": 333,
   "metadata": {},
   "outputs": [],
   "source": [
    "df_madrid.test <- na.omit(df_madrid.test)"
   ]
  },
  {
   "cell_type": "code",
   "execution_count": 334,
   "metadata": {},
   "outputs": [],
   "source": [
    "df_madrid.test$SMest <- predict(model_Squaremeters, df_madrid.test)"
   ]
  },
  {
   "cell_type": "code",
   "execution_count": 335,
   "metadata": {},
   "outputs": [
    {
     "data": {
      "text/html": [
       "<table>\n",
       "<thead><tr><th></th><th scope=col>Neighbourhood</th><th scope=col>Accommodates</th><th scope=col>Bathrooms</th><th scope=col>Bedrooms</th><th scope=col>Beds</th><th scope=col>Price</th><th scope=col>Square.Feet</th><th scope=col>Guests.Included</th><th scope=col>Extra.People</th><th scope=col>Review.Scores.Rating</th><th scope=col>Latitude</th><th scope=col>Longitude</th><th scope=col>Square.Meters</th><th scope=col>neighb_id</th><th scope=col>SMest</th></tr></thead>\n",
       "<tbody>\n",
       "\t<tr><th scope=row>22</th><td>Acacias   </td><td>4         </td><td>1.0       </td><td>1         </td><td>2         </td><td>60        </td><td> 538      </td><td>2         </td><td>15        </td><td> 98       </td><td>40.40513  </td><td>-3.707726 </td><td> 49.98    </td><td>1         </td><td>62.53515  </td></tr>\n",
       "\t<tr><th scope=row>27</th><td>Acacias   </td><td>4         </td><td>1.0       </td><td>1         </td><td>3         </td><td>68        </td><td> 807      </td><td>2         </td><td>10        </td><td> 90       </td><td>40.39691  </td><td>-3.705202 </td><td> 74.97    </td><td>1         </td><td>63.09944  </td></tr>\n",
       "\t<tr><th scope=row>46</th><td>Adelfas   </td><td>6         </td><td>1.5       </td><td>2         </td><td>6         </td><td>60        </td><td> 753      </td><td>2         </td><td>15        </td><td> 94       </td><td>40.39912  </td><td>-3.670071 </td><td> 69.96    </td><td>1         </td><td>84.13037  </td></tr>\n",
       "\t<tr><th scope=row>157</th><td>Arapiles  </td><td>4         </td><td>1.0       </td><td>1         </td><td>2         </td><td>65        </td><td> 377      </td><td>1         </td><td> 0        </td><td> 96       </td><td>40.43335  </td><td>-3.705369 </td><td> 35.02    </td><td>1         </td><td>62.88783  </td></tr>\n",
       "\t<tr><th scope=row>228</th><td>ArgÃ¼elles</td><td>4         </td><td>1.5       </td><td>2         </td><td>2         </td><td>95        </td><td>1044      </td><td>2         </td><td>15        </td><td> 89       </td><td>40.42920  </td><td>-3.717775 </td><td> 96.99    </td><td>1         </td><td>86.59914  </td></tr>\n",
       "\t<tr><th scope=row>487</th><td>Castilla  </td><td>6         </td><td>2.0       </td><td>2         </td><td>4         </td><td>85        </td><td>1130      </td><td>4         </td><td>10        </td><td>100       </td><td>40.47267  </td><td>-3.675531 </td><td>104.98    </td><td>1         </td><td>85.89377  </td></tr>\n",
       "</tbody>\n",
       "</table>\n"
      ],
      "text/latex": [
       "\\begin{tabular}{r|lllllllllllllll}\n",
       "  & Neighbourhood & Accommodates & Bathrooms & Bedrooms & Beds & Price & Square.Feet & Guests.Included & Extra.People & Review.Scores.Rating & Latitude & Longitude & Square.Meters & neighb\\_id & SMest\\\\\n",
       "\\hline\n",
       "\t22 & Acacias    & 4          & 1.0        & 1          & 2          & 60         &  538       & 2          & 15         &  98        & 40.40513   & -3.707726  &  49.98     & 1          & 62.53515  \\\\\n",
       "\t27 & Acacias    & 4          & 1.0        & 1          & 3          & 68         &  807       & 2          & 10         &  90        & 40.39691   & -3.705202  &  74.97     & 1          & 63.09944  \\\\\n",
       "\t46 & Adelfas    & 6          & 1.5        & 2          & 6          & 60         &  753       & 2          & 15         &  94        & 40.39912   & -3.670071  &  69.96     & 1          & 84.13037  \\\\\n",
       "\t157 & Arapiles   & 4          & 1.0        & 1          & 2          & 65         &  377       & 1          &  0         &  96        & 40.43335   & -3.705369  &  35.02     & 1          & 62.88783  \\\\\n",
       "\t228 & ArgÃ¼elles & 4          & 1.5        & 2          & 2          & 95         & 1044       & 2          & 15         &  89        & 40.42920   & -3.717775  &  96.99     & 1          & 86.59914  \\\\\n",
       "\t487 & Castilla   & 6          & 2.0        & 2          & 4          & 85         & 1130       & 4          & 10         & 100        & 40.47267   & -3.675531  & 104.98     & 1          & 85.89377  \\\\\n",
       "\\end{tabular}\n"
      ],
      "text/markdown": [
       "\n",
       "| <!--/--> | Neighbourhood | Accommodates | Bathrooms | Bedrooms | Beds | Price | Square.Feet | Guests.Included | Extra.People | Review.Scores.Rating | Latitude | Longitude | Square.Meters | neighb_id | SMest |\n",
       "|---|---|---|---|---|---|---|---|---|---|---|---|---|---|---|---|\n",
       "| 22 | Acacias    | 4          | 1.0        | 1          | 2          | 60         |  538       | 2          | 15         |  98        | 40.40513   | -3.707726  |  49.98     | 1          | 62.53515   |\n",
       "| 27 | Acacias    | 4          | 1.0        | 1          | 3          | 68         |  807       | 2          | 10         |  90        | 40.39691   | -3.705202  |  74.97     | 1          | 63.09944   |\n",
       "| 46 | Adelfas    | 6          | 1.5        | 2          | 6          | 60         |  753       | 2          | 15         |  94        | 40.39912   | -3.670071  |  69.96     | 1          | 84.13037   |\n",
       "| 157 | Arapiles   | 4          | 1.0        | 1          | 2          | 65         |  377       | 1          |  0         |  96        | 40.43335   | -3.705369  |  35.02     | 1          | 62.88783   |\n",
       "| 228 | ArgÃ¼elles | 4          | 1.5        | 2          | 2          | 95         | 1044       | 2          | 15         |  89        | 40.42920   | -3.717775  |  96.99     | 1          | 86.59914   |\n",
       "| 487 | Castilla   | 6          | 2.0        | 2          | 4          | 85         | 1130       | 4          | 10         | 100        | 40.47267   | -3.675531  | 104.98     | 1          | 85.89377   |\n",
       "\n"
      ],
      "text/plain": [
       "    Neighbourhood Accommodates Bathrooms Bedrooms Beds Price Square.Feet\n",
       "22  Acacias       4            1.0       1        2    60     538       \n",
       "27  Acacias       4            1.0       1        3    68     807       \n",
       "46  Adelfas       6            1.5       2        6    60     753       \n",
       "157 Arapiles      4            1.0       1        2    65     377       \n",
       "228 ArgÃ¼elles    4            1.5       2        2    95    1044       \n",
       "487 Castilla      6            2.0       2        4    85    1130       \n",
       "    Guests.Included Extra.People Review.Scores.Rating Latitude Longitude\n",
       "22  2               15            98                  40.40513 -3.707726\n",
       "27  2               10            90                  40.39691 -3.705202\n",
       "46  2               15            94                  40.39912 -3.670071\n",
       "157 1                0            96                  40.43335 -3.705369\n",
       "228 2               15            89                  40.42920 -3.717775\n",
       "487 4               10           100                  40.47267 -3.675531\n",
       "    Square.Meters neighb_id SMest   \n",
       "22   49.98        1         62.53515\n",
       "27   74.97        1         63.09944\n",
       "46   69.96        1         84.13037\n",
       "157  35.02        1         62.88783\n",
       "228  96.99        1         86.59914\n",
       "487 104.98        1         85.89377"
      ]
     },
     "metadata": {},
     "output_type": "display_data"
    }
   ],
   "source": [
    "head(df_madrid.test)"
   ]
  },
  {
   "cell_type": "code",
   "execution_count": null,
   "metadata": {},
   "outputs": [],
   "source": []
  },
  {
   "cell_type": "code",
   "execution_count": null,
   "metadata": {},
   "outputs": [],
   "source": []
  },
  {
   "cell_type": "code",
   "execution_count": null,
   "metadata": {},
   "outputs": [],
   "source": []
  },
  {
   "cell_type": "markdown",
   "metadata": {},
   "source": [
    "P15 - Mirad el histograma de los residuos sobre el conjunto de test para evaluar la calidad de vuestro modelo"
   ]
  },
  {
   "cell_type": "markdown",
   "metadata": {},
   "source": [
    "R15 - Hacemos el histograma, y sale algo bastante razonable, con pinta de distribución normal y media cero."
   ]
  },
  {
   "cell_type": "code",
   "execution_count": 336,
   "metadata": {},
   "outputs": [
    {
     "data": {
      "image/png": "[encoded data removed]",
      "text/plain": [
       "Plot with title \"Histogram of df_madrid.test$Square.Meters - df_madrid.test$SMest\""
      ]
     },
     "metadata": {},
     "output_type": "display_data"
    }
   ],
   "source": [
    "hist(df_madrid.test$Square.Meters - df_madrid.test$SMest, 20)"
   ]
  },
  {
   "cell_type": "markdown",
   "metadata": {},
   "source": [
    "El qqnorn y el qqline salen también bien."
   ]
  },
  {
   "cell_type": "code",
   "execution_count": 337,
   "metadata": {},
   "outputs": [
    {
     "data": {
      "image/png": "[encoded data removed]",
      "text/plain": [
       "Plot with title \"Normal Q-Q Plot\""
      ]
     },
     "metadata": {},
     "output_type": "display_data"
    }
   ],
   "source": [
    "qqnorm(df_madrid.test$Square.Meters - df_madrid.test$SMest)\n",
    "qqline(df_madrid.test$Square.Meters - df_madrid.test$SMest)"
   ]
  },
  {
   "cell_type": "markdown",
   "metadata": {},
   "source": [
    "Incluso el test de Shapiro nos sale normal!!\n",
    "\n",
    "Hay que decir que, probando con samples distintos, a veces salía normal y a veces no, pero cuando no salía tampoco era por mucho."
   ]
  },
  {
   "cell_type": "code",
   "execution_count": 338,
   "metadata": {
    "scrolled": true
   },
   "outputs": [
    {
     "data": {
      "text/plain": [
       "\n",
       "\tShapiro-Wilk normality test\n",
       "\n",
       "data:  df_madrid.test$Square.Meters - df_madrid.test$SMest\n",
       "W = 0.97285, p-value = 0.3012\n"
      ]
     },
     "metadata": {},
     "output_type": "display_data"
    }
   ],
   "source": [
    "shapiro.test(df_madrid.test$Square.Meters - df_madrid.test$SMest)"
   ]
  },
  {
   "cell_type": "markdown",
   "metadata": {},
   "source": [
    "Comprobamos que los resíduos no se diferencian en demasía en función de la variable estimada."
   ]
  },
  {
   "cell_type": "code",
   "execution_count": 339,
   "metadata": {
    "scrolled": true
   },
   "outputs": [
    {
     "data": {
      "image/png": "[encoded data removed]",
      "text/plain": [
       "plot without title"
      ]
     },
     "metadata": {},
     "output_type": "display_data"
    }
   ],
   "source": [
    "plot(df_madrid.test$Square.Meters, df_madrid.test$Square.Meters - df_madrid.test$SMest)"
   ]
  },
  {
   "cell_type": "code",
   "execution_count": null,
   "metadata": {},
   "outputs": [],
   "source": []
  },
  {
   "cell_type": "code",
   "execution_count": null,
   "metadata": {},
   "outputs": [],
   "source": []
  },
  {
   "cell_type": "markdown",
   "metadata": {},
   "source": [
    "P16 - Si tuvieramos un anuncio de un apartamento para 6 personas (Accommodates) con un precio de 80€/noche y 3 habitaciones en el barrio de Sol.\n",
    "¿Cuantos metros cuadrados tendría?\n",
    "¿Como varía sus metros cuadrados con cada habitación adicional?"
   ]
  },
  {
   "cell_type": "markdown",
   "metadata": {},
   "source": [
    "R16 - Para ello aplicamos los coeficientes del modelo. Ya no tenemos la variable accomodates, pero sí bedrooms y price. Comprobamos que Sol está dentro del primer cluster, así que no hace falta añadir las correcciones de los otros dos.El resultado son unos 107 m2."
   ]
  },
  {
   "cell_type": "code",
   "execution_count": 351,
   "metadata": {
    "scrolled": true
   },
   "outputs": [
    {
     "data": {
      "text/plain": [
       "\n",
       "Call:\n",
       "lm(formula = Square.Meters ~ Bedrooms + Price + neighb_id, data = df_madrid.train)\n",
       "\n",
       "Residuals:\n",
       "    Min      1Q  Median      3Q     Max \n",
       "-37.898 -12.123  -3.009   9.371  84.490 \n",
       "\n",
       "Coefficients:\n",
       "             Estimate Std. Error t value Pr(>|t|)    \n",
       "(Intercept)  36.70776    4.59149   7.995 1.29e-12 ***\n",
       "Bedrooms     21.59521    2.42647   8.900 1.13e-14 ***\n",
       "Price         0.07054    0.02718   2.595   0.0107 *  \n",
       "neighb_id2  -16.62424    3.85128  -4.317 3.44e-05 ***\n",
       "neighb_id3   20.08547   12.37375   1.623   0.1074    \n",
       "---\n",
       "Signif. codes:  0 '***' 0.001 '**' 0.01 '*' 0.05 '.' 0.1 ' ' 1\n",
       "\n",
       "Residual standard error: 20.22 on 112 degrees of freedom\n",
       "  (3313 observations deleted due to missingness)\n",
       "Multiple R-squared:  0.6453,\tAdjusted R-squared:  0.6326 \n",
       "F-statistic: 50.94 on 4 and 112 DF,  p-value: < 2.2e-16\n"
      ]
     },
     "metadata": {},
     "output_type": "display_data"
    }
   ],
   "source": [
    "summary(model_Squaremeters)"
   ]
  },
  {
   "cell_type": "code",
   "execution_count": 349,
   "metadata": {},
   "outputs": [
    {
     "data": {
      "text/html": [
       "<table>\n",
       "<thead><tr><th></th><th scope=col>Neighbourhood</th><th scope=col>neighb_id</th></tr></thead>\n",
       "<tbody>\n",
       "\t<tr><th scope=row>35</th><td>Sol</td><td>1  </td></tr>\n",
       "</tbody>\n",
       "</table>\n"
      ],
      "text/latex": [
       "\\begin{tabular}{r|ll}\n",
       "  & Neighbourhood & neighb\\_id\\\\\n",
       "\\hline\n",
       "\t35 & Sol & 1  \\\\\n",
       "\\end{tabular}\n"
      ],
      "text/markdown": [
       "\n",
       "| <!--/--> | Neighbourhood | neighb_id |\n",
       "|---|---|---|\n",
       "| 35 | Sol | 1   |\n",
       "\n"
      ],
      "text/plain": [
       "   Neighbourhood neighb_id\n",
       "35 Sol           1        "
      ]
     },
     "metadata": {},
     "output_type": "display_data"
    }
   ],
   "source": [
    "df_clusters[df_clusters$Neighbourhood == 'Sol', ]"
   ]
  },
  {
   "cell_type": "code",
   "execution_count": 350,
   "metadata": {},
   "outputs": [
    {
     "data": {
      "text/html": [
       "<strong>(Intercept):</strong> 107.136307854773"
      ],
      "text/latex": [
       "\\textbf{(Intercept):} 107.136307854773"
      ],
      "text/markdown": [
       "**(Intercept):** 107.136307854773"
      ],
      "text/plain": [
       "(Intercept) \n",
       "   107.1363 "
      ]
     },
     "metadata": {},
     "output_type": "display_data"
    }
   ],
   "source": [
    "price <- model_Squaremeters$coef[1] + 3 * model_Squaremeters$coef[2] + 80 * model_Squaremeters$coef[3]\n",
    "\n",
    "price"
   ]
  },
  {
   "cell_type": "code",
   "execution_count": null,
   "metadata": {},
   "outputs": [],
   "source": []
  },
  {
   "cell_type": "code",
   "execution_count": null,
   "metadata": {},
   "outputs": [],
   "source": []
  },
  {
   "cell_type": "code",
   "execution_count": null,
   "metadata": {},
   "outputs": [],
   "source": []
  },
  {
   "cell_type": "markdown",
   "metadata": {},
   "source": [
    "P17 - Rellenar los Square.Meters con valor NA con el estimado con el modelo anterior."
   ]
  },
  {
   "cell_type": "markdown",
   "metadata": {},
   "source": [
    "R17 - Rellenamos la columna de Square.Meters diferenciando entre las filas que ya tienen el dato, y las que tienen NA; a estas últimas las aplicamos predict() con el modelo."
   ]
  },
  {
   "cell_type": "code",
   "execution_count": 352,
   "metadata": {},
   "outputs": [
    {
     "data": {
      "text/html": [
       "<table>\n",
       "<thead><tr><th scope=col>Neighbourhood</th><th scope=col>Accommodates</th><th scope=col>Bathrooms</th><th scope=col>Bedrooms</th><th scope=col>Beds</th><th scope=col>Price</th><th scope=col>Square.Feet</th><th scope=col>Guests.Included</th><th scope=col>Extra.People</th><th scope=col>Review.Scores.Rating</th><th scope=col>Latitude</th><th scope=col>Longitude</th><th scope=col>Square.Meters</th><th scope=col>neighb_id</th></tr></thead>\n",
       "<tbody>\n",
       "\t<tr><td>Acacias  </td><td>4        </td><td>1        </td><td>1        </td><td>2        </td><td>60       </td><td>753      </td><td>2        </td><td>12       </td><td>85       </td><td>40.40073 </td><td>-3.706203</td><td>69.96000 </td><td>1        </td></tr>\n",
       "\t<tr><td>Acacias  </td><td>2        </td><td>1        </td><td>1        </td><td>1        </td><td>60       </td><td> NA      </td><td>1        </td><td> 0       </td><td>80       </td><td>40.40030 </td><td>-3.701024</td><td>62.53515 </td><td>1        </td></tr>\n",
       "\t<tr><td>Acacias  </td><td>2        </td><td>1        </td><td>2        </td><td>1        </td><td>75       </td><td> NA      </td><td>1        </td><td> 0       </td><td>NA       </td><td>40.40270 </td><td>-3.703143</td><td>62.53515 </td><td>1        </td></tr>\n",
       "\t<tr><td>Acacias  </td><td>2        </td><td>1        </td><td>1        </td><td>1        </td><td>68       </td><td> NA      </td><td>1        </td><td> 0       </td><td>94       </td><td>40.40452 </td><td>-3.707737</td><td>85.18841 </td><td>1        </td></tr>\n",
       "\t<tr><td>Acacias  </td><td>2        </td><td>1        </td><td>1        </td><td>1        </td><td>35       </td><td> NA      </td><td>1        </td><td> 0       </td><td>96       </td><td>40.40057 </td><td>-3.702002</td><td>63.09944 </td><td>1        </td></tr>\n",
       "\t<tr><td>Acacias  </td><td>2        </td><td>1        </td><td>0        </td><td>1        </td><td>22       </td><td> NA      </td><td>1        </td><td> 5       </td><td>97       </td><td>40.40504 </td><td>-3.705093</td><td>60.77174 </td><td>1        </td></tr>\n",
       "</tbody>\n",
       "</table>\n"
      ],
      "text/latex": [
       "\\begin{tabular}{r|llllllllllllll}\n",
       " Neighbourhood & Accommodates & Bathrooms & Bedrooms & Beds & Price & Square.Feet & Guests.Included & Extra.People & Review.Scores.Rating & Latitude & Longitude & Square.Meters & neighb\\_id\\\\\n",
       "\\hline\n",
       "\t Acacias   & 4         & 1         & 1         & 2         & 60        & 753       & 2         & 12        & 85        & 40.40073  & -3.706203 & 69.96000  & 1        \\\\\n",
       "\t Acacias   & 2         & 1         & 1         & 1         & 60        &  NA       & 1         &  0        & 80        & 40.40030  & -3.701024 & 62.53515  & 1        \\\\\n",
       "\t Acacias   & 2         & 1         & 2         & 1         & 75        &  NA       & 1         &  0        & NA        & 40.40270  & -3.703143 & 62.53515  & 1        \\\\\n",
       "\t Acacias   & 2         & 1         & 1         & 1         & 68        &  NA       & 1         &  0        & 94        & 40.40452  & -3.707737 & 85.18841  & 1        \\\\\n",
       "\t Acacias   & 2         & 1         & 1         & 1         & 35        &  NA       & 1         &  0        & 96        & 40.40057  & -3.702002 & 63.09944  & 1        \\\\\n",
       "\t Acacias   & 2         & 1         & 0         & 1         & 22        &  NA       & 1         &  5        & 97        & 40.40504  & -3.705093 & 60.77174  & 1        \\\\\n",
       "\\end{tabular}\n"
      ],
      "text/markdown": [
       "\n",
       "| Neighbourhood | Accommodates | Bathrooms | Bedrooms | Beds | Price | Square.Feet | Guests.Included | Extra.People | Review.Scores.Rating | Latitude | Longitude | Square.Meters | neighb_id |\n",
       "|---|---|---|---|---|---|---|---|---|---|---|---|---|---|\n",
       "| Acacias   | 4         | 1         | 1         | 2         | 60        | 753       | 2         | 12        | 85        | 40.40073  | -3.706203 | 69.96000  | 1         |\n",
       "| Acacias   | 2         | 1         | 1         | 1         | 60        |  NA       | 1         |  0        | 80        | 40.40030  | -3.701024 | 62.53515  | 1         |\n",
       "| Acacias   | 2         | 1         | 2         | 1         | 75        |  NA       | 1         |  0        | NA        | 40.40270  | -3.703143 | 62.53515  | 1         |\n",
       "| Acacias   | 2         | 1         | 1         | 1         | 68        |  NA       | 1         |  0        | 94        | 40.40452  | -3.707737 | 85.18841  | 1         |\n",
       "| Acacias   | 2         | 1         | 1         | 1         | 35        |  NA       | 1         |  0        | 96        | 40.40057  | -3.702002 | 63.09944  | 1         |\n",
       "| Acacias   | 2         | 1         | 0         | 1         | 22        |  NA       | 1         |  5        | 97        | 40.40504  | -3.705093 | 60.77174  | 1         |\n",
       "\n"
      ],
      "text/plain": [
       "  Neighbourhood Accommodates Bathrooms Bedrooms Beds Price Square.Feet\n",
       "1 Acacias       4            1         1        2    60    753        \n",
       "2 Acacias       2            1         1        1    60     NA        \n",
       "3 Acacias       2            1         2        1    75     NA        \n",
       "4 Acacias       2            1         1        1    68     NA        \n",
       "5 Acacias       2            1         1        1    35     NA        \n",
       "6 Acacias       2            1         0        1    22     NA        \n",
       "  Guests.Included Extra.People Review.Scores.Rating Latitude Longitude\n",
       "1 2               12           85                   40.40073 -3.706203\n",
       "2 1                0           80                   40.40030 -3.701024\n",
       "3 1                0           NA                   40.40270 -3.703143\n",
       "4 1                0           94                   40.40452 -3.707737\n",
       "5 1                0           96                   40.40057 -3.702002\n",
       "6 1                5           97                   40.40504 -3.705093\n",
       "  Square.Meters neighb_id\n",
       "1 69.96000      1        \n",
       "2 62.53515      1        \n",
       "3 62.53515      1        \n",
       "4 85.18841      1        \n",
       "5 63.09944      1        \n",
       "6 60.77174      1        "
      ]
     },
     "metadata": {},
     "output_type": "display_data"
    }
   ],
   "source": [
    "head(df_madrid)"
   ]
  },
  {
   "cell_type": "code",
   "execution_count": 353,
   "metadata": {
    "scrolled": true
   },
   "outputs": [
    {
     "name": "stderr",
     "output_type": "stream",
     "text": [
      "Warning message in df_madrid$Square.Meters[is.na(df_madrid$Square.Meters)] <- predict(model_Squaremeters, :\n",
      "\"número de items para para sustituir no es un múltiplo de la longitud del reemplazo\""
     ]
    }
   ],
   "source": [
    "df_madrid$Square.Meters[is.na(df_madrid$Square.Meters)] <- predict(model_Squaremeters, df_madrid)"
   ]
  },
  {
   "cell_type": "code",
   "execution_count": 354,
   "metadata": {},
   "outputs": [
    {
     "data": {
      "text/html": [
       "<table>\n",
       "<thead><tr><th scope=col>Neighbourhood</th><th scope=col>Accommodates</th><th scope=col>Bathrooms</th><th scope=col>Bedrooms</th><th scope=col>Beds</th><th scope=col>Price</th><th scope=col>Square.Feet</th><th scope=col>Guests.Included</th><th scope=col>Extra.People</th><th scope=col>Review.Scores.Rating</th><th scope=col>Latitude</th><th scope=col>Longitude</th><th scope=col>Square.Meters</th><th scope=col>neighb_id</th></tr></thead>\n",
       "<tbody>\n",
       "\t<tr><td>Acacias  </td><td>4        </td><td>1        </td><td>1        </td><td>2        </td><td>60       </td><td>753      </td><td>2        </td><td>12       </td><td>85       </td><td>40.40073 </td><td>-3.706203</td><td>69.96000 </td><td>1        </td></tr>\n",
       "\t<tr><td>Acacias  </td><td>2        </td><td>1        </td><td>1        </td><td>1        </td><td>60       </td><td> NA      </td><td>1        </td><td> 0       </td><td>80       </td><td>40.40030 </td><td>-3.701024</td><td>62.53515 </td><td>1        </td></tr>\n",
       "\t<tr><td>Acacias  </td><td>2        </td><td>1        </td><td>2        </td><td>1        </td><td>75       </td><td> NA      </td><td>1        </td><td> 0       </td><td>NA       </td><td>40.40270 </td><td>-3.703143</td><td>62.53515 </td><td>1        </td></tr>\n",
       "\t<tr><td>Acacias  </td><td>2        </td><td>1        </td><td>1        </td><td>1        </td><td>68       </td><td> NA      </td><td>1        </td><td> 0       </td><td>94       </td><td>40.40452 </td><td>-3.707737</td><td>85.18841 </td><td>1        </td></tr>\n",
       "\t<tr><td>Acacias  </td><td>2        </td><td>1        </td><td>1        </td><td>1        </td><td>35       </td><td> NA      </td><td>1        </td><td> 0       </td><td>96       </td><td>40.40057 </td><td>-3.702002</td><td>63.09944 </td><td>1        </td></tr>\n",
       "\t<tr><td>Acacias  </td><td>2        </td><td>1        </td><td>0        </td><td>1        </td><td>22       </td><td> NA      </td><td>1        </td><td> 5       </td><td>97       </td><td>40.40504 </td><td>-3.705093</td><td>60.77174 </td><td>1        </td></tr>\n",
       "</tbody>\n",
       "</table>\n"
      ],
      "text/latex": [
       "\\begin{tabular}{r|llllllllllllll}\n",
       " Neighbourhood & Accommodates & Bathrooms & Bedrooms & Beds & Price & Square.Feet & Guests.Included & Extra.People & Review.Scores.Rating & Latitude & Longitude & Square.Meters & neighb\\_id\\\\\n",
       "\\hline\n",
       "\t Acacias   & 4         & 1         & 1         & 2         & 60        & 753       & 2         & 12        & 85        & 40.40073  & -3.706203 & 69.96000  & 1        \\\\\n",
       "\t Acacias   & 2         & 1         & 1         & 1         & 60        &  NA       & 1         &  0        & 80        & 40.40030  & -3.701024 & 62.53515  & 1        \\\\\n",
       "\t Acacias   & 2         & 1         & 2         & 1         & 75        &  NA       & 1         &  0        & NA        & 40.40270  & -3.703143 & 62.53515  & 1        \\\\\n",
       "\t Acacias   & 2         & 1         & 1         & 1         & 68        &  NA       & 1         &  0        & 94        & 40.40452  & -3.707737 & 85.18841  & 1        \\\\\n",
       "\t Acacias   & 2         & 1         & 1         & 1         & 35        &  NA       & 1         &  0        & 96        & 40.40057  & -3.702002 & 63.09944  & 1        \\\\\n",
       "\t Acacias   & 2         & 1         & 0         & 1         & 22        &  NA       & 1         &  5        & 97        & 40.40504  & -3.705093 & 60.77174  & 1        \\\\\n",
       "\\end{tabular}\n"
      ],
      "text/markdown": [
       "\n",
       "| Neighbourhood | Accommodates | Bathrooms | Bedrooms | Beds | Price | Square.Feet | Guests.Included | Extra.People | Review.Scores.Rating | Latitude | Longitude | Square.Meters | neighb_id |\n",
       "|---|---|---|---|---|---|---|---|---|---|---|---|---|---|\n",
       "| Acacias   | 4         | 1         | 1         | 2         | 60        | 753       | 2         | 12        | 85        | 40.40073  | -3.706203 | 69.96000  | 1         |\n",
       "| Acacias   | 2         | 1         | 1         | 1         | 60        |  NA       | 1         |  0        | 80        | 40.40030  | -3.701024 | 62.53515  | 1         |\n",
       "| Acacias   | 2         | 1         | 2         | 1         | 75        |  NA       | 1         |  0        | NA        | 40.40270  | -3.703143 | 62.53515  | 1         |\n",
       "| Acacias   | 2         | 1         | 1         | 1         | 68        |  NA       | 1         |  0        | 94        | 40.40452  | -3.707737 | 85.18841  | 1         |\n",
       "| Acacias   | 2         | 1         | 1         | 1         | 35        |  NA       | 1         |  0        | 96        | 40.40057  | -3.702002 | 63.09944  | 1         |\n",
       "| Acacias   | 2         | 1         | 0         | 1         | 22        |  NA       | 1         |  5        | 97        | 40.40504  | -3.705093 | 60.77174  | 1         |\n",
       "\n"
      ],
      "text/plain": [
       "  Neighbourhood Accommodates Bathrooms Bedrooms Beds Price Square.Feet\n",
       "1 Acacias       4            1         1        2    60    753        \n",
       "2 Acacias       2            1         1        1    60     NA        \n",
       "3 Acacias       2            1         2        1    75     NA        \n",
       "4 Acacias       2            1         1        1    68     NA        \n",
       "5 Acacias       2            1         1        1    35     NA        \n",
       "6 Acacias       2            1         0        1    22     NA        \n",
       "  Guests.Included Extra.People Review.Scores.Rating Latitude Longitude\n",
       "1 2               12           85                   40.40073 -3.706203\n",
       "2 1                0           80                   40.40030 -3.701024\n",
       "3 1                0           NA                   40.40270 -3.703143\n",
       "4 1                0           94                   40.40452 -3.707737\n",
       "5 1                0           96                   40.40057 -3.702002\n",
       "6 1                5           97                   40.40504 -3.705093\n",
       "  Square.Meters neighb_id\n",
       "1 69.96000      1        \n",
       "2 62.53515      1        \n",
       "3 62.53515      1        \n",
       "4 85.18841      1        \n",
       "5 63.09944      1        \n",
       "6 60.77174      1        "
      ]
     },
     "metadata": {},
     "output_type": "display_data"
    }
   ],
   "source": [
    "head(df_madrid)"
   ]
  },
  {
   "cell_type": "markdown",
   "metadata": {},
   "source": [
    "P18 - Usar PCA para encontrar el apartamento más cercano a uno dado.\n",
    "\n",
    "Este algoritmo nos ayudaría a dado un apartamento que el algoritmo nos devolvería los 5 apartamentos más similares.\n",
    "\n",
    "\n",
    "Crearemos una función tal que le pasemos un apartamento con los siguientes datos:\n",
    "* Accommodates\t\n",
    "* Bathrooms\t\n",
    "* Bedrooms\t\n",
    "* Beds\t\n",
    "* Price\t\n",
    "* Guests.Included\t\n",
    "* Extra.People\t\n",
    "* Review.Scores.Rating\t\n",
    "* Latitude\t\n",
    "* Longitude\t\n",
    "* Square.Meters\n",
    "\n",
    "y nos devuelva los 5 más similares de:"
   ]
  },
  {
   "cell_type": "markdown",
   "metadata": {},
   "source": [
    "R18 - Bien, en principio tenemos que eliminar las columas no numéricas, algo que hacemos de nuevo con subset().\n",
    "Almacenamos el resultado en otro dataframe, df_madrid_pca."
   ]
  },
  {
   "cell_type": "code",
   "execution_count": 355,
   "metadata": {},
   "outputs": [],
   "source": [
    "df_madrid_pca <- subset(df_madrid, select = -c(Neighbourhood, Square.Feet, neighb_id))"
   ]
  },
  {
   "cell_type": "code",
   "execution_count": 356,
   "metadata": {},
   "outputs": [
    {
     "data": {
      "text/html": [
       "<table>\n",
       "<thead><tr><th scope=col>Accommodates</th><th scope=col>Bathrooms</th><th scope=col>Bedrooms</th><th scope=col>Beds</th><th scope=col>Price</th><th scope=col>Guests.Included</th><th scope=col>Extra.People</th><th scope=col>Review.Scores.Rating</th><th scope=col>Latitude</th><th scope=col>Longitude</th><th scope=col>Square.Meters</th></tr></thead>\n",
       "<tbody>\n",
       "\t<tr><td>4        </td><td>1        </td><td>1        </td><td>2        </td><td>60       </td><td>2        </td><td>12       </td><td>85       </td><td>40.40073 </td><td>-3.706203</td><td>69.96000 </td></tr>\n",
       "\t<tr><td>2        </td><td>1        </td><td>1        </td><td>1        </td><td>60       </td><td>1        </td><td> 0       </td><td>80       </td><td>40.40030 </td><td>-3.701024</td><td>62.53515 </td></tr>\n",
       "\t<tr><td>2        </td><td>1        </td><td>2        </td><td>1        </td><td>75       </td><td>1        </td><td> 0       </td><td>NA       </td><td>40.40270 </td><td>-3.703143</td><td>62.53515 </td></tr>\n",
       "\t<tr><td>2        </td><td>1        </td><td>1        </td><td>1        </td><td>68       </td><td>1        </td><td> 0       </td><td>94       </td><td>40.40452 </td><td>-3.707737</td><td>85.18841 </td></tr>\n",
       "\t<tr><td>2        </td><td>1        </td><td>1        </td><td>1        </td><td>35       </td><td>1        </td><td> 0       </td><td>96       </td><td>40.40057 </td><td>-3.702002</td><td>63.09944 </td></tr>\n",
       "\t<tr><td>2        </td><td>1        </td><td>0        </td><td>1        </td><td>22       </td><td>1        </td><td> 5       </td><td>97       </td><td>40.40504 </td><td>-3.705093</td><td>60.77174 </td></tr>\n",
       "</tbody>\n",
       "</table>\n"
      ],
      "text/latex": [
       "\\begin{tabular}{r|lllllllllll}\n",
       " Accommodates & Bathrooms & Bedrooms & Beds & Price & Guests.Included & Extra.People & Review.Scores.Rating & Latitude & Longitude & Square.Meters\\\\\n",
       "\\hline\n",
       "\t 4         & 1         & 1         & 2         & 60        & 2         & 12        & 85        & 40.40073  & -3.706203 & 69.96000 \\\\\n",
       "\t 2         & 1         & 1         & 1         & 60        & 1         &  0        & 80        & 40.40030  & -3.701024 & 62.53515 \\\\\n",
       "\t 2         & 1         & 2         & 1         & 75        & 1         &  0        & NA        & 40.40270  & -3.703143 & 62.53515 \\\\\n",
       "\t 2         & 1         & 1         & 1         & 68        & 1         &  0        & 94        & 40.40452  & -3.707737 & 85.18841 \\\\\n",
       "\t 2         & 1         & 1         & 1         & 35        & 1         &  0        & 96        & 40.40057  & -3.702002 & 63.09944 \\\\\n",
       "\t 2         & 1         & 0         & 1         & 22        & 1         &  5        & 97        & 40.40504  & -3.705093 & 60.77174 \\\\\n",
       "\\end{tabular}\n"
      ],
      "text/markdown": [
       "\n",
       "| Accommodates | Bathrooms | Bedrooms | Beds | Price | Guests.Included | Extra.People | Review.Scores.Rating | Latitude | Longitude | Square.Meters |\n",
       "|---|---|---|---|---|---|---|---|---|---|---|\n",
       "| 4         | 1         | 1         | 2         | 60        | 2         | 12        | 85        | 40.40073  | -3.706203 | 69.96000  |\n",
       "| 2         | 1         | 1         | 1         | 60        | 1         |  0        | 80        | 40.40030  | -3.701024 | 62.53515  |\n",
       "| 2         | 1         | 2         | 1         | 75        | 1         |  0        | NA        | 40.40270  | -3.703143 | 62.53515  |\n",
       "| 2         | 1         | 1         | 1         | 68        | 1         |  0        | 94        | 40.40452  | -3.707737 | 85.18841  |\n",
       "| 2         | 1         | 1         | 1         | 35        | 1         |  0        | 96        | 40.40057  | -3.702002 | 63.09944  |\n",
       "| 2         | 1         | 0         | 1         | 22        | 1         |  5        | 97        | 40.40504  | -3.705093 | 60.77174  |\n",
       "\n"
      ],
      "text/plain": [
       "  Accommodates Bathrooms Bedrooms Beds Price Guests.Included Extra.People\n",
       "1 4            1         1        2    60    2               12          \n",
       "2 2            1         1        1    60    1                0          \n",
       "3 2            1         2        1    75    1                0          \n",
       "4 2            1         1        1    68    1                0          \n",
       "5 2            1         1        1    35    1                0          \n",
       "6 2            1         0        1    22    1                5          \n",
       "  Review.Scores.Rating Latitude Longitude Square.Meters\n",
       "1 85                   40.40073 -3.706203 69.96000     \n",
       "2 80                   40.40030 -3.701024 62.53515     \n",
       "3 NA                   40.40270 -3.703143 62.53515     \n",
       "4 94                   40.40452 -3.707737 85.18841     \n",
       "5 96                   40.40057 -3.702002 63.09944     \n",
       "6 97                   40.40504 -3.705093 60.77174     "
      ]
     },
     "metadata": {},
     "output_type": "display_data"
    }
   ],
   "source": [
    "head(df_madrid_pca)"
   ]
  },
  {
   "cell_type": "markdown",
   "metadata": {},
   "source": [
    "Hay una cosa que me molesta algo, y es que no aparezca el index comprobamos que, desde luego, está ahí."
   ]
  },
  {
   "cell_type": "code",
   "execution_count": 357,
   "metadata": {
    "scrolled": true
   },
   "outputs": [
    {
     "data": {
      "text/html": [
       "<table>\n",
       "<thead><tr><th></th><th scope=col>Accommodates</th><th scope=col>Bathrooms</th><th scope=col>Bedrooms</th><th scope=col>Beds</th><th scope=col>Price</th><th scope=col>Guests.Included</th><th scope=col>Extra.People</th><th scope=col>Review.Scores.Rating</th><th scope=col>Latitude</th><th scope=col>Longitude</th><th scope=col>Square.Meters</th></tr></thead>\n",
       "<tbody>\n",
       "\t<tr><th scope=row>38</th><td>6        </td><td>2        </td><td>2        </td><td>3        </td><td>123      </td><td>1        </td><td>0        </td><td>50       </td><td>40.40252 </td><td>-3.669764</td><td>63.31105 </td></tr>\n",
       "</tbody>\n",
       "</table>\n"
      ],
      "text/latex": [
       "\\begin{tabular}{r|lllllllllll}\n",
       "  & Accommodates & Bathrooms & Bedrooms & Beds & Price & Guests.Included & Extra.People & Review.Scores.Rating & Latitude & Longitude & Square.Meters\\\\\n",
       "\\hline\n",
       "\t38 & 6         & 2         & 2         & 3         & 123       & 1         & 0         & 50        & 40.40252  & -3.669764 & 63.31105 \\\\\n",
       "\\end{tabular}\n"
      ],
      "text/markdown": [
       "\n",
       "| <!--/--> | Accommodates | Bathrooms | Bedrooms | Beds | Price | Guests.Included | Extra.People | Review.Scores.Rating | Latitude | Longitude | Square.Meters |\n",
       "|---|---|---|---|---|---|---|---|---|---|---|---|\n",
       "| 38 | 6         | 2         | 2         | 3         | 123       | 1         | 0         | 50        | 40.40252  | -3.669764 | 63.31105  |\n",
       "\n"
      ],
      "text/plain": [
       "   Accommodates Bathrooms Bedrooms Beds Price Guests.Included Extra.People\n",
       "38 6            2         2        3    123   1               0           \n",
       "   Review.Scores.Rating Latitude Longitude Square.Meters\n",
       "38 50                   40.40252 -3.669764 63.31105     "
      ]
     },
     "metadata": {},
     "output_type": "display_data"
    }
   ],
   "source": [
    "df_madrid_pca[38, ]"
   ]
  },
  {
   "cell_type": "markdown",
   "metadata": {},
   "source": [
    "Comprobamos que tenemos las 11 columnas numéricas."
   ]
  },
  {
   "cell_type": "code",
   "execution_count": null,
   "metadata": {},
   "outputs": [],
   "source": [
    "df_madrid_pca <- na.omit(df_madrid_pca)"
   ]
  },
  {
   "cell_type": "code",
   "execution_count": 359,
   "metadata": {},
   "outputs": [
    {
     "data": {
      "text/html": [
       "<ol class=list-inline>\n",
       "\t<li>4187</li>\n",
       "\t<li>11</li>\n",
       "</ol>\n"
      ],
      "text/latex": [
       "\\begin{enumerate*}\n",
       "\\item 4187\n",
       "\\item 11\n",
       "\\end{enumerate*}\n"
      ],
      "text/markdown": [
       "1. 4187\n",
       "2. 11\n",
       "\n",
       "\n"
      ],
      "text/plain": [
       "[1] 4187   11"
      ]
     },
     "metadata": {},
     "output_type": "display_data"
    }
   ],
   "source": [
    "dim(df_madrid_pca)"
   ]
  },
  {
   "cell_type": "code",
   "execution_count": 360,
   "metadata": {},
   "outputs": [
    {
     "data": {
      "text/html": [
       "<table>\n",
       "<thead><tr><th></th><th scope=col>Accommodates</th><th scope=col>Bathrooms</th><th scope=col>Bedrooms</th><th scope=col>Beds</th><th scope=col>Price</th><th scope=col>Guests.Included</th><th scope=col>Extra.People</th><th scope=col>Review.Scores.Rating</th><th scope=col>Latitude</th><th scope=col>Longitude</th><th scope=col>Square.Meters</th></tr></thead>\n",
       "<tbody>\n",
       "\t<tr><th scope=row>1</th><td>4        </td><td>1        </td><td>1        </td><td>2        </td><td>60       </td><td>2        </td><td>12       </td><td> 85      </td><td>40.40073 </td><td>-3.706203</td><td>69.96000 </td></tr>\n",
       "\t<tr><th scope=row>2</th><td>2        </td><td>1        </td><td>1        </td><td>1        </td><td>60       </td><td>1        </td><td> 0       </td><td> 80      </td><td>40.40030 </td><td>-3.701024</td><td>62.53515 </td></tr>\n",
       "\t<tr><th scope=row>4</th><td>2        </td><td>1        </td><td>1        </td><td>1        </td><td>68       </td><td>1        </td><td> 0       </td><td> 94      </td><td>40.40452 </td><td>-3.707737</td><td>85.18841 </td></tr>\n",
       "\t<tr><th scope=row>5</th><td>2        </td><td>1        </td><td>1        </td><td>1        </td><td>35       </td><td>1        </td><td> 0       </td><td> 96      </td><td>40.40057 </td><td>-3.702002</td><td>63.09944 </td></tr>\n",
       "\t<tr><th scope=row>6</th><td>2        </td><td>1        </td><td>0        </td><td>1        </td><td>22       </td><td>1        </td><td> 5       </td><td> 97      </td><td>40.40504 </td><td>-3.705093</td><td>60.77174 </td></tr>\n",
       "\t<tr><th scope=row>8</th><td>3        </td><td>1        </td><td>1        </td><td>2        </td><td>45       </td><td>2        </td><td>10       </td><td>100      </td><td>40.40404 </td><td>-3.703835</td><td>61.47711 </td></tr>\n",
       "</tbody>\n",
       "</table>\n"
      ],
      "text/latex": [
       "\\begin{tabular}{r|lllllllllll}\n",
       "  & Accommodates & Bathrooms & Bedrooms & Beds & Price & Guests.Included & Extra.People & Review.Scores.Rating & Latitude & Longitude & Square.Meters\\\\\n",
       "\\hline\n",
       "\t1 & 4         & 1         & 1         & 2         & 60        & 2         & 12        &  85       & 40.40073  & -3.706203 & 69.96000 \\\\\n",
       "\t2 & 2         & 1         & 1         & 1         & 60        & 1         &  0        &  80       & 40.40030  & -3.701024 & 62.53515 \\\\\n",
       "\t4 & 2         & 1         & 1         & 1         & 68        & 1         &  0        &  94       & 40.40452  & -3.707737 & 85.18841 \\\\\n",
       "\t5 & 2         & 1         & 1         & 1         & 35        & 1         &  0        &  96       & 40.40057  & -3.702002 & 63.09944 \\\\\n",
       "\t6 & 2         & 1         & 0         & 1         & 22        & 1         &  5        &  97       & 40.40504  & -3.705093 & 60.77174 \\\\\n",
       "\t8 & 3         & 1         & 1         & 2         & 45        & 2         & 10        & 100       & 40.40404  & -3.703835 & 61.47711 \\\\\n",
       "\\end{tabular}\n"
      ],
      "text/markdown": [
       "\n",
       "| <!--/--> | Accommodates | Bathrooms | Bedrooms | Beds | Price | Guests.Included | Extra.People | Review.Scores.Rating | Latitude | Longitude | Square.Meters |\n",
       "|---|---|---|---|---|---|---|---|---|---|---|---|\n",
       "| 1 | 4         | 1         | 1         | 2         | 60        | 2         | 12        |  85       | 40.40073  | -3.706203 | 69.96000  |\n",
       "| 2 | 2         | 1         | 1         | 1         | 60        | 1         |  0        |  80       | 40.40030  | -3.701024 | 62.53515  |\n",
       "| 4 | 2         | 1         | 1         | 1         | 68        | 1         |  0        |  94       | 40.40452  | -3.707737 | 85.18841  |\n",
       "| 5 | 2         | 1         | 1         | 1         | 35        | 1         |  0        |  96       | 40.40057  | -3.702002 | 63.09944  |\n",
       "| 6 | 2         | 1         | 0         | 1         | 22        | 1         |  5        |  97       | 40.40504  | -3.705093 | 60.77174  |\n",
       "| 8 | 3         | 1         | 1         | 2         | 45        | 2         | 10        | 100       | 40.40404  | -3.703835 | 61.47711  |\n",
       "\n"
      ],
      "text/plain": [
       "  Accommodates Bathrooms Bedrooms Beds Price Guests.Included Extra.People\n",
       "1 4            1         1        2    60    2               12          \n",
       "2 2            1         1        1    60    1                0          \n",
       "4 2            1         1        1    68    1                0          \n",
       "5 2            1         1        1    35    1                0          \n",
       "6 2            1         0        1    22    1                5          \n",
       "8 3            1         1        2    45    2               10          \n",
       "  Review.Scores.Rating Latitude Longitude Square.Meters\n",
       "1  85                  40.40073 -3.706203 69.96000     \n",
       "2  80                  40.40030 -3.701024 62.53515     \n",
       "4  94                  40.40452 -3.707737 85.18841     \n",
       "5  96                  40.40057 -3.702002 63.09944     \n",
       "6  97                  40.40504 -3.705093 60.77174     \n",
       "8 100                  40.40404 -3.703835 61.47711     "
      ]
     },
     "metadata": {},
     "output_type": "display_data"
    }
   ],
   "source": [
    "head(df_madrid_pca)"
   ]
  },
  {
   "cell_type": "code",
   "execution_count": null,
   "metadata": {},
   "outputs": [],
   "source": []
  },
  {
   "cell_type": "markdown",
   "metadata": {},
   "source": [
    "Aplicamos por fin prcomp, que estandariza por nosotros. Echamos a continuación un vistazo a los autovalores y autovectores."
   ]
  },
  {
   "cell_type": "code",
   "execution_count": 361,
   "metadata": {},
   "outputs": [],
   "source": [
    "pr_comp_madrid <- prcomp(df_madrid_pca, center = TRUE, scale = TRUE)"
   ]
  },
  {
   "cell_type": "code",
   "execution_count": 362,
   "metadata": {},
   "outputs": [
    {
     "data": {
      "text/plain": [
       "Standard deviations (1, .., p=11):\n",
       " [1] 2.0196154 1.1882105 1.0252451 1.0063644 0.9786686 0.8183785 0.7673138\n",
       " [8] 0.7009726 0.5730894 0.5151486 0.3793868\n",
       "\n",
       "Rotation (n x k) = (11 x 11):\n",
       "                            PC1         PC2         PC3         PC4         PC5\n",
       "Accommodates         0.44713135 -0.05868892  0.07980053 -0.08273354  0.05410261\n",
       "Bathrooms            0.38525051  0.06933107  0.12926966  0.18376834 -0.12505293\n",
       "Bedrooms             0.42667753  0.01424587  0.14001827  0.04578389 -0.02303152\n",
       "Beds                 0.42801465 -0.03841093  0.12958815 -0.02795466  0.00562394\n",
       "Price                0.37659132  0.03082379  0.10675326  0.19439034 -0.10855900\n",
       "Guests.Included      0.33589850 -0.09021399 -0.28097863 -0.26036721  0.09087922\n",
       "Extra.People         0.16225169 -0.12218974 -0.70380844 -0.39969928  0.20119464\n",
       "Review.Scores.Rating 0.03722685 -0.09473312 -0.56698024  0.66292530 -0.41662173\n",
       "Latitude             0.02035022  0.68446471 -0.09596442 -0.09109495 -0.04812501\n",
       "Longitude            0.04064350  0.64776645 -0.12087991 -0.14831673 -0.26775093\n",
       "Square.Meters        0.04448640  0.26264765 -0.09769208  0.47053421  0.82022495\n",
       "                            PC6         PC7         PC8          PC9\n",
       "Accommodates         -0.1647763  0.18886907 -0.19630085  0.023239282\n",
       "Bathrooms             0.2993556 -0.33253936  0.19601773 -0.726755627\n",
       "Bedrooms             -0.1466796  0.03642547 -0.25497625 -0.008146615\n",
       "Beds                 -0.2247269  0.17466967 -0.38074169  0.055153518\n",
       "Price                 0.4403417 -0.29269801  0.23358821  0.677241814\n",
       "Guests.Included      -0.2025008  0.35509762  0.73270367 -0.014541230\n",
       "Extra.People          0.2524450 -0.32128703 -0.30736484 -0.021899250\n",
       "Review.Scores.Rating -0.1193049  0.18421687 -0.07376431 -0.002368798\n",
       "Latitude              0.4650632  0.52789834 -0.11932330 -0.040570020\n",
       "Longitude            -0.5152473 -0.43355585  0.07491334  0.084383331\n",
       "Square.Meters        -0.1287823 -0.07959111  0.04339828  0.007637603\n",
       "                            PC10         PC11\n",
       "Accommodates         -0.24462415  0.786607463\n",
       "Bathrooms            -0.11566089 -0.022028187\n",
       "Bedrooms              0.83612508 -0.092116758\n",
       "Beds                 -0.46572647 -0.593129742\n",
       "Price                -0.05768394 -0.011818195\n",
       "Guests.Included       0.05180022 -0.131088756\n",
       "Extra.People          0.02630318 -0.023675007\n",
       "Review.Scores.Rating -0.01787779  0.034549578\n",
       "Latitude              0.01847697 -0.009199580\n",
       "Longitude            -0.05469303  0.035666249\n",
       "Square.Meters        -0.02050339 -0.006343952"
      ]
     },
     "metadata": {},
     "output_type": "display_data"
    }
   ],
   "source": [
    "pr_comp_madrid"
   ]
  },
  {
   "cell_type": "code",
   "execution_count": 363,
   "metadata": {},
   "outputs": [
    {
     "data": {
      "text/plain": [
       "Importance of components:\n",
       "                          PC1    PC2     PC3     PC4     PC5     PC6     PC7\n",
       "Standard deviation     2.0196 1.1882 1.02525 1.00636 0.97867 0.81838 0.76731\n",
       "Proportion of Variance 0.3708 0.1283 0.09556 0.09207 0.08707 0.06089 0.05352\n",
       "Cumulative Proportion  0.3708 0.4991 0.59471 0.68678 0.77385 0.83474 0.88826\n",
       "                           PC8     PC9    PC10    PC11\n",
       "Standard deviation     0.70097 0.57309 0.51515 0.37939\n",
       "Proportion of Variance 0.04467 0.02986 0.02413 0.01308\n",
       "Cumulative Proportion  0.93293 0.96279 0.98692 1.00000"
      ]
     },
     "metadata": {},
     "output_type": "display_data"
    }
   ],
   "source": [
    "summary(pr_comp_madrid)"
   ]
  },
  {
   "cell_type": "markdown",
   "metadata": {},
   "source": [
    "Estos son los autovectores:"
   ]
  },
  {
   "cell_type": "code",
   "execution_count": 364,
   "metadata": {
    "scrolled": true
   },
   "outputs": [
    {
     "data": {
      "text/html": [
       "<ol class=list-inline>\n",
       "\t<li>4.07884643435251</li>\n",
       "\t<li>1.41184430994235</li>\n",
       "\t<li>1.0511275180887</li>\n",
       "\t<li>1.01276936699597</li>\n",
       "\t<li>0.957792158588636</li>\n",
       "\t<li>0.669743367190776</li>\n",
       "\t<li>0.588770443105644</li>\n",
       "\t<li>0.491362600134712</li>\n",
       "\t<li>0.328431422122417</li>\n",
       "\t<li>0.2653780300294</li>\n",
       "\t<li>0.143934349448872</li>\n",
       "</ol>\n"
      ],
      "text/latex": [
       "\\begin{enumerate*}\n",
       "\\item 4.07884643435251\n",
       "\\item 1.41184430994235\n",
       "\\item 1.0511275180887\n",
       "\\item 1.01276936699597\n",
       "\\item 0.957792158588636\n",
       "\\item 0.669743367190776\n",
       "\\item 0.588770443105644\n",
       "\\item 0.491362600134712\n",
       "\\item 0.328431422122417\n",
       "\\item 0.2653780300294\n",
       "\\item 0.143934349448872\n",
       "\\end{enumerate*}\n"
      ],
      "text/markdown": [
       "1. 4.07884643435251\n",
       "2. 1.41184430994235\n",
       "3. 1.0511275180887\n",
       "4. 1.01276936699597\n",
       "5. 0.957792158588636\n",
       "6. 0.669743367190776\n",
       "7. 0.588770443105644\n",
       "8. 0.491362600134712\n",
       "9. 0.328431422122417\n",
       "10. 0.2653780300294\n",
       "11. 0.143934349448872\n",
       "\n",
       "\n"
      ],
      "text/plain": [
       " [1] 4.0788464 1.4118443 1.0511275 1.0127694 0.9577922 0.6697434 0.5887704\n",
       " [8] 0.4913626 0.3284314 0.2653780 0.1439343"
      ]
     },
     "metadata": {},
     "output_type": "display_data"
    }
   ],
   "source": [
    "pr_comp_madrid$sdev^2"
   ]
  },
  {
   "cell_type": "markdown",
   "metadata": {},
   "source": [
    "Vemos su peso relativo y acumulado. Lo cierto es que, comparado con los ejemplos de clase, aquí solo destaca de veras el primero, y luego la caída de importancia de ellos es algo más secuencial. Harían pues falta más de la mitad para llegar al 90% de varianza."
   ]
  },
  {
   "cell_type": "code",
   "execution_count": 365,
   "metadata": {
    "scrolled": true
   },
   "outputs": [
    {
     "data": {
      "image/png": "[encoded data removed]",
      "text/plain": [
       "Plot with title \"Peso de los autovalores\""
      ]
     },
     "metadata": {},
     "output_type": "display_data"
    }
   ],
   "source": [
    "plot(pr_comp_madrid$sdev^2 / sum(pr_comp_madrid$sdev^2), main = 'Peso de los autovalores')"
   ]
  },
  {
   "cell_type": "code",
   "execution_count": null,
   "metadata": {},
   "outputs": [],
   "source": []
  },
  {
   "cell_type": "code",
   "execution_count": 366,
   "metadata": {},
   "outputs": [
    {
     "data": {
      "image/png": "[encoded data removed]",
      "text/plain": [
       "plot without title"
      ]
     },
     "metadata": {},
     "output_type": "display_data"
    }
   ],
   "source": [
    "plot(cumsum(pr_comp_madrid$sdev^2 / sum(pr_comp_madrid$sdev^2)))"
   ]
  },
  {
   "cell_type": "code",
   "execution_count": null,
   "metadata": {},
   "outputs": [],
   "source": []
  },
  {
   "cell_type": "markdown",
   "metadata": {},
   "source": [
    "Aquí están los vectores transformados:"
   ]
  },
  {
   "cell_type": "code",
   "execution_count": 367,
   "metadata": {},
   "outputs": [
    {
     "data": {
      "text/html": [
       "<table>\n",
       "<thead><tr><th></th><th scope=col>PC1</th><th scope=col>PC2</th><th scope=col>PC3</th><th scope=col>PC4</th><th scope=col>PC5</th><th scope=col>PC6</th><th scope=col>PC7</th><th scope=col>PC8</th><th scope=col>PC9</th><th scope=col>PC10</th><th scope=col>PC11</th></tr></thead>\n",
       "<tbody>\n",
       "\t<tr><th scope=row>1</th><td>-0.7307361 </td><td>-1.2651341 </td><td> 0.2264354 </td><td>-0.4469472 </td><td> 0.8702446 </td><td>-0.6126979 </td><td>-0.6310591 </td><td>0.14980728 </td><td> 0.02020246</td><td>-0.1425045 </td><td> 0.12178381</td></tr>\n",
       "\t<tr><th scope=row>2</th><td>-1.9345955 </td><td>-0.8019386 </td><td> 1.3183273 </td><td>-0.2906081 </td><td> 0.4450686 </td><td>-0.4820190 </td><td>-1.1480347 </td><td>0.40438944 </td><td> 0.02354253</td><td> 0.3490637 </td><td>-0.19468563</td></tr>\n",
       "\t<tr><th scope=row>4</th><td>-1.7910643 </td><td>-0.7656079 </td><td> 0.3535892 </td><td> 1.2530104 </td><td> 0.5768332 </td><td>-0.3219665 </td><td>-0.5774656 </td><td>0.28088824 </td><td> 0.07361596</td><td> 0.3251112 </td><td>-0.16561743</td></tr>\n",
       "\t<tr><th scope=row>5</th><td>-2.0407772 </td><td>-1.0119164 </td><td> 0.2270510 </td><td> 0.8602717 </td><td>-0.2389285 </td><td>-0.8633425 </td><td>-0.6345001 </td><td>0.15395017 </td><td>-0.29933604</td><td> 0.3462521 </td><td>-0.12820904</td></tr>\n",
       "\t<tr><th scope=row>6</th><td>-2.5129084 </td><td>-0.9941869 </td><td>-0.3159088 </td><td> 0.6243603 </td><td>-0.1869240 </td><td>-0.4234219 </td><td>-0.4203301 </td><td>0.16234051 </td><td>-0.49641839</td><td>-0.4941319 </td><td>-0.04452111</td></tr>\n",
       "\t<tr><th scope=row>8</th><td>-1.0359584 </td><td>-1.1748962 </td><td>-0.7193104 </td><td> 0.5541116 </td><td>-0.2076007 </td><td>-0.8054998 </td><td>-0.1695221 </td><td>0.07753995 </td><td>-0.18025418</td><td>-0.0299880 </td><td>-0.21997538</td></tr>\n",
       "</tbody>\n",
       "</table>\n"
      ],
      "text/latex": [
       "\\begin{tabular}{r|lllllllllll}\n",
       "  & PC1 & PC2 & PC3 & PC4 & PC5 & PC6 & PC7 & PC8 & PC9 & PC10 & PC11\\\\\n",
       "\\hline\n",
       "\t1 & -0.7307361  & -1.2651341  &  0.2264354  & -0.4469472  &  0.8702446  & -0.6126979  & -0.6310591  & 0.14980728  &  0.02020246 & -0.1425045  &  0.12178381\\\\\n",
       "\t2 & -1.9345955  & -0.8019386  &  1.3183273  & -0.2906081  &  0.4450686  & -0.4820190  & -1.1480347  & 0.40438944  &  0.02354253 &  0.3490637  & -0.19468563\\\\\n",
       "\t4 & -1.7910643  & -0.7656079  &  0.3535892  &  1.2530104  &  0.5768332  & -0.3219665  & -0.5774656  & 0.28088824  &  0.07361596 &  0.3251112  & -0.16561743\\\\\n",
       "\t5 & -2.0407772  & -1.0119164  &  0.2270510  &  0.8602717  & -0.2389285  & -0.8633425  & -0.6345001  & 0.15395017  & -0.29933604 &  0.3462521  & -0.12820904\\\\\n",
       "\t6 & -2.5129084  & -0.9941869  & -0.3159088  &  0.6243603  & -0.1869240  & -0.4234219  & -0.4203301  & 0.16234051  & -0.49641839 & -0.4941319  & -0.04452111\\\\\n",
       "\t8 & -1.0359584  & -1.1748962  & -0.7193104  &  0.5541116  & -0.2076007  & -0.8054998  & -0.1695221  & 0.07753995  & -0.18025418 & -0.0299880  & -0.21997538\\\\\n",
       "\\end{tabular}\n"
      ],
      "text/markdown": [
       "\n",
       "| <!--/--> | PC1 | PC2 | PC3 | PC4 | PC5 | PC6 | PC7 | PC8 | PC9 | PC10 | PC11 |\n",
       "|---|---|---|---|---|---|---|---|---|---|---|---|\n",
       "| 1 | -0.7307361  | -1.2651341  |  0.2264354  | -0.4469472  |  0.8702446  | -0.6126979  | -0.6310591  | 0.14980728  |  0.02020246 | -0.1425045  |  0.12178381 |\n",
       "| 2 | -1.9345955  | -0.8019386  |  1.3183273  | -0.2906081  |  0.4450686  | -0.4820190  | -1.1480347  | 0.40438944  |  0.02354253 |  0.3490637  | -0.19468563 |\n",
       "| 4 | -1.7910643  | -0.7656079  |  0.3535892  |  1.2530104  |  0.5768332  | -0.3219665  | -0.5774656  | 0.28088824  |  0.07361596 |  0.3251112  | -0.16561743 |\n",
       "| 5 | -2.0407772  | -1.0119164  |  0.2270510  |  0.8602717  | -0.2389285  | -0.8633425  | -0.6345001  | 0.15395017  | -0.29933604 |  0.3462521  | -0.12820904 |\n",
       "| 6 | -2.5129084  | -0.9941869  | -0.3159088  |  0.6243603  | -0.1869240  | -0.4234219  | -0.4203301  | 0.16234051  | -0.49641839 | -0.4941319  | -0.04452111 |\n",
       "| 8 | -1.0359584  | -1.1748962  | -0.7193104  |  0.5541116  | -0.2076007  | -0.8054998  | -0.1695221  | 0.07753995  | -0.18025418 | -0.0299880  | -0.21997538 |\n",
       "\n"
      ],
      "text/plain": [
       "  PC1        PC2        PC3        PC4        PC5        PC6        PC7       \n",
       "1 -0.7307361 -1.2651341  0.2264354 -0.4469472  0.8702446 -0.6126979 -0.6310591\n",
       "2 -1.9345955 -0.8019386  1.3183273 -0.2906081  0.4450686 -0.4820190 -1.1480347\n",
       "4 -1.7910643 -0.7656079  0.3535892  1.2530104  0.5768332 -0.3219665 -0.5774656\n",
       "5 -2.0407772 -1.0119164  0.2270510  0.8602717 -0.2389285 -0.8633425 -0.6345001\n",
       "6 -2.5129084 -0.9941869 -0.3159088  0.6243603 -0.1869240 -0.4234219 -0.4203301\n",
       "8 -1.0359584 -1.1748962 -0.7193104  0.5541116 -0.2076007 -0.8054998 -0.1695221\n",
       "  PC8        PC9         PC10       PC11       \n",
       "1 0.14980728  0.02020246 -0.1425045  0.12178381\n",
       "2 0.40438944  0.02354253  0.3490637 -0.19468563\n",
       "4 0.28088824  0.07361596  0.3251112 -0.16561743\n",
       "5 0.15395017 -0.29933604  0.3462521 -0.12820904\n",
       "6 0.16234051 -0.49641839 -0.4941319 -0.04452111\n",
       "8 0.07753995 -0.18025418 -0.0299880 -0.21997538"
      ]
     },
     "metadata": {},
     "output_type": "display_data"
    }
   ],
   "source": [
    "head(pr_comp_madrid$x)"
   ]
  },
  {
   "cell_type": "code",
   "execution_count": null,
   "metadata": {},
   "outputs": [],
   "source": []
  },
  {
   "cell_type": "markdown",
   "metadata": {},
   "source": [
    "Y aquí está la matriz de rotación, a la que nos referiremos más adelante:"
   ]
  },
  {
   "cell_type": "code",
   "execution_count": 368,
   "metadata": {},
   "outputs": [
    {
     "data": {
      "text/html": [
       "<table>\n",
       "<thead><tr><th></th><th scope=col>PC1</th><th scope=col>PC2</th><th scope=col>PC3</th><th scope=col>PC4</th><th scope=col>PC5</th><th scope=col>PC6</th><th scope=col>PC7</th><th scope=col>PC8</th><th scope=col>PC9</th><th scope=col>PC10</th><th scope=col>PC11</th></tr></thead>\n",
       "<tbody>\n",
       "\t<tr><th scope=row>Accommodates</th><td>0.44713135  </td><td>-0.05868892 </td><td> 0.07980053 </td><td>-0.08273354 </td><td> 0.05410261 </td><td>-0.1647763  </td><td> 0.18886907 </td><td>-0.19630085 </td><td> 0.023239282</td><td>-0.24462415 </td><td> 0.786607463</td></tr>\n",
       "\t<tr><th scope=row>Bathrooms</th><td>0.38525051  </td><td> 0.06933107 </td><td> 0.12926966 </td><td> 0.18376834 </td><td>-0.12505293 </td><td> 0.2993556  </td><td>-0.33253936 </td><td> 0.19601773 </td><td>-0.726755627</td><td>-0.11566089 </td><td>-0.022028187</td></tr>\n",
       "\t<tr><th scope=row>Bedrooms</th><td>0.42667753  </td><td> 0.01424587 </td><td> 0.14001827 </td><td> 0.04578389 </td><td>-0.02303152 </td><td>-0.1466796  </td><td> 0.03642547 </td><td>-0.25497625 </td><td>-0.008146615</td><td> 0.83612508 </td><td>-0.092116758</td></tr>\n",
       "\t<tr><th scope=row>Beds</th><td>0.42801465  </td><td>-0.03841093 </td><td> 0.12958815 </td><td>-0.02795466 </td><td> 0.00562394 </td><td>-0.2247269  </td><td> 0.17466967 </td><td>-0.38074169 </td><td> 0.055153518</td><td>-0.46572647 </td><td>-0.593129742</td></tr>\n",
       "\t<tr><th scope=row>Price</th><td>0.37659132  </td><td> 0.03082379 </td><td> 0.10675326 </td><td> 0.19439034 </td><td>-0.10855900 </td><td> 0.4403417  </td><td>-0.29269801 </td><td> 0.23358821 </td><td> 0.677241814</td><td>-0.05768394 </td><td>-0.011818195</td></tr>\n",
       "\t<tr><th scope=row>Guests.Included</th><td>0.33589850  </td><td>-0.09021399 </td><td>-0.28097863 </td><td>-0.26036721 </td><td> 0.09087922 </td><td>-0.2025008  </td><td> 0.35509762 </td><td> 0.73270367 </td><td>-0.014541230</td><td> 0.05180022 </td><td>-0.131088756</td></tr>\n",
       "\t<tr><th scope=row>Extra.People</th><td>0.16225169  </td><td>-0.12218974 </td><td>-0.70380844 </td><td>-0.39969928 </td><td> 0.20119464 </td><td> 0.2524450  </td><td>-0.32128703 </td><td>-0.30736484 </td><td>-0.021899250</td><td> 0.02630318 </td><td>-0.023675007</td></tr>\n",
       "\t<tr><th scope=row>Review.Scores.Rating</th><td>0.03722685  </td><td>-0.09473312 </td><td>-0.56698024 </td><td> 0.66292530 </td><td>-0.41662173 </td><td>-0.1193049  </td><td> 0.18421687 </td><td>-0.07376431 </td><td>-0.002368798</td><td>-0.01787779 </td><td> 0.034549578</td></tr>\n",
       "\t<tr><th scope=row>Latitude</th><td>0.02035022  </td><td> 0.68446471 </td><td>-0.09596442 </td><td>-0.09109495 </td><td>-0.04812501 </td><td> 0.4650632  </td><td> 0.52789834 </td><td>-0.11932330 </td><td>-0.040570020</td><td> 0.01847697 </td><td>-0.009199580</td></tr>\n",
       "\t<tr><th scope=row>Longitude</th><td>0.04064350  </td><td> 0.64776645 </td><td>-0.12087991 </td><td>-0.14831673 </td><td>-0.26775093 </td><td>-0.5152473  </td><td>-0.43355585 </td><td> 0.07491334 </td><td> 0.084383331</td><td>-0.05469303 </td><td> 0.035666249</td></tr>\n",
       "\t<tr><th scope=row>Square.Meters</th><td>0.04448640  </td><td> 0.26264765 </td><td>-0.09769208 </td><td> 0.47053421 </td><td> 0.82022495 </td><td>-0.1287823  </td><td>-0.07959111 </td><td> 0.04339828 </td><td> 0.007637603</td><td>-0.02050339 </td><td>-0.006343952</td></tr>\n",
       "</tbody>\n",
       "</table>\n"
      ],
      "text/latex": [
       "\\begin{tabular}{r|lllllllllll}\n",
       "  & PC1 & PC2 & PC3 & PC4 & PC5 & PC6 & PC7 & PC8 & PC9 & PC10 & PC11\\\\\n",
       "\\hline\n",
       "\tAccommodates & 0.44713135   & -0.05868892  &  0.07980053  & -0.08273354  &  0.05410261  & -0.1647763   &  0.18886907  & -0.19630085  &  0.023239282 & -0.24462415  &  0.786607463\\\\\n",
       "\tBathrooms & 0.38525051   &  0.06933107  &  0.12926966  &  0.18376834  & -0.12505293  &  0.2993556   & -0.33253936  &  0.19601773  & -0.726755627 & -0.11566089  & -0.022028187\\\\\n",
       "\tBedrooms & 0.42667753   &  0.01424587  &  0.14001827  &  0.04578389  & -0.02303152  & -0.1466796   &  0.03642547  & -0.25497625  & -0.008146615 &  0.83612508  & -0.092116758\\\\\n",
       "\tBeds & 0.42801465   & -0.03841093  &  0.12958815  & -0.02795466  &  0.00562394  & -0.2247269   &  0.17466967  & -0.38074169  &  0.055153518 & -0.46572647  & -0.593129742\\\\\n",
       "\tPrice & 0.37659132   &  0.03082379  &  0.10675326  &  0.19439034  & -0.10855900  &  0.4403417   & -0.29269801  &  0.23358821  &  0.677241814 & -0.05768394  & -0.011818195\\\\\n",
       "\tGuests.Included & 0.33589850   & -0.09021399  & -0.28097863  & -0.26036721  &  0.09087922  & -0.2025008   &  0.35509762  &  0.73270367  & -0.014541230 &  0.05180022  & -0.131088756\\\\\n",
       "\tExtra.People & 0.16225169   & -0.12218974  & -0.70380844  & -0.39969928  &  0.20119464  &  0.2524450   & -0.32128703  & -0.30736484  & -0.021899250 &  0.02630318  & -0.023675007\\\\\n",
       "\tReview.Scores.Rating & 0.03722685   & -0.09473312  & -0.56698024  &  0.66292530  & -0.41662173  & -0.1193049   &  0.18421687  & -0.07376431  & -0.002368798 & -0.01787779  &  0.034549578\\\\\n",
       "\tLatitude & 0.02035022   &  0.68446471  & -0.09596442  & -0.09109495  & -0.04812501  &  0.4650632   &  0.52789834  & -0.11932330  & -0.040570020 &  0.01847697  & -0.009199580\\\\\n",
       "\tLongitude & 0.04064350   &  0.64776645  & -0.12087991  & -0.14831673  & -0.26775093  & -0.5152473   & -0.43355585  &  0.07491334  &  0.084383331 & -0.05469303  &  0.035666249\\\\\n",
       "\tSquare.Meters & 0.04448640   &  0.26264765  & -0.09769208  &  0.47053421  &  0.82022495  & -0.1287823   & -0.07959111  &  0.04339828  &  0.007637603 & -0.02050339  & -0.006343952\\\\\n",
       "\\end{tabular}\n"
      ],
      "text/markdown": [
       "\n",
       "| <!--/--> | PC1 | PC2 | PC3 | PC4 | PC5 | PC6 | PC7 | PC8 | PC9 | PC10 | PC11 |\n",
       "|---|---|---|---|---|---|---|---|---|---|---|---|\n",
       "| Accommodates | 0.44713135   | -0.05868892  |  0.07980053  | -0.08273354  |  0.05410261  | -0.1647763   |  0.18886907  | -0.19630085  |  0.023239282 | -0.24462415  |  0.786607463 |\n",
       "| Bathrooms | 0.38525051   |  0.06933107  |  0.12926966  |  0.18376834  | -0.12505293  |  0.2993556   | -0.33253936  |  0.19601773  | -0.726755627 | -0.11566089  | -0.022028187 |\n",
       "| Bedrooms | 0.42667753   |  0.01424587  |  0.14001827  |  0.04578389  | -0.02303152  | -0.1466796   |  0.03642547  | -0.25497625  | -0.008146615 |  0.83612508  | -0.092116758 |\n",
       "| Beds | 0.42801465   | -0.03841093  |  0.12958815  | -0.02795466  |  0.00562394  | -0.2247269   |  0.17466967  | -0.38074169  |  0.055153518 | -0.46572647  | -0.593129742 |\n",
       "| Price | 0.37659132   |  0.03082379  |  0.10675326  |  0.19439034  | -0.10855900  |  0.4403417   | -0.29269801  |  0.23358821  |  0.677241814 | -0.05768394  | -0.011818195 |\n",
       "| Guests.Included | 0.33589850   | -0.09021399  | -0.28097863  | -0.26036721  |  0.09087922  | -0.2025008   |  0.35509762  |  0.73270367  | -0.014541230 |  0.05180022  | -0.131088756 |\n",
       "| Extra.People | 0.16225169   | -0.12218974  | -0.70380844  | -0.39969928  |  0.20119464  |  0.2524450   | -0.32128703  | -0.30736484  | -0.021899250 |  0.02630318  | -0.023675007 |\n",
       "| Review.Scores.Rating | 0.03722685   | -0.09473312  | -0.56698024  |  0.66292530  | -0.41662173  | -0.1193049   |  0.18421687  | -0.07376431  | -0.002368798 | -0.01787779  |  0.034549578 |\n",
       "| Latitude | 0.02035022   |  0.68446471  | -0.09596442  | -0.09109495  | -0.04812501  |  0.4650632   |  0.52789834  | -0.11932330  | -0.040570020 |  0.01847697  | -0.009199580 |\n",
       "| Longitude | 0.04064350   |  0.64776645  | -0.12087991  | -0.14831673  | -0.26775093  | -0.5152473   | -0.43355585  |  0.07491334  |  0.084383331 | -0.05469303  |  0.035666249 |\n",
       "| Square.Meters | 0.04448640   |  0.26264765  | -0.09769208  |  0.47053421  |  0.82022495  | -0.1287823   | -0.07959111  |  0.04339828  |  0.007637603 | -0.02050339  | -0.006343952 |\n",
       "\n"
      ],
      "text/plain": [
       "                     PC1        PC2         PC3         PC4         PC5        \n",
       "Accommodates         0.44713135 -0.05868892  0.07980053 -0.08273354  0.05410261\n",
       "Bathrooms            0.38525051  0.06933107  0.12926966  0.18376834 -0.12505293\n",
       "Bedrooms             0.42667753  0.01424587  0.14001827  0.04578389 -0.02303152\n",
       "Beds                 0.42801465 -0.03841093  0.12958815 -0.02795466  0.00562394\n",
       "Price                0.37659132  0.03082379  0.10675326  0.19439034 -0.10855900\n",
       "Guests.Included      0.33589850 -0.09021399 -0.28097863 -0.26036721  0.09087922\n",
       "Extra.People         0.16225169 -0.12218974 -0.70380844 -0.39969928  0.20119464\n",
       "Review.Scores.Rating 0.03722685 -0.09473312 -0.56698024  0.66292530 -0.41662173\n",
       "Latitude             0.02035022  0.68446471 -0.09596442 -0.09109495 -0.04812501\n",
       "Longitude            0.04064350  0.64776645 -0.12087991 -0.14831673 -0.26775093\n",
       "Square.Meters        0.04448640  0.26264765 -0.09769208  0.47053421  0.82022495\n",
       "                     PC6        PC7         PC8         PC9         \n",
       "Accommodates         -0.1647763  0.18886907 -0.19630085  0.023239282\n",
       "Bathrooms             0.2993556 -0.33253936  0.19601773 -0.726755627\n",
       "Bedrooms             -0.1466796  0.03642547 -0.25497625 -0.008146615\n",
       "Beds                 -0.2247269  0.17466967 -0.38074169  0.055153518\n",
       "Price                 0.4403417 -0.29269801  0.23358821  0.677241814\n",
       "Guests.Included      -0.2025008  0.35509762  0.73270367 -0.014541230\n",
       "Extra.People          0.2524450 -0.32128703 -0.30736484 -0.021899250\n",
       "Review.Scores.Rating -0.1193049  0.18421687 -0.07376431 -0.002368798\n",
       "Latitude              0.4650632  0.52789834 -0.11932330 -0.040570020\n",
       "Longitude            -0.5152473 -0.43355585  0.07491334  0.084383331\n",
       "Square.Meters        -0.1287823 -0.07959111  0.04339828  0.007637603\n",
       "                     PC10        PC11        \n",
       "Accommodates         -0.24462415  0.786607463\n",
       "Bathrooms            -0.11566089 -0.022028187\n",
       "Bedrooms              0.83612508 -0.092116758\n",
       "Beds                 -0.46572647 -0.593129742\n",
       "Price                -0.05768394 -0.011818195\n",
       "Guests.Included       0.05180022 -0.131088756\n",
       "Extra.People          0.02630318 -0.023675007\n",
       "Review.Scores.Rating -0.01787779  0.034549578\n",
       "Latitude              0.01847697 -0.009199580\n",
       "Longitude            -0.05469303  0.035666249\n",
       "Square.Meters        -0.02050339 -0.006343952"
      ]
     },
     "metadata": {},
     "output_type": "display_data"
    }
   ],
   "source": [
    "pr_comp_madrid$rotation"
   ]
  },
  {
   "cell_type": "code",
   "execution_count": null,
   "metadata": {},
   "outputs": [],
   "source": []
  },
  {
   "cell_type": "markdown",
   "metadata": {},
   "source": [
    "Vamos con la función pedida. La hice en dos pasos, que he preferido mostrar de todas formas. En el primero supongo que tomo todos los autovectores (no incluyo, por facilidad inicial, la variable N de número de PC)."
   ]
  },
  {
   "cell_type": "markdown",
   "metadata": {},
   "source": [
    "Básicamente lo que hace la función calculo_cercanos es tomar el df de un apartamento, lo transforma mediante predict(), lo transforma a su vez en matriz. A continuación se calcula la lista de distacias aplicando rowSums, y de la que mediante order() hallamos los índices de las menores distancias. Por último, definimos el df respuesta, con los 5 apartamentos de df_madrid_pca más cercanos al dado."
   ]
  },
  {
   "cell_type": "code",
   "execution_count": null,
   "metadata": {},
   "outputs": [],
   "source": []
  },
  {
   "cell_type": "code",
   "execution_count": 369,
   "metadata": {},
   "outputs": [],
   "source": [
    "calculo_cercanos <- function (apart){\n",
    "    \n",
    "    apart_trans <- predict(pr_comp_madrid, newdata = apart)\n",
    "    \n",
    "    apart_trans <- matrix(apart_trans, nrow = 1)\n",
    "    \n",
    "    Apc <- pr_comp_madrid$x\n",
    "    \n",
    "    distancia <- rowSums((apart_trans[rep(1, times = nrow(Apc)), ] - Apc)^2)\n",
    "    \n",
    "    indexes <- order(distancia, decreasing = F)[1:knn]\n",
    "    \n",
    "    mas_cercanos <- df_madrid_pca[indexes, ]\n",
    "    \n",
    "    \n",
    "    mas_cercanos\n",
    "    \n",
    "}"
   ]
  },
  {
   "cell_type": "code",
   "execution_count": null,
   "metadata": {},
   "outputs": [],
   "source": []
  },
  {
   "cell_type": "markdown",
   "metadata": {},
   "source": [
    "Para probar que la función funciona le introducimos un vector del dataset, y por definición nos tiene que devolver ese mismo como más parecid, cosa que hace. Los otros cuatro son visiblemente muy similares también."
   ]
  },
  {
   "cell_type": "code",
   "execution_count": 370,
   "metadata": {},
   "outputs": [],
   "source": [
    "knn <- 5\n",
    "\n",
    "apart <- df_madrid_pca[128, ]"
   ]
  },
  {
   "cell_type": "code",
   "execution_count": 371,
   "metadata": {},
   "outputs": [
    {
     "data": {
      "text/html": [
       "<table>\n",
       "<thead><tr><th></th><th scope=col>Accommodates</th><th scope=col>Bathrooms</th><th scope=col>Bedrooms</th><th scope=col>Beds</th><th scope=col>Price</th><th scope=col>Guests.Included</th><th scope=col>Extra.People</th><th scope=col>Review.Scores.Rating</th><th scope=col>Latitude</th><th scope=col>Longitude</th><th scope=col>Square.Meters</th></tr></thead>\n",
       "<tbody>\n",
       "\t<tr><th scope=row>179</th><td>2        </td><td>1        </td><td>0        </td><td>1        </td><td>50       </td><td>1        </td><td>0        </td><td>72       </td><td>40.43092 </td><td>-3.708585</td><td>41.6453  </td></tr>\n",
       "</tbody>\n",
       "</table>\n"
      ],
      "text/latex": [
       "\\begin{tabular}{r|lllllllllll}\n",
       "  & Accommodates & Bathrooms & Bedrooms & Beds & Price & Guests.Included & Extra.People & Review.Scores.Rating & Latitude & Longitude & Square.Meters\\\\\n",
       "\\hline\n",
       "\t179 & 2         & 1         & 0         & 1         & 50        & 1         & 0         & 72        & 40.43092  & -3.708585 & 41.6453  \\\\\n",
       "\\end{tabular}\n"
      ],
      "text/markdown": [
       "\n",
       "| <!--/--> | Accommodates | Bathrooms | Bedrooms | Beds | Price | Guests.Included | Extra.People | Review.Scores.Rating | Latitude | Longitude | Square.Meters |\n",
       "|---|---|---|---|---|---|---|---|---|---|---|---|\n",
       "| 179 | 2         | 1         | 0         | 1         | 50        | 1         | 0         | 72        | 40.43092  | -3.708585 | 41.6453   |\n",
       "\n"
      ],
      "text/plain": [
       "    Accommodates Bathrooms Bedrooms Beds Price Guests.Included Extra.People\n",
       "179 2            1         0        1    50    1               0           \n",
       "    Review.Scores.Rating Latitude Longitude Square.Meters\n",
       "179 72                   40.43092 -3.708585 41.6453      "
      ]
     },
     "metadata": {},
     "output_type": "display_data"
    }
   ],
   "source": [
    "apart"
   ]
  },
  {
   "cell_type": "code",
   "execution_count": 372,
   "metadata": {},
   "outputs": [],
   "source": [
    "mas_cercanos_knn <- calculo_cercanos(apart)"
   ]
  },
  {
   "cell_type": "code",
   "execution_count": 373,
   "metadata": {},
   "outputs": [
    {
     "data": {
      "text/html": [
       "<table>\n",
       "<thead><tr><th></th><th scope=col>Accommodates</th><th scope=col>Bathrooms</th><th scope=col>Bedrooms</th><th scope=col>Beds</th><th scope=col>Price</th><th scope=col>Guests.Included</th><th scope=col>Extra.People</th><th scope=col>Review.Scores.Rating</th><th scope=col>Latitude</th><th scope=col>Longitude</th><th scope=col>Square.Meters</th></tr></thead>\n",
       "<tbody>\n",
       "\t<tr><th scope=row>179</th><td>2        </td><td>1        </td><td>0        </td><td>1        </td><td>50       </td><td>1        </td><td>0        </td><td>72       </td><td>40.43092 </td><td>-3.708585</td><td>41.64530 </td></tr>\n",
       "\t<tr><th scope=row>205</th><td>2        </td><td>1        </td><td>0        </td><td>1        </td><td>50       </td><td>1        </td><td>0        </td><td>70       </td><td>40.43058 </td><td>-3.707958</td><td>40.23457 </td></tr>\n",
       "\t<tr><th scope=row>3407</th><td>2        </td><td>1        </td><td>0        </td><td>1        </td><td>75       </td><td>1        </td><td>0        </td><td>67       </td><td>40.42902 </td><td>-3.703978</td><td>35.02000 </td></tr>\n",
       "\t<tr><th scope=row>210</th><td>2        </td><td>1        </td><td>0        </td><td>1        </td><td>50       </td><td>1        </td><td>0        </td><td>70       </td><td>40.43050 </td><td>-3.709975</td><td>62.88783 </td></tr>\n",
       "\t<tr><th scope=row>199</th><td>2        </td><td>1        </td><td>0        </td><td>1        </td><td>50       </td><td>1        </td><td>0        </td><td>80       </td><td>40.43003 </td><td>-3.708693</td><td>40.23457 </td></tr>\n",
       "</tbody>\n",
       "</table>\n"
      ],
      "text/latex": [
       "\\begin{tabular}{r|lllllllllll}\n",
       "  & Accommodates & Bathrooms & Bedrooms & Beds & Price & Guests.Included & Extra.People & Review.Scores.Rating & Latitude & Longitude & Square.Meters\\\\\n",
       "\\hline\n",
       "\t179 & 2         & 1         & 0         & 1         & 50        & 1         & 0         & 72        & 40.43092  & -3.708585 & 41.64530 \\\\\n",
       "\t205 & 2         & 1         & 0         & 1         & 50        & 1         & 0         & 70        & 40.43058  & -3.707958 & 40.23457 \\\\\n",
       "\t3407 & 2         & 1         & 0         & 1         & 75        & 1         & 0         & 67        & 40.42902  & -3.703978 & 35.02000 \\\\\n",
       "\t210 & 2         & 1         & 0         & 1         & 50        & 1         & 0         & 70        & 40.43050  & -3.709975 & 62.88783 \\\\\n",
       "\t199 & 2         & 1         & 0         & 1         & 50        & 1         & 0         & 80        & 40.43003  & -3.708693 & 40.23457 \\\\\n",
       "\\end{tabular}\n"
      ],
      "text/markdown": [
       "\n",
       "| <!--/--> | Accommodates | Bathrooms | Bedrooms | Beds | Price | Guests.Included | Extra.People | Review.Scores.Rating | Latitude | Longitude | Square.Meters |\n",
       "|---|---|---|---|---|---|---|---|---|---|---|---|\n",
       "| 179 | 2         | 1         | 0         | 1         | 50        | 1         | 0         | 72        | 40.43092  | -3.708585 | 41.64530  |\n",
       "| 205 | 2         | 1         | 0         | 1         | 50        | 1         | 0         | 70        | 40.43058  | -3.707958 | 40.23457  |\n",
       "| 3407 | 2         | 1         | 0         | 1         | 75        | 1         | 0         | 67        | 40.42902  | -3.703978 | 35.02000  |\n",
       "| 210 | 2         | 1         | 0         | 1         | 50        | 1         | 0         | 70        | 40.43050  | -3.709975 | 62.88783  |\n",
       "| 199 | 2         | 1         | 0         | 1         | 50        | 1         | 0         | 80        | 40.43003  | -3.708693 | 40.23457  |\n",
       "\n"
      ],
      "text/plain": [
       "     Accommodates Bathrooms Bedrooms Beds Price Guests.Included Extra.People\n",
       "179  2            1         0        1    50    1               0           \n",
       "205  2            1         0        1    50    1               0           \n",
       "3407 2            1         0        1    75    1               0           \n",
       "210  2            1         0        1    50    1               0           \n",
       "199  2            1         0        1    50    1               0           \n",
       "     Review.Scores.Rating Latitude Longitude Square.Meters\n",
       "179  72                   40.43092 -3.708585 41.64530     \n",
       "205  70                   40.43058 -3.707958 40.23457     \n",
       "3407 67                   40.42902 -3.703978 35.02000     \n",
       "210  70                   40.43050 -3.709975 62.88783     \n",
       "199  80                   40.43003 -3.708693 40.23457     "
      ]
     },
     "metadata": {},
     "output_type": "display_data"
    }
   ],
   "source": [
    "mas_cercanos_knn"
   ]
  },
  {
   "cell_type": "code",
   "execution_count": null,
   "metadata": {},
   "outputs": [],
   "source": []
  },
  {
   "cell_type": "markdown",
   "metadata": {},
   "source": [
    "Ahora sí que introducimos la variable N. De hecho, al hacerlo me di cuenta que los cambios no eran nada complicados. Comprobamos que funciona igual para N=11, pero más interesante es que con un N bajo, como 3, además del apartamento original, nos da algunos otros que no son ya los mismos que antes, pero sí parecidos, algo que es razonable que ocurra."
   ]
  },
  {
   "cell_type": "code",
   "execution_count": null,
   "metadata": {},
   "outputs": [],
   "source": []
  },
  {
   "cell_type": "code",
   "execution_count": 374,
   "metadata": {},
   "outputs": [],
   "source": [
    "calculo_cercanos_comp <- function (apart){\n",
    "    \n",
    "    apart_trans <- predict(pr_comp_madrid, newdata = apart)[1, 1:number_pca_comp]\n",
    "    \n",
    "    apart_trans <- matrix(apart_trans, nrow = 1)\n",
    "    \n",
    "    Apc <- pr_comp_madrid$x[ , 1:number_pca_comp]\n",
    "    \n",
    "    distancia <- rowSums((apart_trans[rep(1, times = nrow(Apc)), ] - Apc)^2)\n",
    "    \n",
    "    indexes <- order(distancia, decreasing = F)[1:knn]\n",
    "    \n",
    "    mas_cercanos_comp <- df_madrid_pca[indexes, ]\n",
    "    \n",
    "    \n",
    "    mas_cercanos_comp\n",
    "    \n",
    "}"
   ]
  },
  {
   "cell_type": "code",
   "execution_count": 375,
   "metadata": {},
   "outputs": [],
   "source": [
    "number_pca_comp <- 3"
   ]
  },
  {
   "cell_type": "code",
   "execution_count": null,
   "metadata": {},
   "outputs": [],
   "source": []
  },
  {
   "cell_type": "code",
   "execution_count": 376,
   "metadata": {},
   "outputs": [],
   "source": [
    "knn <- 5\n",
    "\n",
    "apart <- df_madrid_pca[128, ]"
   ]
  },
  {
   "cell_type": "code",
   "execution_count": 377,
   "metadata": {},
   "outputs": [
    {
     "data": {
      "text/html": [
       "<table>\n",
       "<thead><tr><th></th><th scope=col>Accommodates</th><th scope=col>Bathrooms</th><th scope=col>Bedrooms</th><th scope=col>Beds</th><th scope=col>Price</th><th scope=col>Guests.Included</th><th scope=col>Extra.People</th><th scope=col>Review.Scores.Rating</th><th scope=col>Latitude</th><th scope=col>Longitude</th><th scope=col>Square.Meters</th></tr></thead>\n",
       "<tbody>\n",
       "\t<tr><th scope=row>179</th><td>2        </td><td>1        </td><td>0        </td><td>1        </td><td>50       </td><td>1        </td><td>0        </td><td>72       </td><td>40.43092 </td><td>-3.708585</td><td>41.6453  </td></tr>\n",
       "</tbody>\n",
       "</table>\n"
      ],
      "text/latex": [
       "\\begin{tabular}{r|lllllllllll}\n",
       "  & Accommodates & Bathrooms & Bedrooms & Beds & Price & Guests.Included & Extra.People & Review.Scores.Rating & Latitude & Longitude & Square.Meters\\\\\n",
       "\\hline\n",
       "\t179 & 2         & 1         & 0         & 1         & 50        & 1         & 0         & 72        & 40.43092  & -3.708585 & 41.6453  \\\\\n",
       "\\end{tabular}\n"
      ],
      "text/markdown": [
       "\n",
       "| <!--/--> | Accommodates | Bathrooms | Bedrooms | Beds | Price | Guests.Included | Extra.People | Review.Scores.Rating | Latitude | Longitude | Square.Meters |\n",
       "|---|---|---|---|---|---|---|---|---|---|---|---|\n",
       "| 179 | 2         | 1         | 0         | 1         | 50        | 1         | 0         | 72        | 40.43092  | -3.708585 | 41.6453   |\n",
       "\n"
      ],
      "text/plain": [
       "    Accommodates Bathrooms Bedrooms Beds Price Guests.Included Extra.People\n",
       "179 2            1         0        1    50    1               0           \n",
       "    Review.Scores.Rating Latitude Longitude Square.Meters\n",
       "179 72                   40.43092 -3.708585 41.6453      "
      ]
     },
     "metadata": {},
     "output_type": "display_data"
    }
   ],
   "source": [
    "apart"
   ]
  },
  {
   "cell_type": "code",
   "execution_count": 378,
   "metadata": {},
   "outputs": [],
   "source": [
    "mas_cercanos_knn <- calculo_cercanos_comp(apart)"
   ]
  },
  {
   "cell_type": "code",
   "execution_count": 379,
   "metadata": {},
   "outputs": [
    {
     "data": {
      "text/html": [
       "<table>\n",
       "<thead><tr><th></th><th scope=col>Accommodates</th><th scope=col>Bathrooms</th><th scope=col>Bedrooms</th><th scope=col>Beds</th><th scope=col>Price</th><th scope=col>Guests.Included</th><th scope=col>Extra.People</th><th scope=col>Review.Scores.Rating</th><th scope=col>Latitude</th><th scope=col>Longitude</th><th scope=col>Square.Meters</th></tr></thead>\n",
       "<tbody>\n",
       "\t<tr><th scope=row>179</th><td>2        </td><td>1        </td><td>0        </td><td>1        </td><td>50       </td><td>1        </td><td>0        </td><td>72       </td><td>40.43092 </td><td>-3.708585</td><td>41.64530 </td></tr>\n",
       "\t<tr><th scope=row>205</th><td>2        </td><td>1        </td><td>0        </td><td>1        </td><td>50       </td><td>1        </td><td>0        </td><td>70       </td><td>40.43058 </td><td>-3.707958</td><td>40.23457 </td></tr>\n",
       "\t<tr><th scope=row>210</th><td>2        </td><td>1        </td><td>0        </td><td>1        </td><td>50       </td><td>1        </td><td>0        </td><td>70       </td><td>40.43050 </td><td>-3.709975</td><td>62.88783 </td></tr>\n",
       "\t<tr><th scope=row>3464</th><td>2        </td><td>1        </td><td>0        </td><td>1        </td><td>30       </td><td>1        </td><td>0        </td><td>70       </td><td>40.42151 </td><td>-3.704068</td><td>46.96895 </td></tr>\n",
       "\t<tr><th scope=row>1978</th><td>2        </td><td>1        </td><td>1        </td><td>1        </td><td>35       </td><td>1        </td><td>0        </td><td>74       </td><td>40.42800 </td><td>-3.700422</td><td>23.46926 </td></tr>\n",
       "</tbody>\n",
       "</table>\n"
      ],
      "text/latex": [
       "\\begin{tabular}{r|lllllllllll}\n",
       "  & Accommodates & Bathrooms & Bedrooms & Beds & Price & Guests.Included & Extra.People & Review.Scores.Rating & Latitude & Longitude & Square.Meters\\\\\n",
       "\\hline\n",
       "\t179 & 2         & 1         & 0         & 1         & 50        & 1         & 0         & 72        & 40.43092  & -3.708585 & 41.64530 \\\\\n",
       "\t205 & 2         & 1         & 0         & 1         & 50        & 1         & 0         & 70        & 40.43058  & -3.707958 & 40.23457 \\\\\n",
       "\t210 & 2         & 1         & 0         & 1         & 50        & 1         & 0         & 70        & 40.43050  & -3.709975 & 62.88783 \\\\\n",
       "\t3464 & 2         & 1         & 0         & 1         & 30        & 1         & 0         & 70        & 40.42151  & -3.704068 & 46.96895 \\\\\n",
       "\t1978 & 2         & 1         & 1         & 1         & 35        & 1         & 0         & 74        & 40.42800  & -3.700422 & 23.46926 \\\\\n",
       "\\end{tabular}\n"
      ],
      "text/markdown": [
       "\n",
       "| <!--/--> | Accommodates | Bathrooms | Bedrooms | Beds | Price | Guests.Included | Extra.People | Review.Scores.Rating | Latitude | Longitude | Square.Meters |\n",
       "|---|---|---|---|---|---|---|---|---|---|---|---|\n",
       "| 179 | 2         | 1         | 0         | 1         | 50        | 1         | 0         | 72        | 40.43092  | -3.708585 | 41.64530  |\n",
       "| 205 | 2         | 1         | 0         | 1         | 50        | 1         | 0         | 70        | 40.43058  | -3.707958 | 40.23457  |\n",
       "| 210 | 2         | 1         | 0         | 1         | 50        | 1         | 0         | 70        | 40.43050  | -3.709975 | 62.88783  |\n",
       "| 3464 | 2         | 1         | 0         | 1         | 30        | 1         | 0         | 70        | 40.42151  | -3.704068 | 46.96895  |\n",
       "| 1978 | 2         | 1         | 1         | 1         | 35        | 1         | 0         | 74        | 40.42800  | -3.700422 | 23.46926  |\n",
       "\n"
      ],
      "text/plain": [
       "     Accommodates Bathrooms Bedrooms Beds Price Guests.Included Extra.People\n",
       "179  2            1         0        1    50    1               0           \n",
       "205  2            1         0        1    50    1               0           \n",
       "210  2            1         0        1    50    1               0           \n",
       "3464 2            1         0        1    30    1               0           \n",
       "1978 2            1         1        1    35    1               0           \n",
       "     Review.Scores.Rating Latitude Longitude Square.Meters\n",
       "179  72                   40.43092 -3.708585 41.64530     \n",
       "205  70                   40.43058 -3.707958 40.23457     \n",
       "210  70                   40.43050 -3.709975 62.88783     \n",
       "3464 70                   40.42151 -3.704068 46.96895     \n",
       "1978 74                   40.42800 -3.700422 23.46926     "
      ]
     },
     "metadata": {},
     "output_type": "display_data"
    }
   ],
   "source": [
    "mas_cercanos_knn"
   ]
  },
  {
   "cell_type": "code",
   "execution_count": null,
   "metadata": {},
   "outputs": [],
   "source": []
  },
  {
   "cell_type": "code",
   "execution_count": null,
   "metadata": {},
   "outputs": [],
   "source": []
  },
  {
   "cell_type": "code",
   "execution_count": null,
   "metadata": {},
   "outputs": [],
   "source": []
  },
  {
   "cell_type": "markdown",
   "metadata": {},
   "source": [
    "Bonus: ¿de todas las coordenadas PCA cual es la que mejor permite clasificar por id de barrio?\n",
    "\n",
    "¿Por qué?"
   ]
  },
  {
   "cell_type": "markdown",
   "metadata": {},
   "source": [
    "Pienso que ya que los barrios no dejan de ser una entidad definida geograficamente, habría que tener en cuenta las columas que también lo son: longitud y latitud. Si vemos la matrix de rotación, se obserba que PC1, si bien recoge como hemos visto una gran información en total, no hace lo propio con estas dos columnas, porque los coeficientes de ellas son muy bajos: 0,02 y 0,04. \n",
    "\n",
    "No ocurre lo mismo con el PC2 que tiene unos coeficientes muy grandes, por lo que escogeríamos desde luego éste. Del resto de PC destacan PC6 y PC7, con lo que también serían apropiados, siempre teniendo en cuenta que aportarían menos información que el PC2."
   ]
  },
  {
   "cell_type": "code",
   "execution_count": null,
   "metadata": {},
   "outputs": [],
   "source": []
  },
  {
   "cell_type": "code",
   "execution_count": 225,
   "metadata": {},
   "outputs": [
    {
     "data": {
      "text/html": [
       "<table>\n",
       "<thead><tr><th></th><th scope=col>PC1</th><th scope=col>PC2</th><th scope=col>PC3</th><th scope=col>PC4</th><th scope=col>PC5</th><th scope=col>PC6</th><th scope=col>PC7</th><th scope=col>PC8</th><th scope=col>PC9</th><th scope=col>PC10</th><th scope=col>PC11</th></tr></thead>\n",
       "<tbody>\n",
       "\t<tr><th scope=row>Accommodates</th><td>0.44718129  </td><td>-0.05778456 </td><td> 0.08095217 </td><td>-0.08026266 </td><td> 0.056429256</td><td>-0.1661519  </td><td> 0.18708455 </td><td>-0.19622663 </td><td> 0.023991848</td><td>-0.24497530 </td><td> 0.786644613</td></tr>\n",
       "\t<tr><th scope=row>Bathrooms</th><td>0.38518880  </td><td> 0.06900705 </td><td> 0.12668488 </td><td> 0.18255403 </td><td>-0.130282129</td><td> 0.3015331  </td><td>-0.33024123 </td><td> 0.19528772 </td><td>-0.726782741</td><td>-0.11700563 </td><td>-0.022291839</td></tr>\n",
       "\t<tr><th scope=row>Bedrooms</th><td>0.42674282  </td><td> 0.01400344 </td><td> 0.13930866 </td><td> 0.04725680 </td><td>-0.023838967</td><td>-0.1455971  </td><td> 0.03595480 </td><td>-0.25526509 </td><td>-0.009230248</td><td> 0.83627331 </td><td>-0.091631295</td></tr>\n",
       "\t<tr><th scope=row>Beds</th><td>0.42801661  </td><td>-0.03740326 </td><td> 0.13014156 </td><td>-0.02492850 </td><td> 0.008067801</td><td>-0.2254541  </td><td> 0.17334129 </td><td>-0.38128284 </td><td> 0.056617003</td><td>-0.46528301 </td><td>-0.593154542</td></tr>\n",
       "\t<tr><th scope=row>Price</th><td>0.37651422  </td><td> 0.03016656 </td><td> 0.10367192 </td><td> 0.19254194 </td><td>-0.113884967</td><td> 0.4424266  </td><td>-0.28944889 </td><td> 0.23518329 </td><td> 0.677018721</td><td>-0.05661650 </td><td>-0.012001555</td></tr>\n",
       "\t<tr><th scope=row>Guests.Included</th><td>0.33602429  </td><td>-0.08800219 </td><td>-0.27749679 </td><td>-0.26193022 </td><td> 0.096003452</td><td>-0.2066838  </td><td> 0.35408839 </td><td> 0.73232508 </td><td>-0.015778772</td><td> 0.05154637 </td><td>-0.131194109</td></tr>\n",
       "\t<tr><th scope=row>Extra.People</th><td>0.16221152  </td><td>-0.12088035 </td><td>-0.69763924 </td><td>-0.40959064 </td><td> 0.204540103</td><td> 0.2546494  </td><td>-0.31946673 </td><td>-0.30684464 </td><td>-0.021752444</td><td> 0.02600279 </td><td>-0.023779276</td></tr>\n",
       "\t<tr><th scope=row>Review.Scores.Rating</th><td>0.03707985  </td><td>-0.09637765 </td><td>-0.57627265 </td><td> 0.64409382 </td><td>-0.432646281</td><td>-0.1198690  </td><td> 0.18352809 </td><td>-0.07500470 </td><td>-0.002068022</td><td>-0.01791528 </td><td> 0.034706556</td></tr>\n",
       "\t<tr><th scope=row>Latitude</th><td>0.01923690  </td><td> 0.68560003 </td><td>-0.09405708 </td><td>-0.09124740 </td><td>-0.044959468</td><td> 0.4611755  </td><td> 0.53060770 </td><td>-0.11889536 </td><td>-0.040318937</td><td> 0.01804887 </td><td>-0.008571571</td></tr>\n",
       "\t<tr><th scope=row>Longitude</th><td>0.04014946  </td><td> 0.65047427 </td><td>-0.11743566 </td><td>-0.14867989 </td><td>-0.257896540</td><td>-0.5141514  </td><td>-0.43780341 </td><td> 0.07435303 </td><td> 0.084668102</td><td>-0.05398880 </td><td> 0.035049138</td></tr>\n",
       "\t<tr><th scope=row>Square.Meters</th><td>0.04478863  </td><td> 0.25413496 </td><td>-0.10896362 </td><td> 0.48851235 </td><td> 0.812078219</td><td>-0.1213851  </td><td>-0.08051707 </td><td> 0.04202284 </td><td> 0.006744461</td><td>-0.01885079 </td><td>-0.006072684</td></tr>\n",
       "</tbody>\n",
       "</table>\n"
      ],
      "text/latex": [
       "\\begin{tabular}{r|lllllllllll}\n",
       "  & PC1 & PC2 & PC3 & PC4 & PC5 & PC6 & PC7 & PC8 & PC9 & PC10 & PC11\\\\\n",
       "\\hline\n",
       "\tAccommodates & 0.44718129   & -0.05778456  &  0.08095217  & -0.08026266  &  0.056429256 & -0.1661519   &  0.18708455  & -0.19622663  &  0.023991848 & -0.24497530  &  0.786644613\\\\\n",
       "\tBathrooms & 0.38518880   &  0.06900705  &  0.12668488  &  0.18255403  & -0.130282129 &  0.3015331   & -0.33024123  &  0.19528772  & -0.726782741 & -0.11700563  & -0.022291839\\\\\n",
       "\tBedrooms & 0.42674282   &  0.01400344  &  0.13930866  &  0.04725680  & -0.023838967 & -0.1455971   &  0.03595480  & -0.25526509  & -0.009230248 &  0.83627331  & -0.091631295\\\\\n",
       "\tBeds & 0.42801661   & -0.03740326  &  0.13014156  & -0.02492850  &  0.008067801 & -0.2254541   &  0.17334129  & -0.38128284  &  0.056617003 & -0.46528301  & -0.593154542\\\\\n",
       "\tPrice & 0.37651422   &  0.03016656  &  0.10367192  &  0.19254194  & -0.113884967 &  0.4424266   & -0.28944889  &  0.23518329  &  0.677018721 & -0.05661650  & -0.012001555\\\\\n",
       "\tGuests.Included & 0.33602429   & -0.08800219  & -0.27749679  & -0.26193022  &  0.096003452 & -0.2066838   &  0.35408839  &  0.73232508  & -0.015778772 &  0.05154637  & -0.131194109\\\\\n",
       "\tExtra.People & 0.16221152   & -0.12088035  & -0.69763924  & -0.40959064  &  0.204540103 &  0.2546494   & -0.31946673  & -0.30684464  & -0.021752444 &  0.02600279  & -0.023779276\\\\\n",
       "\tReview.Scores.Rating & 0.03707985   & -0.09637765  & -0.57627265  &  0.64409382  & -0.432646281 & -0.1198690   &  0.18352809  & -0.07500470  & -0.002068022 & -0.01791528  &  0.034706556\\\\\n",
       "\tLatitude & 0.01923690   &  0.68560003  & -0.09405708  & -0.09124740  & -0.044959468 &  0.4611755   &  0.53060770  & -0.11889536  & -0.040318937 &  0.01804887  & -0.008571571\\\\\n",
       "\tLongitude & 0.04014946   &  0.65047427  & -0.11743566  & -0.14867989  & -0.257896540 & -0.5141514   & -0.43780341  &  0.07435303  &  0.084668102 & -0.05398880  &  0.035049138\\\\\n",
       "\tSquare.Meters & 0.04478863   &  0.25413496  & -0.10896362  &  0.48851235  &  0.812078219 & -0.1213851   & -0.08051707  &  0.04202284  &  0.006744461 & -0.01885079  & -0.006072684\\\\\n",
       "\\end{tabular}\n"
      ],
      "text/markdown": [
       "\n",
       "| <!--/--> | PC1 | PC2 | PC3 | PC4 | PC5 | PC6 | PC7 | PC8 | PC9 | PC10 | PC11 |\n",
       "|---|---|---|---|---|---|---|---|---|---|---|---|\n",
       "| Accommodates | 0.44718129   | -0.05778456  |  0.08095217  | -0.08026266  |  0.056429256 | -0.1661519   |  0.18708455  | -0.19622663  |  0.023991848 | -0.24497530  |  0.786644613 |\n",
       "| Bathrooms | 0.38518880   |  0.06900705  |  0.12668488  |  0.18255403  | -0.130282129 |  0.3015331   | -0.33024123  |  0.19528772  | -0.726782741 | -0.11700563  | -0.022291839 |\n",
       "| Bedrooms | 0.42674282   |  0.01400344  |  0.13930866  |  0.04725680  | -0.023838967 | -0.1455971   |  0.03595480  | -0.25526509  | -0.009230248 |  0.83627331  | -0.091631295 |\n",
       "| Beds | 0.42801661   | -0.03740326  |  0.13014156  | -0.02492850  |  0.008067801 | -0.2254541   |  0.17334129  | -0.38128284  |  0.056617003 | -0.46528301  | -0.593154542 |\n",
       "| Price | 0.37651422   |  0.03016656  |  0.10367192  |  0.19254194  | -0.113884967 |  0.4424266   | -0.28944889  |  0.23518329  |  0.677018721 | -0.05661650  | -0.012001555 |\n",
       "| Guests.Included | 0.33602429   | -0.08800219  | -0.27749679  | -0.26193022  |  0.096003452 | -0.2066838   |  0.35408839  |  0.73232508  | -0.015778772 |  0.05154637  | -0.131194109 |\n",
       "| Extra.People | 0.16221152   | -0.12088035  | -0.69763924  | -0.40959064  |  0.204540103 |  0.2546494   | -0.31946673  | -0.30684464  | -0.021752444 |  0.02600279  | -0.023779276 |\n",
       "| Review.Scores.Rating | 0.03707985   | -0.09637765  | -0.57627265  |  0.64409382  | -0.432646281 | -0.1198690   |  0.18352809  | -0.07500470  | -0.002068022 | -0.01791528  |  0.034706556 |\n",
       "| Latitude | 0.01923690   |  0.68560003  | -0.09405708  | -0.09124740  | -0.044959468 |  0.4611755   |  0.53060770  | -0.11889536  | -0.040318937 |  0.01804887  | -0.008571571 |\n",
       "| Longitude | 0.04014946   |  0.65047427  | -0.11743566  | -0.14867989  | -0.257896540 | -0.5141514   | -0.43780341  |  0.07435303  |  0.084668102 | -0.05398880  |  0.035049138 |\n",
       "| Square.Meters | 0.04478863   |  0.25413496  | -0.10896362  |  0.48851235  |  0.812078219 | -0.1213851   | -0.08051707  |  0.04202284  |  0.006744461 | -0.01885079  | -0.006072684 |\n",
       "\n"
      ],
      "text/plain": [
       "                     PC1        PC2         PC3         PC4        \n",
       "Accommodates         0.44718129 -0.05778456  0.08095217 -0.08026266\n",
       "Bathrooms            0.38518880  0.06900705  0.12668488  0.18255403\n",
       "Bedrooms             0.42674282  0.01400344  0.13930866  0.04725680\n",
       "Beds                 0.42801661 -0.03740326  0.13014156 -0.02492850\n",
       "Price                0.37651422  0.03016656  0.10367192  0.19254194\n",
       "Guests.Included      0.33602429 -0.08800219 -0.27749679 -0.26193022\n",
       "Extra.People         0.16221152 -0.12088035 -0.69763924 -0.40959064\n",
       "Review.Scores.Rating 0.03707985 -0.09637765 -0.57627265  0.64409382\n",
       "Latitude             0.01923690  0.68560003 -0.09405708 -0.09124740\n",
       "Longitude            0.04014946  0.65047427 -0.11743566 -0.14867989\n",
       "Square.Meters        0.04478863  0.25413496 -0.10896362  0.48851235\n",
       "                     PC5          PC6        PC7         PC8        \n",
       "Accommodates          0.056429256 -0.1661519  0.18708455 -0.19622663\n",
       "Bathrooms            -0.130282129  0.3015331 -0.33024123  0.19528772\n",
       "Bedrooms             -0.023838967 -0.1455971  0.03595480 -0.25526509\n",
       "Beds                  0.008067801 -0.2254541  0.17334129 -0.38128284\n",
       "Price                -0.113884967  0.4424266 -0.28944889  0.23518329\n",
       "Guests.Included       0.096003452 -0.2066838  0.35408839  0.73232508\n",
       "Extra.People          0.204540103  0.2546494 -0.31946673 -0.30684464\n",
       "Review.Scores.Rating -0.432646281 -0.1198690  0.18352809 -0.07500470\n",
       "Latitude             -0.044959468  0.4611755  0.53060770 -0.11889536\n",
       "Longitude            -0.257896540 -0.5141514 -0.43780341  0.07435303\n",
       "Square.Meters         0.812078219 -0.1213851 -0.08051707  0.04202284\n",
       "                     PC9          PC10        PC11        \n",
       "Accommodates          0.023991848 -0.24497530  0.786644613\n",
       "Bathrooms            -0.726782741 -0.11700563 -0.022291839\n",
       "Bedrooms             -0.009230248  0.83627331 -0.091631295\n",
       "Beds                  0.056617003 -0.46528301 -0.593154542\n",
       "Price                 0.677018721 -0.05661650 -0.012001555\n",
       "Guests.Included      -0.015778772  0.05154637 -0.131194109\n",
       "Extra.People         -0.021752444  0.02600279 -0.023779276\n",
       "Review.Scores.Rating -0.002068022 -0.01791528  0.034706556\n",
       "Latitude             -0.040318937  0.01804887 -0.008571571\n",
       "Longitude             0.084668102 -0.05398880  0.035049138\n",
       "Square.Meters         0.006744461 -0.01885079 -0.006072684"
      ]
     },
     "metadata": {},
     "output_type": "display_data"
    }
   ],
   "source": [
    "pr_comp_madrid$rotation"
   ]
  },
  {
   "cell_type": "code",
   "execution_count": null,
   "metadata": {},
   "outputs": [],
   "source": []
  },
  {
   "cell_type": "code",
   "execution_count": null,
   "metadata": {},
   "outputs": [],
   "source": []
  },
  {
   "cell_type": "code",
   "execution_count": null,
   "metadata": {},
   "outputs": [],
   "source": []
  },
  {
   "cell_type": "code",
   "execution_count": null,
   "metadata": {},
   "outputs": [],
   "source": []
  }
 ],
 "metadata": {
  "kernelspec": {
   "display_name": "R",
   "language": "R",
   "name": "ir"
  },
  "language_info": {
   "codemirror_mode": "r",
   "file_extension": ".r",
   "mimetype": "text/x-r-source",
   "name": "R",
   "pygments_lexer": "r",
   "version": "3.6.1"
  }
 },
 "nbformat": 4,
 "nbformat_minor": 2
}
